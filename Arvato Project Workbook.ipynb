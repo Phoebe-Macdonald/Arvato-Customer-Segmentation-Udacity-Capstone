{
 "cells": [
  {
   "cell_type": "markdown",
   "metadata": {},
   "source": [
    "# Capstone Project: Create a Customer Segmentation Report for Arvato Financial Services\n",
    "\n",
    "In this project, you will analyze demographics data for customers of a mail-order sales company in Germany, comparing it against demographics information for the general population. You'll use unsupervised learning techniques to perform customer segmentation, identifying the parts of the population that best describe the core customer base of the company. Then, you'll apply what you've learned on a third dataset with demographics information for targets of a marketing campaign for the company, and use a model to predict which individuals are most likely to convert into becoming customers for the company. The data that you will use has been provided by our partners at Bertelsmann Arvato Analytics, and represents a real-life data science task.\n",
    "\n",
    "If you completed the first term of this program, you will be familiar with the first part of this project, from the unsupervised learning project. The versions of those two datasets used in this project will include many more features and has not been pre-cleaned. You are also free to choose whatever approach you'd like to analyzing the data rather than follow pre-determined steps. In your work on this project, make sure that you carefully document your steps and decisions, since your main deliverable for this project will be a blog post reporting your findings."
   ]
  },
  {
   "cell_type": "code",
   "execution_count": 1,
   "metadata": {},
   "outputs": [],
   "source": [
    "# import libraries here; add more as necessary\n",
    "import numpy as np\n",
    "import pandas as pd\n",
    "import matplotlib.pyplot as plt\n",
    "import seaborn as sns\n",
    "from sklearn.preprocessing import StandardScaler\n",
    "from sklearn.decomposition import PCA\n",
    "from sklearn.cluster import KMeans\n",
    "from sklearn import preprocessing\n",
    "from collections import defaultdict\n",
    "from kmodes.kmodes import KModes\n",
    "\n",
    "# magic word for producing visualizations in notebook\n",
    "%matplotlib inline"
   ]
  },
  {
   "cell_type": "markdown",
   "metadata": {},
   "source": [
    "## Part 0: Get to Know the Data\n",
    "\n",
    "There are four data files associated with this project:\n",
    "\n",
    "- `Udacity_AZDIAS_052018.csv`: Demographics data for the general population of Germany; 891 211 persons (rows) x 366 features (columns).\n",
    "- `Udacity_CUSTOMERS_052018.csv`: Demographics data for customers of a mail-order company; 191 652 persons (rows) x 369 features (columns).\n",
    "- `Udacity_MAILOUT_052018_TRAIN.csv`: Demographics data for individuals who were targets of a marketing campaign; 42 982 persons (rows) x 367 (columns).\n",
    "- `Udacity_MAILOUT_052018_TEST.csv`: Demographics data for individuals who were targets of a marketing campaign; 42 833 persons (rows) x 366 (columns).\n",
    "\n",
    "Each row of the demographics files represents a single person, but also includes information outside of individuals, including information about their household, building, and neighborhood. Use the information from the first two files to figure out how customers (\"CUSTOMERS\") are similar to or differ from the general population at large (\"AZDIAS\"), then use your analysis to make predictions on the other two files (\"MAILOUT\"), predicting which recipients are most likely to become a customer for the mail-order company.\n",
    "\n",
    "The \"CUSTOMERS\" file contains three extra columns ('CUSTOMER_GROUP', 'ONLINE_PURCHASE', and 'PRODUCT_GROUP'), which provide broad information about the customers depicted in the file. The original \"MAILOUT\" file included one additional column, \"RESPONSE\", which indicated whether or not each recipient became a customer of the company. For the \"TRAIN\" subset, this column has been retained, but in the \"TEST\" subset it has been removed; it is against that withheld column that your final predictions will be assessed in the Kaggle competition.\n",
    "\n",
    "Otherwise, all of the remaining columns are the same between the three data files. For more information about the columns depicted in the files, you can refer to two Excel spreadsheets provided in the workspace. [One of them](./DIAS Information Levels - Attributes 2017.xlsx) is a top-level list of attributes and descriptions, organized by informational category. [The other](./DIAS Attributes - Values 2017.xlsx) is a detailed mapping of data values for each feature in alphabetical order.\n",
    "\n",
    "In the below cell, we've provided some initial code to load in the first two datasets. Note for all of the `.csv` data files in this project that they're semicolon (`;`) delimited, so an additional argument in the [`read_csv()`](https://pandas.pydata.org/pandas-docs/stable/generated/pandas.read_csv.html) call has been included to read in the data properly. Also, considering the size of the datasets, it may take some time for them to load completely.\n",
    "\n",
    "You'll notice when the data is loaded in that a warning message will immediately pop up. Before you really start digging into the modeling and analysis, you're going to need to perform some cleaning. Take some time to browse the structure of the data and look over the informational spreadsheets to understand the data values. Make some decisions on which features to keep, which features to drop, and if any revisions need to be made on data formats. It'll be a good idea to create a function with pre-processing steps, since you'll need to clean all of the datasets before you work with them."
   ]
  },
  {
   "cell_type": "code",
   "execution_count": 2,
   "metadata": {},
   "outputs": [],
   "source": [
    "# load in the data, specifying datatypes for columns 18 and 19, which have mixtures of datatypes, to speed up import\n",
    "azdias = pd.read_csv('data/Udacity_AZDIAS_052018.csv', sep=';', dtype={18: object, 19: object})\n",
    "customers = pd.read_csv('data/Udacity_CUSTOMERS_052018.csv', sep=';', dtype={18: object, 19: np.object})\n",
    "\n",
    "# Create backup copies to avoid having to reimport\n",
    "azdias_copy = azdias.copy()\n",
    "customers_copy = customers.copy()"
   ]
  },
  {
   "cell_type": "code",
   "execution_count": 3,
   "metadata": {},
   "outputs": [
    {
     "data": {
      "text/html": [
       "<div>\n",
       "<style scoped>\n",
       "    .dataframe tbody tr th:only-of-type {\n",
       "        vertical-align: middle;\n",
       "    }\n",
       "\n",
       "    .dataframe tbody tr th {\n",
       "        vertical-align: top;\n",
       "    }\n",
       "\n",
       "    .dataframe thead th {\n",
       "        text-align: right;\n",
       "    }\n",
       "</style>\n",
       "<table border=\"1\" class=\"dataframe\">\n",
       "  <thead>\n",
       "    <tr style=\"text-align: right;\">\n",
       "      <th></th>\n",
       "      <th>LNR</th>\n",
       "      <th>AGER_TYP</th>\n",
       "      <th>AKT_DAT_KL</th>\n",
       "      <th>ALTER_HH</th>\n",
       "      <th>ALTER_KIND1</th>\n",
       "      <th>ALTER_KIND2</th>\n",
       "      <th>ALTER_KIND3</th>\n",
       "      <th>ALTER_KIND4</th>\n",
       "      <th>ALTERSKATEGORIE_FEIN</th>\n",
       "      <th>ANZ_HAUSHALTE_AKTIV</th>\n",
       "      <th>...</th>\n",
       "      <th>VK_ZG11</th>\n",
       "      <th>W_KEIT_KIND_HH</th>\n",
       "      <th>WOHNDAUER_2008</th>\n",
       "      <th>WOHNLAGE</th>\n",
       "      <th>ZABEOTYP</th>\n",
       "      <th>PRODUCT_GROUP</th>\n",
       "      <th>CUSTOMER_GROUP</th>\n",
       "      <th>ONLINE_PURCHASE</th>\n",
       "      <th>ANREDE_KZ</th>\n",
       "      <th>ALTERSKATEGORIE_GROB</th>\n",
       "    </tr>\n",
       "  </thead>\n",
       "  <tbody>\n",
       "    <tr>\n",
       "      <th>0</th>\n",
       "      <td>9626</td>\n",
       "      <td>2</td>\n",
       "      <td>1.0</td>\n",
       "      <td>10.0</td>\n",
       "      <td>NaN</td>\n",
       "      <td>NaN</td>\n",
       "      <td>NaN</td>\n",
       "      <td>NaN</td>\n",
       "      <td>10.0</td>\n",
       "      <td>1.0</td>\n",
       "      <td>...</td>\n",
       "      <td>2.0</td>\n",
       "      <td>6.0</td>\n",
       "      <td>9.0</td>\n",
       "      <td>7.0</td>\n",
       "      <td>3</td>\n",
       "      <td>COSMETIC_AND_FOOD</td>\n",
       "      <td>MULTI_BUYER</td>\n",
       "      <td>0</td>\n",
       "      <td>1</td>\n",
       "      <td>4</td>\n",
       "    </tr>\n",
       "    <tr>\n",
       "      <th>1</th>\n",
       "      <td>9628</td>\n",
       "      <td>-1</td>\n",
       "      <td>9.0</td>\n",
       "      <td>11.0</td>\n",
       "      <td>NaN</td>\n",
       "      <td>NaN</td>\n",
       "      <td>NaN</td>\n",
       "      <td>NaN</td>\n",
       "      <td>NaN</td>\n",
       "      <td>NaN</td>\n",
       "      <td>...</td>\n",
       "      <td>3.0</td>\n",
       "      <td>0.0</td>\n",
       "      <td>9.0</td>\n",
       "      <td>NaN</td>\n",
       "      <td>3</td>\n",
       "      <td>FOOD</td>\n",
       "      <td>SINGLE_BUYER</td>\n",
       "      <td>0</td>\n",
       "      <td>1</td>\n",
       "      <td>4</td>\n",
       "    </tr>\n",
       "    <tr>\n",
       "      <th>2</th>\n",
       "      <td>143872</td>\n",
       "      <td>-1</td>\n",
       "      <td>1.0</td>\n",
       "      <td>6.0</td>\n",
       "      <td>NaN</td>\n",
       "      <td>NaN</td>\n",
       "      <td>NaN</td>\n",
       "      <td>NaN</td>\n",
       "      <td>0.0</td>\n",
       "      <td>1.0</td>\n",
       "      <td>...</td>\n",
       "      <td>11.0</td>\n",
       "      <td>6.0</td>\n",
       "      <td>9.0</td>\n",
       "      <td>2.0</td>\n",
       "      <td>3</td>\n",
       "      <td>COSMETIC_AND_FOOD</td>\n",
       "      <td>MULTI_BUYER</td>\n",
       "      <td>0</td>\n",
       "      <td>2</td>\n",
       "      <td>4</td>\n",
       "    </tr>\n",
       "    <tr>\n",
       "      <th>3</th>\n",
       "      <td>143873</td>\n",
       "      <td>1</td>\n",
       "      <td>1.0</td>\n",
       "      <td>8.0</td>\n",
       "      <td>NaN</td>\n",
       "      <td>NaN</td>\n",
       "      <td>NaN</td>\n",
       "      <td>NaN</td>\n",
       "      <td>8.0</td>\n",
       "      <td>0.0</td>\n",
       "      <td>...</td>\n",
       "      <td>2.0</td>\n",
       "      <td>NaN</td>\n",
       "      <td>9.0</td>\n",
       "      <td>7.0</td>\n",
       "      <td>1</td>\n",
       "      <td>COSMETIC</td>\n",
       "      <td>MULTI_BUYER</td>\n",
       "      <td>0</td>\n",
       "      <td>1</td>\n",
       "      <td>4</td>\n",
       "    </tr>\n",
       "    <tr>\n",
       "      <th>4</th>\n",
       "      <td>143874</td>\n",
       "      <td>-1</td>\n",
       "      <td>1.0</td>\n",
       "      <td>20.0</td>\n",
       "      <td>NaN</td>\n",
       "      <td>NaN</td>\n",
       "      <td>NaN</td>\n",
       "      <td>NaN</td>\n",
       "      <td>14.0</td>\n",
       "      <td>7.0</td>\n",
       "      <td>...</td>\n",
       "      <td>4.0</td>\n",
       "      <td>2.0</td>\n",
       "      <td>9.0</td>\n",
       "      <td>3.0</td>\n",
       "      <td>1</td>\n",
       "      <td>FOOD</td>\n",
       "      <td>MULTI_BUYER</td>\n",
       "      <td>0</td>\n",
       "      <td>1</td>\n",
       "      <td>3</td>\n",
       "    </tr>\n",
       "  </tbody>\n",
       "</table>\n",
       "<p>5 rows × 369 columns</p>\n",
       "</div>"
      ],
      "text/plain": [
       "      LNR  AGER_TYP  AKT_DAT_KL  ALTER_HH  ALTER_KIND1  ALTER_KIND2  \\\n",
       "0    9626         2         1.0      10.0          NaN          NaN   \n",
       "1    9628        -1         9.0      11.0          NaN          NaN   \n",
       "2  143872        -1         1.0       6.0          NaN          NaN   \n",
       "3  143873         1         1.0       8.0          NaN          NaN   \n",
       "4  143874        -1         1.0      20.0          NaN          NaN   \n",
       "\n",
       "   ALTER_KIND3  ALTER_KIND4  ALTERSKATEGORIE_FEIN  ANZ_HAUSHALTE_AKTIV  \\\n",
       "0          NaN          NaN                  10.0                  1.0   \n",
       "1          NaN          NaN                   NaN                  NaN   \n",
       "2          NaN          NaN                   0.0                  1.0   \n",
       "3          NaN          NaN                   8.0                  0.0   \n",
       "4          NaN          NaN                  14.0                  7.0   \n",
       "\n",
       "          ...           VK_ZG11  W_KEIT_KIND_HH  WOHNDAUER_2008  WOHNLAGE  \\\n",
       "0         ...               2.0             6.0             9.0       7.0   \n",
       "1         ...               3.0             0.0             9.0       NaN   \n",
       "2         ...              11.0             6.0             9.0       2.0   \n",
       "3         ...               2.0             NaN             9.0       7.0   \n",
       "4         ...               4.0             2.0             9.0       3.0   \n",
       "\n",
       "   ZABEOTYP      PRODUCT_GROUP  CUSTOMER_GROUP ONLINE_PURCHASE ANREDE_KZ  \\\n",
       "0         3  COSMETIC_AND_FOOD     MULTI_BUYER               0         1   \n",
       "1         3               FOOD    SINGLE_BUYER               0         1   \n",
       "2         3  COSMETIC_AND_FOOD     MULTI_BUYER               0         2   \n",
       "3         1           COSMETIC     MULTI_BUYER               0         1   \n",
       "4         1               FOOD     MULTI_BUYER               0         1   \n",
       "\n",
       "  ALTERSKATEGORIE_GROB  \n",
       "0                    4  \n",
       "1                    4  \n",
       "2                    4  \n",
       "3                    4  \n",
       "4                    3  \n",
       "\n",
       "[5 rows x 369 columns]"
      ]
     },
     "execution_count": 3,
     "metadata": {},
     "output_type": "execute_result"
    }
   ],
   "source": [
    "# Overview of customer data\n",
    "customers.head()"
   ]
  },
  {
   "cell_type": "code",
   "execution_count": 4,
   "metadata": {},
   "outputs": [
    {
     "data": {
      "text/html": [
       "<div>\n",
       "<style scoped>\n",
       "    .dataframe tbody tr th:only-of-type {\n",
       "        vertical-align: middle;\n",
       "    }\n",
       "\n",
       "    .dataframe tbody tr th {\n",
       "        vertical-align: top;\n",
       "    }\n",
       "\n",
       "    .dataframe thead th {\n",
       "        text-align: right;\n",
       "    }\n",
       "</style>\n",
       "<table border=\"1\" class=\"dataframe\">\n",
       "  <thead>\n",
       "    <tr style=\"text-align: right;\">\n",
       "      <th></th>\n",
       "      <th>LNR</th>\n",
       "      <th>AGER_TYP</th>\n",
       "      <th>AKT_DAT_KL</th>\n",
       "      <th>ALTER_HH</th>\n",
       "      <th>ALTER_KIND1</th>\n",
       "      <th>ALTER_KIND2</th>\n",
       "      <th>ALTER_KIND3</th>\n",
       "      <th>ALTER_KIND4</th>\n",
       "      <th>ALTERSKATEGORIE_FEIN</th>\n",
       "      <th>ANZ_HAUSHALTE_AKTIV</th>\n",
       "      <th>...</th>\n",
       "      <th>VHN</th>\n",
       "      <th>VK_DHT4A</th>\n",
       "      <th>VK_DISTANZ</th>\n",
       "      <th>VK_ZG11</th>\n",
       "      <th>W_KEIT_KIND_HH</th>\n",
       "      <th>WOHNDAUER_2008</th>\n",
       "      <th>WOHNLAGE</th>\n",
       "      <th>ZABEOTYP</th>\n",
       "      <th>ANREDE_KZ</th>\n",
       "      <th>ALTERSKATEGORIE_GROB</th>\n",
       "    </tr>\n",
       "  </thead>\n",
       "  <tbody>\n",
       "    <tr>\n",
       "      <th>0</th>\n",
       "      <td>910215</td>\n",
       "      <td>-1</td>\n",
       "      <td>NaN</td>\n",
       "      <td>NaN</td>\n",
       "      <td>NaN</td>\n",
       "      <td>NaN</td>\n",
       "      <td>NaN</td>\n",
       "      <td>NaN</td>\n",
       "      <td>NaN</td>\n",
       "      <td>NaN</td>\n",
       "      <td>...</td>\n",
       "      <td>NaN</td>\n",
       "      <td>NaN</td>\n",
       "      <td>NaN</td>\n",
       "      <td>NaN</td>\n",
       "      <td>NaN</td>\n",
       "      <td>NaN</td>\n",
       "      <td>NaN</td>\n",
       "      <td>3</td>\n",
       "      <td>1</td>\n",
       "      <td>2</td>\n",
       "    </tr>\n",
       "    <tr>\n",
       "      <th>1</th>\n",
       "      <td>910220</td>\n",
       "      <td>-1</td>\n",
       "      <td>9.0</td>\n",
       "      <td>0.0</td>\n",
       "      <td>NaN</td>\n",
       "      <td>NaN</td>\n",
       "      <td>NaN</td>\n",
       "      <td>NaN</td>\n",
       "      <td>21.0</td>\n",
       "      <td>11.0</td>\n",
       "      <td>...</td>\n",
       "      <td>4.0</td>\n",
       "      <td>8.0</td>\n",
       "      <td>11.0</td>\n",
       "      <td>10.0</td>\n",
       "      <td>3.0</td>\n",
       "      <td>9.0</td>\n",
       "      <td>4.0</td>\n",
       "      <td>5</td>\n",
       "      <td>2</td>\n",
       "      <td>1</td>\n",
       "    </tr>\n",
       "    <tr>\n",
       "      <th>2</th>\n",
       "      <td>910225</td>\n",
       "      <td>-1</td>\n",
       "      <td>9.0</td>\n",
       "      <td>17.0</td>\n",
       "      <td>NaN</td>\n",
       "      <td>NaN</td>\n",
       "      <td>NaN</td>\n",
       "      <td>NaN</td>\n",
       "      <td>17.0</td>\n",
       "      <td>10.0</td>\n",
       "      <td>...</td>\n",
       "      <td>2.0</td>\n",
       "      <td>9.0</td>\n",
       "      <td>9.0</td>\n",
       "      <td>6.0</td>\n",
       "      <td>3.0</td>\n",
       "      <td>9.0</td>\n",
       "      <td>2.0</td>\n",
       "      <td>5</td>\n",
       "      <td>2</td>\n",
       "      <td>3</td>\n",
       "    </tr>\n",
       "    <tr>\n",
       "      <th>3</th>\n",
       "      <td>910226</td>\n",
       "      <td>2</td>\n",
       "      <td>1.0</td>\n",
       "      <td>13.0</td>\n",
       "      <td>NaN</td>\n",
       "      <td>NaN</td>\n",
       "      <td>NaN</td>\n",
       "      <td>NaN</td>\n",
       "      <td>13.0</td>\n",
       "      <td>1.0</td>\n",
       "      <td>...</td>\n",
       "      <td>0.0</td>\n",
       "      <td>7.0</td>\n",
       "      <td>10.0</td>\n",
       "      <td>11.0</td>\n",
       "      <td>NaN</td>\n",
       "      <td>9.0</td>\n",
       "      <td>7.0</td>\n",
       "      <td>3</td>\n",
       "      <td>2</td>\n",
       "      <td>4</td>\n",
       "    </tr>\n",
       "    <tr>\n",
       "      <th>4</th>\n",
       "      <td>910241</td>\n",
       "      <td>-1</td>\n",
       "      <td>1.0</td>\n",
       "      <td>20.0</td>\n",
       "      <td>NaN</td>\n",
       "      <td>NaN</td>\n",
       "      <td>NaN</td>\n",
       "      <td>NaN</td>\n",
       "      <td>14.0</td>\n",
       "      <td>3.0</td>\n",
       "      <td>...</td>\n",
       "      <td>2.0</td>\n",
       "      <td>3.0</td>\n",
       "      <td>5.0</td>\n",
       "      <td>4.0</td>\n",
       "      <td>2.0</td>\n",
       "      <td>9.0</td>\n",
       "      <td>3.0</td>\n",
       "      <td>4</td>\n",
       "      <td>1</td>\n",
       "      <td>3</td>\n",
       "    </tr>\n",
       "  </tbody>\n",
       "</table>\n",
       "<p>5 rows × 366 columns</p>\n",
       "</div>"
      ],
      "text/plain": [
       "      LNR  AGER_TYP  AKT_DAT_KL  ALTER_HH  ALTER_KIND1  ALTER_KIND2  \\\n",
       "0  910215        -1         NaN       NaN          NaN          NaN   \n",
       "1  910220        -1         9.0       0.0          NaN          NaN   \n",
       "2  910225        -1         9.0      17.0          NaN          NaN   \n",
       "3  910226         2         1.0      13.0          NaN          NaN   \n",
       "4  910241        -1         1.0      20.0          NaN          NaN   \n",
       "\n",
       "   ALTER_KIND3  ALTER_KIND4  ALTERSKATEGORIE_FEIN  ANZ_HAUSHALTE_AKTIV  \\\n",
       "0          NaN          NaN                   NaN                  NaN   \n",
       "1          NaN          NaN                  21.0                 11.0   \n",
       "2          NaN          NaN                  17.0                 10.0   \n",
       "3          NaN          NaN                  13.0                  1.0   \n",
       "4          NaN          NaN                  14.0                  3.0   \n",
       "\n",
       "          ...           VHN  VK_DHT4A  VK_DISTANZ  VK_ZG11  W_KEIT_KIND_HH  \\\n",
       "0         ...           NaN       NaN         NaN      NaN             NaN   \n",
       "1         ...           4.0       8.0        11.0     10.0             3.0   \n",
       "2         ...           2.0       9.0         9.0      6.0             3.0   \n",
       "3         ...           0.0       7.0        10.0     11.0             NaN   \n",
       "4         ...           2.0       3.0         5.0      4.0             2.0   \n",
       "\n",
       "   WOHNDAUER_2008  WOHNLAGE ZABEOTYP ANREDE_KZ ALTERSKATEGORIE_GROB  \n",
       "0             NaN       NaN        3         1                    2  \n",
       "1             9.0       4.0        5         2                    1  \n",
       "2             9.0       2.0        5         2                    3  \n",
       "3             9.0       7.0        3         2                    4  \n",
       "4             9.0       3.0        4         1                    3  \n",
       "\n",
       "[5 rows x 366 columns]"
      ]
     },
     "execution_count": 4,
     "metadata": {},
     "output_type": "execute_result"
    }
   ],
   "source": [
    "# Overview of azdias data\n",
    "azdias.head()"
   ]
  },
  {
   "cell_type": "markdown",
   "metadata": {},
   "source": [
    "### Sort data types"
   ]
  },
  {
   "cell_type": "code",
   "execution_count": 5,
   "metadata": {},
   "outputs": [
    {
     "data": {
      "text/plain": [
       "('CAMEO_DEUG_2015', 'CAMEO_INTL_2015')"
      ]
     },
     "execution_count": 5,
     "metadata": {},
     "output_type": "execute_result"
    }
   ],
   "source": [
    "# Find names of problematic 18th and 19th columns\n",
    "customers.columns[18], customers.columns[19]\n",
    "# According to the schema, these columns are the New German CAMEO Typology established together with Call Credit in late 2015"
   ]
  },
  {
   "cell_type": "code",
   "execution_count": 6,
   "metadata": {},
   "outputs": [
    {
     "name": "stdout",
     "output_type": "stream",
     "text": [
      "['CAMEO_DEU_2015', 'CAMEO_DEUG_2015', 'CAMEO_INTL_2015']\n"
     ]
    }
   ],
   "source": [
    "# Also according to the schema, there should be an additional associated column named. Finding this to investigate this column too\n",
    "cameo_cols = [col for col in customers.columns if 'CAMEO' in col]\n",
    "print(cameo_cols)\n",
    "# 3rd Cameo column is CAMEO_DEU_2015"
   ]
  },
  {
   "cell_type": "code",
   "execution_count": 7,
   "metadata": {},
   "outputs": [
    {
     "data": {
      "text/plain": [
       "0      1\n",
       "1    NaN\n",
       "2      5\n",
       "3      4\n",
       "4      7\n",
       "Name: CAMEO_DEUG_2015, dtype: object"
      ]
     },
     "execution_count": 7,
     "metadata": {},
     "output_type": "execute_result"
    }
   ],
   "source": [
    "# First problematic column contains numbers and NaN values\n",
    "customers['CAMEO_DEUG_2015'].head()"
   ]
  },
  {
   "cell_type": "code",
   "execution_count": 8,
   "metadata": {},
   "outputs": [
    {
     "data": {
      "text/plain": [
       "0     13\n",
       "1    NaN\n",
       "2     34\n",
       "3     24\n",
       "4     41\n",
       "Name: CAMEO_INTL_2015, dtype: object"
      ]
     },
     "execution_count": 8,
     "metadata": {},
     "output_type": "execute_result"
    }
   ],
   "source": [
    "# Second problematic column contains numbers and NaN values\n",
    "customers['CAMEO_INTL_2015'].head()"
   ]
  },
  {
   "cell_type": "code",
   "execution_count": 9,
   "metadata": {},
   "outputs": [
    {
     "data": {
      "text/plain": [
       "0     1A\n",
       "1    NaN\n",
       "2     5D\n",
       "3     4C\n",
       "4     7B\n",
       "Name: CAMEO_DEU_2015, dtype: object"
      ]
     },
     "execution_count": 9,
     "metadata": {},
     "output_type": "execute_result"
    }
   ],
   "source": [
    "# The associated 3rd columm is a mixture of number-letter combos and NaN values\n",
    "customers['CAMEO_DEU_2015'].head()"
   ]
  },
  {
   "cell_type": "code",
   "execution_count": 10,
   "metadata": {},
   "outputs": [],
   "source": [
    "# Change columns 18 and 19 to type float\n",
    "customers['CAMEO_DEUG_2015'] = pd.to_numeric(customers['CAMEO_DEUG_2015'], errors='coerce')\n",
    "customers['CAMEO_INTL_2015'] = pd.to_numeric(customers['CAMEO_INTL_2015'], errors='coerce')\n",
    "azdias['CAMEO_DEUG_2015'] = pd.to_numeric(azdias['CAMEO_DEUG_2015'], errors='coerce')\n",
    "azdias['CAMEO_INTL_2015'] = pd.to_numeric(azdias['CAMEO_INTL_2015'], errors='coerce')"
   ]
  },
  {
   "cell_type": "code",
   "execution_count": 11,
   "metadata": {},
   "outputs": [
    {
     "data": {
      "text/html": [
       "<div>\n",
       "<style scoped>\n",
       "    .dataframe tbody tr th:only-of-type {\n",
       "        vertical-align: middle;\n",
       "    }\n",
       "\n",
       "    .dataframe tbody tr th {\n",
       "        vertical-align: top;\n",
       "    }\n",
       "\n",
       "    .dataframe thead th {\n",
       "        text-align: right;\n",
       "    }\n",
       "</style>\n",
       "<table border=\"1\" class=\"dataframe\">\n",
       "  <thead>\n",
       "    <tr style=\"text-align: right;\">\n",
       "      <th></th>\n",
       "      <th>CAMEO_DEU_2015</th>\n",
       "      <th>D19_LETZTER_KAUF_BRANCHE</th>\n",
       "      <th>EINGEFUEGT_AM</th>\n",
       "      <th>OST_WEST_KZ</th>\n",
       "      <th>PRODUCT_GROUP</th>\n",
       "      <th>CUSTOMER_GROUP</th>\n",
       "    </tr>\n",
       "  </thead>\n",
       "  <tbody>\n",
       "    <tr>\n",
       "      <th>0</th>\n",
       "      <td>1A</td>\n",
       "      <td>D19_UNBEKANNT</td>\n",
       "      <td>1992-02-12 00:00:00</td>\n",
       "      <td>W</td>\n",
       "      <td>COSMETIC_AND_FOOD</td>\n",
       "      <td>MULTI_BUYER</td>\n",
       "    </tr>\n",
       "    <tr>\n",
       "      <th>1</th>\n",
       "      <td>NaN</td>\n",
       "      <td>D19_BANKEN_GROSS</td>\n",
       "      <td>NaN</td>\n",
       "      <td>NaN</td>\n",
       "      <td>FOOD</td>\n",
       "      <td>SINGLE_BUYER</td>\n",
       "    </tr>\n",
       "    <tr>\n",
       "      <th>2</th>\n",
       "      <td>5D</td>\n",
       "      <td>D19_UNBEKANNT</td>\n",
       "      <td>1992-02-10 00:00:00</td>\n",
       "      <td>W</td>\n",
       "      <td>COSMETIC_AND_FOOD</td>\n",
       "      <td>MULTI_BUYER</td>\n",
       "    </tr>\n",
       "    <tr>\n",
       "      <th>3</th>\n",
       "      <td>4C</td>\n",
       "      <td>D19_NAHRUNGSERGAENZUNG</td>\n",
       "      <td>1992-02-10 00:00:00</td>\n",
       "      <td>W</td>\n",
       "      <td>COSMETIC</td>\n",
       "      <td>MULTI_BUYER</td>\n",
       "    </tr>\n",
       "    <tr>\n",
       "      <th>4</th>\n",
       "      <td>7B</td>\n",
       "      <td>D19_SCHUHE</td>\n",
       "      <td>1992-02-12 00:00:00</td>\n",
       "      <td>W</td>\n",
       "      <td>FOOD</td>\n",
       "      <td>MULTI_BUYER</td>\n",
       "    </tr>\n",
       "  </tbody>\n",
       "</table>\n",
       "</div>"
      ],
      "text/plain": [
       "  CAMEO_DEU_2015 D19_LETZTER_KAUF_BRANCHE        EINGEFUEGT_AM OST_WEST_KZ  \\\n",
       "0             1A            D19_UNBEKANNT  1992-02-12 00:00:00           W   \n",
       "1            NaN         D19_BANKEN_GROSS                  NaN         NaN   \n",
       "2             5D            D19_UNBEKANNT  1992-02-10 00:00:00           W   \n",
       "3             4C   D19_NAHRUNGSERGAENZUNG  1992-02-10 00:00:00           W   \n",
       "4             7B               D19_SCHUHE  1992-02-12 00:00:00           W   \n",
       "\n",
       "       PRODUCT_GROUP CUSTOMER_GROUP  \n",
       "0  COSMETIC_AND_FOOD    MULTI_BUYER  \n",
       "1               FOOD   SINGLE_BUYER  \n",
       "2  COSMETIC_AND_FOOD    MULTI_BUYER  \n",
       "3           COSMETIC    MULTI_BUYER  \n",
       "4               FOOD    MULTI_BUYER  "
      ]
     },
     "execution_count": 11,
     "metadata": {},
     "output_type": "execute_result"
    }
   ],
   "source": [
    "# Find other columns with type object\n",
    "cust_object_columns = customers.columns[customers.dtypes == object]\n",
    "az_object_columns = azdias.columns[azdias.dtypes == object]\n",
    "customers[cust_object_columns].head()\n",
    "# Column EINGEFUEGT_AM should be dtype datetime, columns PRODUCT_GROUP, CUSTOMER_GROUP and OST_WEST_KZ are categorical strings"
   ]
  },
  {
   "cell_type": "code",
   "execution_count": 12,
   "metadata": {},
   "outputs": [],
   "source": [
    "# For now dropping these columns\n",
    "customers = customers.drop(columns = cust_object_columns, axis=1)\n",
    "azdias = azdias.drop(columns = az_object_columns, axis=1)\n",
    "customers = customers.drop(columns = 'ONLINE_PURCHASE', axis=1)"
   ]
  },
  {
   "cell_type": "code",
   "execution_count": 13,
   "metadata": {},
   "outputs": [],
   "source": [
    "# should probably encode cameo_deu, d19_letzter and ost_west and date one?"
   ]
  },
  {
   "cell_type": "code",
   "execution_count": 14,
   "metadata": {},
   "outputs": [],
   "source": [
    "# Change EINGEFUEGT_AM to type datetime in both datasets\n",
    "#customers['EINGEFUEGT_AM'] =  pd.to_datetime(customers['EINGEFUEGT_AM'], format='%Y-%m-%d %H:%M:%S')\n",
    "#azdias['EINGEFUEGT_AM'] =  pd.to_datetime(azdias['EINGEFUEGT_AM'], format='%Y-%m-%d %H:%M:%S')"
   ]
  },
  {
   "cell_type": "code",
   "execution_count": 15,
   "metadata": {},
   "outputs": [],
   "source": [
    "# Looking at the data and 'schema' provided, unknown values are (as far as I can see) indicated by -1\n",
    "# Replace -1 representing missing data with nan values\n",
    "customers = customers.replace({-1:np.nan})\n",
    "azdias = azdias.replace({-1:np.nan})"
   ]
  },
  {
   "cell_type": "code",
   "execution_count": 16,
   "metadata": {},
   "outputs": [],
   "source": [
    "#d = defaultdict(preprocessing.LabelEncoder)\n",
    "#y = customers[['PRODUCT_GROUP', 'CUSTOMER_GROUP']].apply(lambda x: d[x.name].fit_transform(x))\n",
    "#y.head()\n",
    "#https://stackoverflow.com/questions/42196589/any-way-to-get-mappings-of-a-label-encoder-in-python-pandas "
   ]
  },
  {
   "cell_type": "code",
   "execution_count": 17,
   "metadata": {},
   "outputs": [],
   "source": [
    "#le = preprocessing.LabelEncoder()\n",
    "#le.fit(customers[['PRODUCT_GROUP', 'CUSTOMER_GROUP']])\n",
    "#le_name_mapping = dict(zip(le.classes_, le.transform(le.classes_)))\n",
    "#print(le_name_mapping)"
   ]
  },
  {
   "cell_type": "markdown",
   "metadata": {},
   "source": [
    "### Clean data and sort categorical data"
   ]
  },
  {
   "cell_type": "code",
   "execution_count": 18,
   "metadata": {},
   "outputs": [
    {
     "name": "stdout",
     "output_type": "stream",
     "text": [
      "There are 0 and 0 columns missing all values in the customers and azdias datasets respectively\n"
     ]
    }
   ],
   "source": [
    "# Find number of columns completely missing data and exclude if present\n",
    "customers_missing_columns = len(customers.columns[customers.isnull().sum(axis = 0)/customers.shape[0]*100 == 100])\n",
    "azdias_missing_columns = len(azdias.columns[azdias.isnull().sum(axis = 0)/azdias.shape[0]*100 == 100])\n",
    "print (\"There are {} and {} columns missing all values in the customers and azdias datasets respectively\".format(customers_missing_columns, azdias_missing_columns))"
   ]
  },
  {
   "cell_type": "code",
   "execution_count": 19,
   "metadata": {},
   "outputs": [
    {
     "name": "stdout",
     "output_type": "stream",
     "text": [
      "There are 0 and 0 rows missing all values in the customers and azdias datasets respectively\n"
     ]
    }
   ],
   "source": [
    "# Find number of rows completely missing data and exclude if present\n",
    "customers_missing_data = len(customers[customers.isnull().sum(axis = 1)/customers.shape[1]*100 == 100])\n",
    "azdias_missing_data = len(azdias[azdias.isnull().sum(axis = 1)/azdias.shape[1]*100 == 100])\n",
    "print (\"There are {} and {} rows missing all values in the customers and azdias datasets respectively\".format(customers_missing_data, azdias_missing_data))"
   ]
  },
  {
   "cell_type": "code",
   "execution_count": 20,
   "metadata": {},
   "outputs": [
    {
     "data": {
      "text/plain": [
       "Text(0.5,0,'columns in dataset')"
      ]
     },
     "execution_count": 20,
     "metadata": {},
     "output_type": "execute_result"
    },
    {
     "data": {
      "image/png": "[encoded data removed]",
      "text/plain": [
       "<Figure size 1440x720 with 1 Axes>"
      ]
     },
     "metadata": {},
     "output_type": "display_data"
    }
   ],
   "source": [
    "# Find columns with most missing data in customers dataset\n",
    "round(customers.isnull().sum(axis = 0)/customers.shape[0]*100,2).sort_values(ascending = False).head(20).plot(kind = 'bar', figsize=(20,10))\n",
    "plt.title(\" % of missing values per column in customers dataset\", fontdict={'fontsize': 16})\n",
    "plt.ylabel('% of missing values', fontdict={'fontsize': 12})\n",
    "plt.xlabel('columns in dataset', fontdict={'fontsize': 12})"
   ]
  },
  {
   "cell_type": "code",
   "execution_count": 21,
   "metadata": {},
   "outputs": [
    {
     "data": {
      "text/plain": [
       "Text(0.5,0,'columns in dataset')"
      ]
     },
     "execution_count": 21,
     "metadata": {},
     "output_type": "execute_result"
    },
    {
     "data": {
      "image/png": "[encoded data removed]",
      "text/plain": [
       "<Figure size 1440x720 with 1 Axes>"
      ]
     },
     "metadata": {},
     "output_type": "display_data"
    }
   ],
   "source": [
    "# Find columns with most missing data in azdias dataset\n",
    "round(azdias.isnull().sum(axis = 0)/azdias.shape[0]*100,2).sort_values(ascending = False).head(20).plot(kind = 'bar', figsize=(20,10))\n",
    "plt.title(\" % of missing values per column in azdias dataset\", fontdict={'fontsize': 16})\n",
    "plt.ylabel('% of missing values', fontdict={'fontsize': 12})\n",
    "plt.xlabel('columns in dataset', fontdict={'fontsize': 12})"
   ]
  },
  {
   "cell_type": "code",
   "execution_count": 22,
   "metadata": {},
   "outputs": [],
   "source": [
    "# The columns which the most empty values in both datasets are ALTER_KIND1-4, EXTSEL992 and KK_KUNDENTYPE\n",
    "# Remove these columns as they hold little information\n",
    "cols_to_remove = ['ALTER_KIND1', 'ALTER_KIND2','ALTER_KIND3', 'ALTER_KIND4', 'EXTSEL992', 'KK_KUNDENTYP', 'AGER_TYP']\n",
    "customers = customers.drop(columns = cols_to_remove, axis=1)\n",
    "azdias = azdias.drop(columns = cols_to_remove, axis=1)"
   ]
  },
  {
   "cell_type": "code",
   "execution_count": 23,
   "metadata": {},
   "outputs": [],
   "source": [
    "# Fill categorical variables with mode\n",
    "# Create function which fills missing values with mode\n",
    "fill_mode = lambda col: col.fillna(col.mode()[0])\n",
    "\n",
    "# Fill missing categorical variables with mode\n",
    "#customers[cust_object_columns] = customers[cust_object_columns].apply(fill_mode, axis=0)\n",
    "customers_clean = customers.apply(fill_mode, axis=0)\n",
    "#azdias[az_object_columns] = azdias[az_object_columns].apply(fill_mode, axis=0)\n",
    "azdias_clean = azdias.apply(fill_mode, axis=0)"
   ]
  },
  {
   "cell_type": "code",
   "execution_count": 24,
   "metadata": {},
   "outputs": [],
   "source": [
    "#customers = pd.get_dummies(data=customers, columns=['PRODUCT_GROUP', 'CUSTOMER_GROUP', 'OST_WEST_KZ'])\n",
    "#azdias = pd.get_dummies(data=azdias, columns=['OST_WEST_KZ'])"
   ]
  },
  {
   "cell_type": "code",
   "execution_count": 25,
   "metadata": {},
   "outputs": [],
   "source": [
    "# # Create function which fills missing values in columns within num_vars with the column mean\n",
    "# def fill_mean(df, num_vars):\n",
    "#     '''\n",
    "#     INPUT:\n",
    "#     df - dataframe with missing numeric values\n",
    "#     num_vars - object containing numeric columns in dataframe\n",
    "#     OUTPUT:\n",
    "#     df - dataframe with missing numeric values filled with column means\n",
    "    \n",
    "#     Fills missing numeric values within a dataframe with column means.\n",
    "#     '''\n",
    "#     for col in num_vars:\n",
    "#             df[col] = df[col].fillna(df[col].mean(), axis = 0)\n",
    "#     return df"
   ]
  },
  {
   "cell_type": "code",
   "execution_count": 26,
   "metadata": {},
   "outputs": [],
   "source": [
    "# # Fill missing numerical values\n",
    "# # Find numerical columns\n",
    "# customers_num_vars = customers_clean.select_dtypes(include=['float', 'int']).columns\n",
    "# azdias_num_vars = azdias_clean.select_dtypes(include=['float', 'int']).columns\n",
    "\n",
    "# # Fill missing values in numerical columns\n",
    "# customers_clean = fill_mean(customers_clean, customers_num_vars)\n",
    "# azdias_clean = fill_mean(azdias_clean, azdias_num_vars)\n",
    "# customers_clean.head()"
   ]
  },
  {
   "cell_type": "code",
   "execution_count": 27,
   "metadata": {},
   "outputs": [
    {
     "data": {
      "text/plain": [
       "ALTERSKATEGORIE_GROB    0.0\n",
       "D19_WEIN_FEINKOST       0.0\n",
       "KBA05_ALTER3            0.0\n",
       "KBA05_ALTER4            0.0\n",
       "KBA05_ANHANG            0.0\n",
       "KBA05_ANTG1             0.0\n",
       "KBA05_ANTG2             0.0\n",
       "KBA05_ANTG3             0.0\n",
       "KBA05_ANTG4             0.0\n",
       "KBA05_AUTOQUOT          0.0\n",
       "dtype: float64"
      ]
     },
     "execution_count": 27,
     "metadata": {},
     "output_type": "execute_result"
    }
   ],
   "source": [
    "round(azdias_clean.isnull().sum(axis = 0)/azdias_clean.shape[0]*100,2).sort_values(ascending = False).head(10)"
   ]
  },
  {
   "cell_type": "code",
   "execution_count": 28,
   "metadata": {},
   "outputs": [
    {
     "data": {
      "text/plain": [
       "ALTERSKATEGORIE_GROB    0.0\n",
       "D19_WEIN_FEINKOST       0.0\n",
       "KBA05_ALTER3            0.0\n",
       "KBA05_ALTER4            0.0\n",
       "KBA05_ANHANG            0.0\n",
       "KBA05_ANTG1             0.0\n",
       "KBA05_ANTG2             0.0\n",
       "KBA05_ANTG3             0.0\n",
       "KBA05_ANTG4             0.0\n",
       "KBA05_AUTOQUOT          0.0\n",
       "dtype: float64"
      ]
     },
     "execution_count": 28,
     "metadata": {},
     "output_type": "execute_result"
    }
   ],
   "source": [
    "round(customers_clean.isnull().sum(axis = 0)/customers_clean.shape[0]*100,2).sort_values(ascending = False).head(10)"
   ]
  },
  {
   "cell_type": "code",
   "execution_count": 29,
   "metadata": {},
   "outputs": [],
   "source": [
    "# # Create function to clean datasets\n",
    "# def clean_data(df):\n",
    "#     '''\n",
    "#     INPUT:\n",
    "#     df - dataframe of customer data\n",
    "#     OUTPUT:\n",
    "#     df_clean - clean dataframe of customer data, ready for modelling\n",
    "    \n",
    "#     Sorts columns with incorrect datatypes\n",
    "#     Removes columns with high proportion of missing data\n",
    "#     Impute missing data\n",
    "#     Transforms categorical data so it can be used in modelling\n",
    "#     '''\n",
    "#     # Sort columns with incorrect datatypes\n",
    "#     df['CAMEO_DEUG_2015'] = pd.to_numeric(df['CAMEO_DEUG_2015'], errors='coerce')\n",
    "#     df['CAMEO_INTL_2015'] = pd.to_numeric(df['CAMEO_INTL_2015'], errors='coerce')\n",
    "#     df['EINGEFUEGT_AM'] =  pd.to_datetime(df['EINGEFUEGT_AM'], format='%Y-%m-%d %H:%M:%S')\n",
    "    \n",
    "#     # Remove columns with high proportion of missing data\n",
    "#     cols_to_remove = ['ALTER_KIND1', 'ALTER_KIND2','ALTER_KIND3', 'ALTER_KIND4', 'EXTSEL992', 'KK_KUNDENTYP']\n",
    "#     df = df.drop(columns = cols_to_remove, axis=1)\n",
    "    \n",
    "#     # Impute missing data in categorical columns\n",
    "#     df_object_columns = df.columns[df.dtypes == object]\n",
    "#     df[cust_object_columns] = df[cust_object_columns].apply(fill_mode, axis=0)\n",
    "    \n",
    "#     # Transform categorical data so it can be used in modelling\n",
    "#     df = pd.get_dummies(data=df, columns=['PRODUCT_GROUP', 'CUSTOMER_GROUP', 'OST_WEST_KZ'])\n",
    "    \n",
    "#     # Impute missing data in numeric columns\n",
    "#     df_num_vars = df.select_dtypes(include=['float', 'int']).columns\n",
    "#     df_clean = fill_mean(df, customers_num_vars)\n",
    "    \n",
    "#     return df_clean"
   ]
  },
  {
   "cell_type": "code",
   "execution_count": 30,
   "metadata": {},
   "outputs": [],
   "source": [
    "# customers = customers_copy"
   ]
  },
  {
   "cell_type": "code",
   "execution_count": 31,
   "metadata": {},
   "outputs": [],
   "source": [
    "# customers_clean = clean_data(customers)"
   ]
  },
  {
   "cell_type": "code",
   "execution_count": 32,
   "metadata": {},
   "outputs": [],
   "source": [
    "# # Check function is working\n",
    "# round(customers.isnull().sum(axis = 0)/customers.shape[0]*100,2).sort_values(ascending = False).head(10)"
   ]
  },
  {
   "cell_type": "code",
   "execution_count": 33,
   "metadata": {},
   "outputs": [],
   "source": [
    "# round(customers_clean.isnull().sum(axis = 0)/customers_clean.shape[0]*100,2).sort_values(ascending = False).head(10)\n",
    "# There are no longer any missing values in the dataset suggesting the function is working"
   ]
  },
  {
   "cell_type": "code",
   "execution_count": 34,
   "metadata": {},
   "outputs": [],
   "source": [
    "# customers.head()"
   ]
  },
  {
   "cell_type": "code",
   "execution_count": 35,
   "metadata": {},
   "outputs": [],
   "source": [
    "# customers_clean.head()\n",
    "# Categorical variables have been transformed so the function appears to be working"
   ]
  },
  {
   "cell_type": "markdown",
   "metadata": {},
   "source": [
    "## Part 1: Customer Segmentation Report\n",
    "\n",
    "The main bulk of your analysis will come in this part of the project. Here, you should use unsupervised learning techniques to describe the relationship between the demographics of the company's existing customers and the general population of Germany. By the end of this part, you should be able to describe parts of the general population that are more likely to be part of the mail-order company's main customer base, and which parts of the general population are less so."
   ]
  },
  {
   "cell_type": "markdown",
   "metadata": {},
   "source": [
    "### Standardise data"
   ]
  },
  {
   "cell_type": "code",
   "execution_count": 36,
   "metadata": {},
   "outputs": [
    {
     "data": {
      "text/plain": [
       "(891221, 355)"
      ]
     },
     "execution_count": 36,
     "metadata": {},
     "output_type": "execute_result"
    }
   ],
   "source": [
    "azdias_clean.shape"
   ]
  },
  {
   "cell_type": "code",
   "execution_count": 37,
   "metadata": {},
   "outputs": [
    {
     "data": {
      "text/plain": [
       "(191652, 355)"
      ]
     },
     "execution_count": 37,
     "metadata": {},
     "output_type": "execute_result"
    }
   ],
   "source": [
    "customers_clean.shape"
   ]
  },
  {
   "cell_type": "code",
   "execution_count": 38,
   "metadata": {},
   "outputs": [
    {
     "data": {
      "text/html": [
       "<div>\n",
       "<style scoped>\n",
       "    .dataframe tbody tr th:only-of-type {\n",
       "        vertical-align: middle;\n",
       "    }\n",
       "\n",
       "    .dataframe tbody tr th {\n",
       "        vertical-align: top;\n",
       "    }\n",
       "\n",
       "    .dataframe thead th {\n",
       "        text-align: right;\n",
       "    }\n",
       "</style>\n",
       "<table border=\"1\" class=\"dataframe\">\n",
       "  <thead>\n",
       "    <tr style=\"text-align: right;\">\n",
       "      <th></th>\n",
       "      <th>LNR</th>\n",
       "      <th>AKT_DAT_KL</th>\n",
       "      <th>ALTER_HH</th>\n",
       "      <th>ALTERSKATEGORIE_FEIN</th>\n",
       "      <th>ANZ_HAUSHALTE_AKTIV</th>\n",
       "      <th>ANZ_HH_TITEL</th>\n",
       "      <th>ANZ_KINDER</th>\n",
       "      <th>ANZ_PERSONEN</th>\n",
       "      <th>ANZ_STATISTISCHE_HAUSHALTE</th>\n",
       "      <th>ANZ_TITEL</th>\n",
       "      <th>...</th>\n",
       "      <th>VHN</th>\n",
       "      <th>VK_DHT4A</th>\n",
       "      <th>VK_DISTANZ</th>\n",
       "      <th>VK_ZG11</th>\n",
       "      <th>W_KEIT_KIND_HH</th>\n",
       "      <th>WOHNDAUER_2008</th>\n",
       "      <th>WOHNLAGE</th>\n",
       "      <th>ZABEOTYP</th>\n",
       "      <th>ANREDE_KZ</th>\n",
       "      <th>ALTERSKATEGORIE_GROB</th>\n",
       "    </tr>\n",
       "  </thead>\n",
       "  <tbody>\n",
       "    <tr>\n",
       "      <th>0</th>\n",
       "      <td>14.720037</td>\n",
       "      <td>-0.325074</td>\n",
       "      <td>-1.174498</td>\n",
       "      <td>1.346136</td>\n",
       "      <td>-0.235979</td>\n",
       "      <td>-0.105218</td>\n",
       "      <td>-0.238379</td>\n",
       "      <td>-0.989677</td>\n",
       "      <td>-0.222434</td>\n",
       "      <td>-0.116283</td>\n",
       "      <td>...</td>\n",
       "      <td>-0.310468</td>\n",
       "      <td>2.212230</td>\n",
       "      <td>2.152739</td>\n",
       "      <td>3.428690</td>\n",
       "      <td>0.711179</td>\n",
       "      <td>0.263604</td>\n",
       "      <td>-0.292251</td>\n",
       "      <td>0.362174</td>\n",
       "      <td>-0.776965</td>\n",
       "      <td>-0.976669</td>\n",
       "    </tr>\n",
       "    <tr>\n",
       "      <th>1</th>\n",
       "      <td>14.720127</td>\n",
       "      <td>4.271391</td>\n",
       "      <td>-1.174498</td>\n",
       "      <td>3.043620</td>\n",
       "      <td>0.568663</td>\n",
       "      <td>-0.105218</td>\n",
       "      <td>-0.238379</td>\n",
       "      <td>-0.166805</td>\n",
       "      <td>0.671506</td>\n",
       "      <td>-0.116283</td>\n",
       "      <td>...</td>\n",
       "      <td>1.706167</td>\n",
       "      <td>1.528224</td>\n",
       "      <td>2.493058</td>\n",
       "      <td>3.428690</td>\n",
       "      <td>-0.893854</td>\n",
       "      <td>0.263604</td>\n",
       "      <td>0.254268</td>\n",
       "      <td>2.073795</td>\n",
       "      <td>1.287059</td>\n",
       "      <td>-1.897266</td>\n",
       "    </tr>\n",
       "    <tr>\n",
       "      <th>2</th>\n",
       "      <td>14.720218</td>\n",
       "      <td>4.271391</td>\n",
       "      <td>1.149341</td>\n",
       "      <td>1.911964</td>\n",
       "      <td>0.488198</td>\n",
       "      <td>-0.105218</td>\n",
       "      <td>-0.238379</td>\n",
       "      <td>-0.989677</td>\n",
       "      <td>0.265169</td>\n",
       "      <td>-0.116283</td>\n",
       "      <td>...</td>\n",
       "      <td>-0.310468</td>\n",
       "      <td>1.870227</td>\n",
       "      <td>1.812419</td>\n",
       "      <td>1.568525</td>\n",
       "      <td>-0.893854</td>\n",
       "      <td>0.263604</td>\n",
       "      <td>-0.838770</td>\n",
       "      <td>2.073795</td>\n",
       "      <td>1.287059</td>\n",
       "      <td>-0.056071</td>\n",
       "    </tr>\n",
       "    <tr>\n",
       "      <th>3</th>\n",
       "      <td>14.720236</td>\n",
       "      <td>-0.325074</td>\n",
       "      <td>0.602556</td>\n",
       "      <td>0.780309</td>\n",
       "      <td>-0.235979</td>\n",
       "      <td>-0.105218</td>\n",
       "      <td>-0.238379</td>\n",
       "      <td>-1.812549</td>\n",
       "      <td>-0.141167</td>\n",
       "      <td>-0.116283</td>\n",
       "      <td>...</td>\n",
       "      <td>-2.327104</td>\n",
       "      <td>1.186221</td>\n",
       "      <td>2.152739</td>\n",
       "      <td>3.893731</td>\n",
       "      <td>0.711179</td>\n",
       "      <td>0.263604</td>\n",
       "      <td>1.893824</td>\n",
       "      <td>0.362174</td>\n",
       "      <td>1.287059</td>\n",
       "      <td>0.864527</td>\n",
       "    </tr>\n",
       "    <tr>\n",
       "      <th>4</th>\n",
       "      <td>14.720507</td>\n",
       "      <td>-0.325074</td>\n",
       "      <td>1.559431</td>\n",
       "      <td>1.063223</td>\n",
       "      <td>-0.075051</td>\n",
       "      <td>-0.105218</td>\n",
       "      <td>-0.238379</td>\n",
       "      <td>1.478939</td>\n",
       "      <td>-0.059900</td>\n",
       "      <td>-0.116283</td>\n",
       "      <td>...</td>\n",
       "      <td>-0.310468</td>\n",
       "      <td>-0.181793</td>\n",
       "      <td>0.451142</td>\n",
       "      <td>0.638443</td>\n",
       "      <td>-1.428865</td>\n",
       "      <td>0.263604</td>\n",
       "      <td>-0.292251</td>\n",
       "      <td>1.217985</td>\n",
       "      <td>-0.776965</td>\n",
       "      <td>-0.056071</td>\n",
       "    </tr>\n",
       "  </tbody>\n",
       "</table>\n",
       "<p>5 rows × 355 columns</p>\n",
       "</div>"
      ],
      "text/plain": [
       "         LNR  AKT_DAT_KL  ALTER_HH  ALTERSKATEGORIE_FEIN  ANZ_HAUSHALTE_AKTIV  \\\n",
       "0  14.720037   -0.325074 -1.174498              1.346136            -0.235979   \n",
       "1  14.720127    4.271391 -1.174498              3.043620             0.568663   \n",
       "2  14.720218    4.271391  1.149341              1.911964             0.488198   \n",
       "3  14.720236   -0.325074  0.602556              0.780309            -0.235979   \n",
       "4  14.720507   -0.325074  1.559431              1.063223            -0.075051   \n",
       "\n",
       "   ANZ_HH_TITEL  ANZ_KINDER  ANZ_PERSONEN  ANZ_STATISTISCHE_HAUSHALTE  \\\n",
       "0     -0.105218   -0.238379     -0.989677                   -0.222434   \n",
       "1     -0.105218   -0.238379     -0.166805                    0.671506   \n",
       "2     -0.105218   -0.238379     -0.989677                    0.265169   \n",
       "3     -0.105218   -0.238379     -1.812549                   -0.141167   \n",
       "4     -0.105218   -0.238379      1.478939                   -0.059900   \n",
       "\n",
       "   ANZ_TITEL          ...                VHN  VK_DHT4A  VK_DISTANZ   VK_ZG11  \\\n",
       "0  -0.116283          ...          -0.310468  2.212230    2.152739  3.428690   \n",
       "1  -0.116283          ...           1.706167  1.528224    2.493058  3.428690   \n",
       "2  -0.116283          ...          -0.310468  1.870227    1.812419  1.568525   \n",
       "3  -0.116283          ...          -2.327104  1.186221    2.152739  3.893731   \n",
       "4  -0.116283          ...          -0.310468 -0.181793    0.451142  0.638443   \n",
       "\n",
       "   W_KEIT_KIND_HH  WOHNDAUER_2008  WOHNLAGE  ZABEOTYP  ANREDE_KZ  \\\n",
       "0        0.711179        0.263604 -0.292251  0.362174  -0.776965   \n",
       "1       -0.893854        0.263604  0.254268  2.073795   1.287059   \n",
       "2       -0.893854        0.263604 -0.838770  2.073795   1.287059   \n",
       "3        0.711179        0.263604  1.893824  0.362174   1.287059   \n",
       "4       -1.428865        0.263604 -0.292251  1.217985  -0.776965   \n",
       "\n",
       "   ALTERSKATEGORIE_GROB  \n",
       "0             -0.976669  \n",
       "1             -1.897266  \n",
       "2             -0.056071  \n",
       "3              0.864527  \n",
       "4             -0.056071  \n",
       "\n",
       "[5 rows x 355 columns]"
      ]
     },
     "execution_count": 38,
     "metadata": {},
     "output_type": "execute_result"
    }
   ],
   "source": [
    "# Remove columns with object or datetime datatypes as they can't be standardised\n",
    "# customers_clean_object_columns = customers_clean.columns[customers_clean.dtypes == object]\n",
    "# customers_metric = customers_clean.drop(columns = customers_clean_object_columns, axis=1)\n",
    "# customers_metric = customers_metric.drop(columns = ['EINGEFUEGT_AM'], axis=1)\n",
    "\n",
    "# product_group_cols = [col for col in customers_metric.columns if 'PRODUCT_GROUP' in col]\n",
    "# customer_group_cols = [col for col in customers_metric.columns if 'CUSTOMER_GROUP' in col]\n",
    "# online_purchase_cols = [col for col in customers_metric.columns if 'ONLINE_PURCHASE' in col]\n",
    "# other_cols = [col for col in customers_metric.columns if 'OST_WEST_KZ' in col]\n",
    "# customers_metric = customers_metric.drop(columns = product_group_cols, axis=1)\n",
    "# customers_metric = customers_metric.drop(columns = customer_group_cols, axis=1)\n",
    "# customers_metric = customers_metric.drop(columns = online_purchase_cols, axis=1)\n",
    "# customers_metric = customers_metric.drop(columns = other_cols, axis=1)\n",
    "\n",
    "\n",
    "customers_metric = customers_clean\n",
    "azdias_metric = azdias_clean\n",
    "\n",
    "# Declare and fit scaler to \n",
    "scaler = StandardScaler()\n",
    "scaler.fit(customers_metric)\n",
    "customers_scaled_features = scaler.transform(customers_metric)\n",
    "customers_scaled = pd.DataFrame(customers_scaled_features, columns=customers_metric.columns)\n",
    "customers_scaled.head()\n",
    "\n",
    "\n",
    "# Remove columns with object or datetime datatypes as they can't be standardised\n",
    "#azdias_clean_object_columns = azdias_clean.columns[azdias_clean.dtypes == object]\n",
    "#azdias_metric = azdias_clean.drop(columns = azdias_clean_object_columns, axis=1)\n",
    "#azdias_metric = azdias_metric.drop(columns = ['EINGEFUEGT_AM'], axis=1)\n",
    "\n",
    "# Apply scaler to customers dataset\n",
    "azdias_scaled_features = scaler.transform(azdias_metric)\n",
    "azdias_scaled = pd.DataFrame(azdias_scaled_features, columns=azdias_metric.columns)\n",
    "azdias_scaled.head()"
   ]
  },
  {
   "cell_type": "markdown",
   "metadata": {},
   "source": [
    "### Perform PCA"
   ]
  },
  {
   "cell_type": "code",
   "execution_count": 39,
   "metadata": {},
   "outputs": [
    {
     "data": {
      "image/png": "[encoded data removed]",
      "text/plain": [
       "<Figure size 432x288 with 1 Axes>"
      ]
     },
     "metadata": {},
     "output_type": "display_data"
    }
   ],
   "source": [
    "# Determine the number of components to use using link: https://towardsdatascience.com/an-approach-to-choosing-the-number-of-components-in-a-principal-component-analysis-pca-3b9f3d6e73fe\n",
    "#Fitting the PCA algorithm with our Data\n",
    "pca = PCA().fit(customers_scaled)\n",
    "#Plotting the Cumulative Summation of the Explained Variance\n",
    "plt.figure()\n",
    "plt.plot(np.cumsum(pca.explained_variance_ratio_))\n",
    "plt.xlabel('Number of Components')\n",
    "plt.ylabel('Variance (%)') #for each component\n",
    "plt.title('Pulsar Dataset Explained Variance')\n",
    "plt.show()\n",
    "# Plot suggests 200 components descripe 90% of the data"
   ]
  },
  {
   "cell_type": "code",
   "execution_count": 40,
   "metadata": {},
   "outputs": [],
   "source": [
    "# Apply PCA to azdias dataset\n",
    "pca = PCA(n_components=200)\n",
    "customers_components = pca.fit_transform(customers_scaled)\n",
    "\n",
    "# Apply to customers datast\n",
    "azdias_components = pca.transform(azdias_scaled)"
   ]
  },
  {
   "cell_type": "code",
   "execution_count": 55,
   "metadata": {},
   "outputs": [
    {
     "data": {
      "text/html": [
       "<div>\n",
       "<style scoped>\n",
       "    .dataframe tbody tr th:only-of-type {\n",
       "        vertical-align: middle;\n",
       "    }\n",
       "\n",
       "    .dataframe tbody tr th {\n",
       "        vertical-align: top;\n",
       "    }\n",
       "\n",
       "    .dataframe thead th {\n",
       "        text-align: right;\n",
       "    }\n",
       "</style>\n",
       "<table border=\"1\" class=\"dataframe\">\n",
       "  <thead>\n",
       "    <tr style=\"text-align: right;\">\n",
       "      <th></th>\n",
       "      <th>LNR</th>\n",
       "      <th>AKT_DAT_KL</th>\n",
       "      <th>ALTER_HH</th>\n",
       "      <th>ALTERSKATEGORIE_FEIN</th>\n",
       "      <th>ANZ_HAUSHALTE_AKTIV</th>\n",
       "      <th>ANZ_HH_TITEL</th>\n",
       "      <th>ANZ_KINDER</th>\n",
       "      <th>ANZ_PERSONEN</th>\n",
       "      <th>ANZ_STATISTISCHE_HAUSHALTE</th>\n",
       "      <th>ANZ_TITEL</th>\n",
       "      <th>...</th>\n",
       "      <th>VK_DHT4A</th>\n",
       "      <th>VK_DISTANZ</th>\n",
       "      <th>VK_ZG11</th>\n",
       "      <th>W_KEIT_KIND_HH</th>\n",
       "      <th>WOHNDAUER_2008</th>\n",
       "      <th>WOHNLAGE</th>\n",
       "      <th>ZABEOTYP</th>\n",
       "      <th>ANREDE_KZ</th>\n",
       "      <th>ALTERSKATEGORIE_GROB</th>\n",
       "      <th>clusters</th>\n",
       "    </tr>\n",
       "  </thead>\n",
       "  <tbody>\n",
       "    <tr>\n",
       "      <th>0</th>\n",
       "      <td>-1.558070</td>\n",
       "      <td>-0.325074</td>\n",
       "      <td>0.192466</td>\n",
       "      <td>-0.068433</td>\n",
       "      <td>-0.235979</td>\n",
       "      <td>-0.105218</td>\n",
       "      <td>-0.238379</td>\n",
       "      <td>-0.166805</td>\n",
       "      <td>-0.222434</td>\n",
       "      <td>-0.116283</td>\n",
       "      <td>...</td>\n",
       "      <td>0.502214</td>\n",
       "      <td>-0.229497</td>\n",
       "      <td>-0.291640</td>\n",
       "      <td>0.711179</td>\n",
       "      <td>0.263604</td>\n",
       "      <td>1.893824</td>\n",
       "      <td>0.362174</td>\n",
       "      <td>-0.776965</td>\n",
       "      <td>0.864527</td>\n",
       "      <td>0</td>\n",
       "    </tr>\n",
       "    <tr>\n",
       "      <th>1</th>\n",
       "      <td>-1.558034</td>\n",
       "      <td>4.271391</td>\n",
       "      <td>0.329163</td>\n",
       "      <td>-0.068433</td>\n",
       "      <td>-0.235979</td>\n",
       "      <td>-0.105218</td>\n",
       "      <td>-0.238379</td>\n",
       "      <td>0.656067</td>\n",
       "      <td>-0.222434</td>\n",
       "      <td>-0.116283</td>\n",
       "      <td>...</td>\n",
       "      <td>0.844217</td>\n",
       "      <td>0.791461</td>\n",
       "      <td>0.173402</td>\n",
       "      <td>-2.498888</td>\n",
       "      <td>0.263604</td>\n",
       "      <td>-0.292251</td>\n",
       "      <td>0.362174</td>\n",
       "      <td>-0.776965</td>\n",
       "      <td>0.864527</td>\n",
       "      <td>0</td>\n",
       "    </tr>\n",
       "    <tr>\n",
       "      <th>2</th>\n",
       "      <td>0.868420</td>\n",
       "      <td>-0.325074</td>\n",
       "      <td>-0.354319</td>\n",
       "      <td>-2.897572</td>\n",
       "      <td>-0.235979</td>\n",
       "      <td>-0.105218</td>\n",
       "      <td>-0.238379</td>\n",
       "      <td>-0.989677</td>\n",
       "      <td>-0.222434</td>\n",
       "      <td>-0.116283</td>\n",
       "      <td>...</td>\n",
       "      <td>2.212230</td>\n",
       "      <td>3.173697</td>\n",
       "      <td>3.893731</td>\n",
       "      <td>0.711179</td>\n",
       "      <td>0.263604</td>\n",
       "      <td>-0.838770</td>\n",
       "      <td>0.362174</td>\n",
       "      <td>1.287059</td>\n",
       "      <td>0.864527</td>\n",
       "      <td>0</td>\n",
       "    </tr>\n",
       "    <tr>\n",
       "      <th>3</th>\n",
       "      <td>0.868438</td>\n",
       "      <td>-0.325074</td>\n",
       "      <td>-0.080926</td>\n",
       "      <td>-0.634261</td>\n",
       "      <td>-0.316443</td>\n",
       "      <td>-0.105218</td>\n",
       "      <td>-0.238379</td>\n",
       "      <td>-1.812549</td>\n",
       "      <td>-0.222434</td>\n",
       "      <td>-0.116283</td>\n",
       "      <td>...</td>\n",
       "      <td>0.844217</td>\n",
       "      <td>0.110822</td>\n",
       "      <td>-0.291640</td>\n",
       "      <td>0.711179</td>\n",
       "      <td>0.263604</td>\n",
       "      <td>1.893824</td>\n",
       "      <td>-1.349447</td>\n",
       "      <td>-0.776965</td>\n",
       "      <td>0.864527</td>\n",
       "      <td>0</td>\n",
       "    </tr>\n",
       "    <tr>\n",
       "      <th>4</th>\n",
       "      <td>0.868456</td>\n",
       "      <td>-0.325074</td>\n",
       "      <td>1.559431</td>\n",
       "      <td>1.063223</td>\n",
       "      <td>0.246806</td>\n",
       "      <td>-0.105218</td>\n",
       "      <td>-0.238379</td>\n",
       "      <td>1.478939</td>\n",
       "      <td>0.265169</td>\n",
       "      <td>-0.116283</td>\n",
       "      <td>...</td>\n",
       "      <td>-0.181793</td>\n",
       "      <td>0.451142</td>\n",
       "      <td>0.638443</td>\n",
       "      <td>-1.428865</td>\n",
       "      <td>0.263604</td>\n",
       "      <td>-0.292251</td>\n",
       "      <td>-1.349447</td>\n",
       "      <td>-0.776965</td>\n",
       "      <td>-0.056071</td>\n",
       "      <td>0</td>\n",
       "    </tr>\n",
       "  </tbody>\n",
       "</table>\n",
       "<p>5 rows × 356 columns</p>\n",
       "</div>"
      ],
      "text/plain": [
       "        LNR  AKT_DAT_KL  ALTER_HH  ALTERSKATEGORIE_FEIN  ANZ_HAUSHALTE_AKTIV  \\\n",
       "0 -1.558070   -0.325074  0.192466             -0.068433            -0.235979   \n",
       "1 -1.558034    4.271391  0.329163             -0.068433            -0.235979   \n",
       "2  0.868420   -0.325074 -0.354319             -2.897572            -0.235979   \n",
       "3  0.868438   -0.325074 -0.080926             -0.634261            -0.316443   \n",
       "4  0.868456   -0.325074  1.559431              1.063223             0.246806   \n",
       "\n",
       "   ANZ_HH_TITEL  ANZ_KINDER  ANZ_PERSONEN  ANZ_STATISTISCHE_HAUSHALTE  \\\n",
       "0     -0.105218   -0.238379     -0.166805                   -0.222434   \n",
       "1     -0.105218   -0.238379      0.656067                   -0.222434   \n",
       "2     -0.105218   -0.238379     -0.989677                   -0.222434   \n",
       "3     -0.105218   -0.238379     -1.812549                   -0.222434   \n",
       "4     -0.105218   -0.238379      1.478939                    0.265169   \n",
       "\n",
       "   ANZ_TITEL    ...     VK_DHT4A  VK_DISTANZ   VK_ZG11  W_KEIT_KIND_HH  \\\n",
       "0  -0.116283    ...     0.502214   -0.229497 -0.291640        0.711179   \n",
       "1  -0.116283    ...     0.844217    0.791461  0.173402       -2.498888   \n",
       "2  -0.116283    ...     2.212230    3.173697  3.893731        0.711179   \n",
       "3  -0.116283    ...     0.844217    0.110822 -0.291640        0.711179   \n",
       "4  -0.116283    ...    -0.181793    0.451142  0.638443       -1.428865   \n",
       "\n",
       "   WOHNDAUER_2008  WOHNLAGE  ZABEOTYP  ANREDE_KZ  ALTERSKATEGORIE_GROB  \\\n",
       "0        0.263604  1.893824  0.362174  -0.776965              0.864527   \n",
       "1        0.263604 -0.292251  0.362174  -0.776965              0.864527   \n",
       "2        0.263604 -0.838770  0.362174   1.287059              0.864527   \n",
       "3        0.263604  1.893824 -1.349447  -0.776965              0.864527   \n",
       "4        0.263604 -0.292251 -1.349447  -0.776965             -0.056071   \n",
       "\n",
       "   clusters  \n",
       "0         0  \n",
       "1         0  \n",
       "2         0  \n",
       "3         0  \n",
       "4         0  \n",
       "\n",
       "[5 rows x 356 columns]"
      ]
     },
     "execution_count": 55,
     "metadata": {},
     "output_type": "execute_result"
    }
   ],
   "source": [
    "customers_scaled.head()"
   ]
  },
  {
   "cell_type": "markdown",
   "metadata": {},
   "source": [
    "### Apply Kmeans clustering algorithm"
   ]
  },
  {
   "cell_type": "code",
   "execution_count": 41,
   "metadata": {},
   "outputs": [],
   "source": [
    "# #Determine number of clusters using elbow method - https://towardsdatascience.com/customer-segmentation-using-k-means-clustering-d33964f238c3\n",
    "# sse = []\n",
    "# for k in range(1,10):\n",
    "#     km = KModes(n_clusters=4, init='Huang', n_init=5, verbose=1)\n",
    "#     km.fit(customers_components)\n",
    "\n",
    "# sse.append(km.inertia_)\n",
    "# plt.figure(figsize=(12,6))    \n",
    "# plt.plot(range(1,10), sse)\n",
    "# plt.xlabel(\"Number of clusters\")\n",
    "# plt.ylabel(\"SSE\")\n",
    "# plt.show()\n",
    "# # 6 clusters looks optimal"
   ]
  },
  {
   "cell_type": "code",
   "execution_count": 42,
   "metadata": {},
   "outputs": [
    {
     "data": {
      "text/plain": [
       "<Figure size 864x432 with 0 Axes>"
      ]
     },
     "execution_count": 42,
     "metadata": {},
     "output_type": "execute_result"
    },
    {
     "data": {
      "text/plain": [
       "<Figure size 864x432 with 0 Axes>"
      ]
     },
     "metadata": {},
     "output_type": "display_data"
    }
   ],
   "source": [
    "# Determine number of clusters using elbow method - https://towardsdatascience.com/customer-segmentation-using-k-means-clustering-d33964f238c3\n",
    "# sse = []\n",
    "# for k in range(1,10):\n",
    "#     kmomeans = kmeans(n_clusters=k, init=\"k-means++\")\n",
    "#     kmeans.fit(customers_components)\n",
    "\n",
    "# sse.append(kmeans.inertia_)\n",
    "#plt.figure(figsize=(12,6))    \n",
    "# plt.plot(range(1,10), sse)\n",
    "# plt.xlabel(\"Number of clusters\")\n",
    "# plt.ylabel(\"SSE\")\n",
    "# plt.show()\n",
    "# # 6 clusters looks optimal"
   ]
  },
  {
   "cell_type": "code",
   "execution_count": 43,
   "metadata": {},
   "outputs": [],
   "source": [
    "# kmeans = KMeans(n_clusters=6)\n",
    "# customers_clean['clusters'] = kmeans.fit_predict(customers_components)\n",
    "# azdias_clean['clusters'] = kmeans.predict(azdias_components)"
   ]
  },
  {
   "cell_type": "code",
   "execution_count": 56,
   "metadata": {},
   "outputs": [],
   "source": [
    "km = KModes(n_clusters=6)\n",
    "customers_clean['clusters'] = km.fit_predict(customers_clean)\n",
    "azdias_clean['clusters'] = km.predict(azdias_clean)"
   ]
  },
  {
   "cell_type": "code",
   "execution_count": 61,
   "metadata": {},
   "outputs": [],
   "source": [
    "# worked better without pca and scaling steps..."
   ]
  },
  {
   "cell_type": "markdown",
   "metadata": {},
   "source": [
    "### Explore segments"
   ]
  },
  {
   "cell_type": "code",
   "execution_count": 57,
   "metadata": {},
   "outputs": [
    {
     "data": {
      "text/plain": [
       "Text(0.5,1,'Distribution of customer and general population data across clusters')"
      ]
     },
     "execution_count": 57,
     "metadata": {},
     "output_type": "execute_result"
    },
    {
     "data": {
      "image/png": "[encoded data removed]",
      "text/plain": [
       "<Figure size 1440x720 with 1 Axes>"
      ]
     },
     "metadata": {},
     "output_type": "display_data"
    }
   ],
   "source": [
    "customer_perc = customers_clean['clusters'].value_counts()/customers_clean['clusters'].shape[0]*100\n",
    "gen_pop_perc = azdias_clean['clusters'].value_counts()/azdias_clean['clusters'].shape[0]*100\n",
    "distributions = {'Customers': customer_perc, 'Genpop': gen_pop_perc}\n",
    "dists = pd.DataFrame(data=distributions)\n",
    "dists.plot(kind = 'bar', figsize=(20,10))\n",
    "plt.ylabel(\"Percentage of population\", fontdict={'fontsize': 12})\n",
    "plt.xlabel(\"Cluster number\", fontdict={'fontsize': 12})\n",
    "plt.title(\"Distribution of customer and general population data across clusters\", fontdict={'fontsize': 16})"
   ]
  },
  {
   "cell_type": "markdown",
   "metadata": {},
   "source": [
    "Customers are more likely to be in clusters 0 and 3 and less likely to be in cluster 2 than the general population."
   ]
  },
  {
   "cell_type": "code",
   "execution_count": 58,
   "metadata": {},
   "outputs": [],
   "source": [
    "# adding clusters to scaled data instead\n",
    "customers_scaled['clusters'] = customers_clean['clusters']\n",
    "azdias_scaled['clusters'] = azdias_clean['clusters']"
   ]
  },
  {
   "cell_type": "code",
   "execution_count": 59,
   "metadata": {},
   "outputs": [],
   "source": [
    "# Find average score for clusters 0 and 3\n",
    "cust_avg = customers_scaled[customers_scaled['clusters'].isin([0, 3])].mean()\n",
    "genpop_avg = azdias_scaled[azdias_scaled['clusters'].isin([0, 3])].mean()"
   ]
  },
  {
   "cell_type": "code",
   "execution_count": 60,
   "metadata": {},
   "outputs": [
    {
     "data": {
      "text/plain": [
       "Text(0.5,1,'Chart to demonstrate the features which differ most between Customer and General Population')"
      ]
     },
     "execution_count": 60,
     "metadata": {},
     "output_type": "execute_result"
    },
    {
     "data": {
      "image/png": "[encoded data removed]",
      "text/plain": [
       "<Figure size 1440x720 with 1 Axes>"
      ]
     },
     "metadata": {},
     "output_type": "display_data"
    }
   ],
   "source": [
    "# Calcuate difference between customer score and gen pop score\n",
    "customer_scores = pd.concat([cust_avg, genpop_avg], axis=1).rename(columns={0: \"customers\", 1: \"genpop\"})\n",
    "customer_scores['diff'] = abs(customer_scores['customers'] - customer_scores['genpop'])\n",
    "customer_scores['diff'].sort_values(ascending = False).head(20).plot(kind = 'bar', figsize=(20,10))\n",
    "plt.ylabel(\"Difference in average score\", fontdict={'fontsize': 12})\n",
    "plt.xlabel(\"Features\", fontdict={'fontsize': 12})\n",
    "plt.title(\"Chart to demonstrate the features which differ most between Customer and General Population\", fontdict={'fontsize': 16})"
   ]
  },
  {
   "cell_type": "markdown",
   "metadata": {},
   "source": [
    "From the above analysis, it is clear that the biggest differentiators between customers and general pop are listed below with their meaning. Many fields are not in the data descriptions and so are missing meanings.\n",
    "'LNR'\n",
    "'AKT_DAT_KL'\n",
    "'VK_ZG11'\n",
    "'VK_DISTANZ'\n",
    "'D19_KONSUMTYP' - Consumption type\n",
    "'CJT_TYP_3'- Customer Journey Typology - advertisinginterested Store-shopper\n",
    "'CJT_TYP_5' - Customer Journey Typology - Advertising- and Cross-Channel-Enthusiast\n",
    "'CJT_TYP_6' - Customer Journey Typology - Advertising-Enthusiast with restricted Cross-Channel-Behaviour \n",
    "'ALTERSKATEGORIE_FEIN'- Age classification - Higher = holder\n",
    "'CJT_TYP_4' - Customer Journey Typology - advertisinginterested Online-shopper\n",
    "'EINGEZOGENAM_HH_JAHR' - Potentially related to year of birth\n",
    "'VK_DHT4A',\n",
    "'PRAEGENDE_JUGENDJAHRE' - dominating movement in the person's youth (avantgarde or mainstream) - higher score = later \n",
    "'WOHNDAUER_2008' - Length of residence = higher = later\n",
    "'FINANZ_MINIMALIST' - financial typology: low financial interest = higher score = low interest(?)\n",
    "'CJT_KATALOGNUTZER'\n",
    "'SEMIO_TRADV' - affinity indicating in what way the person is traditional minded higher score = low affinity\n",
    "'RT_SCHNAEPPCHEN'\n",
    "'FINANZ_VORSORGER' - financial typology: be prepared = higher score = low\n",
    "'HH_EINKOMMEN_SCORE' - estimated household net income - higher score = low"
   ]
  },
  {
   "cell_type": "markdown",
   "metadata": {},
   "source": [
    "## Part 2: Supervised Learning Model\n",
    "\n",
    "Now that you've found which parts of the population are more likely to be customers of the mail-order company, it's time to build a prediction model. Each of the rows in the \"MAILOUT\" data files represents an individual that was targeted for a mailout campaign. Ideally, we should be able to use the demographic information from each individual to decide whether or not it will be worth it to include that person in the campaign.\n",
    "\n",
    "The \"MAILOUT\" data has been split into two approximately equal parts, each with almost 43 000 data rows. In this part, you can verify your model with the \"TRAIN\" partition, which includes a column, \"RESPONSE\", that states whether or not a person became a customer of the company following the campaign. In the next part, you'll need to create predictions on the \"TEST\" partition, where the \"RESPONSE\" column has been withheld."
   ]
  },
  {
   "cell_type": "code",
   "execution_count": 49,
   "metadata": {},
   "outputs": [
    {
     "name": "stderr",
     "output_type": "stream",
     "text": [
      "/Users/pmacdonald/anaconda3/lib/python3.7/site-packages/IPython/core/interactiveshell.py:2785: DtypeWarning: Columns (18,19) have mixed types. Specify dtype option on import or set low_memory=False.\n",
      "  interactivity=interactivity, compiler=compiler, result=result)\n"
     ]
    }
   ],
   "source": [
    "mailout_train = pd.read_csv('data/Udacity_MAILOUT_052018_TRAIN.csv', sep=';')"
   ]
  },
  {
   "cell_type": "code",
   "execution_count": null,
   "metadata": {},
   "outputs": [],
   "source": []
  },
  {
   "cell_type": "markdown",
   "metadata": {},
   "source": [
    "## Part 3: Kaggle Competition\n",
    "\n",
    "Now that you've created a model to predict which individuals are most likely to respond to a mailout campaign, it's time to test that model in competition through Kaggle. If you click on the link [here](http://www.kaggle.com/t/21e6d45d4c574c7fa2d868f0e8c83140), you'll be taken to the competition page where, if you have a Kaggle account, you can enter. If you're one of the top performers, you may have the chance to be contacted by a hiring manager from Arvato or Bertelsmann for an interview!\n",
    "\n",
    "Your entry to the competition should be a CSV file with two columns. The first column should be a copy of \"LNR\", which acts as an ID number for each individual in the \"TEST\" partition. The second column, \"RESPONSE\", should be some measure of how likely each individual became a customer – this might not be a straightforward probability. As you should have found in Part 2, there is a large output class imbalance, where most individuals did not respond to the mailout. Thus, predicting individual classes and using accuracy does not seem to be an appropriate performance evaluation method. Instead, the competition will be using AUC to evaluate performance. The exact values of the \"RESPONSE\" column do not matter as much: only that the higher values try to capture as many of the actual customers as possible, early in the ROC curve sweep."
   ]
  },
  {
   "cell_type": "code",
   "execution_count": 50,
   "metadata": {},
   "outputs": [
    {
     "name": "stderr",
     "output_type": "stream",
     "text": [
      "/Users/pmacdonald/anaconda3/lib/python3.7/site-packages/IPython/core/interactiveshell.py:2785: DtypeWarning: Columns (18,19) have mixed types. Specify dtype option on import or set low_memory=False.\n",
      "  interactivity=interactivity, compiler=compiler, result=result)\n"
     ]
    }
   ],
   "source": [
    "mailout_test = pd.read_csv('data/Udacity_MAILOUT_052018_TEST.csv', sep=';')"
   ]
  },
  {
   "cell_type": "code",
   "execution_count": null,
   "metadata": {},
   "outputs": [],
   "source": []
  }
 ],
 "metadata": {
  "kernelspec": {
   "display_name": "Python 3",
   "language": "python",
   "name": "python3"
  },
  "language_info": {
   "codemirror_mode": {
    "name": "ipython",
    "version": 3
   },
   "file_extension": ".py",
   "mimetype": "text/x-python",
   "name": "python",
   "nbconvert_exporter": "python",
   "pygments_lexer": "ipython3",
   "version": "3.7.0"
  }
 },
 "nbformat": 4,
 "nbformat_minor": 2
}
