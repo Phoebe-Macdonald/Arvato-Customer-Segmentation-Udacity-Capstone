{
 "cells": [
  {
   "cell_type": "markdown",
   "metadata": {},
   "source": [
    "# Capstone Project: Create a Customer Segmentation Report for Arvato Financial Services\n",
    "\n",
    "In this project, you will analyze demographics data for customers of a mail-order sales company in Germany, comparing it against demographics information for the general population. You'll use unsupervised learning techniques to perform customer segmentation, identifying the parts of the population that best describe the core customer base of the company. Then, you'll apply what you've learned on a third dataset with demographics information for targets of a marketing campaign for the company, and use a model to predict which individuals are most likely to convert into becoming customers for the company. The data that you will use has been provided by our partners at Bertelsmann Arvato Analytics, and represents a real-life data science task.\n",
    "\n",
    "If you completed the first term of this program, you will be familiar with the first part of this project, from the unsupervised learning project. The versions of those two datasets used in this project will include many more features and has not been pre-cleaned. You are also free to choose whatever approach you'd like to analyzing the data rather than follow pre-determined steps. In your work on this project, make sure that you carefully document your steps and decisions, since your main deliverable for this project will be a blog post reporting your findings."
   ]
  },
  {
   "cell_type": "code",
   "execution_count": 3,
   "metadata": {},
   "outputs": [
    {
     "name": "stderr",
     "output_type": "stream",
     "text": [
      "/Users/pmacdonald/anaconda3/lib/python3.7/site-packages/lightgbm/__init__.py:46: UserWarning: Starting from version 2.2.1, the library file in distribution wheels for macOS is built by the Apple Clang (Xcode_8.3.1) compiler.\n",
      "This means that in case of installing LightGBM from PyPI via the ``pip install lightgbm`` command, you don't need to install the gcc compiler anymore.\n",
      "Instead of that, you need to install the OpenMP library, which is required for running LightGBM on the system with the Apple Clang compiler.\n",
      "You can install the OpenMP library by the following command: ``brew install libomp``.\n",
      "  \"You can install the OpenMP library by the following command: ``brew install libomp``.\", UserWarning)\n"
     ]
    }
   ],
   "source": [
    "# import libraries\n",
    "import numpy as np\n",
    "import pandas as pd\n",
    "import re\n",
    "\n",
    "import matplotlib.pyplot as plt\n",
    "import seaborn as sns\n",
    "from matplotlib import pyplot\n",
    "from mpl_toolkits.mplot3d import Axes3D\n",
    "\n",
    "from sklearn import preprocessing\n",
    "from sklearn.preprocessing import StandardScaler\n",
    "from sklearn.decomposition import PCA\n",
    "from sklearn.manifold import TSNE\n",
    "\n",
    "from sklearn.cluster import KMeans\n",
    "from kmodes.kmodes import KModes\n",
    "from sklearn.metrics import silhouette_score\n",
    "from sklearn.metrics import silhouette_samples\n",
    "\n",
    "from catboost import CatBoostClassifier\n",
    "import lightgbm as lgb\n",
    "import xgboost as xgb\n",
    "\n",
    "\n",
    "\n",
    "\n",
    "\n",
    "%matplotlib inline"
   ]
  },
  {
   "cell_type": "markdown",
   "metadata": {},
   "source": [
    "## Part 0: Get to Know the Data\n",
    "\n",
    "There are four data files associated with this project:\n",
    "\n",
    "- `Udacity_AZDIAS_052018.csv`: Demographics data for the general population of Germany; 891 211 persons (rows) x 366 features (columns).\n",
    "- `Udacity_CUSTOMERS_052018.csv`: Demographics data for customers of a mail-order company; 191 652 persons (rows) x 369 features (columns).\n",
    "- `Udacity_MAILOUT_052018_TRAIN.csv`: Demographics data for individuals who were targets of a marketing campaign; 42 982 persons (rows) x 367 (columns).\n",
    "- `Udacity_MAILOUT_052018_TEST.csv`: Demographics data for individuals who were targets of a marketing campaign; 42 833 persons (rows) x 366 (columns).\n",
    "\n",
    "Each row of the demographics files represents a single person, but also includes information outside of individuals, including information about their household, building, and neighborhood. Use the information from the first two files to figure out how customers (\"CUSTOMERS\") are similar to or differ from the general population at large (\"AZDIAS\"), then use your analysis to make predictions on the other two files (\"MAILOUT\"), predicting which recipients are most likely to become a customer for the mail-order company.\n",
    "\n",
    "The \"CUSTOMERS\" file contains three extra columns ('CUSTOMER_GROUP', 'ONLINE_PURCHASE', and 'PRODUCT_GROUP'), which provide broad information about the customers depicted in the file. The original \"MAILOUT\" file included one additional column, \"RESPONSE\", which indicated whether or not each recipient became a customer of the company. For the \"TRAIN\" subset, this column has been retained, but in the \"TEST\" subset it has been removed; it is against that withheld column that your final predictions will be assessed in the Kaggle competition.\n",
    "\n",
    "Otherwise, all of the remaining columns are the same between the three data files. For more information about the columns depicted in the files, you can refer to two Excel spreadsheets provided in the workspace. [One of them](./DIAS Information Levels - Attributes 2017.xlsx) is a top-level list of attributes and descriptions, organized by informational category. [The other](./DIAS Attributes - Values 2017.xlsx) is a detailed mapping of data values for each feature in alphabetical order.\n",
    "\n",
    "In the below cell, we've provided some initial code to load in the first two datasets. Note for all of the `.csv` data files in this project that they're semicolon (`;`) delimited, so an additional argument in the [`read_csv()`](https://pandas.pydata.org/pandas-docs/stable/generated/pandas.read_csv.html) call has been included to read in the data properly. Also, considering the size of the datasets, it may take some time for them to load completely.\n",
    "\n",
    "You'll notice when the data is loaded in that a warning message will immediately pop up. Before you really start digging into the modeling and analysis, you're going to need to perform some cleaning. Take some time to browse the structure of the data and look over the informational spreadsheets to understand the data values. Make some decisions on which features to keep, which features to drop, and if any revisions need to be made on data formats. It'll be a good idea to create a function with pre-processing steps, since you'll need to clean all of the datasets before you work with them."
   ]
  },
  {
   "cell_type": "code",
   "execution_count": 4,
   "metadata": {},
   "outputs": [],
   "source": [
    "# Load in the data, specifying datatypes for columns 18 and 19, which have mixtures of datatypes, to speed up import\n",
    "azdias = pd.read_csv('data/Udacity_AZDIAS_052018.csv', sep=';', dtype={18: object, 19: object})\n",
    "customers = pd.read_csv('data/Udacity_CUSTOMERS_052018.csv', sep=';', dtype={18: object, 19: object})\n",
    "\n",
    "# Create backup copies to avoid having to reimport\n",
    "azdias_copy = azdias.copy()\n",
    "customers_copy = customers.copy()"
   ]
  },
  {
   "cell_type": "code",
   "execution_count": 5,
   "metadata": {},
   "outputs": [],
   "source": [
    "# Load in information on the features\n",
    "feature_summary = pd.read_csv('data/AZDIAS_Feature_Summary.csv', sep=';')"
   ]
  },
  {
   "cell_type": "code",
   "execution_count": 6,
   "metadata": {},
   "outputs": [
    {
     "data": {
      "text/html": [
       "<div>\n",
       "<style scoped>\n",
       "    .dataframe tbody tr th:only-of-type {\n",
       "        vertical-align: middle;\n",
       "    }\n",
       "\n",
       "    .dataframe tbody tr th {\n",
       "        vertical-align: top;\n",
       "    }\n",
       "\n",
       "    .dataframe thead th {\n",
       "        text-align: right;\n",
       "    }\n",
       "</style>\n",
       "<table border=\"1\" class=\"dataframe\">\n",
       "  <thead>\n",
       "    <tr style=\"text-align: right;\">\n",
       "      <th></th>\n",
       "      <th>LNR</th>\n",
       "      <th>AGER_TYP</th>\n",
       "      <th>AKT_DAT_KL</th>\n",
       "      <th>ALTER_HH</th>\n",
       "      <th>ALTER_KIND1</th>\n",
       "      <th>ALTER_KIND2</th>\n",
       "      <th>ALTER_KIND3</th>\n",
       "      <th>ALTER_KIND4</th>\n",
       "      <th>ALTERSKATEGORIE_FEIN</th>\n",
       "      <th>ANZ_HAUSHALTE_AKTIV</th>\n",
       "      <th>...</th>\n",
       "      <th>VK_ZG11</th>\n",
       "      <th>W_KEIT_KIND_HH</th>\n",
       "      <th>WOHNDAUER_2008</th>\n",
       "      <th>WOHNLAGE</th>\n",
       "      <th>ZABEOTYP</th>\n",
       "      <th>PRODUCT_GROUP</th>\n",
       "      <th>CUSTOMER_GROUP</th>\n",
       "      <th>ONLINE_PURCHASE</th>\n",
       "      <th>ANREDE_KZ</th>\n",
       "      <th>ALTERSKATEGORIE_GROB</th>\n",
       "    </tr>\n",
       "  </thead>\n",
       "  <tbody>\n",
       "    <tr>\n",
       "      <th>0</th>\n",
       "      <td>9626</td>\n",
       "      <td>2</td>\n",
       "      <td>1.0</td>\n",
       "      <td>10.0</td>\n",
       "      <td>NaN</td>\n",
       "      <td>NaN</td>\n",
       "      <td>NaN</td>\n",
       "      <td>NaN</td>\n",
       "      <td>10.0</td>\n",
       "      <td>1.0</td>\n",
       "      <td>...</td>\n",
       "      <td>2.0</td>\n",
       "      <td>6.0</td>\n",
       "      <td>9.0</td>\n",
       "      <td>7.0</td>\n",
       "      <td>3</td>\n",
       "      <td>COSMETIC_AND_FOOD</td>\n",
       "      <td>MULTI_BUYER</td>\n",
       "      <td>0</td>\n",
       "      <td>1</td>\n",
       "      <td>4</td>\n",
       "    </tr>\n",
       "    <tr>\n",
       "      <th>1</th>\n",
       "      <td>9628</td>\n",
       "      <td>-1</td>\n",
       "      <td>9.0</td>\n",
       "      <td>11.0</td>\n",
       "      <td>NaN</td>\n",
       "      <td>NaN</td>\n",
       "      <td>NaN</td>\n",
       "      <td>NaN</td>\n",
       "      <td>NaN</td>\n",
       "      <td>NaN</td>\n",
       "      <td>...</td>\n",
       "      <td>3.0</td>\n",
       "      <td>0.0</td>\n",
       "      <td>9.0</td>\n",
       "      <td>NaN</td>\n",
       "      <td>3</td>\n",
       "      <td>FOOD</td>\n",
       "      <td>SINGLE_BUYER</td>\n",
       "      <td>0</td>\n",
       "      <td>1</td>\n",
       "      <td>4</td>\n",
       "    </tr>\n",
       "    <tr>\n",
       "      <th>2</th>\n",
       "      <td>143872</td>\n",
       "      <td>-1</td>\n",
       "      <td>1.0</td>\n",
       "      <td>6.0</td>\n",
       "      <td>NaN</td>\n",
       "      <td>NaN</td>\n",
       "      <td>NaN</td>\n",
       "      <td>NaN</td>\n",
       "      <td>0.0</td>\n",
       "      <td>1.0</td>\n",
       "      <td>...</td>\n",
       "      <td>11.0</td>\n",
       "      <td>6.0</td>\n",
       "      <td>9.0</td>\n",
       "      <td>2.0</td>\n",
       "      <td>3</td>\n",
       "      <td>COSMETIC_AND_FOOD</td>\n",
       "      <td>MULTI_BUYER</td>\n",
       "      <td>0</td>\n",
       "      <td>2</td>\n",
       "      <td>4</td>\n",
       "    </tr>\n",
       "    <tr>\n",
       "      <th>3</th>\n",
       "      <td>143873</td>\n",
       "      <td>1</td>\n",
       "      <td>1.0</td>\n",
       "      <td>8.0</td>\n",
       "      <td>NaN</td>\n",
       "      <td>NaN</td>\n",
       "      <td>NaN</td>\n",
       "      <td>NaN</td>\n",
       "      <td>8.0</td>\n",
       "      <td>0.0</td>\n",
       "      <td>...</td>\n",
       "      <td>2.0</td>\n",
       "      <td>NaN</td>\n",
       "      <td>9.0</td>\n",
       "      <td>7.0</td>\n",
       "      <td>1</td>\n",
       "      <td>COSMETIC</td>\n",
       "      <td>MULTI_BUYER</td>\n",
       "      <td>0</td>\n",
       "      <td>1</td>\n",
       "      <td>4</td>\n",
       "    </tr>\n",
       "    <tr>\n",
       "      <th>4</th>\n",
       "      <td>143874</td>\n",
       "      <td>-1</td>\n",
       "      <td>1.0</td>\n",
       "      <td>20.0</td>\n",
       "      <td>NaN</td>\n",
       "      <td>NaN</td>\n",
       "      <td>NaN</td>\n",
       "      <td>NaN</td>\n",
       "      <td>14.0</td>\n",
       "      <td>7.0</td>\n",
       "      <td>...</td>\n",
       "      <td>4.0</td>\n",
       "      <td>2.0</td>\n",
       "      <td>9.0</td>\n",
       "      <td>3.0</td>\n",
       "      <td>1</td>\n",
       "      <td>FOOD</td>\n",
       "      <td>MULTI_BUYER</td>\n",
       "      <td>0</td>\n",
       "      <td>1</td>\n",
       "      <td>3</td>\n",
       "    </tr>\n",
       "  </tbody>\n",
       "</table>\n",
       "<p>5 rows × 369 columns</p>\n",
       "</div>"
      ],
      "text/plain": [
       "      LNR  AGER_TYP  AKT_DAT_KL  ALTER_HH  ALTER_KIND1  ALTER_KIND2  \\\n",
       "0    9626         2         1.0      10.0          NaN          NaN   \n",
       "1    9628        -1         9.0      11.0          NaN          NaN   \n",
       "2  143872        -1         1.0       6.0          NaN          NaN   \n",
       "3  143873         1         1.0       8.0          NaN          NaN   \n",
       "4  143874        -1         1.0      20.0          NaN          NaN   \n",
       "\n",
       "   ALTER_KIND3  ALTER_KIND4  ALTERSKATEGORIE_FEIN  ANZ_HAUSHALTE_AKTIV  \\\n",
       "0          NaN          NaN                  10.0                  1.0   \n",
       "1          NaN          NaN                   NaN                  NaN   \n",
       "2          NaN          NaN                   0.0                  1.0   \n",
       "3          NaN          NaN                   8.0                  0.0   \n",
       "4          NaN          NaN                  14.0                  7.0   \n",
       "\n",
       "          ...           VK_ZG11  W_KEIT_KIND_HH  WOHNDAUER_2008  WOHNLAGE  \\\n",
       "0         ...               2.0             6.0             9.0       7.0   \n",
       "1         ...               3.0             0.0             9.0       NaN   \n",
       "2         ...              11.0             6.0             9.0       2.0   \n",
       "3         ...               2.0             NaN             9.0       7.0   \n",
       "4         ...               4.0             2.0             9.0       3.0   \n",
       "\n",
       "   ZABEOTYP      PRODUCT_GROUP  CUSTOMER_GROUP ONLINE_PURCHASE ANREDE_KZ  \\\n",
       "0         3  COSMETIC_AND_FOOD     MULTI_BUYER               0         1   \n",
       "1         3               FOOD    SINGLE_BUYER               0         1   \n",
       "2         3  COSMETIC_AND_FOOD     MULTI_BUYER               0         2   \n",
       "3         1           COSMETIC     MULTI_BUYER               0         1   \n",
       "4         1               FOOD     MULTI_BUYER               0         1   \n",
       "\n",
       "  ALTERSKATEGORIE_GROB  \n",
       "0                    4  \n",
       "1                    4  \n",
       "2                    4  \n",
       "3                    4  \n",
       "4                    3  \n",
       "\n",
       "[5 rows x 369 columns]"
      ]
     },
     "execution_count": 6,
     "metadata": {},
     "output_type": "execute_result"
    }
   ],
   "source": [
    "# Overview of customer data\n",
    "customers.head()"
   ]
  },
  {
   "cell_type": "code",
   "execution_count": 7,
   "metadata": {},
   "outputs": [
    {
     "data": {
      "text/html": [
       "<div>\n",
       "<style scoped>\n",
       "    .dataframe tbody tr th:only-of-type {\n",
       "        vertical-align: middle;\n",
       "    }\n",
       "\n",
       "    .dataframe tbody tr th {\n",
       "        vertical-align: top;\n",
       "    }\n",
       "\n",
       "    .dataframe thead th {\n",
       "        text-align: right;\n",
       "    }\n",
       "</style>\n",
       "<table border=\"1\" class=\"dataframe\">\n",
       "  <thead>\n",
       "    <tr style=\"text-align: right;\">\n",
       "      <th></th>\n",
       "      <th>LNR</th>\n",
       "      <th>AGER_TYP</th>\n",
       "      <th>AKT_DAT_KL</th>\n",
       "      <th>ALTER_HH</th>\n",
       "      <th>ALTER_KIND1</th>\n",
       "      <th>ALTER_KIND2</th>\n",
       "      <th>ALTER_KIND3</th>\n",
       "      <th>ALTER_KIND4</th>\n",
       "      <th>ALTERSKATEGORIE_FEIN</th>\n",
       "      <th>ANZ_HAUSHALTE_AKTIV</th>\n",
       "      <th>...</th>\n",
       "      <th>VHN</th>\n",
       "      <th>VK_DHT4A</th>\n",
       "      <th>VK_DISTANZ</th>\n",
       "      <th>VK_ZG11</th>\n",
       "      <th>W_KEIT_KIND_HH</th>\n",
       "      <th>WOHNDAUER_2008</th>\n",
       "      <th>WOHNLAGE</th>\n",
       "      <th>ZABEOTYP</th>\n",
       "      <th>ANREDE_KZ</th>\n",
       "      <th>ALTERSKATEGORIE_GROB</th>\n",
       "    </tr>\n",
       "  </thead>\n",
       "  <tbody>\n",
       "    <tr>\n",
       "      <th>0</th>\n",
       "      <td>910215</td>\n",
       "      <td>-1</td>\n",
       "      <td>NaN</td>\n",
       "      <td>NaN</td>\n",
       "      <td>NaN</td>\n",
       "      <td>NaN</td>\n",
       "      <td>NaN</td>\n",
       "      <td>NaN</td>\n",
       "      <td>NaN</td>\n",
       "      <td>NaN</td>\n",
       "      <td>...</td>\n",
       "      <td>NaN</td>\n",
       "      <td>NaN</td>\n",
       "      <td>NaN</td>\n",
       "      <td>NaN</td>\n",
       "      <td>NaN</td>\n",
       "      <td>NaN</td>\n",
       "      <td>NaN</td>\n",
       "      <td>3</td>\n",
       "      <td>1</td>\n",
       "      <td>2</td>\n",
       "    </tr>\n",
       "    <tr>\n",
       "      <th>1</th>\n",
       "      <td>910220</td>\n",
       "      <td>-1</td>\n",
       "      <td>9.0</td>\n",
       "      <td>0.0</td>\n",
       "      <td>NaN</td>\n",
       "      <td>NaN</td>\n",
       "      <td>NaN</td>\n",
       "      <td>NaN</td>\n",
       "      <td>21.0</td>\n",
       "      <td>11.0</td>\n",
       "      <td>...</td>\n",
       "      <td>4.0</td>\n",
       "      <td>8.0</td>\n",
       "      <td>11.0</td>\n",
       "      <td>10.0</td>\n",
       "      <td>3.0</td>\n",
       "      <td>9.0</td>\n",
       "      <td>4.0</td>\n",
       "      <td>5</td>\n",
       "      <td>2</td>\n",
       "      <td>1</td>\n",
       "    </tr>\n",
       "    <tr>\n",
       "      <th>2</th>\n",
       "      <td>910225</td>\n",
       "      <td>-1</td>\n",
       "      <td>9.0</td>\n",
       "      <td>17.0</td>\n",
       "      <td>NaN</td>\n",
       "      <td>NaN</td>\n",
       "      <td>NaN</td>\n",
       "      <td>NaN</td>\n",
       "      <td>17.0</td>\n",
       "      <td>10.0</td>\n",
       "      <td>...</td>\n",
       "      <td>2.0</td>\n",
       "      <td>9.0</td>\n",
       "      <td>9.0</td>\n",
       "      <td>6.0</td>\n",
       "      <td>3.0</td>\n",
       "      <td>9.0</td>\n",
       "      <td>2.0</td>\n",
       "      <td>5</td>\n",
       "      <td>2</td>\n",
       "      <td>3</td>\n",
       "    </tr>\n",
       "    <tr>\n",
       "      <th>3</th>\n",
       "      <td>910226</td>\n",
       "      <td>2</td>\n",
       "      <td>1.0</td>\n",
       "      <td>13.0</td>\n",
       "      <td>NaN</td>\n",
       "      <td>NaN</td>\n",
       "      <td>NaN</td>\n",
       "      <td>NaN</td>\n",
       "      <td>13.0</td>\n",
       "      <td>1.0</td>\n",
       "      <td>...</td>\n",
       "      <td>0.0</td>\n",
       "      <td>7.0</td>\n",
       "      <td>10.0</td>\n",
       "      <td>11.0</td>\n",
       "      <td>NaN</td>\n",
       "      <td>9.0</td>\n",
       "      <td>7.0</td>\n",
       "      <td>3</td>\n",
       "      <td>2</td>\n",
       "      <td>4</td>\n",
       "    </tr>\n",
       "    <tr>\n",
       "      <th>4</th>\n",
       "      <td>910241</td>\n",
       "      <td>-1</td>\n",
       "      <td>1.0</td>\n",
       "      <td>20.0</td>\n",
       "      <td>NaN</td>\n",
       "      <td>NaN</td>\n",
       "      <td>NaN</td>\n",
       "      <td>NaN</td>\n",
       "      <td>14.0</td>\n",
       "      <td>3.0</td>\n",
       "      <td>...</td>\n",
       "      <td>2.0</td>\n",
       "      <td>3.0</td>\n",
       "      <td>5.0</td>\n",
       "      <td>4.0</td>\n",
       "      <td>2.0</td>\n",
       "      <td>9.0</td>\n",
       "      <td>3.0</td>\n",
       "      <td>4</td>\n",
       "      <td>1</td>\n",
       "      <td>3</td>\n",
       "    </tr>\n",
       "  </tbody>\n",
       "</table>\n",
       "<p>5 rows × 366 columns</p>\n",
       "</div>"
      ],
      "text/plain": [
       "      LNR  AGER_TYP  AKT_DAT_KL  ALTER_HH  ALTER_KIND1  ALTER_KIND2  \\\n",
       "0  910215        -1         NaN       NaN          NaN          NaN   \n",
       "1  910220        -1         9.0       0.0          NaN          NaN   \n",
       "2  910225        -1         9.0      17.0          NaN          NaN   \n",
       "3  910226         2         1.0      13.0          NaN          NaN   \n",
       "4  910241        -1         1.0      20.0          NaN          NaN   \n",
       "\n",
       "   ALTER_KIND3  ALTER_KIND4  ALTERSKATEGORIE_FEIN  ANZ_HAUSHALTE_AKTIV  \\\n",
       "0          NaN          NaN                   NaN                  NaN   \n",
       "1          NaN          NaN                  21.0                 11.0   \n",
       "2          NaN          NaN                  17.0                 10.0   \n",
       "3          NaN          NaN                  13.0                  1.0   \n",
       "4          NaN          NaN                  14.0                  3.0   \n",
       "\n",
       "          ...           VHN  VK_DHT4A  VK_DISTANZ  VK_ZG11  W_KEIT_KIND_HH  \\\n",
       "0         ...           NaN       NaN         NaN      NaN             NaN   \n",
       "1         ...           4.0       8.0        11.0     10.0             3.0   \n",
       "2         ...           2.0       9.0         9.0      6.0             3.0   \n",
       "3         ...           0.0       7.0        10.0     11.0             NaN   \n",
       "4         ...           2.0       3.0         5.0      4.0             2.0   \n",
       "\n",
       "   WOHNDAUER_2008  WOHNLAGE ZABEOTYP ANREDE_KZ ALTERSKATEGORIE_GROB  \n",
       "0             NaN       NaN        3         1                    2  \n",
       "1             9.0       4.0        5         2                    1  \n",
       "2             9.0       2.0        5         2                    3  \n",
       "3             9.0       7.0        3         2                    4  \n",
       "4             9.0       3.0        4         1                    3  \n",
       "\n",
       "[5 rows x 366 columns]"
      ]
     },
     "execution_count": 7,
     "metadata": {},
     "output_type": "execute_result"
    }
   ],
   "source": [
    "# Overview of azdias data\n",
    "azdias.head()"
   ]
  },
  {
   "cell_type": "code",
   "execution_count": 8,
   "metadata": {},
   "outputs": [
    {
     "data": {
      "text/html": [
       "<div>\n",
       "<style scoped>\n",
       "    .dataframe tbody tr th:only-of-type {\n",
       "        vertical-align: middle;\n",
       "    }\n",
       "\n",
       "    .dataframe tbody tr th {\n",
       "        vertical-align: top;\n",
       "    }\n",
       "\n",
       "    .dataframe thead th {\n",
       "        text-align: right;\n",
       "    }\n",
       "</style>\n",
       "<table border=\"1\" class=\"dataframe\">\n",
       "  <thead>\n",
       "    <tr style=\"text-align: right;\">\n",
       "      <th></th>\n",
       "      <th>attribute</th>\n",
       "      <th>information_level</th>\n",
       "      <th>type</th>\n",
       "      <th>missing_or_unknown</th>\n",
       "    </tr>\n",
       "  </thead>\n",
       "  <tbody>\n",
       "    <tr>\n",
       "      <th>0</th>\n",
       "      <td>AGER_TYP</td>\n",
       "      <td>person</td>\n",
       "      <td>categorical</td>\n",
       "      <td>[-1,0]</td>\n",
       "    </tr>\n",
       "    <tr>\n",
       "      <th>1</th>\n",
       "      <td>ALTERSKATEGORIE_GROB</td>\n",
       "      <td>person</td>\n",
       "      <td>ordinal</td>\n",
       "      <td>[-1,0,9]</td>\n",
       "    </tr>\n",
       "    <tr>\n",
       "      <th>2</th>\n",
       "      <td>ANREDE_KZ</td>\n",
       "      <td>person</td>\n",
       "      <td>categorical</td>\n",
       "      <td>[-1,0]</td>\n",
       "    </tr>\n",
       "    <tr>\n",
       "      <th>3</th>\n",
       "      <td>CJT_GESAMTTYP</td>\n",
       "      <td>person</td>\n",
       "      <td>categorical</td>\n",
       "      <td>[0]</td>\n",
       "    </tr>\n",
       "    <tr>\n",
       "      <th>4</th>\n",
       "      <td>FINANZ_MINIMALIST</td>\n",
       "      <td>person</td>\n",
       "      <td>ordinal</td>\n",
       "      <td>[-1]</td>\n",
       "    </tr>\n",
       "  </tbody>\n",
       "</table>\n",
       "</div>"
      ],
      "text/plain": [
       "              attribute information_level         type missing_or_unknown\n",
       "0              AGER_TYP            person  categorical             [-1,0]\n",
       "1  ALTERSKATEGORIE_GROB            person      ordinal           [-1,0,9]\n",
       "2             ANREDE_KZ            person  categorical             [-1,0]\n",
       "3         CJT_GESAMTTYP            person  categorical                [0]\n",
       "4     FINANZ_MINIMALIST            person      ordinal               [-1]"
      ]
     },
     "execution_count": 8,
     "metadata": {},
     "output_type": "execute_result"
    }
   ],
   "source": [
    "# Overview of feature summary\n",
    "feature_summary.head()"
   ]
  },
  {
   "cell_type": "code",
   "execution_count": 9,
   "metadata": {},
   "outputs": [
    {
     "data": {
      "text/plain": [
       "('CAMEO_DEUG_2015', 'CAMEO_INTL_2015')"
      ]
     },
     "execution_count": 9,
     "metadata": {},
     "output_type": "execute_result"
    }
   ],
   "source": [
    "# Find names of problematic 18th and 19th columns\n",
    "customers.columns[18], customers.columns[19]\n",
    "# According to the schema, these columns are the New German CAMEO Typology established together with Call Credit in late 2015"
   ]
  },
  {
   "cell_type": "code",
   "execution_count": 10,
   "metadata": {},
   "outputs": [],
   "source": [
    "# Change columns 18 and 19 to type float\n",
    "customers['CAMEO_DEUG_2015'] = pd.to_numeric(customers['CAMEO_DEUG_2015'], errors='coerce')\n",
    "customers['CAMEO_INTL_2015'] = pd.to_numeric(customers['CAMEO_INTL_2015'], errors='coerce')\n",
    "azdias['CAMEO_DEUG_2015'] = pd.to_numeric(azdias['CAMEO_DEUG_2015'], errors='coerce')\n",
    "azdias['CAMEO_INTL_2015'] = pd.to_numeric(azdias['CAMEO_INTL_2015'], errors='coerce')"
   ]
  },
  {
   "cell_type": "code",
   "execution_count": 11,
   "metadata": {},
   "outputs": [
    {
     "data": {
      "text/plain": [
       "((191652, 369), (891221, 366), (85, 4))"
      ]
     },
     "execution_count": 11,
     "metadata": {},
     "output_type": "execute_result"
    }
   ],
   "source": [
    "# Explore dimensions of datasets\n",
    "customers.shape, azdias.shape, feature_summary.shape"
   ]
  },
  {
   "cell_type": "markdown",
   "metadata": {},
   "source": [
    "I have detailed information about 85 columns thanks to the feature summary datafile. The customers and azdias datasets have 284 and 281 columns respectively. \n",
    "For similicity and to reduce processing power, I will cut these datasets down to just the columns for which I have detailed information"
   ]
  },
  {
   "cell_type": "code",
   "execution_count": 12,
   "metadata": {},
   "outputs": [],
   "source": [
    "# Create list of columns for which I have detailed information\n",
    "cols = list(feature_summary['attribute'])\n",
    "cols.append('LNR')\n",
    "# Add additional customer columns to the list\n",
    "cust_cols = ['CUSTOMER_GROUP', 'ONLINE_PURCHASE', 'PRODUCT_GROUP']\n",
    "cust_cols = cols + cust_cols"
   ]
  },
  {
   "cell_type": "code",
   "execution_count": 13,
   "metadata": {},
   "outputs": [],
   "source": [
    "# Cut down customer and azdias datasets to just columns found in feature_summary\n",
    "customers = customers[cust_cols]\n",
    "azdias = azdias[cols]"
   ]
  },
  {
   "cell_type": "code",
   "execution_count": 14,
   "metadata": {},
   "outputs": [
    {
     "data": {
      "text/plain": [
       "KK_KUNDENTYP    58.41\n",
       "KBA05_ANTG3     29.21\n",
       "KBA05_BAUMAX    29.21\n",
       "KBA05_GBZ       29.21\n",
       "KBA05_ANTG2     29.21\n",
       "KBA05_ANTG1     29.21\n",
       "MOBI_REGIO      29.21\n",
       "KBA05_ANTG4     29.21\n",
       "REGIOTYP        28.31\n",
       "KKK             28.31\n",
       "dtype: float64"
      ]
     },
     "execution_count": 14,
     "metadata": {},
     "output_type": "execute_result"
    }
   ],
   "source": [
    "round(customers.isnull().sum(axis = 0)/customers.shape[0]*100,2).sort_values(ascending = False).head(10)"
   ]
  },
  {
   "cell_type": "code",
   "execution_count": 15,
   "metadata": {},
   "outputs": [
    {
     "data": {
      "text/plain": [
       "[-1]        26\n",
       "[-1,9]      17\n",
       "[-1,0]      16\n",
       "[0]         12\n",
       "[]          10\n",
       "[-1,XX]      1\n",
       "[-1,X]       1\n",
       "[XX]         1\n",
       "[-1,0,9]     1\n",
       "Name: missing_or_unknown, dtype: int64"
      ]
     },
     "execution_count": 15,
     "metadata": {},
     "output_type": "execute_result"
    }
   ],
   "source": [
    "# The feature_summary file contains some information on how missing fields are represented in different columns\n",
    "feature_summary['missing_or_unknown'].value_counts()"
   ]
  },
  {
   "cell_type": "code",
   "execution_count": 16,
   "metadata": {},
   "outputs": [],
   "source": [
    "# Find columns with different missing value coing\n",
    "neg_1_cols = feature_summary[feature_summary['missing_or_unknown'].str.contains('-1')]['attribute']\n",
    "zero_cols = feature_summary[feature_summary['missing_or_unknown'].str.contains('0')]['attribute']\n",
    "nine_cols = feature_summary[feature_summary['missing_or_unknown'].str.contains('9')]['attribute']\n",
    "xx_cols = feature_summary[feature_summary['missing_or_unknown'].str.contains('XX')]['attribute']\n",
    "x_cols = feature_summary[feature_summary['missing_or_unknown'].str.contains('X')]['attribute']"
   ]
  },
  {
   "cell_type": "code",
   "execution_count": 17,
   "metadata": {},
   "outputs": [],
   "source": [
    "# Replace -1 with NA for specified columns\n",
    "customers[neg_1_cols] = customers.loc[:,neg_1_cols].replace({-1:np.nan})\n",
    "azdias[neg_1_cols] = azdias.loc[:,neg_1_cols].replace({-1:np.nan})"
   ]
  },
  {
   "cell_type": "code",
   "execution_count": 18,
   "metadata": {},
   "outputs": [],
   "source": [
    "# Replace 0 with NA for specified columns\n",
    "customers[zero_cols] = customers.loc[:,zero_cols].replace({0:np.nan})\n",
    "azdias[zero_cols] = azdias.loc[:,zero_cols].replace({0:np.nan})"
   ]
  },
  {
   "cell_type": "code",
   "execution_count": 19,
   "metadata": {},
   "outputs": [],
   "source": [
    "# Replace 9 with NA for specified columns\n",
    "customers[nine_cols] = customers.loc[:,nine_cols].replace({9:np.nan})\n",
    "azdias[nine_cols] = azdias.loc[:,nine_cols].replace({9:np.nan})"
   ]
  },
  {
   "cell_type": "code",
   "execution_count": 20,
   "metadata": {},
   "outputs": [],
   "source": [
    "# Replace XX with NA for specified columns\n",
    "customers[xx_cols] = customers.loc[:,xx_cols].replace({'XX':np.nan})\n",
    "azdias[xx_cols] = azdias.loc[:,xx_cols].replace({'XX':np.nan})"
   ]
  },
  {
   "cell_type": "code",
   "execution_count": 21,
   "metadata": {},
   "outputs": [],
   "source": [
    "# Replace X with NA for specified columns\n",
    "customers[x_cols] = customers.loc[:,x_cols].replace({'X':np.nan})\n",
    "azdias[x_cols] = azdias.loc[:,x_cols].replace({'X':np.nan})"
   ]
  },
  {
   "cell_type": "code",
   "execution_count": 22,
   "metadata": {},
   "outputs": [
    {
     "data": {
      "text/plain": [
       "Text(0.5,0,'Columns in dataset')"
      ]
     },
     "execution_count": 22,
     "metadata": {},
     "output_type": "execute_result"
    },
    {
     "data": {
      "image/png": "[encoded data removed]",
      "text/plain": [
       "<Figure size 1440x720 with 1 Axes>"
      ]
     },
     "metadata": {},
     "output_type": "display_data"
    }
   ],
   "source": [
    "# Find and visualise columns with most missing data in customers dataset\n",
    "round(customers.isnull().sum(axis = 0)/customers.shape[0]*100,2).sort_values(ascending = False).head(20).plot(kind = 'bar', figsize=(20,10))\n",
    "plt.title(\" % of missing values per column in customers dataset\", fontdict={'fontsize': 16})\n",
    "plt.ylabel('% of missing values', fontdict={'fontsize': 12})\n",
    "plt.xlabel('Columns in dataset', fontdict={'fontsize': 12})"
   ]
  },
  {
   "cell_type": "code",
   "execution_count": 23,
   "metadata": {},
   "outputs": [
    {
     "data": {
      "text/plain": [
       "Text(0.5,0,'columns in dataset')"
      ]
     },
     "execution_count": 23,
     "metadata": {},
     "output_type": "execute_result"
    },
    {
     "data": {
      "image/png": "[encoded data removed]",
      "text/plain": [
       "<Figure size 1440x720 with 1 Axes>"
      ]
     },
     "metadata": {},
     "output_type": "display_data"
    }
   ],
   "source": [
    "# Find columns with most missing data in azdias dataset\n",
    "round(azdias.isnull().sum(axis = 0)/azdias.shape[0]*100,2).sort_values(ascending = False).head(20).plot(kind = 'bar', figsize=(20,10))\n",
    "plt.title(\" % of missing values per column in azdias dataset\", fontdict={'fontsize': 16})\n",
    "plt.ylabel('% of missing values', fontdict={'fontsize': 12})\n",
    "plt.xlabel('columns in dataset', fontdict={'fontsize': 12})"
   ]
  },
  {
   "cell_type": "code",
   "execution_count": 24,
   "metadata": {},
   "outputs": [],
   "source": [
    "# Remove columns with a high proportion of missing data\n",
    "# Columns which have >50% missing data in datasets\n",
    "empty_cols_cust = list(customers.columns[customers.isnull().sum(axis = 0)/customers.shape[0]*100 > 50])\n",
    "empty_cols_az = list(azdias.columns[azdias.isnull().sum(axis = 0)/azdias.shape[0]*100 > 50])\n",
    "\n",
    "# Combine list of columns\n",
    "empty_cols = set(empty_cols_cust + empty_cols_az)\n",
    "\n",
    "# Remove columns from datasets\n",
    "customers = customers.drop(columns = empty_cols, axis=1)\n",
    "azdias = azdias.drop(columns = empty_cols, axis=1)\n",
    "# Remove thes rows from feature_summary dataset\n",
    "feature_summary = feature_summary.drop(feature_summary[feature_summary['attribute'].isin(empty_cols)].index, axis=0)"
   ]
  },
  {
   "cell_type": "code",
   "execution_count": 25,
   "metadata": {},
   "outputs": [],
   "source": [
    "# Remove rows with a high proportion of missing data (>80%)\n",
    "empty_rows = customers[customers.isnull().sum(axis = 1)/customers.shape[1]*100 > 80].index\n",
    "customers = customers.drop(empty_rows, axis=0)\n",
    "\n",
    "empty_rows = azdias[azdias.isnull().sum(axis = 1)/azdias.shape[1]*100 > 80].index\n",
    "azdias = azdias.drop(empty_rows, axis=0)"
   ]
  },
  {
   "cell_type": "code",
   "execution_count": 26,
   "metadata": {},
   "outputs": [
    {
     "data": {
      "text/plain": [
       "Text(0.5,0,'Field datatypes')"
      ]
     },
     "execution_count": 26,
     "metadata": {},
     "output_type": "execute_result"
    },
    {
     "data": {
      "image/png": "[encoded data removed]",
      "text/plain": [
       "<Figure size 720x576 with 1 Axes>"
      ]
     },
     "metadata": {},
     "output_type": "display_data"
    }
   ],
   "source": [
    "# Explore datatypes so that I know the best imputation method to use\n",
    "# There are 5 types of data in the dataset \n",
    "feature_summary['type'].value_counts().plot(kind = 'bar', figsize=(10,8))\n",
    "plt.title(\"Count of columns by field datatype\", fontdict={'fontsize': 16})\n",
    "plt.ylabel('Number of columns', fontdict={'fontsize': 16})\n",
    "plt.xlabel('Field datatypes', fontdict={'fontsize': 12})"
   ]
  },
  {
   "cell_type": "code",
   "execution_count": 27,
   "metadata": {},
   "outputs": [
    {
     "data": {
      "text/html": [
       "<div>\n",
       "<style scoped>\n",
       "    .dataframe tbody tr th:only-of-type {\n",
       "        vertical-align: middle;\n",
       "    }\n",
       "\n",
       "    .dataframe tbody tr th {\n",
       "        vertical-align: top;\n",
       "    }\n",
       "\n",
       "    .dataframe thead th {\n",
       "        text-align: right;\n",
       "    }\n",
       "</style>\n",
       "<table border=\"1\" class=\"dataframe\">\n",
       "  <thead>\n",
       "    <tr style=\"text-align: right;\">\n",
       "      <th></th>\n",
       "      <th>ALTERSKATEGORIE_GROB</th>\n",
       "      <th>FINANZ_MINIMALIST</th>\n",
       "      <th>FINANZ_SPARER</th>\n",
       "      <th>FINANZ_VORSORGER</th>\n",
       "      <th>FINANZ_ANLEGER</th>\n",
       "      <th>FINANZ_UNAUFFAELLIGER</th>\n",
       "      <th>FINANZ_HAUSBAUER</th>\n",
       "      <th>HEALTH_TYP</th>\n",
       "      <th>RETOURTYP_BK_S</th>\n",
       "      <th>SEMIO_SOZ</th>\n",
       "      <th>...</th>\n",
       "      <th>REGIOTYP</th>\n",
       "      <th>PLZ8_ANTG1</th>\n",
       "      <th>PLZ8_ANTG2</th>\n",
       "      <th>PLZ8_ANTG3</th>\n",
       "      <th>PLZ8_ANTG4</th>\n",
       "      <th>PLZ8_HHZ</th>\n",
       "      <th>PLZ8_GBZ</th>\n",
       "      <th>ARBEIT</th>\n",
       "      <th>ORTSGR_KLS9</th>\n",
       "      <th>RELAT_AB</th>\n",
       "    </tr>\n",
       "  </thead>\n",
       "  <tbody>\n",
       "    <tr>\n",
       "      <th>0</th>\n",
       "      <td>4.0</td>\n",
       "      <td>5.0</td>\n",
       "      <td>1.0</td>\n",
       "      <td>5.0</td>\n",
       "      <td>1.0</td>\n",
       "      <td>2.0</td>\n",
       "      <td>2.0</td>\n",
       "      <td>1.0</td>\n",
       "      <td>5.0</td>\n",
       "      <td>6.0</td>\n",
       "      <td>...</td>\n",
       "      <td>1.0</td>\n",
       "      <td>3.0</td>\n",
       "      <td>3.0</td>\n",
       "      <td>1.0</td>\n",
       "      <td>0.0</td>\n",
       "      <td>5.0</td>\n",
       "      <td>5.0</td>\n",
       "      <td>1.0</td>\n",
       "      <td>2.0</td>\n",
       "      <td>1.0</td>\n",
       "    </tr>\n",
       "    <tr>\n",
       "      <th>1</th>\n",
       "      <td>4.0</td>\n",
       "      <td>5.0</td>\n",
       "      <td>1.0</td>\n",
       "      <td>5.0</td>\n",
       "      <td>1.0</td>\n",
       "      <td>3.0</td>\n",
       "      <td>2.0</td>\n",
       "      <td>1.0</td>\n",
       "      <td>NaN</td>\n",
       "      <td>3.0</td>\n",
       "      <td>...</td>\n",
       "      <td>NaN</td>\n",
       "      <td>NaN</td>\n",
       "      <td>NaN</td>\n",
       "      <td>NaN</td>\n",
       "      <td>NaN</td>\n",
       "      <td>NaN</td>\n",
       "      <td>NaN</td>\n",
       "      <td>NaN</td>\n",
       "      <td>NaN</td>\n",
       "      <td>NaN</td>\n",
       "    </tr>\n",
       "    <tr>\n",
       "      <th>2</th>\n",
       "      <td>4.0</td>\n",
       "      <td>5.0</td>\n",
       "      <td>1.0</td>\n",
       "      <td>5.0</td>\n",
       "      <td>1.0</td>\n",
       "      <td>4.0</td>\n",
       "      <td>4.0</td>\n",
       "      <td>2.0</td>\n",
       "      <td>5.0</td>\n",
       "      <td>2.0</td>\n",
       "      <td>...</td>\n",
       "      <td>7.0</td>\n",
       "      <td>2.0</td>\n",
       "      <td>3.0</td>\n",
       "      <td>3.0</td>\n",
       "      <td>1.0</td>\n",
       "      <td>3.0</td>\n",
       "      <td>2.0</td>\n",
       "      <td>3.0</td>\n",
       "      <td>5.0</td>\n",
       "      <td>3.0</td>\n",
       "    </tr>\n",
       "    <tr>\n",
       "      <th>3</th>\n",
       "      <td>4.0</td>\n",
       "      <td>5.0</td>\n",
       "      <td>1.0</td>\n",
       "      <td>5.0</td>\n",
       "      <td>2.0</td>\n",
       "      <td>1.0</td>\n",
       "      <td>2.0</td>\n",
       "      <td>2.0</td>\n",
       "      <td>3.0</td>\n",
       "      <td>6.0</td>\n",
       "      <td>...</td>\n",
       "      <td>6.0</td>\n",
       "      <td>3.0</td>\n",
       "      <td>2.0</td>\n",
       "      <td>1.0</td>\n",
       "      <td>0.0</td>\n",
       "      <td>3.0</td>\n",
       "      <td>4.0</td>\n",
       "      <td>1.0</td>\n",
       "      <td>3.0</td>\n",
       "      <td>1.0</td>\n",
       "    </tr>\n",
       "    <tr>\n",
       "      <th>4</th>\n",
       "      <td>3.0</td>\n",
       "      <td>3.0</td>\n",
       "      <td>1.0</td>\n",
       "      <td>4.0</td>\n",
       "      <td>4.0</td>\n",
       "      <td>5.0</td>\n",
       "      <td>2.0</td>\n",
       "      <td>3.0</td>\n",
       "      <td>5.0</td>\n",
       "      <td>4.0</td>\n",
       "      <td>...</td>\n",
       "      <td>7.0</td>\n",
       "      <td>2.0</td>\n",
       "      <td>4.0</td>\n",
       "      <td>2.0</td>\n",
       "      <td>1.0</td>\n",
       "      <td>3.0</td>\n",
       "      <td>3.0</td>\n",
       "      <td>3.0</td>\n",
       "      <td>5.0</td>\n",
       "      <td>1.0</td>\n",
       "    </tr>\n",
       "  </tbody>\n",
       "</table>\n",
       "<p>5 rows × 49 columns</p>\n",
       "</div>"
      ],
      "text/plain": [
       "   ALTERSKATEGORIE_GROB  FINANZ_MINIMALIST  FINANZ_SPARER  FINANZ_VORSORGER  \\\n",
       "0                   4.0                5.0            1.0               5.0   \n",
       "1                   4.0                5.0            1.0               5.0   \n",
       "2                   4.0                5.0            1.0               5.0   \n",
       "3                   4.0                5.0            1.0               5.0   \n",
       "4                   3.0                3.0            1.0               4.0   \n",
       "\n",
       "   FINANZ_ANLEGER  FINANZ_UNAUFFAELLIGER  FINANZ_HAUSBAUER  HEALTH_TYP  \\\n",
       "0             1.0                    2.0               2.0         1.0   \n",
       "1             1.0                    3.0               2.0         1.0   \n",
       "2             1.0                    4.0               4.0         2.0   \n",
       "3             2.0                    1.0               2.0         2.0   \n",
       "4             4.0                    5.0               2.0         3.0   \n",
       "\n",
       "   RETOURTYP_BK_S  SEMIO_SOZ    ...     REGIOTYP  PLZ8_ANTG1  PLZ8_ANTG2  \\\n",
       "0             5.0        6.0    ...          1.0         3.0         3.0   \n",
       "1             NaN        3.0    ...          NaN         NaN         NaN   \n",
       "2             5.0        2.0    ...          7.0         2.0         3.0   \n",
       "3             3.0        6.0    ...          6.0         3.0         2.0   \n",
       "4             5.0        4.0    ...          7.0         2.0         4.0   \n",
       "\n",
       "   PLZ8_ANTG3  PLZ8_ANTG4  PLZ8_HHZ  PLZ8_GBZ  ARBEIT  ORTSGR_KLS9  RELAT_AB  \n",
       "0         1.0         0.0       5.0       5.0     1.0          2.0       1.0  \n",
       "1         NaN         NaN       NaN       NaN     NaN          NaN       NaN  \n",
       "2         3.0         1.0       3.0       2.0     3.0          5.0       3.0  \n",
       "3         1.0         0.0       3.0       4.0     1.0          3.0       1.0  \n",
       "4         2.0         1.0       3.0       3.0     3.0          5.0       1.0  \n",
       "\n",
       "[5 rows x 49 columns]"
      ]
     },
     "execution_count": 27,
     "metadata": {},
     "output_type": "execute_result"
    }
   ],
   "source": [
    "# 49 columns are ordinal\n",
    "ordinal_cols = list(feature_summary[feature_summary['type'] == 'ordinal']['attribute'])\n",
    "customers[ordinal_cols].head()"
   ]
  },
  {
   "cell_type": "code",
   "execution_count": 28,
   "metadata": {},
   "outputs": [
    {
     "data": {
      "text/html": [
       "<div>\n",
       "<style scoped>\n",
       "    .dataframe tbody tr th:only-of-type {\n",
       "        vertical-align: middle;\n",
       "    }\n",
       "\n",
       "    .dataframe tbody tr th {\n",
       "        vertical-align: top;\n",
       "    }\n",
       "\n",
       "    .dataframe thead th {\n",
       "        text-align: right;\n",
       "    }\n",
       "</style>\n",
       "<table border=\"1\" class=\"dataframe\">\n",
       "  <thead>\n",
       "    <tr style=\"text-align: right;\">\n",
       "      <th></th>\n",
       "      <th>ANREDE_KZ</th>\n",
       "      <th>CJT_GESAMTTYP</th>\n",
       "      <th>FINANZTYP</th>\n",
       "      <th>GFK_URLAUBERTYP</th>\n",
       "      <th>GREEN_AVANTGARDE</th>\n",
       "      <th>LP_FAMILIE_FEIN</th>\n",
       "      <th>LP_FAMILIE_GROB</th>\n",
       "      <th>LP_STATUS_FEIN</th>\n",
       "      <th>LP_STATUS_GROB</th>\n",
       "      <th>NATIONALITAET_KZ</th>\n",
       "      <th>SHOPPER_TYP</th>\n",
       "      <th>SOHO_KZ</th>\n",
       "      <th>VERS_TYP</th>\n",
       "      <th>ZABEOTYP</th>\n",
       "      <th>GEBAEUDETYP</th>\n",
       "      <th>OST_WEST_KZ</th>\n",
       "      <th>CAMEO_DEUG_2015</th>\n",
       "      <th>CAMEO_DEU_2015</th>\n",
       "    </tr>\n",
       "  </thead>\n",
       "  <tbody>\n",
       "    <tr>\n",
       "      <th>0</th>\n",
       "      <td>1.0</td>\n",
       "      <td>5.0</td>\n",
       "      <td>2.0</td>\n",
       "      <td>4.0</td>\n",
       "      <td>1</td>\n",
       "      <td>2.0</td>\n",
       "      <td>2.0</td>\n",
       "      <td>10.0</td>\n",
       "      <td>5.0</td>\n",
       "      <td>1.0</td>\n",
       "      <td>3.0</td>\n",
       "      <td>0.0</td>\n",
       "      <td>1.0</td>\n",
       "      <td>3.0</td>\n",
       "      <td>1.0</td>\n",
       "      <td>W</td>\n",
       "      <td>1.0</td>\n",
       "      <td>1A</td>\n",
       "    </tr>\n",
       "    <tr>\n",
       "      <th>1</th>\n",
       "      <td>1.0</td>\n",
       "      <td>NaN</td>\n",
       "      <td>2.0</td>\n",
       "      <td>NaN</td>\n",
       "      <td>0</td>\n",
       "      <td>NaN</td>\n",
       "      <td>NaN</td>\n",
       "      <td>NaN</td>\n",
       "      <td>NaN</td>\n",
       "      <td>1.0</td>\n",
       "      <td>3.0</td>\n",
       "      <td>0.0</td>\n",
       "      <td>1.0</td>\n",
       "      <td>3.0</td>\n",
       "      <td>NaN</td>\n",
       "      <td>NaN</td>\n",
       "      <td>NaN</td>\n",
       "      <td>NaN</td>\n",
       "    </tr>\n",
       "    <tr>\n",
       "      <th>2</th>\n",
       "      <td>2.0</td>\n",
       "      <td>2.0</td>\n",
       "      <td>2.0</td>\n",
       "      <td>3.0</td>\n",
       "      <td>1</td>\n",
       "      <td>1.0</td>\n",
       "      <td>1.0</td>\n",
       "      <td>10.0</td>\n",
       "      <td>5.0</td>\n",
       "      <td>1.0</td>\n",
       "      <td>1.0</td>\n",
       "      <td>0.0</td>\n",
       "      <td>2.0</td>\n",
       "      <td>3.0</td>\n",
       "      <td>8.0</td>\n",
       "      <td>W</td>\n",
       "      <td>5.0</td>\n",
       "      <td>5D</td>\n",
       "    </tr>\n",
       "    <tr>\n",
       "      <th>3</th>\n",
       "      <td>1.0</td>\n",
       "      <td>2.0</td>\n",
       "      <td>6.0</td>\n",
       "      <td>10.0</td>\n",
       "      <td>0</td>\n",
       "      <td>NaN</td>\n",
       "      <td>NaN</td>\n",
       "      <td>9.0</td>\n",
       "      <td>4.0</td>\n",
       "      <td>1.0</td>\n",
       "      <td>0.0</td>\n",
       "      <td>0.0</td>\n",
       "      <td>1.0</td>\n",
       "      <td>1.0</td>\n",
       "      <td>2.0</td>\n",
       "      <td>W</td>\n",
       "      <td>4.0</td>\n",
       "      <td>4C</td>\n",
       "    </tr>\n",
       "    <tr>\n",
       "      <th>4</th>\n",
       "      <td>1.0</td>\n",
       "      <td>6.0</td>\n",
       "      <td>2.0</td>\n",
       "      <td>2.0</td>\n",
       "      <td>0</td>\n",
       "      <td>10.0</td>\n",
       "      <td>5.0</td>\n",
       "      <td>1.0</td>\n",
       "      <td>1.0</td>\n",
       "      <td>1.0</td>\n",
       "      <td>1.0</td>\n",
       "      <td>0.0</td>\n",
       "      <td>2.0</td>\n",
       "      <td>1.0</td>\n",
       "      <td>3.0</td>\n",
       "      <td>W</td>\n",
       "      <td>7.0</td>\n",
       "      <td>7B</td>\n",
       "    </tr>\n",
       "  </tbody>\n",
       "</table>\n",
       "</div>"
      ],
      "text/plain": [
       "   ANREDE_KZ  CJT_GESAMTTYP  FINANZTYP  GFK_URLAUBERTYP  GREEN_AVANTGARDE  \\\n",
       "0        1.0            5.0        2.0              4.0                 1   \n",
       "1        1.0            NaN        2.0              NaN                 0   \n",
       "2        2.0            2.0        2.0              3.0                 1   \n",
       "3        1.0            2.0        6.0             10.0                 0   \n",
       "4        1.0            6.0        2.0              2.0                 0   \n",
       "\n",
       "   LP_FAMILIE_FEIN  LP_FAMILIE_GROB  LP_STATUS_FEIN  LP_STATUS_GROB  \\\n",
       "0              2.0              2.0            10.0             5.0   \n",
       "1              NaN              NaN             NaN             NaN   \n",
       "2              1.0              1.0            10.0             5.0   \n",
       "3              NaN              NaN             9.0             4.0   \n",
       "4             10.0              5.0             1.0             1.0   \n",
       "\n",
       "   NATIONALITAET_KZ  SHOPPER_TYP  SOHO_KZ  VERS_TYP  ZABEOTYP  GEBAEUDETYP  \\\n",
       "0               1.0          3.0      0.0       1.0       3.0          1.0   \n",
       "1               1.0          3.0      0.0       1.0       3.0          NaN   \n",
       "2               1.0          1.0      0.0       2.0       3.0          8.0   \n",
       "3               1.0          0.0      0.0       1.0       1.0          2.0   \n",
       "4               1.0          1.0      0.0       2.0       1.0          3.0   \n",
       "\n",
       "  OST_WEST_KZ  CAMEO_DEUG_2015 CAMEO_DEU_2015  \n",
       "0           W              1.0             1A  \n",
       "1         NaN              NaN            NaN  \n",
       "2           W              5.0             5D  \n",
       "3           W              4.0             4C  \n",
       "4           W              7.0             7B  "
      ]
     },
     "execution_count": 28,
     "metadata": {},
     "output_type": "execute_result"
    }
   ],
   "source": [
    "# 18 columns are categorical\n",
    "categorical_cols = list(feature_summary[feature_summary['type'] == 'categorical']['attribute'])\n",
    "customers[categorical_cols].head()"
   ]
  },
  {
   "cell_type": "code",
   "execution_count": 29,
   "metadata": {},
   "outputs": [
    {
     "data": {
      "text/html": [
       "<div>\n",
       "<style scoped>\n",
       "    .dataframe tbody tr th:only-of-type {\n",
       "        vertical-align: middle;\n",
       "    }\n",
       "\n",
       "    .dataframe tbody tr th {\n",
       "        vertical-align: top;\n",
       "    }\n",
       "\n",
       "    .dataframe thead th {\n",
       "        text-align: right;\n",
       "    }\n",
       "</style>\n",
       "<table border=\"1\" class=\"dataframe\">\n",
       "  <thead>\n",
       "    <tr style=\"text-align: right;\">\n",
       "      <th></th>\n",
       "      <th>GEBURTSJAHR</th>\n",
       "      <th>ANZ_PERSONEN</th>\n",
       "      <th>ANZ_TITEL</th>\n",
       "      <th>ANZ_HAUSHALTE_AKTIV</th>\n",
       "      <th>ANZ_HH_TITEL</th>\n",
       "      <th>MIN_GEBAEUDEJAHR</th>\n",
       "      <th>KBA13_ANZAHL_PKW</th>\n",
       "    </tr>\n",
       "  </thead>\n",
       "  <tbody>\n",
       "    <tr>\n",
       "      <th>0</th>\n",
       "      <td>NaN</td>\n",
       "      <td>2.0</td>\n",
       "      <td>0.0</td>\n",
       "      <td>1.0</td>\n",
       "      <td>0.0</td>\n",
       "      <td>1992.0</td>\n",
       "      <td>1201.0</td>\n",
       "    </tr>\n",
       "    <tr>\n",
       "      <th>1</th>\n",
       "      <td>NaN</td>\n",
       "      <td>3.0</td>\n",
       "      <td>0.0</td>\n",
       "      <td>NaN</td>\n",
       "      <td>NaN</td>\n",
       "      <td>NaN</td>\n",
       "      <td>NaN</td>\n",
       "    </tr>\n",
       "    <tr>\n",
       "      <th>2</th>\n",
       "      <td>NaN</td>\n",
       "      <td>1.0</td>\n",
       "      <td>0.0</td>\n",
       "      <td>1.0</td>\n",
       "      <td>0.0</td>\n",
       "      <td>1992.0</td>\n",
       "      <td>433.0</td>\n",
       "    </tr>\n",
       "    <tr>\n",
       "      <th>3</th>\n",
       "      <td>NaN</td>\n",
       "      <td>0.0</td>\n",
       "      <td>0.0</td>\n",
       "      <td>NaN</td>\n",
       "      <td>NaN</td>\n",
       "      <td>1992.0</td>\n",
       "      <td>755.0</td>\n",
       "    </tr>\n",
       "    <tr>\n",
       "      <th>4</th>\n",
       "      <td>1960.0</td>\n",
       "      <td>4.0</td>\n",
       "      <td>0.0</td>\n",
       "      <td>7.0</td>\n",
       "      <td>0.0</td>\n",
       "      <td>1992.0</td>\n",
       "      <td>513.0</td>\n",
       "    </tr>\n",
       "  </tbody>\n",
       "</table>\n",
       "</div>"
      ],
      "text/plain": [
       "   GEBURTSJAHR  ANZ_PERSONEN  ANZ_TITEL  ANZ_HAUSHALTE_AKTIV  ANZ_HH_TITEL  \\\n",
       "0          NaN           2.0        0.0                  1.0           0.0   \n",
       "1          NaN           3.0        0.0                  NaN           NaN   \n",
       "2          NaN           1.0        0.0                  1.0           0.0   \n",
       "3          NaN           0.0        0.0                  NaN           NaN   \n",
       "4       1960.0           4.0        0.0                  7.0           0.0   \n",
       "\n",
       "   MIN_GEBAEUDEJAHR  KBA13_ANZAHL_PKW  \n",
       "0            1992.0            1201.0  \n",
       "1               NaN               NaN  \n",
       "2            1992.0             433.0  \n",
       "3            1992.0             755.0  \n",
       "4            1992.0             513.0  "
      ]
     },
     "execution_count": 29,
     "metadata": {},
     "output_type": "execute_result"
    }
   ],
   "source": [
    "# 7 of the columns have numeric data types e.g Year of birth, number of cars, number of adults in household\n",
    "numeric_cols = list(feature_summary[feature_summary['type'] == 'numeric']['attribute'])\n",
    "customers[numeric_cols].head()"
   ]
  },
  {
   "cell_type": "code",
   "execution_count": 30,
   "metadata": {},
   "outputs": [
    {
     "data": {
      "text/html": [
       "<div>\n",
       "<style scoped>\n",
       "    .dataframe tbody tr th:only-of-type {\n",
       "        vertical-align: middle;\n",
       "    }\n",
       "\n",
       "    .dataframe tbody tr th {\n",
       "        vertical-align: top;\n",
       "    }\n",
       "\n",
       "    .dataframe thead th {\n",
       "        text-align: right;\n",
       "    }\n",
       "</style>\n",
       "<table border=\"1\" class=\"dataframe\">\n",
       "  <thead>\n",
       "    <tr style=\"text-align: right;\">\n",
       "      <th></th>\n",
       "      <th>LP_LEBENSPHASE_FEIN</th>\n",
       "      <th>LP_LEBENSPHASE_GROB</th>\n",
       "      <th>PRAEGENDE_JUGENDJAHRE</th>\n",
       "      <th>WOHNLAGE</th>\n",
       "      <th>CAMEO_INTL_2015</th>\n",
       "      <th>PLZ8_BAUMAX</th>\n",
       "    </tr>\n",
       "  </thead>\n",
       "  <tbody>\n",
       "    <tr>\n",
       "      <th>0</th>\n",
       "      <td>20.0</td>\n",
       "      <td>5.0</td>\n",
       "      <td>4.0</td>\n",
       "      <td>7.0</td>\n",
       "      <td>13.0</td>\n",
       "      <td>1.0</td>\n",
       "    </tr>\n",
       "    <tr>\n",
       "      <th>1</th>\n",
       "      <td>NaN</td>\n",
       "      <td>NaN</td>\n",
       "      <td>NaN</td>\n",
       "      <td>NaN</td>\n",
       "      <td>NaN</td>\n",
       "      <td>NaN</td>\n",
       "    </tr>\n",
       "    <tr>\n",
       "      <th>2</th>\n",
       "      <td>13.0</td>\n",
       "      <td>3.0</td>\n",
       "      <td>4.0</td>\n",
       "      <td>2.0</td>\n",
       "      <td>34.0</td>\n",
       "      <td>3.0</td>\n",
       "    </tr>\n",
       "    <tr>\n",
       "      <th>3</th>\n",
       "      <td>NaN</td>\n",
       "      <td>NaN</td>\n",
       "      <td>1.0</td>\n",
       "      <td>7.0</td>\n",
       "      <td>24.0</td>\n",
       "      <td>1.0</td>\n",
       "    </tr>\n",
       "    <tr>\n",
       "      <th>4</th>\n",
       "      <td>31.0</td>\n",
       "      <td>10.0</td>\n",
       "      <td>8.0</td>\n",
       "      <td>3.0</td>\n",
       "      <td>41.0</td>\n",
       "      <td>2.0</td>\n",
       "    </tr>\n",
       "  </tbody>\n",
       "</table>\n",
       "</div>"
      ],
      "text/plain": [
       "   LP_LEBENSPHASE_FEIN  LP_LEBENSPHASE_GROB  PRAEGENDE_JUGENDJAHRE  WOHNLAGE  \\\n",
       "0                 20.0                  5.0                    4.0       7.0   \n",
       "1                  NaN                  NaN                    NaN       NaN   \n",
       "2                 13.0                  3.0                    4.0       2.0   \n",
       "3                  NaN                  NaN                    1.0       7.0   \n",
       "4                 31.0                 10.0                    8.0       3.0   \n",
       "\n",
       "   CAMEO_INTL_2015  PLZ8_BAUMAX  \n",
       "0             13.0          1.0  \n",
       "1              NaN          NaN  \n",
       "2             34.0          3.0  \n",
       "3             24.0          1.0  \n",
       "4             41.0          2.0  "
      ]
     },
     "execution_count": 30,
     "metadata": {},
     "output_type": "execute_result"
    }
   ],
   "source": [
    "# 6 columns have mixed data types e.g. lifestage (family, income etc)\n",
    "mixed_cols = list(feature_summary[feature_summary['type'] == 'mixed']['attribute'])\n",
    "customers[mixed_cols].head()"
   ]
  },
  {
   "cell_type": "code",
   "execution_count": 31,
   "metadata": {},
   "outputs": [
    {
     "data": {
      "text/html": [
       "<div>\n",
       "<style scoped>\n",
       "    .dataframe tbody tr th:only-of-type {\n",
       "        vertical-align: middle;\n",
       "    }\n",
       "\n",
       "    .dataframe tbody tr th {\n",
       "        vertical-align: top;\n",
       "    }\n",
       "\n",
       "    .dataframe thead th {\n",
       "        text-align: right;\n",
       "    }\n",
       "</style>\n",
       "<table border=\"1\" class=\"dataframe\">\n",
       "  <thead>\n",
       "    <tr style=\"text-align: right;\">\n",
       "      <th></th>\n",
       "      <th>ALTER_HH</th>\n",
       "    </tr>\n",
       "  </thead>\n",
       "  <tbody>\n",
       "    <tr>\n",
       "      <th>0</th>\n",
       "      <td>10.0</td>\n",
       "    </tr>\n",
       "    <tr>\n",
       "      <th>1</th>\n",
       "      <td>11.0</td>\n",
       "    </tr>\n",
       "    <tr>\n",
       "      <th>2</th>\n",
       "      <td>6.0</td>\n",
       "    </tr>\n",
       "    <tr>\n",
       "      <th>3</th>\n",
       "      <td>8.0</td>\n",
       "    </tr>\n",
       "    <tr>\n",
       "      <th>4</th>\n",
       "      <td>20.0</td>\n",
       "    </tr>\n",
       "  </tbody>\n",
       "</table>\n",
       "</div>"
      ],
      "text/plain": [
       "   ALTER_HH\n",
       "0      10.0\n",
       "1      11.0\n",
       "2       6.0\n",
       "3       8.0\n",
       "4      20.0"
      ]
     },
     "execution_count": 31,
     "metadata": {},
     "output_type": "execute_result"
    }
   ],
   "source": [
    "# 1 column is type interval e.g. Interval of main age within household\n",
    "interval_cols = list(feature_summary[feature_summary['type'] == 'interval']['attribute'])\n",
    "customers[interval_cols].head()"
   ]
  },
  {
   "cell_type": "code",
   "execution_count": 32,
   "metadata": {},
   "outputs": [],
   "source": [
    "# Create function which fills missing values in columns within num_vars with the column mean\n",
    "def fill_mean(df, num_vars):\n",
    "    '''\n",
    "    INPUT:\n",
    "    df - dataframe with missing numeric values\n",
    "    num_vars - object containing numeric columns in dataframe\n",
    "    OUTPUT:\n",
    "    df - dataframe with missing numeric values filled with column means\n",
    "    \n",
    "    Fills missing numeric values within a dataframe with column means.\n",
    "    '''\n",
    "    for col in num_vars:\n",
    "            df[col] = df[col].fillna(df[col].mean(), axis = 0)\n",
    "    return df"
   ]
  },
  {
   "cell_type": "code",
   "execution_count": 33,
   "metadata": {},
   "outputs": [],
   "source": [
    "# Fill numeric fields with mean\n",
    "num_vars = list(feature_summary[feature_summary['type'] == 'numeric']['attribute'])\n",
    "\n",
    "customers = fill_mean(customers, num_vars)\n",
    "azdias = fill_mean(azdias, num_vars)"
   ]
  },
  {
   "cell_type": "code",
   "execution_count": 34,
   "metadata": {},
   "outputs": [],
   "source": [
    "# Create function which fills missing values with mode \n",
    "fill_mode = lambda col: col.fillna(col.mode()[0])\n",
    "# Apply to all non-numerical columns in customers dataset\n",
    "customers = customers.apply(fill_mode, axis=0)\n",
    "# Apply to all non-numerical columns in azdias dataset\n",
    "azdias = azdias.apply(fill_mode, axis=0)"
   ]
  },
  {
   "cell_type": "markdown",
   "metadata": {},
   "source": [
    "One obervation is that column CAMEO_DEU_2015 appears to be a copy of CAMEO_DEUG_2015 with an additional letter field."
   ]
  },
  {
   "cell_type": "code",
   "execution_count": 35,
   "metadata": {},
   "outputs": [],
   "source": [
    "# Extract letter from CAMEO_DEU_2015 into new column\n",
    "customers['CAMEO_DEU_2015_let'] = customers['CAMEO_DEU_2015'].str[1]\n",
    "azdias['CAMEO_DEU_2015_let'] = azdias['CAMEO_DEU_2015'].str[1]"
   ]
  },
  {
   "cell_type": "code",
   "execution_count": 36,
   "metadata": {},
   "outputs": [
    {
     "name": "stderr",
     "output_type": "stream",
     "text": [
      "/Users/pmacdonald/anaconda3/lib/python3.7/site-packages/ipykernel_launcher.py:3: SettingWithCopyWarning: \n",
      "A value is trying to be set on a copy of a slice from a DataFrame.\n",
      "Try using .loc[row_indexer,col_indexer] = value instead\n",
      "\n",
      "See the caveats in the documentation: http://pandas.pydata.org/pandas-docs/stable/indexing.html#indexing-view-versus-copy\n",
      "  This is separate from the ipykernel package so we can avoid doing imports until\n",
      "/Users/pmacdonald/anaconda3/lib/python3.7/site-packages/ipykernel_launcher.py:4: SettingWithCopyWarning: \n",
      "A value is trying to be set on a copy of a slice from a DataFrame.\n",
      "Try using .loc[row_indexer,col_indexer] = value instead\n",
      "\n",
      "See the caveats in the documentation: http://pandas.pydata.org/pandas-docs/stable/indexing.html#indexing-view-versus-copy\n",
      "  after removing the cwd from sys.path.\n",
      "/Users/pmacdonald/anaconda3/lib/python3.7/site-packages/ipykernel_launcher.py:5: SettingWithCopyWarning: \n",
      "A value is trying to be set on a copy of a slice from a DataFrame.\n",
      "Try using .loc[row_indexer,col_indexer] = value instead\n",
      "\n",
      "See the caveats in the documentation: http://pandas.pydata.org/pandas-docs/stable/indexing.html#indexing-view-versus-copy\n",
      "  \"\"\"\n"
     ]
    },
    {
     "data": {
      "text/plain": [
       "0.0"
      ]
     },
     "execution_count": 36,
     "metadata": {},
     "output_type": "execute_result"
    }
   ],
   "source": [
    "# Verify that remaining number from CAMEO_DEU_2015 is a duplicate of CAMEO_DEUG_2015\n",
    "cameo_data = customers[['CAMEO_DEU_2015', 'CAMEO_DEUG_2015']]\n",
    "cameo_data['CAMEO_DEU_2015_num'] = cameo_data['CAMEO_DEU_2015'].str[0]\n",
    "cameo_data['CAMEO_DEU_2015_num'] = pd.to_numeric(cameo_data['CAMEO_DEU_2015_num'], errors='coerce')\n",
    "cameo_data['diff'] = cameo_data['CAMEO_DEU_2015_num'] - cameo_data['CAMEO_DEUG_2015']\n",
    "cameo_data['diff'].sum()"
   ]
  },
  {
   "cell_type": "code",
   "execution_count": 37,
   "metadata": {},
   "outputs": [],
   "source": [
    "# As the remaining number from CAMEO_DEU_2015 is a duplicate of CAMEO_DEUG_2015, remove original CAMEO_DEUG_2015 column\n",
    "customers_clean = customers.drop(columns = 'CAMEO_DEU_2015', axis=1)\n",
    "azdias_clean = azdias.drop(columns = 'CAMEO_DEU_2015', axis=1)\n",
    "feature_summary = feature_summary.drop(feature_summary[feature_summary['attribute']== 'CAMEO_DEU_2015'].index, axis=0)"
   ]
  },
  {
   "cell_type": "code",
   "execution_count": 38,
   "metadata": {},
   "outputs": [
    {
     "data": {
      "text/plain": [
       "Text(0.5,0,'Datatypes')"
      ]
     },
     "execution_count": 38,
     "metadata": {},
     "output_type": "execute_result"
    },
    {
     "data": {
      "image/png": "[encoded data removed]",
      "text/plain": [
       "<Figure size 720x576 with 1 Axes>"
      ]
     },
     "metadata": {},
     "output_type": "display_data"
    }
   ],
   "source": [
    "# Evaluate data types\n",
    "customers_clean.dtypes.value_counts().plot(kind = 'bar', figsize=(10,8))\n",
    "plt.title(\"Count of columns by datatype\", fontdict={'fontsize': 16})\n",
    "plt.ylabel('Number of columns', fontdict={'fontsize': 16})\n",
    "plt.xlabel('Datatypes', fontdict={'fontsize': 12})"
   ]
  },
  {
   "cell_type": "code",
   "execution_count": 39,
   "metadata": {},
   "outputs": [
    {
     "data": {
      "text/html": [
       "<div>\n",
       "<style scoped>\n",
       "    .dataframe tbody tr th:only-of-type {\n",
       "        vertical-align: middle;\n",
       "    }\n",
       "\n",
       "    .dataframe tbody tr th {\n",
       "        vertical-align: top;\n",
       "    }\n",
       "\n",
       "    .dataframe thead th {\n",
       "        text-align: right;\n",
       "    }\n",
       "</style>\n",
       "<table border=\"1\" class=\"dataframe\">\n",
       "  <thead>\n",
       "    <tr style=\"text-align: right;\">\n",
       "      <th></th>\n",
       "      <th>OST_WEST_KZ</th>\n",
       "      <th>CUSTOMER_GROUP</th>\n",
       "      <th>PRODUCT_GROUP</th>\n",
       "      <th>CAMEO_DEU_2015_let</th>\n",
       "    </tr>\n",
       "  </thead>\n",
       "  <tbody>\n",
       "    <tr>\n",
       "      <th>0</th>\n",
       "      <td>W</td>\n",
       "      <td>MULTI_BUYER</td>\n",
       "      <td>COSMETIC_AND_FOOD</td>\n",
       "      <td>A</td>\n",
       "    </tr>\n",
       "    <tr>\n",
       "      <th>1</th>\n",
       "      <td>W</td>\n",
       "      <td>SINGLE_BUYER</td>\n",
       "      <td>FOOD</td>\n",
       "      <td>D</td>\n",
       "    </tr>\n",
       "    <tr>\n",
       "      <th>2</th>\n",
       "      <td>W</td>\n",
       "      <td>MULTI_BUYER</td>\n",
       "      <td>COSMETIC_AND_FOOD</td>\n",
       "      <td>D</td>\n",
       "    </tr>\n",
       "    <tr>\n",
       "      <th>3</th>\n",
       "      <td>W</td>\n",
       "      <td>MULTI_BUYER</td>\n",
       "      <td>COSMETIC</td>\n",
       "      <td>C</td>\n",
       "    </tr>\n",
       "    <tr>\n",
       "      <th>4</th>\n",
       "      <td>W</td>\n",
       "      <td>MULTI_BUYER</td>\n",
       "      <td>FOOD</td>\n",
       "      <td>B</td>\n",
       "    </tr>\n",
       "  </tbody>\n",
       "</table>\n",
       "</div>"
      ],
      "text/plain": [
       "  OST_WEST_KZ CUSTOMER_GROUP      PRODUCT_GROUP CAMEO_DEU_2015_let\n",
       "0           W    MULTI_BUYER  COSMETIC_AND_FOOD                  A\n",
       "1           W   SINGLE_BUYER               FOOD                  D\n",
       "2           W    MULTI_BUYER  COSMETIC_AND_FOOD                  D\n",
       "3           W    MULTI_BUYER           COSMETIC                  C\n",
       "4           W    MULTI_BUYER               FOOD                  B"
      ]
     },
     "execution_count": 39,
     "metadata": {},
     "output_type": "execute_result"
    }
   ],
   "source": [
    "# Identify columns with object datatype\n",
    "obj_cols = customers_clean.columns[customers_clean.dtypes == 'object']\n",
    "customers_clean[obj_cols].head()"
   ]
  },
  {
   "cell_type": "code",
   "execution_count": 40,
   "metadata": {},
   "outputs": [],
   "source": [
    "# Encode object fields\n",
    "le = preprocessing.LabelEncoder()\n",
    "customers_clean[['PRODUCT_GROUP', 'CUSTOMER_GROUP', 'CAMEO_DEU_2015_let', 'OST_WEST_KZ']] = customers_clean[['PRODUCT_GROUP', 'CUSTOMER_GROUP', 'CAMEO_DEU_2015_let', 'OST_WEST_KZ']].apply(le.fit_transform)\n",
    "azdias_clean[['CAMEO_DEU_2015_let', 'OST_WEST_KZ']] = azdias_clean[['CAMEO_DEU_2015_let', 'OST_WEST_KZ']].apply(le.fit_transform)\n"
   ]
  },
  {
   "cell_type": "code",
   "execution_count": 41,
   "metadata": {},
   "outputs": [
    {
     "data": {
      "text/plain": [
       "CAMEO_DEU_2015_let    0.0\n",
       "SEMIO_KULT            0.0\n",
       "RETOURTYP_BK_S        0.0\n",
       "SEMIO_SOZ             0.0\n",
       "SEMIO_FAM             0.0\n",
       "SEMIO_REL             0.0\n",
       "SEMIO_MAT             0.0\n",
       "SEMIO_VERT            0.0\n",
       "SEMIO_LUST            0.0\n",
       "SEMIO_ERL             0.0\n",
       "dtype: float64"
      ]
     },
     "execution_count": 41,
     "metadata": {},
     "output_type": "execute_result"
    }
   ],
   "source": [
    "# Check number of missing values in customers dataset\n",
    "round(customers_clean.isnull().sum(axis = 0)/customers_clean.shape[0]*100,2).sort_values(ascending = False).head(10)"
   ]
  },
  {
   "cell_type": "code",
   "execution_count": 42,
   "metadata": {},
   "outputs": [
    {
     "data": {
      "text/plain": [
       "CAMEO_DEU_2015_let    0.0\n",
       "NATIONALITAET_KZ      0.0\n",
       "RETOURTYP_BK_S        0.0\n",
       "SEMIO_SOZ             0.0\n",
       "SEMIO_FAM             0.0\n",
       "SEMIO_REL             0.0\n",
       "SEMIO_MAT             0.0\n",
       "SEMIO_VERT            0.0\n",
       "SEMIO_LUST            0.0\n",
       "SEMIO_ERL             0.0\n",
       "dtype: float64"
      ]
     },
     "execution_count": 42,
     "metadata": {},
     "output_type": "execute_result"
    }
   ],
   "source": [
    "# Check number of missing values in azdias dataset\n",
    "round(azdias_clean.isnull().sum(axis = 0)/azdias_clean.shape[0]*100,2).sort_values(ascending = False).head(10)"
   ]
  },
  {
   "cell_type": "code",
   "execution_count": 43,
   "metadata": {},
   "outputs": [
    {
     "data": {
      "text/plain": [
       "<seaborn.axisgrid.PairGrid at 0x1a1bdffcf8>"
      ]
     },
     "execution_count": 43,
     "metadata": {},
     "output_type": "execute_result"
    },
    {
     "data": {
      "image/png": "[encoded data removed]",
      "text/plain": [
       "<Figure size 1620x1620 with 90 Axes>"
      ]
     },
     "metadata": {},
     "output_type": "display_data"
    }
   ],
   "source": [
    "# Look at distribution of a subset of columns based on code on https://towardsdatascience.com/a-guide-to-pandas-and-matplotlib-for-data-exploration-56fad95f951c\n",
    "customers_subset = customers_clean.iloc[: ,1:10]\n",
    "sns.pairplot(customers_subset)"
   ]
  },
  {
   "cell_type": "code",
   "execution_count": 44,
   "metadata": {},
   "outputs": [],
   "source": [
    "# Even when looking at the first 10 columns many are not normally distributed"
   ]
  },
  {
   "cell_type": "code",
   "execution_count": 45,
   "metadata": {},
   "outputs": [
    {
     "data": {
      "text/plain": [
       "<matplotlib.axes._subplots.AxesSubplot at 0x1a3cbfc240>"
      ]
     },
     "execution_count": 45,
     "metadata": {},
     "output_type": "execute_result"
    },
    {
     "data": {
      "image/png": "[encoded data removed]",
      "text/plain": [
       "<Figure size 432x288 with 2 Axes>"
      ]
     },
     "metadata": {},
     "output_type": "display_data"
    }
   ],
   "source": [
    "# There are a lot of columns in the dataset and it is likely that a lot will correlate\n",
    "# Create visualisation of correlations between columns based on code on https://towardsdatascience.com/a-guide-to-pandas-and-matplotlib-for-data-exploration-56fad95f951c\n",
    "corr = customers_subset.corr()\n",
    "sns.heatmap(corr, xticklabels=corr.columns, yticklabels=corr.columns, cmap=sns.diverging_palette(220, 10, as_cmap=True))"
   ]
  },
  {
   "cell_type": "code",
   "execution_count": 46,
   "metadata": {},
   "outputs": [],
   "source": [
    "# Create function which fills missing values in columns within num_vars with the column mean\n",
    "def fill_mean(df, num_vars):\n",
    "    '''\n",
    "    INPUT:\n",
    "    df - dataframe with missing numeric values\n",
    "    num_vars - object containing numeric columns in dataframe\n",
    "    OUTPUT:\n",
    "    df - dataframe with missing numeric values filled with column means\n",
    "    \n",
    "    Fills missing numeric values within a dataframe with column means.\n",
    "    '''\n",
    "    for col in num_vars:\n",
    "            df[col] = df[col].fillna(df[col].mean(), axis = 0)\n",
    "    return df\n",
    "\n",
    "# Create function which fills missing values with mode \n",
    "fill_mode = lambda col: col.fillna(col.mode()[0])\n",
    "\n",
    "# Put cleaning steps in function\n",
    "def clean_data(df, feature_summary):\n",
    "    '''\n",
    "     INPUT:\n",
    "     df - dataframe of input data\n",
    "     feature_summary - summary of data fields including data types and how missing values are represented\n",
    "     OUTPUT:\n",
    "     df_clean - dataframe of data ready for modeling\n",
    "     \n",
    "     Sorts columns with incorrect datatypes\n",
    "     Removes columns which are not in features_summary df\n",
    "     Replaces values which represent unknowns with NAs\n",
    "     Removes columns and rows with a high proportion of unknown data\n",
    "     Fills missing numeric values with mean\n",
    "     Fills missing non-numeric values with mode\n",
    "     Extract letter field from CAMEO_DEU_2015 and removes original column\n",
    "     \n",
    "     '''\n",
    "    \n",
    "    # Sort columns with incorrect datatypes\n",
    "    for col in (['CAMEO_DEUG_2015', 'CAMEO_INTL_2015']):\n",
    "        df[col] = pd.to_numeric(df[col], errors='coerce')\n",
    "        \n",
    "    # Create list of columns for which I have detailed information\n",
    "    cols = list(feature_summary['attribute'])\n",
    "    # Add additional columns to the list\n",
    "    add_cols = ['LNR', 'CUSTOMER_GROUP', 'ONLINE_PURCHASE', 'PRODUCT_GROUP', 'RESPONSE']\n",
    "    all_cols = cols + add_cols\n",
    "    df = df.loc[:,df.columns.isin(all_cols)]\n",
    "    \n",
    "    # Replace values which represent unknown values with na\n",
    "    for value in [-1, 0, 9, 'XX', 'X']:\n",
    "        cols = feature_summary[feature_summary['missing_or_unknown'].str.contains(str(value))]['attribute']\n",
    "        df[cols] = df.loc[:,cols].replace({value:np.nan})\n",
    "    \n",
    "    # Remove columns with a high proportion of missing data\n",
    "    # Columns which have >50% missing data in datasets\n",
    "    empty_cols = list(df.columns[df.isnull().sum(axis = 0)/df.shape[0]*100 > 50])\n",
    "    # Remove columns from datasets\n",
    "    df = df.drop(columns = empty_cols, axis=1)\n",
    "    # Remove thes rows from feature_summary dataset\n",
    "    feature_summary = feature_summary.drop(feature_summary[feature_summary['attribute'].isin(empty_cols)].index, axis=0)\n",
    "    \n",
    "    # Remove rows with a high proportion of missing data\n",
    "    empty_rows = df[df.isnull().sum(axis = 1)/df.shape[1]*100 > 80].index\n",
    "    df = df.drop(empty_rows, axis=0)\n",
    "     \n",
    "     # Fill missing numeric fields with mean\n",
    "    num_vars = list(feature_summary[feature_summary['type'] == 'numeric']['attribute'])\n",
    "    df = fill_mean(df, num_vars)\n",
    "    \n",
    "    # Fill missing non-numeric fields with mode                                           \n",
    "    df = df.apply(fill_mode, axis=0)   \n",
    "    #df = df.fillna(-1)\n",
    "    \n",
    "    # Extract letter field from CAMEO_DEU_2015 and remove original, which is a duplicate of CAMEO_DEUG_2015\n",
    "    df['CAMEO_DEU_2015_let'] = df['CAMEO_DEU_2015'].str[1]\n",
    "    df_clean = df.drop(columns = 'CAMEO_DEU_2015', axis=1)\n",
    "    feature_summary_updated = feature_summary.drop(feature_summary[feature_summary['attribute']== 'CAMEO_DEU_2015'].index, axis=0)\n",
    "    \n",
    "                                                                                                                                                         \n",
    "    return df_clean , feature_summary_updated"
   ]
  },
  {
   "cell_type": "code",
   "execution_count": 47,
   "metadata": {},
   "outputs": [],
   "source": [
    "# # Check function is working\n",
    "# Import data\n",
    "azdias = pd.read_csv('data/Udacity_AZDIAS_052018.csv', sep=';', dtype={18: object, 19: object})\n",
    "customers = pd.read_csv('data/Udacity_CUSTOMERS_052018.csv', sep=';', dtype={18: object, 19: object})\n",
    "feature_summary = pd.read_csv('data/AZDIAS_Feature_Summary.csv', sep=';')"
   ]
  },
  {
   "cell_type": "code",
   "execution_count": 48,
   "metadata": {},
   "outputs": [
    {
     "name": "stderr",
     "output_type": "stream",
     "text": [
      "/Users/pmacdonald/anaconda3/lib/python3.7/site-packages/pandas/core/frame.py:3137: SettingWithCopyWarning: \n",
      "A value is trying to be set on a copy of a slice from a DataFrame.\n",
      "Try using .loc[row_indexer,col_indexer] = value instead\n",
      "\n",
      "See the caveats in the documentation: http://pandas.pydata.org/pandas-docs/stable/indexing.html#indexing-view-versus-copy\n",
      "  self[k1] = value[k2]\n"
     ]
    }
   ],
   "source": [
    "# Apply function to datasets\n",
    "customers_clean, fs = clean_data(customers, feature_summary)\n",
    "azdias_clean, fs = clean_data(azdias, feature_summary)"
   ]
  },
  {
   "cell_type": "code",
   "execution_count": 49,
   "metadata": {},
   "outputs": [
    {
     "data": {
      "text/plain": [
       "CAMEO_DEU_2015_let    0.0\n",
       "KBA05_ANTG4           0.0\n",
       "GFK_URLAUBERTYP       0.0\n",
       "GREEN_AVANTGARDE      0.0\n",
       "HEALTH_TYP            0.0\n",
       "HH_EINKOMMEN_SCORE    0.0\n",
       "INNENSTADT            0.0\n",
       "KBA05_ANTG1           0.0\n",
       "KBA05_ANTG2           0.0\n",
       "KBA05_ANTG3           0.0\n",
       "dtype: float64"
      ]
     },
     "execution_count": 49,
     "metadata": {},
     "output_type": "execute_result"
    }
   ],
   "source": [
    "round(customers_clean.isnull().sum(axis = 0)/customers_clean.shape[0]*100,2).sort_values(ascending = False).head(10)"
   ]
  },
  {
   "cell_type": "code",
   "execution_count": 51,
   "metadata": {},
   "outputs": [
    {
     "data": {
      "text/plain": [
       "CAMEO_DEU_2015_let    0.0\n",
       "GEBAEUDETYP_RASTER    0.0\n",
       "GFK_URLAUBERTYP       0.0\n",
       "GREEN_AVANTGARDE      0.0\n",
       "HEALTH_TYP            0.0\n",
       "HH_EINKOMMEN_SCORE    0.0\n",
       "INNENSTADT            0.0\n",
       "KBA05_ANTG1           0.0\n",
       "KBA05_ANTG2           0.0\n",
       "KBA05_ANTG3           0.0\n",
       "dtype: float64"
      ]
     },
     "execution_count": 51,
     "metadata": {},
     "output_type": "execute_result"
    }
   ],
   "source": [
    "round(azdias_clean.isnull().sum(axis = 0)/azdias_clean.shape[0]*100,2).sort_values(ascending = False).head(10)\n",
    "# There are no longer any missing values in the datasets suggesting the function is working"
   ]
  },
  {
   "cell_type": "markdown",
   "metadata": {},
   "source": [
    "## Part 1: Customer Segmentation Report\n",
    "\n",
    "The main bulk of your analysis will come in this part of the project. Here, you should use unsupervised learning techniques to describe the relationship between the demographics of the company's existing customers and the general population of Germany. By the end of this part, you should be able to describe parts of the general population that are more likely to be part of the mail-order company's main customer base, and which parts of the general population are less so."
   ]
  },
  {
   "cell_type": "code",
   "execution_count": 4,
   "metadata": {},
   "outputs": [],
   "source": [
    "# # Check function is working\n",
    "# Import data\n",
    "azdias = pd.read_csv('data/Udacity_AZDIAS_052018.csv', sep=';', dtype={18: object, 19: object})\n",
    "customers = pd.read_csv('data/Udacity_CUSTOMERS_052018.csv', sep=';', dtype={18: object, 19: object})\n",
    "feature_summary = pd.read_csv('data/AZDIAS_Feature_Summary.csv', sep=';')"
   ]
  },
  {
   "cell_type": "code",
   "execution_count": 5,
   "metadata": {},
   "outputs": [
    {
     "name": "stderr",
     "output_type": "stream",
     "text": [
      "/Users/pmacdonald/anaconda3/lib/python3.7/site-packages/pandas/core/frame.py:3137: SettingWithCopyWarning: \n",
      "A value is trying to be set on a copy of a slice from a DataFrame.\n",
      "Try using .loc[row_indexer,col_indexer] = value instead\n",
      "\n",
      "See the caveats in the documentation: http://pandas.pydata.org/pandas-docs/stable/indexing.html#indexing-view-versus-copy\n",
      "  self[k1] = value[k2]\n"
     ]
    }
   ],
   "source": [
    "# Apply function to datasets\n",
    "customers_clean, fs = clean_data(customers, feature_summary)\n",
    "azdias_clean, fs = clean_data(azdias, feature_summary)"
   ]
  },
  {
   "cell_type": "code",
   "execution_count": 6,
   "metadata": {},
   "outputs": [],
   "source": [
    "# Remove numeric fields ahead of k-modes segmentation\n",
    "num_vars = list(feature_summary[feature_summary['type'] == 'numeric']['attribute'])\n",
    "customers_clean = customers_clean.drop(num_vars, axis = 1)\n",
    "azdias_clean = azdias_clean.drop(num_vars, axis = 1)"
   ]
  },
  {
   "cell_type": "code",
   "execution_count": 7,
   "metadata": {},
   "outputs": [],
   "source": [
    "# Remove columns which aren't present in both dataframes ahead of segmentation\n",
    "uncommon_cols = set(customers_clean.columns).symmetric_difference(set(azdias_clean.columns))\n",
    "customers_clean = customers_clean.drop(columns = uncommon_cols, axis=1, errors = 'ignore')\n",
    "azdias_clean = azdias_clean.drop(columns = uncommon_cols, axis=1, errors = 'ignore')"
   ]
  },
  {
   "cell_type": "code",
   "execution_count": 8,
   "metadata": {},
   "outputs": [],
   "source": [
    "# Label encode object fields\n",
    "le = preprocessing.LabelEncoder()\n",
    "obj_cols = customers_clean.columns[customers_clean.dtypes == 'object']\n",
    "customers_clean[obj_cols] = customers_clean[obj_cols].apply(le.fit_transform)\n",
    "azdias_clean[obj_cols] = azdias_clean[obj_cols].apply(le.fit_transform)"
   ]
  },
  {
   "cell_type": "code",
   "execution_count": 9,
   "metadata": {},
   "outputs": [
    {
     "data": {
      "text/plain": [
       "(191652, 75)"
      ]
     },
     "execution_count": 9,
     "metadata": {},
     "output_type": "execute_result"
    }
   ],
   "source": [
    "customers_clean.shape"
   ]
  },
  {
   "cell_type": "code",
   "execution_count": 10,
   "metadata": {},
   "outputs": [
    {
     "data": {
      "text/plain": [
       "(891221, 75)"
      ]
     },
     "execution_count": 10,
     "metadata": {},
     "output_type": "execute_result"
    }
   ],
   "source": [
    "azdias_clean.shape\n",
    "# Both datasets have the same number of rows and so are ready for segmenatation steps"
   ]
  },
  {
   "cell_type": "code",
   "execution_count": 11,
   "metadata": {},
   "outputs": [],
   "source": [
    "# Remove ID column named LNR\n",
    "customers_clean = customers_clean.drop(columns = ['LNR'], axis=1)\n",
    "azdias_clean = azdias_clean.drop(columns = ['LNR'], axis=1)"
   ]
  },
  {
   "cell_type": "code",
   "execution_count": 12,
   "metadata": {},
   "outputs": [],
   "source": [
    "# Creating a copy\n",
    "customers_clean_copy = customers_clean.copy()\n",
    "azdias_clean_copy = azdias_clean.copy()"
   ]
  },
  {
   "cell_type": "markdown",
   "metadata": {},
   "source": [
    "### Kmodes on clean dataset"
   ]
  },
  {
   "cell_type": "code",
   "execution_count": 15,
   "metadata": {},
   "outputs": [
    {
     "name": "stdout",
     "output_type": "stream",
     "text": [
      "Init: initializing centroids\n",
      "Init: initializing clusters\n",
      "Starting iterations...\n",
      "Run 1, iteration: 1/100, moves: 24483, cost: 6194198.0\n",
      "Run 1, iteration: 2/100, moves: 4959, cost: 6194198.0\n"
     ]
    }
   ],
   "source": [
    "# Apply kmodes\n",
    "kmodes = KModes(n_clusters=2, init = \"Cao\", verbose=1)\n",
    "kmodes.fit_predict(customers_clean)\n",
    "cost = [(\"Clean data\", kmodes.cost_)]"
   ]
  },
  {
   "cell_type": "markdown",
   "metadata": {},
   "source": [
    "### Kmodes on scaled dataset"
   ]
  },
  {
   "cell_type": "code",
   "execution_count": 16,
   "metadata": {},
   "outputs": [
    {
     "name": "stderr",
     "output_type": "stream",
     "text": [
      "/Users/pmacdonald/anaconda3/lib/python3.7/site-packages/sklearn/preprocessing/data.py:645: DataConversionWarning: Data with input dtype int64, float64 were all converted to float64 by StandardScaler.\n",
      "  return self.partial_fit(X, y)\n",
      "/Users/pmacdonald/anaconda3/lib/python3.7/site-packages/ipykernel_launcher.py:6: DataConversionWarning: Data with input dtype int64, float64 were all converted to float64 by StandardScaler.\n",
      "  \n"
     ]
    },
    {
     "name": "stdout",
     "output_type": "stream",
     "text": [
      "Init: initializing centroids\n",
      "Init: initializing clusters\n",
      "Starting iterations...\n",
      "Run 1, iteration: 1/100, moves: 24483, cost: 6194198.0\n",
      "Run 1, iteration: 2/100, moves: 4959, cost: 6194198.0\n"
     ]
    }
   ],
   "source": [
    "c_2 = customers_clean_copy\n",
    "\n",
    "# Declare and fit scaler to \n",
    "scaler = StandardScaler()\n",
    "scaler.fit(c_2)\n",
    "c_2_scaled_features = scaler.transform(c_2)\n",
    "c_2_scaled = pd.DataFrame(c_2_scaled_features, columns=c_2.columns)\n",
    "\n",
    "# Apply kmodes\n",
    "kmodes_2 = KModes(n_clusters=2, random_state=20, verbose=1, init = \"Cao\")\n",
    "fitClusters_cao_2 = kmodes_2.fit_predict(c_2_scaled)\n",
    "cost.append((\"Scaled\", kmodes_2.cost_))"
   ]
  },
  {
   "cell_type": "markdown",
   "metadata": {},
   "source": [
    "### Kmodes on reduced dataset"
   ]
  },
  {
   "cell_type": "code",
   "execution_count": 36,
   "metadata": {},
   "outputs": [
    {
     "data": {
      "image/png": "[encoded data removed]",
      "text/plain": [
       "<Figure size 432x288 with 1 Axes>"
      ]
     },
     "metadata": {},
     "output_type": "display_data"
    }
   ],
   "source": [
    "c_3 = customers_clean_copy\n",
    "\n",
    "#Determine the number of components to use using link: https://towardsdatascience.com/an-approach-to-choosing-the-number-of-components-in-a-principal-component-analysis-pca-3b9f3d6e73fe\n",
    "#Fitting the PCA algorithm with our Data\n",
    "pca_3 = PCA().fit(c_3)\n",
    "# Plotting the Cumulative Summation of the Explained Variance\n",
    "plt.figure()\n",
    "plt.plot(np.cumsum(pca_3.explained_variance_ratio_))\n",
    "plt.xlabel('Number of Components')\n",
    "plt.ylabel('Variance (%)') #for each component\n",
    "plt.title('Customer Dataset Explained Variance')\n",
    "plt.show()\n",
    "# Plot suggests 20 components descripe 90% of the data\n",
    "\n"
   ]
  },
  {
   "cell_type": "code",
   "execution_count": 37,
   "metadata": {},
   "outputs": [
    {
     "name": "stdout",
     "output_type": "stream",
     "text": [
      "Init: initializing centroids\n",
      "Init: initializing clusters\n",
      "Starting iterations...\n",
      "Run 1, iteration: 1/100, moves: 0, cost: 3445940.0\n"
     ]
    }
   ],
   "source": [
    "# Reduce customers dataset (minus clusters) to 20 components using PCA\n",
    "pca_3 = PCA(n_components=20)\n",
    "c_3_components = pca_3.fit_transform(c_3)\n",
    "\n",
    "#Apply kmodes\n",
    "kmodes_3 = KModes(n_clusters=2, init = \"Cao\", verbose=1)\n",
    "kmodes_3.fit_predict(c_3_components)\n",
    "cost.append((\"Reduced\", kmodes_3.cost_))"
   ]
  },
  {
   "cell_type": "markdown",
   "metadata": {},
   "source": [
    "### Kmodes on scaled, reduced data"
   ]
  },
  {
   "cell_type": "code",
   "execution_count": 52,
   "metadata": {},
   "outputs": [
    {
     "name": "stderr",
     "output_type": "stream",
     "text": [
      "/Users/pmacdonald/anaconda3/lib/python3.7/site-packages/sklearn/preprocessing/data.py:645: DataConversionWarning: Data with input dtype int64, float64 were all converted to float64 by StandardScaler.\n",
      "  return self.partial_fit(X, y)\n",
      "/Users/pmacdonald/anaconda3/lib/python3.7/site-packages/ipykernel_launcher.py:6: DataConversionWarning: Data with input dtype int64, float64 were all converted to float64 by StandardScaler.\n",
      "  \n"
     ]
    },
    {
     "data": {
      "image/png": "[encoded data removed]",
      "text/plain": [
       "<Figure size 432x288 with 1 Axes>"
      ]
     },
     "metadata": {},
     "output_type": "display_data"
    }
   ],
   "source": [
    "c_4 = customers_clean_copy\n",
    "\n",
    "# Declare and fit scaler to \n",
    "scaler = StandardScaler()\n",
    "scaler.fit(c_4)\n",
    "c_4_scaled_features = scaler.transform(c_2)\n",
    "c_4_scaled = pd.DataFrame(c_2_scaled_features, columns=c_4.columns)\n",
    "\n",
    "# Determine the number of components to use using link: https://towardsdatascience.com/an-approach-to-choosing-the-number-of-components-in-a-principal-component-analysis-pca-3b9f3d6e73fe\n",
    "# Fitting the PCA algorithm with our Data\n",
    "pca_4 = PCA().fit(c_4_scaled)\n",
    "# Plotting the Cumulative Summation of the Explained Variance\n",
    "plt.figure()\n",
    "plt.plot(np.cumsum(pca_4.explained_variance_ratio_))\n",
    "plt.xlabel('Number of Components')\n",
    "plt.ylabel('Variance (%)') #for each component\n",
    "plt.title('Customer Dataset Explained Variance')\n",
    "plt.show()\n",
    "# Plot suggests 50 components descripe 90% of the data"
   ]
  },
  {
   "cell_type": "code",
   "execution_count": 53,
   "metadata": {},
   "outputs": [
    {
     "name": "stdout",
     "output_type": "stream",
     "text": [
      "Init: initializing centroids\n",
      "Init: initializing clusters\n",
      "Starting iterations...\n",
      "Run 1, iteration: 1/100, moves: 0, cost: 8615280.0\n"
     ]
    }
   ],
   "source": [
    "# Reduce customers dataset (minus clusters) to 20 components using PCA\n",
    "pca_4 = PCA(n_components=50)\n",
    "c_4_components = pca_4.fit_transform(c_4_scaled)\n",
    "\n",
    "# Apply kmodes\n",
    "kmodes_4 = KModes(n_clusters=2, init = \"Cao\", verbose=1)\n",
    "kmodes_4.fit_predict(c_4_components)\n",
    "cost.append((\"Scaled and Reduced\", kmodes_4.cost_))"
   ]
  },
  {
   "cell_type": "code",
   "execution_count": 54,
   "metadata": {},
   "outputs": [
    {
     "data": {
      "text/plain": [
       "[('Clean data', 6194198.0),\n",
       " ('Scaled', 6194198.0),\n",
       " ('Reduced', 3445940.0),\n",
       " ('Scaled and Reduced', 8615280.0)]"
      ]
     },
     "execution_count": 54,
     "metadata": {},
     "output_type": "execute_result"
    }
   ],
   "source": [
    "cost"
   ]
  },
  {
   "cell_type": "code",
   "execution_count": null,
   "metadata": {},
   "outputs": [],
   "source": [
    "# Reduced appears to be the optimal preprocessing step"
   ]
  },
  {
   "cell_type": "code",
   "execution_count": 55,
   "metadata": {},
   "outputs": [
    {
     "name": "stdout",
     "output_type": "stream",
     "text": [
      "Init: initializing centroids\n",
      "Init: initializing clusters\n",
      "Starting iterations...\n",
      "Run 1, iteration: 1/100, moves: 0, cost: 3445940.0\n"
     ]
    }
   ],
   "source": [
    "# Trial using Huang method in k-modes clustering\n",
    "# Apply kmodes\n",
    "kmodes_huang = KModes(n_clusters=2, init = \"Huang\", verbose=1)\n",
    "kmodes_huang.fit_predict(c_3_components)\n",
    "cost.append((\"Reduced - Huang\", kmodes_huang.cost_))"
   ]
  },
  {
   "cell_type": "code",
   "execution_count": 56,
   "metadata": {},
   "outputs": [
    {
     "data": {
      "text/plain": [
       "[('Clean data', 6194198.0),\n",
       " ('Scaled', 6194198.0),\n",
       " ('Reduced', 3445940.0),\n",
       " ('Scaled and Reduced', 8615280.0),\n",
       " ('Reduced - Huang', 3445940.0)]"
      ]
     },
     "execution_count": 56,
     "metadata": {},
     "output_type": "execute_result"
    }
   ],
   "source": [
    "cost"
   ]
  },
  {
   "cell_type": "code",
   "execution_count": null,
   "metadata": {},
   "outputs": [],
   "source": [
    "# No difference between methods, will use default"
   ]
  },
  {
   "cell_type": "code",
   "execution_count": 59,
   "metadata": {},
   "outputs": [
    {
     "data": {
      "image/png": "[encoded data removed]",
      "text/plain": [
       "<Figure size 864x432 with 1 Axes>"
      ]
     },
     "metadata": {},
     "output_type": "display_data"
    }
   ],
   "source": [
    "#Determine number of clusters using elbow method - https://towardsdatascience.com/customer-segmentation-using-k-means-clustering-d33964f238c3\n",
    "cost = []\n",
    "for k in range(1,10):\n",
    "    kmodes = KModes(n_clusters=k, init = \"Cao\")\n",
    "    kmodes.fit(c_3_components)\n",
    "    cost.append(kmodes.cost_)\n",
    "    \n",
    "plt.figure(figsize=(12,6))    \n",
    "plt.plot(range(1,10), cost)\n",
    "plt.xlabel(\"Number of clusters\")\n",
    "plt.ylabel(\"Cost\")\n",
    "plt.title(\"Chart to establish the optimal number of clusters\")\n",
    "plt.show()\n",
    "# 5 clusters looks optimal"
   ]
  },
  {
   "cell_type": "code",
   "execution_count": 38,
   "metadata": {},
   "outputs": [
    {
     "name": "stdout",
     "output_type": "stream",
     "text": [
      "Init: initializing centroids\n",
      "Init: initializing clusters\n",
      "Starting iterations...\n",
      "Run 1, iteration: 1/100, moves: 0, cost: 3013780.0\n"
     ]
    }
   ],
   "source": [
    "# Apply kmodes with 5 clusters and Cao method\n",
    "kmodes_final = KModes(n_clusters=6, random_state=20, verbose=1, init = \"Cao\")\n",
    "c_3['clusters'] = kmodes_final.fit_predict(c_3_components)"
   ]
  },
  {
   "cell_type": "code",
   "execution_count": 22,
   "metadata": {},
   "outputs": [],
   "source": [
    "# Apply PCA to reduce data down to 2 dimensions\n",
    "pca_2d = PCA(n_components=2)\n",
    "twodim_pca = pca_2d.fit_transform(c_3_components)"
   ]
  },
  {
   "cell_type": "code",
   "execution_count": 23,
   "metadata": {},
   "outputs": [
    {
     "data": {
      "image/png": "[encoded data removed]",
      "text/plain": [
       "<Figure size 432x288 with 1 Axes>"
      ]
     },
     "metadata": {},
     "output_type": "display_data"
    }
   ],
   "source": [
    "# Plot clusters in two dimensions - with PCA reduction\n",
    "color = iter(plt.cm.rainbow(np.linspace(0,1,6)))\n",
    "\n",
    "for group in list(c_3['clusters'].unique().tolist()):\n",
    "    c = next(color)\n",
    "    plt.scatter(twodim_pca[c_3['clusters'] == group, 0], \n",
    "                twodim_pca[c_3['clusters'] == group, 1],\n",
    "                color=c,\n",
    "                label=group)"
   ]
  },
  {
   "cell_type": "code",
   "execution_count": 61,
   "metadata": {},
   "outputs": [],
   "source": [
    "# Apply TSNE to reduce data down to 2 dimensions\n",
    "tsne = TSNE(n_components=2, random_state=1986)\n",
    "twodim_arr = tsne.fit_transform(c_3_components)"
   ]
  },
  {
   "cell_type": "code",
   "execution_count": 69,
   "metadata": {},
   "outputs": [
    {
     "data": {
      "image/png": "[encoded data removed]",
      "text/plain": [
       "<Figure size 432x288 with 1 Axes>"
      ]
     },
     "metadata": {},
     "output_type": "display_data"
    }
   ],
   "source": [
    "# Plot clusters in two dimensions - with TSNE reduction\n",
    "color = iter(plt.cm.rainbow(np.linspace(0,1,6)))\n",
    "\n",
    "for group in list(c_3['clusters'].unique().tolist()):\n",
    "    c = next(color)\n",
    "    plt.scatter(twodim_arr[c_3['clusters'] == group, 0], \n",
    "                twodim_arr[c_3['clusters'] == group, 1],\n",
    "                color=c,\n",
    "                label=group)"
   ]
  },
  {
   "cell_type": "code",
   "execution_count": 63,
   "metadata": {},
   "outputs": [],
   "source": [
    "# Apply TSNE to reduce data down to 3 dimensions\n",
    "tsne = TSNE(n_components=3, random_state=1986)\n",
    "threedim_arr = tsne.fit_transform(c_3_components)"
   ]
  },
  {
   "cell_type": "code",
   "execution_count": 70,
   "metadata": {},
   "outputs": [
    {
     "data": {
      "image/png": "[encoded data removed]",
      "text/plain": [
       "<Figure size 432x288 with 1 Axes>"
      ]
     },
     "metadata": {},
     "output_type": "display_data"
    }
   ],
   "source": [
    "# Plot clusters in three dimensions\n",
    "color = iter(plt.cm.rainbow(np.linspace(0,1,6)))\n",
    "\n",
    "fig = plt.figure()\n",
    "ax = fig.add_subplot(111, projection='3d')\n",
    "\n",
    "for group in list(c_3['clusters'].unique().tolist()):\n",
    "    c = next(color)\n",
    "    ax.scatter(threedim_arr[c_3['clusters'] == group, 0], \n",
    "               threedim_arr[c_3['clusters'] == group, 1],\n",
    "               threedim_arr[c_3['clusters'] == group, 2],\n",
    "               color=c,\n",
    "               label=group)"
   ]
  },
  {
   "cell_type": "code",
   "execution_count": 71,
   "metadata": {},
   "outputs": [
    {
     "name": "stdout",
     "output_type": "stream",
     "text": [
      "Init: initializing centroids\n",
      "Init: initializing clusters\n",
      "Starting iterations...\n",
      "Run 1, iteration: 1/100, moves: 0, cost: 3011740.0\n"
     ]
    }
   ],
   "source": [
    "# Apply kmodes with 20 clusters and Cao method\n",
    "kmodes_20 = KModes(n_clusters=20, random_state=20, verbose=1, init = \"Cao\")\n",
    "c_3['clusters_20'] = kmodes_20.fit_predict(c_3_components)"
   ]
  },
  {
   "cell_type": "code",
   "execution_count": 73,
   "metadata": {},
   "outputs": [
    {
     "data": {
      "image/png": "[encoded data removed]",
      "text/plain": [
       "<Figure size 432x288 with 1 Axes>"
      ]
     },
     "metadata": {},
     "output_type": "display_data"
    }
   ],
   "source": [
    "# Plot 20 clusters in two dimensions\n",
    "color = iter(plt.cm.rainbow(np.linspace(0,1,20)))\n",
    "\n",
    "for group in list(c_3['clusters_20'].unique().tolist()):\n",
    "    c = next(color)\n",
    "    plt.scatter(twodim_arr[c_3['clusters_20'] == group, 0], \n",
    "                twodim_arr[c_3['clusters_20'] == group, 1],\n",
    "                color=c,\n",
    "                label=group)"
   ]
  },
  {
   "cell_type": "code",
   "execution_count": 24,
   "metadata": {},
   "outputs": [
    {
     "data": {
      "text/plain": [
       "0.10948968077421792"
      ]
     },
     "execution_count": 24,
     "metadata": {},
     "output_type": "execute_result"
    }
   ],
   "source": [
    "# Calculate Silhouette Score using https://scikit-learn.org/stable/auto_examples/cluster/plot_kmeans_silhouette_analysis.html\n",
    "sil_avg = silhouette_score(c_3_components, c_3['clusters'])\n",
    "sil_avg"
   ]
  },
  {
   "cell_type": "code",
   "execution_count": null,
   "metadata": {},
   "outputs": [],
   "source": [
    "# Avg Silhouette score is a little low, however higher than an attempt via kmeans\n",
    "# Value of 1 indicates a datapoint is dissimilar from other clusters\n",
    "# Value of 0 indicates the data point was 'borderline'\n",
    "# Value -1 indicates a datapoint is dissimilar from other datapoints in cluster"
   ]
  },
  {
   "cell_type": "code",
   "execution_count": 27,
   "metadata": {},
   "outputs": [
    {
     "data": {
      "text/plain": [
       "<matplotlib.lines.Line2D at 0x1a183fb2b0>"
      ]
     },
     "execution_count": 27,
     "metadata": {},
     "output_type": "execute_result"
    },
    {
     "data": {
      "image/png": "[encoded data removed]",
      "text/plain": [
       "<Figure size 864x432 with 1 Axes>"
      ]
     },
     "metadata": {},
     "output_type": "display_data"
    }
   ],
   "source": [
    "# Create a Silhouette plot from https://scikit-learn.org/stable/auto_examples/cluster/plot_kmeans_silhouette_analysis.html\n",
    "\n",
    "# Compute the silhouette scores for each sample \n",
    "sample_silhouette_values = silhouette_samples(c_3_components, c_3['clusters'])\n",
    "\n",
    "\n",
    "plt.figure(figsize=(12,6)) \n",
    "# Define where plot should start on y axis\n",
    "y_lower = 10\n",
    "for i in range(6):\n",
    "    # Aggregate the silhouette scores for samples belonging to cluster i, and sort them\n",
    "    ith_cluster_silhouette_values = sample_silhouette_values[c_3['clusters'] == i]\n",
    "    ith_cluster_silhouette_values.sort()\n",
    "    \n",
    "    # Establish size of cluster\n",
    "    size_cluster_i = ith_cluster_silhouette_values.shape[0]\n",
    "    y_upper = y_lower + size_cluster_i\n",
    "    \n",
    "    # Fill plot between y_lower and y_upper (defined by size of cluster) and the silouhette value for each datapoint\n",
    "    color = plt.cm.nipy_spectral(float(i) / 6)\n",
    "    plt.fill_betweenx(np.arange(y_lower, y_upper),\n",
    "                        0, ith_cluster_silhouette_values,\n",
    "                        facecolor=color, edgecolor=color, alpha=0.7)\n",
    "\n",
    "    # Label the silhouette plots with their cluster numbers at the middle\n",
    "    plt.text(-0.05, y_lower + 0.5 * size_cluster_i, str(i))\n",
    "\n",
    "    # Compute the new y_lower for next plot\n",
    "    y_lower = y_upper + 10  # 10 for the 0 samples\n",
    "\n",
    "plt.title(\"The silhouette plot for clusters created via kmodes\")\n",
    "plt.xlabel(\"The silhouette coefficient values\")\n",
    "plt.ylabel(\"Cluster label\")\n",
    "\n",
    "# The vertical line for average silhouette score of all the values\n",
    "plt.axvline(x=sil_avg, color=\"red\", linestyle=\"--\")"
   ]
  },
  {
   "cell_type": "markdown",
   "metadata": {},
   "source": [
    "### Explore segments"
   ]
  },
  {
   "cell_type": "code",
   "execution_count": 39,
   "metadata": {},
   "outputs": [],
   "source": [
    "# Applying clustering to azdias dataset\n",
    "az_3 = azdias_clean_copy\n",
    "\n",
    "az_3_components = pca_3.transform(az_3)\n",
    "az_3['clusters'] = kmodes_final.predict(az_3_components)"
   ]
  },
  {
   "cell_type": "code",
   "execution_count": 40,
   "metadata": {},
   "outputs": [
    {
     "data": {
      "text/plain": [
       "Text(0.5,1,'Distribution of customer and general population data across clusters')"
      ]
     },
     "execution_count": 40,
     "metadata": {},
     "output_type": "execute_result"
    },
    {
     "data": {
      "image/png": "[encoded data removed]",
      "text/plain": [
       "<Figure size 1440x720 with 1 Axes>"
      ]
     },
     "metadata": {},
     "output_type": "display_data"
    }
   ],
   "source": [
    "# Calculate distribution of customer and genpop individuals across clusters\n",
    "customer_perc = c_3['clusters'].value_counts()/c_3['clusters'].shape[0]*100\n",
    "gen_pop_perc = az_3['clusters'].value_counts()/az_3['clusters'].shape[0]*100\n",
    "distributions = {'Customers': customer_perc, 'Genpop': gen_pop_perc}\n",
    "dists = pd.DataFrame(data=distributions)\n",
    "\n",
    "# Visualise distributions\n",
    "dists.plot(kind = 'bar', figsize=(20,10))\n",
    "plt.ylabel(\"Percentage of population\", fontdict={'fontsize': 12})\n",
    "plt.xlabel(\"Cluster number\", fontdict={'fontsize': 12})\n",
    "plt.title(\"Distribution of customer and general population data across clusters\", fontdict={'fontsize': 16})"
   ]
  },
  {
   "cell_type": "markdown",
   "metadata": {},
   "source": [
    "Chart shows that cluster 0 represents the general population (and most of the Arvato database) but that the additional 5 isolated clusters are not clearly identifiable in the general population. \n",
    "Therefore, individuals with characteristics described by these 5 clusters were more likely to be Arvato bank customers."
   ]
  },
  {
   "cell_type": "code",
   "execution_count": 122,
   "metadata": {},
   "outputs": [],
   "source": [
    "# Find mode category for clusters 1-5 for customers dataset and cluster 0 for gen pop dataset\n",
    "cust_avg = c_3[c_3['clusters'].isin([1, 2, 3, 4, 5])].iloc[:,:-1].mode().rename(index={0: 'Customers'})\n",
    "genpop_avg = az_3[az_3['clusters'].isin([0])].iloc[:,:-1].mode().rename(index={0: 'Genpop'})"
   ]
  },
  {
   "cell_type": "code",
   "execution_count": 123,
   "metadata": {},
   "outputs": [
    {
     "data": {
      "text/html": [
       "<div>\n",
       "<style scoped>\n",
       "    .dataframe tbody tr th:only-of-type {\n",
       "        vertical-align: middle;\n",
       "    }\n",
       "\n",
       "    .dataframe tbody tr th {\n",
       "        vertical-align: top;\n",
       "    }\n",
       "\n",
       "    .dataframe thead th {\n",
       "        text-align: right;\n",
       "    }\n",
       "</style>\n",
       "<table border=\"1\" class=\"dataframe\">\n",
       "  <thead>\n",
       "    <tr style=\"text-align: right;\">\n",
       "      <th></th>\n",
       "      <th>Customers</th>\n",
       "      <th>Genpop</th>\n",
       "    </tr>\n",
       "  </thead>\n",
       "  <tbody>\n",
       "    <tr>\n",
       "      <th>ALTER_HH</th>\n",
       "      <td>10.0</td>\n",
       "      <td>18.0</td>\n",
       "    </tr>\n",
       "    <tr>\n",
       "      <th>ARBEIT</th>\n",
       "      <td>3.0</td>\n",
       "      <td>4.0</td>\n",
       "    </tr>\n",
       "    <tr>\n",
       "      <th>BALLRAUM</th>\n",
       "      <td>6.0</td>\n",
       "      <td>6.0</td>\n",
       "    </tr>\n",
       "    <tr>\n",
       "      <th>CAMEO_DEUG_2015</th>\n",
       "      <td>2.0</td>\n",
       "      <td>8.0</td>\n",
       "    </tr>\n",
       "    <tr>\n",
       "      <th>CAMEO_INTL_2015</th>\n",
       "      <td>14.0</td>\n",
       "      <td>51.0</td>\n",
       "    </tr>\n",
       "  </tbody>\n",
       "</table>\n",
       "</div>"
      ],
      "text/plain": [
       "                 Customers  Genpop\n",
       "ALTER_HH              10.0    18.0\n",
       "ARBEIT                 3.0     4.0\n",
       "BALLRAUM               6.0     6.0\n",
       "CAMEO_DEUG_2015        2.0     8.0\n",
       "CAMEO_INTL_2015       14.0    51.0"
      ]
     },
     "execution_count": 123,
     "metadata": {},
     "output_type": "execute_result"
    }
   ],
   "source": [
    "# Combine scores\n",
    "customer_scores = pd.concat([cust_avg, genpop_avg], axis=0).transpose()\n",
    "customer_scores.head()"
   ]
  },
  {
   "cell_type": "code",
   "execution_count": 124,
   "metadata": {},
   "outputs": [
    {
     "data": {
      "text/plain": [
       "Text(0.5,1,'Chart to demonstrate the features which differ most between Customer and General Population')"
      ]
     },
     "execution_count": 124,
     "metadata": {},
     "output_type": "execute_result"
    },
    {
     "data": {
      "image/png": "[encoded data removed]",
      "text/plain": [
       "<Figure size 1440x720 with 1 Axes>"
      ]
     },
     "metadata": {},
     "output_type": "display_data"
    }
   ],
   "source": [
    "# Calcuate difference between customer score and gen pop score\n",
    "customer_scores['Difference'] = customer_scores['Customers'] - customer_scores['Genpop']\n",
    "customer_scores['Absolute_Difference'] = abs(customer_scores['Customers'] - customer_scores['Genpop'])\n",
    "customer_scores.sort_values(by = 'Absolute_Difference',ascending = False)['Difference'].head(10).plot(kind = 'bar', figsize=(20,10))\n",
    "plt.ylabel(\"Difference in average score\", fontdict={'fontsize': 12})\n",
    "plt.xlabel(\"Features\", fontdict={'fontsize': 12})\n",
    "plt.title(\"Chart to demonstrate the features which differ most between Customer and General Population\", fontdict={'fontsize': 16})"
   ]
  },
  {
   "cell_type": "code",
   "execution_count": 125,
   "metadata": {},
   "outputs": [],
   "source": [
    "# Create list of features which differ most\n",
    "features = customer_scores.sort_values(by = 'Absolute_Difference',ascending = False)['Difference'].head(10).index"
   ]
  },
  {
   "cell_type": "code",
   "execution_count": 126,
   "metadata": {},
   "outputs": [
    {
     "data": {
      "text/html": [
       "<div>\n",
       "<style scoped>\n",
       "    .dataframe tbody tr th:only-of-type {\n",
       "        vertical-align: middle;\n",
       "    }\n",
       "\n",
       "    .dataframe tbody tr th {\n",
       "        vertical-align: top;\n",
       "    }\n",
       "\n",
       "    .dataframe thead th {\n",
       "        text-align: right;\n",
       "    }\n",
       "</style>\n",
       "<table border=\"1\" class=\"dataframe\">\n",
       "  <thead>\n",
       "    <tr style=\"text-align: right;\">\n",
       "      <th></th>\n",
       "      <th>Customers</th>\n",
       "      <th>Genpop</th>\n",
       "      <th>Difference</th>\n",
       "      <th>Absolute_Difference</th>\n",
       "    </tr>\n",
       "  </thead>\n",
       "  <tbody>\n",
       "    <tr>\n",
       "      <th>LP_LEBENSPHASE_FEIN</th>\n",
       "      <td>40.0</td>\n",
       "      <td>1.0</td>\n",
       "      <td>39.0</td>\n",
       "      <td>39.0</td>\n",
       "    </tr>\n",
       "    <tr>\n",
       "      <th>CAMEO_INTL_2015</th>\n",
       "      <td>14.0</td>\n",
       "      <td>51.0</td>\n",
       "      <td>-37.0</td>\n",
       "      <td>37.0</td>\n",
       "    </tr>\n",
       "    <tr>\n",
       "      <th>PRAEGENDE_JUGENDJAHRE</th>\n",
       "      <td>4.0</td>\n",
       "      <td>14.0</td>\n",
       "      <td>-10.0</td>\n",
       "      <td>10.0</td>\n",
       "    </tr>\n",
       "    <tr>\n",
       "      <th>LP_LEBENSPHASE_GROB</th>\n",
       "      <td>12.0</td>\n",
       "      <td>2.0</td>\n",
       "      <td>10.0</td>\n",
       "      <td>10.0</td>\n",
       "    </tr>\n",
       "    <tr>\n",
       "      <th>ALTER_HH</th>\n",
       "      <td>10.0</td>\n",
       "      <td>18.0</td>\n",
       "      <td>-8.0</td>\n",
       "      <td>8.0</td>\n",
       "    </tr>\n",
       "    <tr>\n",
       "      <th>GFK_URLAUBERTYP</th>\n",
       "      <td>5.0</td>\n",
       "      <td>12.0</td>\n",
       "      <td>-7.0</td>\n",
       "      <td>7.0</td>\n",
       "    </tr>\n",
       "    <tr>\n",
       "      <th>CAMEO_DEUG_2015</th>\n",
       "      <td>2.0</td>\n",
       "      <td>8.0</td>\n",
       "      <td>-6.0</td>\n",
       "      <td>6.0</td>\n",
       "    </tr>\n",
       "    <tr>\n",
       "      <th>MOBI_REGIO</th>\n",
       "      <td>5.0</td>\n",
       "      <td>1.0</td>\n",
       "      <td>4.0</td>\n",
       "      <td>4.0</td>\n",
       "    </tr>\n",
       "    <tr>\n",
       "      <th>HH_EINKOMMEN_SCORE</th>\n",
       "      <td>2.0</td>\n",
       "      <td>6.0</td>\n",
       "      <td>-4.0</td>\n",
       "      <td>4.0</td>\n",
       "    </tr>\n",
       "    <tr>\n",
       "      <th>FINANZ_UNAUFFAELLIGER</th>\n",
       "      <td>5.0</td>\n",
       "      <td>1.0</td>\n",
       "      <td>4.0</td>\n",
       "      <td>4.0</td>\n",
       "    </tr>\n",
       "  </tbody>\n",
       "</table>\n",
       "</div>"
      ],
      "text/plain": [
       "                       Customers  Genpop  Difference  Absolute_Difference\n",
       "LP_LEBENSPHASE_FEIN         40.0     1.0        39.0                 39.0\n",
       "CAMEO_INTL_2015             14.0    51.0       -37.0                 37.0\n",
       "PRAEGENDE_JUGENDJAHRE        4.0    14.0       -10.0                 10.0\n",
       "LP_LEBENSPHASE_GROB         12.0     2.0        10.0                 10.0\n",
       "ALTER_HH                    10.0    18.0        -8.0                  8.0\n",
       "GFK_URLAUBERTYP              5.0    12.0        -7.0                  7.0\n",
       "CAMEO_DEUG_2015              2.0     8.0        -6.0                  6.0\n",
       "MOBI_REGIO                   5.0     1.0         4.0                  4.0\n",
       "HH_EINKOMMEN_SCORE           2.0     6.0        -4.0                  4.0\n",
       "FINANZ_UNAUFFAELLIGER        5.0     1.0         4.0                  4.0"
      ]
     },
     "execution_count": 126,
     "metadata": {},
     "output_type": "execute_result"
    }
   ],
   "source": [
    "# Summary of differing features\n",
    "customer_scores.loc[features]"
   ]
  },
  {
   "cell_type": "markdown",
   "metadata": {},
   "source": [
    "LP_LEBENSPHASE_FEIN - \n",
    "- The most common category for Arvato customes: top earners at retirement age from mulitperson households\n",
    "- The most common category for the general population: single low-income earners of younger age\n",
    "\n",
    "CAMEO_INTL_2015\n",
    "- The most common category for Arvato customes: Wealthy Households-Older Families &  Mature Couples\n",
    "- The most common category for the general population: Poorer Households-Pre-Family Couples & Singles\n",
    "\n",
    "PRAEGENDE_JUGENDJAHRE\n",
    "- The most common category for Arvato customes: 50ies - milk bar / Individualisation (Avantgarde, O+W)\n",
    "- The most common category for the general population: 90ies - digital media kids (Mainstream, O+W)\n",
    "\n",
    "LP_LEBENSPHASE_GROB\n",
    "- The most common category for Arvato customes: high-income earners of higher age from multiperson households\n",
    "- The most common category for the general population: single low-income- and average earners of higher age \n",
    "\n",
    "ALTER_HH\n",
    "- The most common category for Arvato customes: main age within the household between 01.01.1940 bis 31.12.1944\n",
    "- The most common category for the general population: main age within the household between 01.01.1980 bis 31.12.1984\n",
    "\n",
    "GFK_URLAUBERTYP\n",
    "- The most common category for Arvato customes: Nature fans\n",
    "- The most common category for the general population: without vacation\n",
    "\n",
    "CAMEO_DEUG_2015\n",
    "- The most common category for Arvato customes: upper middleclass\n",
    "- The most common category for the general population: working class\n",
    "\n",
    "MOBI_REGIO\n",
    "- The most common category for Arvato customes: very low mobility \n",
    "- The most common category for the general population: very high mobility\n",
    "\n",
    "HH_EINKOMMEN_SCORE\n",
    "- The most common category for Arvato customes: very high income\n",
    "- The most common category for the general population: very low income\n",
    "\n",
    "FINANZ_UNAUFFAELLIGER\n",
    "- The most common category for Arvato customes: financial typology: unremarkable - very low\n",
    "- The most common category for the general population: financial typology: unremarkable - very high"
   ]
  },
  {
   "cell_type": "markdown",
   "metadata": {},
   "source": [
    "In conclusion, Arvato customers are generally older, perhaps retired, top earners and of an upper class."
   ]
  },
  {
   "cell_type": "code",
   "execution_count": 132,
   "metadata": {},
   "outputs": [
    {
     "name": "stderr",
     "output_type": "stream",
     "text": [
      "/Users/pmacdonald/anaconda3/lib/python3.7/site-packages/ipykernel_launcher.py:2: SettingWithCopyWarning: \n",
      "A value is trying to be set on a copy of a slice from a DataFrame.\n",
      "Try using .loc[row_indexer,col_indexer] = value instead\n",
      "\n",
      "See the caveats in the documentation: http://pandas.pydata.org/pandas-docs/stable/indexing.html#indexing-view-versus-copy\n",
      "  \n"
     ]
    },
    {
     "data": {
      "text/html": [
       "<div>\n",
       "<style scoped>\n",
       "    .dataframe tbody tr th:only-of-type {\n",
       "        vertical-align: middle;\n",
       "    }\n",
       "\n",
       "    .dataframe tbody tr th {\n",
       "        vertical-align: top;\n",
       "    }\n",
       "\n",
       "    .dataframe thead th {\n",
       "        text-align: right;\n",
       "    }\n",
       "</style>\n",
       "<table border=\"1\" class=\"dataframe\">\n",
       "  <thead>\n",
       "    <tr style=\"text-align: right;\">\n",
       "      <th></th>\n",
       "      <th>LP_LEBENSPHASE_FEIN</th>\n",
       "      <th>CAMEO_INTL_2015</th>\n",
       "      <th>PRAEGENDE_JUGENDJAHRE</th>\n",
       "      <th>LP_LEBENSPHASE_GROB</th>\n",
       "      <th>ALTER_HH</th>\n",
       "      <th>GFK_URLAUBERTYP</th>\n",
       "      <th>CAMEO_DEUG_2015</th>\n",
       "      <th>MOBI_REGIO</th>\n",
       "      <th>HH_EINKOMMEN_SCORE</th>\n",
       "      <th>FINANZ_UNAUFFAELLIGER</th>\n",
       "      <th>clusters</th>\n",
       "    </tr>\n",
       "  </thead>\n",
       "  <tbody>\n",
       "    <tr>\n",
       "      <th>0</th>\n",
       "      <td>20.0</td>\n",
       "      <td>13.0</td>\n",
       "      <td>4.0</td>\n",
       "      <td>5.0</td>\n",
       "      <td>10.0</td>\n",
       "      <td>4.0</td>\n",
       "      <td>1.0</td>\n",
       "      <td>4.0</td>\n",
       "      <td>1.0</td>\n",
       "      <td>2.0</td>\n",
       "      <td>0</td>\n",
       "    </tr>\n",
       "    <tr>\n",
       "      <th>1</th>\n",
       "      <td>40.0</td>\n",
       "      <td>14.0</td>\n",
       "      <td>4.0</td>\n",
       "      <td>12.0</td>\n",
       "      <td>11.0</td>\n",
       "      <td>5.0</td>\n",
       "      <td>2.0</td>\n",
       "      <td>5.0</td>\n",
       "      <td>2.0</td>\n",
       "      <td>3.0</td>\n",
       "      <td>0</td>\n",
       "    </tr>\n",
       "    <tr>\n",
       "      <th>2</th>\n",
       "      <td>13.0</td>\n",
       "      <td>34.0</td>\n",
       "      <td>4.0</td>\n",
       "      <td>3.0</td>\n",
       "      <td>6.0</td>\n",
       "      <td>3.0</td>\n",
       "      <td>5.0</td>\n",
       "      <td>3.0</td>\n",
       "      <td>1.0</td>\n",
       "      <td>4.0</td>\n",
       "      <td>0</td>\n",
       "    </tr>\n",
       "    <tr>\n",
       "      <th>3</th>\n",
       "      <td>40.0</td>\n",
       "      <td>24.0</td>\n",
       "      <td>1.0</td>\n",
       "      <td>12.0</td>\n",
       "      <td>8.0</td>\n",
       "      <td>10.0</td>\n",
       "      <td>4.0</td>\n",
       "      <td>4.0</td>\n",
       "      <td>4.0</td>\n",
       "      <td>1.0</td>\n",
       "      <td>0</td>\n",
       "    </tr>\n",
       "    <tr>\n",
       "      <th>4</th>\n",
       "      <td>31.0</td>\n",
       "      <td>41.0</td>\n",
       "      <td>8.0</td>\n",
       "      <td>10.0</td>\n",
       "      <td>20.0</td>\n",
       "      <td>2.0</td>\n",
       "      <td>7.0</td>\n",
       "      <td>3.0</td>\n",
       "      <td>6.0</td>\n",
       "      <td>5.0</td>\n",
       "      <td>0</td>\n",
       "    </tr>\n",
       "  </tbody>\n",
       "</table>\n",
       "</div>"
      ],
      "text/plain": [
       "   LP_LEBENSPHASE_FEIN  CAMEO_INTL_2015  PRAEGENDE_JUGENDJAHRE  \\\n",
       "0                 20.0             13.0                    4.0   \n",
       "1                 40.0             14.0                    4.0   \n",
       "2                 13.0             34.0                    4.0   \n",
       "3                 40.0             24.0                    1.0   \n",
       "4                 31.0             41.0                    8.0   \n",
       "\n",
       "   LP_LEBENSPHASE_GROB  ALTER_HH  GFK_URLAUBERTYP  CAMEO_DEUG_2015  \\\n",
       "0                  5.0      10.0              4.0              1.0   \n",
       "1                 12.0      11.0              5.0              2.0   \n",
       "2                  3.0       6.0              3.0              5.0   \n",
       "3                 12.0       8.0             10.0              4.0   \n",
       "4                 10.0      20.0              2.0              7.0   \n",
       "\n",
       "   MOBI_REGIO  HH_EINKOMMEN_SCORE  FINANZ_UNAUFFAELLIGER  clusters  \n",
       "0         4.0                 1.0                    2.0         0  \n",
       "1         5.0                 2.0                    3.0         0  \n",
       "2         3.0                 1.0                    4.0         0  \n",
       "3         4.0                 4.0                    1.0         0  \n",
       "4         3.0                 6.0                    5.0         0  "
      ]
     },
     "execution_count": 132,
     "metadata": {},
     "output_type": "execute_result"
    }
   ],
   "source": [
    "# Subset customer data to features which differ most between customers and genpop\n",
    "c3_subset = c_3[features]\n",
    "c3_subset['clusters'] = c_3['clusters']\n",
    "c3_subset.head()"
   ]
  },
  {
   "cell_type": "code",
   "execution_count": 134,
   "metadata": {},
   "outputs": [
    {
     "data": {
      "image/png": "[encoded data removed]",
      "text/plain": [
       "<Figure size 864x1440 with 10 Axes>"
      ]
     },
     "metadata": {},
     "output_type": "display_data"
    }
   ],
   "source": [
    "# Plot the distribution for the top 10 features for each cluster\n",
    "fig, axes = plt.subplots(10, 1)\n",
    "fig.subplots_adjust(hspace=0.5)\n",
    "fig.set_figheight(20)\n",
    "fig.set_figwidth(12) \n",
    "\n",
    "for i, kpi in enumerate(c3_subset.iloc[:,:-1].columns.tolist()):\n",
    "    axes[i].set_title(kpi)\n",
    "    data = list()\n",
    "    for j in range(6):\n",
    "        data.append(c3_subset[c3_subset['clusters'] == j][kpi])\n",
    "    axes[i].boxplot(data, labels=['cluster_0', 'cluster_1', 'cluster_2', 'cluster_3','cluster_4', 'cluster_5'])"
   ]
  },
  {
   "cell_type": "markdown",
   "metadata": {},
   "source": [
    "### Appendix: Kmeans"
   ]
  },
  {
   "cell_type": "code",
   "execution_count": 53,
   "metadata": {},
   "outputs": [
    {
     "name": "stderr",
     "output_type": "stream",
     "text": [
      "/Users/pmacdonald/anaconda3/lib/python3.7/site-packages/pandas/core/frame.py:3137: SettingWithCopyWarning: \n",
      "A value is trying to be set on a copy of a slice from a DataFrame.\n",
      "Try using .loc[row_indexer,col_indexer] = value instead\n",
      "\n",
      "See the caveats in the documentation: http://pandas.pydata.org/pandas-docs/stable/indexing.html#indexing-view-versus-copy\n",
      "  self[k1] = value[k2]\n"
     ]
    }
   ],
   "source": [
    "#Import data\n",
    "azdias = pd.read_csv('data/Udacity_AZDIAS_052018.csv', sep=';', dtype={18: object, 19: object})\n",
    "customers = pd.read_csv('data/Udacity_CUSTOMERS_052018.csv', sep=';', dtype={18: object, 19: object})\n",
    "feature_summary = pd.read_csv('data/AZDIAS_Feature_Summary.csv', sep=';')\n",
    "\n",
    "# Apply function to datasets\n",
    "c_4, fs = clean_data(customers, feature_summary)\n",
    "az_4, fs = clean_data(azdias, feature_summary)\n",
    "\n",
    "# One hot encode categorical, non ordinal data\n",
    "categorical_cols = list(fs[(fs['type'] == 'categorical')|(fs['type'] == 'mixed')]['attribute'])\n",
    "categorical_cols.append('CAMEO_DEU_2015_let')\n",
    "c_4 = pd.get_dummies(data=c_4, columns=categorical_cols)\n",
    "az_4 = pd.get_dummies(data=az_4, columns=categorical_cols)\n",
    "\n",
    "# Remove columns which aren't present in both dataframes ahead of segmentation\n",
    "uncommon_cols = set(c_4.columns).symmetric_difference(set(az_4.columns))\n",
    "c_4 = c_4.drop(columns = uncommon_cols, axis=1, errors = 'ignore')\n",
    "az_4 = az_4.drop(columns = uncommon_cols, axis=1, errors = 'ignore')\n",
    "\n",
    "# Remove ID column named LNR\n",
    "c_4 = c_4.drop(columns = ['LNR'], axis=1)\n",
    "az_4 = az_4.drop(columns = ['LNR'], axis=1)"
   ]
  },
  {
   "cell_type": "code",
   "execution_count": 54,
   "metadata": {},
   "outputs": [
    {
     "name": "stderr",
     "output_type": "stream",
     "text": [
      "/Users/pmacdonald/anaconda3/lib/python3.7/site-packages/sklearn/preprocessing/data.py:645: DataConversionWarning: Data with input dtype uint8, float64 were all converted to float64 by StandardScaler.\n",
      "  return self.partial_fit(X, y)\n",
      "/Users/pmacdonald/anaconda3/lib/python3.7/site-packages/ipykernel_launcher.py:4: DataConversionWarning: Data with input dtype uint8, float64 were all converted to float64 by StandardScaler.\n",
      "  after removing the cwd from sys.path.\n"
     ]
    },
    {
     "data": {
      "image/png": "[encoded data removed]",
      "text/plain": [
       "<Figure size 432x288 with 1 Axes>"
      ]
     },
     "metadata": {},
     "output_type": "display_data"
    }
   ],
   "source": [
    "# Declare and fit scaler to customers dataset - as kmeans looks at Euclidean distance, all fields must be on same scale\n",
    "scaler_4 = StandardScaler()\n",
    "scaler_4.fit(c_4)\n",
    "c_4_scaled_features = scaler_4.transform(c_4)\n",
    "c_4_scaled = pd.DataFrame(c_4_scaled_features, columns=c_4.columns)\n",
    "\n",
    "# Reduce data\n",
    "# Determine the number of components to use using link: https://towardsdatascience.com/an-approach-to-choosing-the-number-of-components-in-a-principal-component-analysis-pca-3b9f3d6e73fe\n",
    "# Fitting the PCA algorithm with our Data\n",
    "pca_4 = PCA().fit(c_4_scaled)\n",
    "# Plotting the Cumulative Summation of the Explained Variance\n",
    "plt.figure()\n",
    "plt.plot(np.cumsum(pca_4.explained_variance_ratio_))\n",
    "plt.xlabel('Number of Components')\n",
    "plt.ylabel('Variance (%)') #for each component\n",
    "plt.title('Customer Dataset Explained Variance')\n",
    "plt.show()\n",
    "# Plot suggests 125 components descripe 90% of the data"
   ]
  },
  {
   "cell_type": "code",
   "execution_count": 55,
   "metadata": {},
   "outputs": [],
   "source": [
    "# Reduce customers dataset to 125 components using PCA\n",
    "pca_4 = PCA(n_components=150)\n",
    "c_4_components = pca_4.fit_transform(c_4_scaled)"
   ]
  },
  {
   "cell_type": "code",
   "execution_count": 56,
   "metadata": {},
   "outputs": [
    {
     "data": {
      "image/png": "[encoded data removed]",
      "text/plain": [
       "<Figure size 864x432 with 1 Axes>"
      ]
     },
     "metadata": {},
     "output_type": "display_data"
    }
   ],
   "source": [
    "# Determine number of clusters using elbow method - https://towardsdatascience.com/customer-segmentation-using-k-means-clustering-d33964f238c3\n",
    "sse = []\n",
    "for k in range(1,10):\n",
    "    kmeans = KMeans(n_clusters=k, init=\"k-means++\")\n",
    "    kmeans.fit(c_4_components)\n",
    "    sse.append(kmeans.inertia_)\n",
    "    \n",
    "plt.figure(figsize=(12,6))    \n",
    "plt.plot(range(1,10), sse)\n",
    "plt.xlabel(\"Number of clusters\")\n",
    "plt.ylabel(\"SSE\")\n",
    "plt.title(\"Chart to establish the optimal number of clusters\")\n",
    "plt.show()\n",
    "# 4 clusters looks optimal"
   ]
  },
  {
   "cell_type": "code",
   "execution_count": 57,
   "metadata": {},
   "outputs": [
    {
     "data": {
      "image/png": "[encoded data removed]",
      "text/plain": [
       "<Figure size 432x288 with 1 Axes>"
      ]
     },
     "metadata": {},
     "output_type": "display_data"
    }
   ],
   "source": [
    "# Apply kmeans to scaled, reduced data and create column of results\n",
    "kmeans = KMeans(n_clusters=3, random_state=20)\n",
    "c_4_components = pd.DataFrame(c_4_components)\n",
    "c_4_components['clusters'] = kmeans.fit_predict(c_4_components)\n",
    "\n",
    "# Reduce customers dataset to 50 components using PCA to speed up TSNE\n",
    "pca_5 = PCA(n_components=50)\n",
    "c_5_components = pca_5.fit_transform(c_4_components)\n",
    "\n",
    "# Apply TSNE to reduce down to 2 dimensions\n",
    "tsne_5 = TSNE(n_components=2, random_state=1986)\n",
    "twodim_arr_5 = tsne_5.fit_transform(c_5_components)\n",
    "\n",
    "\n",
    "# Plot clusters created via kmeans in two dimensions\n",
    "color = iter(plt.cm.rainbow(np.linspace(0,1,3)))\n",
    "\n",
    "for group in list(c_4_components['clusters'].unique().tolist()):\n",
    "    c = next(color)\n",
    "    plt.scatter(twodim_arr_5[c_4_components['clusters'] == group, 0], \n",
    "                twodim_arr_5[c_4_components['clusters'] == group, 1],\n",
    "                color=c,\n",
    "                label=group)"
   ]
  },
  {
   "cell_type": "code",
   "execution_count": 58,
   "metadata": {},
   "outputs": [
    {
     "data": {
      "text/plain": [
       "0.10600661698048469"
      ]
     },
     "execution_count": 58,
     "metadata": {},
     "output_type": "execute_result"
    }
   ],
   "source": [
    "# Calculate Silhouette score of applying KMeans\n",
    "sil_avg = silhouette_score(c_4_components, c_4_components['clusters'])\n",
    "sil_avg"
   ]
  },
  {
   "cell_type": "code",
   "execution_count": 59,
   "metadata": {},
   "outputs": [
    {
     "data": {
      "text/plain": [
       "<matplotlib.lines.Line2D at 0x1a3e7aef28>"
      ]
     },
     "execution_count": 59,
     "metadata": {},
     "output_type": "execute_result"
    },
    {
     "data": {
      "image/png": "[encoded data removed]",
      "text/plain": [
       "<Figure size 864x432 with 1 Axes>"
      ]
     },
     "metadata": {},
     "output_type": "display_data"
    }
   ],
   "source": [
    "# Compute the silhouette scores for each sample from https://scikit-learn.org/stable/auto_examples/cluster/plot_kmeans_silhouette_analysis.html\n",
    "\n",
    "\n",
    "# Establish silhouette values = measure of similarity/distance between a data point and its assigned cluster\n",
    "# Value of 1 indicates a datapoint is dissimilar from other clusters\n",
    "# Value of 0 indicates the data point was 'borderline'\n",
    "# Value -1 indicates a datapoint is dissimilar from other datapoints in cluster\n",
    "sample_silhouette_values = silhouette_samples(c_4_components, c_4_components['clusters'])\n",
    "\n",
    "\n",
    "plt.figure(figsize=(12,6)) \n",
    "# Define where plot should start on y axis\n",
    "y_lower = 10\n",
    "for i in range(3):\n",
    "    # Aggregate the silhouette scores for samples belonging to cluster i, and sort them\n",
    "    ith_cluster_silhouette_values = sample_silhouette_values[c_4_components['clusters'] == i]\n",
    "    ith_cluster_silhouette_values.sort()\n",
    "    \n",
    "    # Establish size of cluster\n",
    "    size_cluster_i = ith_cluster_silhouette_values.shape[0]\n",
    "    y_upper = y_lower + size_cluster_i\n",
    "    \n",
    "    # Fill plot between y_lower and y_upper (defined by size of cluster) and the silouhette value for each datapoint\n",
    "    color = plt.cm.nipy_spectral(float(i) / 3)\n",
    "    plt.fill_betweenx(np.arange(y_lower, y_upper),\n",
    "                        0, ith_cluster_silhouette_values,\n",
    "                        facecolor=color, edgecolor=color, alpha=0.7)\n",
    "\n",
    "    # Label the silhouette plots with their cluster numbers at the middle\n",
    "    plt.text(-0.05, y_lower + 0.5 * size_cluster_i, str(i))\n",
    "\n",
    "    # Compute the new y_lower for next plot\n",
    "    y_lower = y_upper + 10  # 10 for the 0 samples\n",
    "\n",
    "plt.title(\"The silhouette plot for clusters created via kmeans\")\n",
    "plt.xlabel(\"The silhouette coefficient values\")\n",
    "plt.ylabel(\"Cluster label\")\n",
    "\n",
    "# The vertical line for average silhouette score of all the values\n",
    "plt.axvline(x=sil_avg, color=\"red\", linestyle=\"--\")\n"
   ]
  },
  {
   "cell_type": "markdown",
   "metadata": {},
   "source": [
    "## Part 2: Supervised Learning Model\n",
    "\n",
    "Now that you've found which parts of the population are more likely to be customers of the mail-order company, it's time to build a prediction model. Each of the rows in the \"MAILOUT\" data files represents an individual that was targeted for a mailout campaign. Ideally, we should be able to use the demographic information from each individual to decide whether or not it will be worth it to include that person in the campaign.\n",
    "\n",
    "The \"MAILOUT\" data has been split into two approximately equal parts, each with almost 43 000 data rows. In this part, you can verify your model with the \"TRAIN\" partition, which includes a column, \"RESPONSE\", that states whether or not a person became a customer of the company following the campaign. In the next part, you'll need to create predictions on the \"TEST\" partition, where the \"RESPONSE\" column has been withheld."
   ]
  },
  {
   "cell_type": "code",
   "execution_count": 4,
   "metadata": {},
   "outputs": [],
   "source": [
    "# Load training data\n",
    "mailout_train = pd.read_csv('data/Udacity_MAILOUT_052018_TRAIN.csv', sep=';', dtype={18: object, 19: object})\n",
    "feature_summary = pd.read_csv('data/AZDIAS_Feature_Summary.csv', sep=';', dtype={18: object, 19: object})"
   ]
  },
  {
   "cell_type": "code",
   "execution_count": 5,
   "metadata": {},
   "outputs": [
    {
     "name": "stderr",
     "output_type": "stream",
     "text": [
      "/Users/pmacdonald/anaconda3/lib/python3.7/site-packages/pandas/core/frame.py:3137: SettingWithCopyWarning: \n",
      "A value is trying to be set on a copy of a slice from a DataFrame.\n",
      "Try using .loc[row_indexer,col_indexer] = value instead\n",
      "\n",
      "See the caveats in the documentation: http://pandas.pydata.org/pandas-docs/stable/indexing.html#indexing-view-versus-copy\n",
      "  self[k1] = value[k2]\n"
     ]
    }
   ],
   "source": [
    "# Apply cleaning function to cleaning data\n",
    "train, feature_summary_updated = clean_data(mailout_train, feature_summary)"
   ]
  },
  {
   "cell_type": "code",
   "execution_count": 6,
   "metadata": {},
   "outputs": [],
   "source": [
    "# Label encode object fields\n",
    "le = preprocessing.LabelEncoder()\n",
    "obj_cols = train.columns[train.dtypes == 'object']\n",
    "train[obj_cols] = train[obj_cols].apply(le.fit_transform)"
   ]
  },
  {
   "cell_type": "code",
   "execution_count": 7,
   "metadata": {},
   "outputs": [],
   "source": [
    "# Assign target variable to Y\n",
    "# Assign all columns minus target variable to X\n",
    "y = train['RESPONSE']\n",
    "x = train.drop(columns = ['RESPONSE'], axis = 1)"
   ]
  },
  {
   "cell_type": "code",
   "execution_count": 8,
   "metadata": {},
   "outputs": [],
   "source": [
    "# Split into training and validation datasets\n",
    "x_train, x_test, y_train, y_test = train_test_split(x, y, test_size =0.3, random_state=101)"
   ]
  },
  {
   "cell_type": "code",
   "execution_count": 9,
   "metadata": {},
   "outputs": [],
   "source": [
    "# Create list of categorical columns - as catboost and light GBM work best if these are specified\n",
    "categorical_cols = list(feature_summary_updated[(feature_summary_updated['type'] == 'categorical')|(feature_summary_updated['type'] == 'mixed')]['attribute'])\n"
   ]
  },
  {
   "cell_type": "code",
   "execution_count": 36,
   "metadata": {},
   "outputs": [],
   "source": [
    "# Define evaluation functions\n",
    "def auc(model, x_train, x_test, y_train, y_test): \n",
    "    return (metrics.roc_auc_score(y_train, model.predict_proba(x_train)[:,1]),\n",
    "                            metrics.roc_auc_score(y_test, model.predict_proba(x_test)[:,1]))\n",
    "\n",
    "def auc2(model, x_train, x_test, y_train, y_test): \n",
    "    return (metrics.roc_auc_score(y_train,model.predict(x_train)),\n",
    "                            metrics.roc_auc_score(y_test,model.predict(x_test)))\n",
    "\n",
    "def aucpr(model, x_train, x_test, y_train, y_test):\n",
    "    return (metrics.average_precision_score(y_train, model.predict_proba(x_train)[:,1]),\n",
    "                            metrics.average_precision_score(y_test, model.predict_proba(x_test)[:,1]))    \n",
    "\n",
    "def aucpr2(model, x_train, x_test, y_train, y_test): \n",
    "    return (metrics.average_precision_score(y_train, model.predict(x_train)),\n",
    "                            metrics.average_precision_score(y_test, model.predict(x_test)))"
   ]
  },
  {
   "cell_type": "markdown",
   "metadata": {},
   "source": [
    "### Model comparisons - help from https://towardsdatascience.com/catboost-vs-light-gbm-vs-xgboost-5f93620723db"
   ]
  },
  {
   "cell_type": "markdown",
   "metadata": {},
   "source": [
    "### Light GBM"
   ]
  },
  {
   "cell_type": "code",
   "execution_count": 83,
   "metadata": {},
   "outputs": [
    {
     "name": "stdout",
     "output_type": "stream",
     "text": [
      "Fitting 3 folds for each of 36 candidates, totalling 108 fits\n"
     ]
    },
    {
     "name": "stderr",
     "output_type": "stream",
     "text": [
      "[Parallel(n_jobs=-1)]: Using backend LokyBackend with 4 concurrent workers.\n",
      "[Parallel(n_jobs=-1)]: Done  10 tasks      | elapsed:    9.0s\n",
      "[Parallel(n_jobs=-1)]: Done  64 tasks      | elapsed:   54.7s\n",
      "[Parallel(n_jobs=-1)]: Done 108 out of 108 | elapsed:  1.6min finished\n"
     ]
    },
    {
     "data": {
      "text/plain": [
       "GridSearchCV(cv=3, error_score='raise-deprecating',\n",
       "       estimator=LGBMClassifier(boosting_type='gbdt', class_weight=None, colsample_bytree=1.0,\n",
       "        importance_type='split', learning_rate=0.1, max_depth=-1,\n",
       "        min_child_samples=20, min_child_weight=0.001, min_split_gain=0.0,\n",
       "        n_estimators=100, n_jobs=-1, num_leaves=31, objective=None,\n",
       "        random_state=None, reg_alpha=0.0, reg_lambda=0.0, silent=False,\n",
       "        subsample=1.0, subsample_for_bin=200000, subsample_freq=0),\n",
       "       fit_params=None, iid='warn', n_jobs=-1,\n",
       "       param_grid={'max_depth': [1, 2, 5], 'learning_rate': [0.05, 0.1, 0.5], 'num_leaves': [10, 25, 50, 75], 'n_estimators': [200]},\n",
       "       pre_dispatch='2*n_jobs', refit=True, return_train_score='warn',\n",
       "       scoring='roc_auc', verbose=5)"
      ]
     },
     "execution_count": 83,
     "metadata": {},
     "output_type": "execute_result"
    }
   ],
   "source": [
    "# Tune Light GBM model\n",
    "lgbm_model = lgb.LGBMClassifier(silent=False)\n",
    "param_dist = {\"max_depth\": [1, 2, 5],\n",
    "              \"learning_rate\" : [0.05, 0.1, 0.5],\n",
    "              \"num_leaves\": [10, 25, 50, 75],\n",
    "              \"n_estimators\": [200]\n",
    "             }\n",
    "lgbm_grid_search = GridSearchCV(lgbm_model, n_jobs=-1, param_grid=param_dist, cv = 3, scoring=\"roc_auc\", verbose=5)\n",
    "lgbm_grid_search.fit(x_train,y_train)"
   ]
  },
  {
   "cell_type": "code",
   "execution_count": 87,
   "metadata": {},
   "outputs": [
    {
     "name": "stdout",
     "output_type": "stream",
     "text": [
      "\n",
      " The best estimator across ALL searched params:\n",
      " LGBMClassifier(boosting_type='gbdt', class_weight=None, colsample_bytree=1.0,\n",
      "        importance_type='split', learning_rate=0.5, max_depth=1,\n",
      "        min_child_samples=20, min_child_weight=0.001, min_split_gain=0.0,\n",
      "        n_estimators=200, n_jobs=-1, num_leaves=10, objective=None,\n",
      "        random_state=None, reg_alpha=0.0, reg_lambda=0.0, silent=False,\n",
      "        subsample=1.0, subsample_for_bin=200000, subsample_freq=0)\n",
      "\n",
      " The best score across ALL searched params:\n",
      " 0.545572033358914\n",
      "\n",
      " The best parameters across ALL searched params:\n",
      " {'learning_rate': 0.5, 'max_depth': 1, 'n_estimators': 200, 'num_leaves': 10}\n"
     ]
    }
   ],
   "source": [
    "# Summary of grid search results\n",
    "print(\"\\n The best estimator across ALL searched params:\\n\",\n",
    "lgbm_grid_search.best_estimator_)\n",
    "    \n",
    "print(\"\\n The best score across ALL searched params:\\n\",\n",
    "lgbm_grid_search.best_score_)\n",
    "    \n",
    "print(\"\\n The best parameters across ALL searched params:\\n\",\n",
    "lgbm_grid_search.best_params_)"
   ]
  },
  {
   "cell_type": "code",
   "execution_count": 11,
   "metadata": {},
   "outputs": [
    {
     "name": "stderr",
     "output_type": "stream",
     "text": [
      "/Users/pmacdonald/anaconda3/lib/python3.7/site-packages/lightgbm/engine.py:116: UserWarning: Found `n_estimators` in params. Will use it instead of argument\n",
      "  warnings.warn(\"Found `{}` in params. Will use it instead of argument\".format(alias))\n",
      "/Users/pmacdonald/anaconda3/lib/python3.7/site-packages/lightgbm/basic.py:1190: UserWarning: categorical_feature in Dataset is overridden.\n",
      "New categorical_feature is ['AGER_TYP', 'ANREDE_KZ', 'CAMEO_DEUG_2015', 'CAMEO_INTL_2015', 'CJT_GESAMTTYP', 'FINANZTYP', 'GEBAEUDETYP', 'GFK_URLAUBERTYP', 'GREEN_AVANTGARDE', 'LP_FAMILIE_FEIN', 'LP_FAMILIE_GROB', 'LP_LEBENSPHASE_FEIN', 'LP_LEBENSPHASE_GROB', 'LP_STATUS_FEIN', 'LP_STATUS_GROB', 'NATIONALITAET_KZ', 'OST_WEST_KZ', 'PLZ8_BAUMAX', 'PRAEGENDE_JUGENDJAHRE', 'SHOPPER_TYP', 'SOHO_KZ', 'VERS_TYP', 'WOHNLAGE', 'ZABEOTYP']\n",
      "  'New categorical_feature is {}'.format(sorted(list(categorical_feature))))\n"
     ]
    }
   ],
   "source": [
    "# Fit tuned LightGBM model\n",
    "d_train = lgb.Dataset(x_train, label=y_train)\n",
    "params = {\"max_depth\": 1, \n",
    "          \"learning_rate\" : 0.5, \n",
    "          \"num_leaves\": 10,  \n",
    "          \"n_estimators\": 200}\n",
    "lgbm_model_tuned = lgb.train(params, d_train, categorical_feature = categorical_cols)"
   ]
  },
  {
   "cell_type": "code",
   "execution_count": 60,
   "metadata": {},
   "outputs": [],
   "source": [
    "# Evaluate LightGBM model\n",
    "auc = auc2(lgbm_model_tuned, x_train, x_test, y_train, y_test)\n",
    "aucpr = aucpr2(lgbm_model_tuned, x_train, x_test, y_train, y_test)\n",
    "model_performance = [(\"LightGBM AUC\", auc), (\"LightGBM AUCPR\", aucpr)]\n",
    "model_performance"
   ]
  },
  {
   "cell_type": "markdown",
   "metadata": {},
   "source": [
    "### Catboost"
   ]
  },
  {
   "cell_type": "code",
   "execution_count": 38,
   "metadata": {},
   "outputs": [],
   "source": [
    "# Tune Catboost model\n",
    "params = {'depth': [5, 10, 15],\n",
    "          'learning_rate' : [0.01, 0.03, 0.05],\n",
    "          'l2_leaf_reg': [1,4,9],\n",
    "          'iterations': [300]}"
   ]
  },
  {
   "cell_type": "code",
   "execution_count": 39,
   "metadata": {},
   "outputs": [],
   "source": [
    "cb = CatBoostClassifier()"
   ]
  },
  {
   "cell_type": "code",
   "execution_count": 40,
   "metadata": {},
   "outputs": [],
   "source": [
    "cb_grid_search = GridSearchCV(cb, params, scoring=\"roc_auc\", cv = 3)"
   ]
  },
  {
   "cell_type": "code",
   "execution_count": 41,
   "metadata": {},
   "outputs": [
    {
     "data": {
      "text/plain": [
       "GridSearchCV(cv=3, error_score='raise-deprecating',\n",
       "       estimator=<catboost.core.CatBoostClassifier object at 0x10ca8a7f0>,\n",
       "       fit_params=None, iid='warn', n_jobs=None,\n",
       "       param_grid={'depth': [5, 10, 15], 'learning_rate': [0.01, 0.03, 0.05], 'l2_leaf_reg': [1, 4, 9], 'iterations': [300]},\n",
       "       pre_dispatch='2*n_jobs', refit=True, return_train_score='warn',\n",
       "       scoring='roc_auc', verbose=0)"
      ]
     },
     "execution_count": 41,
     "metadata": {},
     "output_type": "execute_result"
    }
   ],
   "source": [
    "cb_grid_search.fit(x_train, y_train, verbose = False)"
   ]
  },
  {
   "cell_type": "code",
   "execution_count": 42,
   "metadata": {},
   "outputs": [
    {
     "name": "stdout",
     "output_type": "stream",
     "text": [
      "\n",
      " The best estimator across ALL searched params:\n",
      " <catboost.core.CatBoostClassifier object at 0x11926e5c0>\n",
      "\n",
      " The best score across ALL searched params:\n",
      " 0.571476372023781\n",
      "\n",
      " The best parameters across ALL searched params:\n",
      " {'depth': 10, 'iterations': 300, 'l2_leaf_reg': 4, 'learning_rate': 0.03}\n"
     ]
    }
   ],
   "source": [
    "print(\"\\n The best estimator across ALL searched params:\\n\",\n",
    "cb_grid_search.best_estimator_)\n",
    "    \n",
    "print(\"\\n The best score across ALL searched params:\\n\",\n",
    "cb_grid_search.best_score_)\n",
    "    \n",
    "print(\"\\n The best parameters across ALL searched params:\\n\",\n",
    "cb_grid_search.best_params_)"
   ]
  },
  {
   "cell_type": "code",
   "execution_count": 14,
   "metadata": {},
   "outputs": [
    {
     "data": {
      "text/plain": [
       "<catboost.core.CatBoostClassifier at 0x1a15f5fc50>"
      ]
     },
     "execution_count": 14,
     "metadata": {},
     "output_type": "execute_result"
    }
   ],
   "source": [
    "# Fit tuned Catboost model\n",
    "\n",
    "#clf = CatBoostClassifier()\n",
    "\n",
    "cb_model_tuned = CatBoostClassifier(depth = 10, \n",
    "                                    learning_rate = 0.03, \n",
    "                                    l2_leaf_reg = 4,  \n",
    "                                    iterations = 300,\n",
    "                                    eval_metric=\"AUC\", \n",
    "                                    one_hot_max_size=31)\n",
    "cb_model_tuned.fit(x_train, y_train, cat_features= categorical_cols, verbose = False)"
   ]
  },
  {
   "cell_type": "code",
   "execution_count": 17,
   "metadata": {},
   "outputs": [
    {
     "data": {
      "text/plain": [
       "[('LightGBM AUC', (0.7439297629152931, 0.537147499785302)),\n",
       " ('LightGBM AUCPR', (0.04930788829055523, 0.014471576498594046)),\n",
       " ('Catboost AUC', (0.9458956455037945, 0.5738224379748781)),\n",
       " ('Catboost AUCPR', (0.7259177436092481, 0.017759533447865673))]"
      ]
     },
     "execution_count": 17,
     "metadata": {},
     "output_type": "execute_result"
    }
   ],
   "source": [
    "# Evaluate Catboost model\n",
    "cb_auc = auc(cb_model_tuned, x_train, x_test, y_train, y_test)\n",
    "cb_aucpr = aucpr(cb_model_tuned, x_train, x_test, y_train, y_test)\n",
    "model_performance.append((\"Catboost AUC\", cb_auc))\n",
    "model_performance.append((\"Catboost AUCPR\", cb_aucpr))\n",
    "\n",
    "#model_performance = [(\"Catboost AUC\", cb_auc), (\"Catboost AUCPR\", cb_aucpr)]\n",
    "model_performance"
   ]
  },
  {
   "cell_type": "markdown",
   "metadata": {},
   "source": [
    "### XGBoost "
   ]
  },
  {
   "cell_type": "code",
   "execution_count": 19,
   "metadata": {},
   "outputs": [],
   "source": [
    "# One hot encode categorical fields for XGBoost model\n",
    "categorical_cols = list(feature_summary_updated[(feature_summary_updated['type'] == 'categorical')|(feature_summary_updated['type'] == 'mixed')]['attribute'])\n",
    "categorical_cols.append('CAMEO_DEU_2015_let')\n",
    "xgb_train = pd.get_dummies(data=x_train, columns=categorical_cols)\n",
    "xgb_test = pd.get_dummies(data=x_test, columns=categorical_cols)"
   ]
  },
  {
   "cell_type": "code",
   "execution_count": 78,
   "metadata": {},
   "outputs": [
    {
     "data": {
      "text/html": [
       "<div>\n",
       "<style scoped>\n",
       "    .dataframe tbody tr th:only-of-type {\n",
       "        vertical-align: middle;\n",
       "    }\n",
       "\n",
       "    .dataframe tbody tr th {\n",
       "        vertical-align: top;\n",
       "    }\n",
       "\n",
       "    .dataframe thead th {\n",
       "        text-align: right;\n",
       "    }\n",
       "</style>\n",
       "<table border=\"1\" class=\"dataframe\">\n",
       "  <thead>\n",
       "    <tr style=\"text-align: right;\">\n",
       "      <th></th>\n",
       "      <th>LNR</th>\n",
       "      <th>ALTER_HH</th>\n",
       "      <th>ANZ_HAUSHALTE_AKTIV</th>\n",
       "      <th>ANZ_HH_TITEL</th>\n",
       "      <th>ANZ_PERSONEN</th>\n",
       "      <th>ANZ_TITEL</th>\n",
       "      <th>ARBEIT</th>\n",
       "      <th>BALLRAUM</th>\n",
       "      <th>EWDICHTE</th>\n",
       "      <th>FINANZ_ANLEGER</th>\n",
       "      <th>...</th>\n",
       "      <th>PLZ8_BAUMAX_2.0</th>\n",
       "      <th>PLZ8_BAUMAX_3.0</th>\n",
       "      <th>PLZ8_BAUMAX_4.0</th>\n",
       "      <th>PLZ8_BAUMAX_5.0</th>\n",
       "      <th>CAMEO_DEU_2015_let_0</th>\n",
       "      <th>CAMEO_DEU_2015_let_1</th>\n",
       "      <th>CAMEO_DEU_2015_let_2</th>\n",
       "      <th>CAMEO_DEU_2015_let_3</th>\n",
       "      <th>CAMEO_DEU_2015_let_4</th>\n",
       "      <th>CAMEO_DEU_2015_let_5</th>\n",
       "    </tr>\n",
       "  </thead>\n",
       "  <tbody>\n",
       "    <tr>\n",
       "      <th>9540</th>\n",
       "      <td>47281</td>\n",
       "      <td>14.0</td>\n",
       "      <td>2.000000</td>\n",
       "      <td>0.000000</td>\n",
       "      <td>1.0</td>\n",
       "      <td>0.0</td>\n",
       "      <td>3.0</td>\n",
       "      <td>7.0</td>\n",
       "      <td>2.0</td>\n",
       "      <td>2.0</td>\n",
       "      <td>...</td>\n",
       "      <td>0</td>\n",
       "      <td>0</td>\n",
       "      <td>0</td>\n",
       "      <td>0</td>\n",
       "      <td>0</td>\n",
       "      <td>0</td>\n",
       "      <td>1</td>\n",
       "      <td>0</td>\n",
       "      <td>0</td>\n",
       "      <td>0</td>\n",
       "    </tr>\n",
       "    <tr>\n",
       "      <th>34593</th>\n",
       "      <td>79480</td>\n",
       "      <td>13.0</td>\n",
       "      <td>6.808657</td>\n",
       "      <td>0.049574</td>\n",
       "      <td>1.0</td>\n",
       "      <td>0.0</td>\n",
       "      <td>4.0</td>\n",
       "      <td>6.0</td>\n",
       "      <td>6.0</td>\n",
       "      <td>2.0</td>\n",
       "      <td>...</td>\n",
       "      <td>0</td>\n",
       "      <td>0</td>\n",
       "      <td>0</td>\n",
       "      <td>0</td>\n",
       "      <td>0</td>\n",
       "      <td>1</td>\n",
       "      <td>0</td>\n",
       "      <td>0</td>\n",
       "      <td>0</td>\n",
       "      <td>0</td>\n",
       "    </tr>\n",
       "    <tr>\n",
       "      <th>24990</th>\n",
       "      <td>54351</td>\n",
       "      <td>19.0</td>\n",
       "      <td>2.000000</td>\n",
       "      <td>0.000000</td>\n",
       "      <td>4.0</td>\n",
       "      <td>0.0</td>\n",
       "      <td>3.0</td>\n",
       "      <td>3.0</td>\n",
       "      <td>4.0</td>\n",
       "      <td>1.0</td>\n",
       "      <td>...</td>\n",
       "      <td>0</td>\n",
       "      <td>0</td>\n",
       "      <td>0</td>\n",
       "      <td>0</td>\n",
       "      <td>0</td>\n",
       "      <td>0</td>\n",
       "      <td>0</td>\n",
       "      <td>0</td>\n",
       "      <td>0</td>\n",
       "      <td>1</td>\n",
       "    </tr>\n",
       "    <tr>\n",
       "      <th>12421</th>\n",
       "      <td>7604</td>\n",
       "      <td>7.0</td>\n",
       "      <td>4.000000</td>\n",
       "      <td>0.000000</td>\n",
       "      <td>0.0</td>\n",
       "      <td>0.0</td>\n",
       "      <td>4.0</td>\n",
       "      <td>1.0</td>\n",
       "      <td>6.0</td>\n",
       "      <td>1.0</td>\n",
       "      <td>...</td>\n",
       "      <td>0</td>\n",
       "      <td>0</td>\n",
       "      <td>0</td>\n",
       "      <td>1</td>\n",
       "      <td>0</td>\n",
       "      <td>1</td>\n",
       "      <td>0</td>\n",
       "      <td>0</td>\n",
       "      <td>0</td>\n",
       "      <td>0</td>\n",
       "    </tr>\n",
       "    <tr>\n",
       "      <th>7338</th>\n",
       "      <td>69358</td>\n",
       "      <td>9.0</td>\n",
       "      <td>3.000000</td>\n",
       "      <td>0.000000</td>\n",
       "      <td>1.0</td>\n",
       "      <td>0.0</td>\n",
       "      <td>1.0</td>\n",
       "      <td>2.0</td>\n",
       "      <td>3.0</td>\n",
       "      <td>1.0</td>\n",
       "      <td>...</td>\n",
       "      <td>0</td>\n",
       "      <td>0</td>\n",
       "      <td>0</td>\n",
       "      <td>0</td>\n",
       "      <td>1</td>\n",
       "      <td>0</td>\n",
       "      <td>0</td>\n",
       "      <td>0</td>\n",
       "      <td>0</td>\n",
       "      <td>0</td>\n",
       "    </tr>\n",
       "  </tbody>\n",
       "</table>\n",
       "<p>5 rows × 261 columns</p>\n",
       "</div>"
      ],
      "text/plain": [
       "         LNR  ALTER_HH  ANZ_HAUSHALTE_AKTIV  ANZ_HH_TITEL  ANZ_PERSONEN  \\\n",
       "9540   47281      14.0             2.000000      0.000000           1.0   \n",
       "34593  79480      13.0             6.808657      0.049574           1.0   \n",
       "24990  54351      19.0             2.000000      0.000000           4.0   \n",
       "12421   7604       7.0             4.000000      0.000000           0.0   \n",
       "7338   69358       9.0             3.000000      0.000000           1.0   \n",
       "\n",
       "       ANZ_TITEL  ARBEIT  BALLRAUM  EWDICHTE  FINANZ_ANLEGER  \\\n",
       "9540         0.0     3.0       7.0       2.0             2.0   \n",
       "34593        0.0     4.0       6.0       6.0             2.0   \n",
       "24990        0.0     3.0       3.0       4.0             1.0   \n",
       "12421        0.0     4.0       1.0       6.0             1.0   \n",
       "7338         0.0     1.0       2.0       3.0             1.0   \n",
       "\n",
       "               ...           PLZ8_BAUMAX_2.0  PLZ8_BAUMAX_3.0  \\\n",
       "9540           ...                         0                0   \n",
       "34593          ...                         0                0   \n",
       "24990          ...                         0                0   \n",
       "12421          ...                         0                0   \n",
       "7338           ...                         0                0   \n",
       "\n",
       "       PLZ8_BAUMAX_4.0  PLZ8_BAUMAX_5.0  CAMEO_DEU_2015_let_0  \\\n",
       "9540                 0                0                     0   \n",
       "34593                0                0                     0   \n",
       "24990                0                0                     0   \n",
       "12421                0                1                     0   \n",
       "7338                 0                0                     1   \n",
       "\n",
       "       CAMEO_DEU_2015_let_1  CAMEO_DEU_2015_let_2  CAMEO_DEU_2015_let_3  \\\n",
       "9540                      0                     1                     0   \n",
       "34593                     1                     0                     0   \n",
       "24990                     0                     0                     0   \n",
       "12421                     1                     0                     0   \n",
       "7338                      0                     0                     0   \n",
       "\n",
       "       CAMEO_DEU_2015_let_4  CAMEO_DEU_2015_let_5  \n",
       "9540                      0                     0  \n",
       "34593                     0                     0  \n",
       "24990                     0                     1  \n",
       "12421                     0                     0  \n",
       "7338                      0                     0  \n",
       "\n",
       "[5 rows x 261 columns]"
      ]
     },
     "execution_count": 78,
     "metadata": {},
     "output_type": "execute_result"
    }
   ],
   "source": [
    "xgb_train.head()"
   ]
  },
  {
   "cell_type": "code",
   "execution_count": 84,
   "metadata": {},
   "outputs": [
    {
     "name": "stdout",
     "output_type": "stream",
     "text": [
      "Fitting 3 folds for each of 36 candidates, totalling 108 fits\n"
     ]
    },
    {
     "name": "stderr",
     "output_type": "stream",
     "text": [
      "[Parallel(n_jobs=-1)]: Using backend LokyBackend with 4 concurrent workers.\n",
      "/Users/pmacdonald/anaconda3/lib/python3.7/site-packages/sklearn/externals/joblib/externals/loky/process_executor.py:706: UserWarning: A worker stopped while some jobs were given to the executor. This can be caused by a too short worker timeout or by a memory leak.\n",
      "  \"timeout or by a memory leak.\", UserWarning\n",
      "/Users/pmacdonald/anaconda3/lib/python3.7/site-packages/sklearn/externals/joblib/externals/loky/process_executor.py:706: UserWarning: A worker stopped while some jobs were given to the executor. This can be caused by a too short worker timeout or by a memory leak.\n",
      "  \"timeout or by a memory leak.\", UserWarning\n",
      "/Users/pmacdonald/anaconda3/lib/python3.7/site-packages/sklearn/externals/joblib/externals/loky/process_executor.py:706: UserWarning: A worker stopped while some jobs were given to the executor. This can be caused by a too short worker timeout or by a memory leak.\n",
      "  \"timeout or by a memory leak.\", UserWarning\n",
      "/Users/pmacdonald/anaconda3/lib/python3.7/site-packages/sklearn/externals/joblib/externals/loky/process_executor.py:706: UserWarning: A worker stopped while some jobs were given to the executor. This can be caused by a too short worker timeout or by a memory leak.\n",
      "  \"timeout or by a memory leak.\", UserWarning\n",
      "[Parallel(n_jobs=-1)]: Done   5 tasks      | elapsed:  2.0min\n",
      "[Parallel(n_jobs=-1)]: Done  10 tasks      | elapsed:  3.3min\n",
      "[Parallel(n_jobs=-1)]: Done  17 tasks      | elapsed:  5.6min\n",
      "[Parallel(n_jobs=-1)]: Done  24 tasks      | elapsed:  8.9min\n",
      "[Parallel(n_jobs=-1)]: Done  33 tasks      | elapsed: 14.8min\n",
      "[Parallel(n_jobs=-1)]: Done  42 tasks      | elapsed: 17.1min\n",
      "[Parallel(n_jobs=-1)]: Done  53 tasks      | elapsed: 20.4min\n",
      "[Parallel(n_jobs=-1)]: Done  64 tasks      | elapsed: 27.6min\n",
      "[Parallel(n_jobs=-1)]: Done  77 tasks      | elapsed: 32.9min\n",
      "[Parallel(n_jobs=-1)]: Done  90 tasks      | elapsed: 37.5min\n",
      "[Parallel(n_jobs=-1)]: Done 108 out of 108 | elapsed: 48.7min finished\n"
     ]
    },
    {
     "data": {
      "text/plain": [
       "GridSearchCV(cv=3, error_score='raise-deprecating',\n",
       "       estimator=XGBClassifier(base_score=0.5, booster='gbtree', colsample_bylevel=1,\n",
       "       colsample_bytree=1, gamma=0, learning_rate=0.1, max_delta_step=0,\n",
       "       max_depth=3, min_child_weight=1, missing=None, n_estimators=100,\n",
       "       n_jobs=1, nthread=None, objective='binary:logistic', random_state=0,\n",
       "       reg_alpha=0, reg_lambda=1, scale_pos_weight=1, seed=None,\n",
       "       silent=True, subsample=1),\n",
       "       fit_params=None, iid='warn', n_jobs=-1,\n",
       "       param_grid={'max_depth': [2, 5, 10, 15], 'min_child_weight': [3, 6, 9], 'n_estimators': [200], 'learning_rate': [0.025, 0.05, 0.1]},\n",
       "       pre_dispatch='2*n_jobs', refit=True, return_train_score='warn',\n",
       "       scoring='roc_auc', verbose=10)"
      ]
     },
     "execution_count": 84,
     "metadata": {},
     "output_type": "execute_result"
    }
   ],
   "source": [
    "# Tune XGBoost model\n",
    "xgb_model = xgb.XGBClassifier()\n",
    "param_dist = {\"max_depth\": [2, 5, 10, 15],\n",
    "              \"min_child_weight\" : [3, 6, 9],\n",
    "              \"n_estimators\": [200],\n",
    "              \"learning_rate\": [0.025, 0.05, 0.1],\n",
    "             # \"subsample\": [0.7, 0.8, 0.9],\n",
    "             # \"colsample_bytree\": [0.7, 0.8, 0.9],\n",
    "             # \"gamma\": [0, 0.1],\n",
    "             # \"reg_alpha\": [0, 0.005]\n",
    "             }\n",
    "xgb_grid_search = GridSearchCV(xgb_model, param_grid=param_dist, cv = 3, \n",
    "                                   verbose=10, n_jobs=-1, scoring=\"roc_auc\")\n",
    "xgb_grid_search.fit(xgb_train, y_train)"
   ]
  },
  {
   "cell_type": "code",
   "execution_count": 88,
   "metadata": {},
   "outputs": [
    {
     "name": "stdout",
     "output_type": "stream",
     "text": [
      "\n",
      " The best estimator across ALL searched params:\n",
      " XGBClassifier(base_score=0.5, booster='gbtree', colsample_bylevel=1,\n",
      "       colsample_bytree=1, gamma=0, learning_rate=0.05, max_delta_step=0,\n",
      "       max_depth=5, min_child_weight=9, missing=None, n_estimators=200,\n",
      "       n_jobs=1, nthread=None, objective='binary:logistic', random_state=0,\n",
      "       reg_alpha=0, reg_lambda=1, scale_pos_weight=1, seed=None,\n",
      "       silent=True, subsample=1)\n",
      "\n",
      " The best score across ALL searched params:\n",
      " 0.5547764486387292\n",
      "\n",
      " The best parameters across ALL searched params:\n",
      " {'learning_rate': 0.05, 'max_depth': 5, 'min_child_weight': 9, 'n_estimators': 200}\n"
     ]
    }
   ],
   "source": [
    "# Summary of grid search results\n",
    "print(\"\\n The best estimator across ALL searched params:\\n\",\n",
    "xgb_grid_search.best_estimator_)\n",
    "    \n",
    "print(\"\\n The best score across ALL searched params:\\n\",\n",
    "xgb_grid_search.best_score_)\n",
    "    \n",
    "print(\"\\n The best parameters across ALL searched params:\\n\",\n",
    "xgb_grid_search.best_params_)"
   ]
  },
  {
   "cell_type": "code",
   "execution_count": 20,
   "metadata": {},
   "outputs": [
    {
     "data": {
      "text/plain": [
       "XGBClassifier(base_score=0.5, booster='gbtree', colsample_bylevel=1,\n",
       "       colsample_bytree=1, gamma=0, learning_rate=0.05, max_delta_step=0,\n",
       "       max_depth=5, min_child_weight=9, missing=None, n_estimators=200,\n",
       "       n_jobs=1, nthread=None, objective='binary:logistic', random_state=0,\n",
       "       reg_alpha=0, reg_lambda=1, scale_pos_weight=1, seed=None,\n",
       "       silent=True, subsample=1, verbose=1)"
      ]
     },
     "execution_count": 20,
     "metadata": {},
     "output_type": "execute_result"
    }
   ],
   "source": [
    "# Fit tuned XGBoost model\n",
    "xgb_model_tuned = xgb.XGBClassifier(max_depth=5, \n",
    "                                    min_child_weight=9, \n",
    "                                    n_estimators=200, \n",
    "                                    n_jobs=1 , \n",
    "                                    verbose=1,\n",
    "                                    learning_rate=0.05)\n",
    "xgb_model_tuned.fit(xgb_train, y_train)"
   ]
  },
  {
   "cell_type": "code",
   "execution_count": 21,
   "metadata": {},
   "outputs": [
    {
     "data": {
      "text/plain": [
       "[('LightGBM AUC', (0.7439297629152931, 0.537147499785302)),\n",
       " ('LightGBM AUCPR', (0.04930788829055523, 0.014471576498594046)),\n",
       " ('Catboost AUC', (0.9458956455037945, 0.5738224379748781)),\n",
       " ('Catboost AUCPR', (0.7259177436092481, 0.017759533447865673)),\n",
       " ('XGBoost AUC', (0.9019802180303196, 0.5547290059256648)),\n",
       " ('XGBoost AUCPR', (0.2876936472022296, 0.015157300291978334))]"
      ]
     },
     "execution_count": 21,
     "metadata": {},
     "output_type": "execute_result"
    }
   ],
   "source": [
    "# Evaluate XGBoost model\n",
    "xgb_auc = auc(xgb_model_tuned, xgb_train, xgb_test, y_train, y_test)\n",
    "xgb_aucpr = aucpr(xgb_model_tuned, xgb_train, xgb_test, y_train, y_test)\n",
    "model_performance.append((\"XGBoost AUC\", xgb_auc))\n",
    "model_performance.append((\"XGBoost AUCPR\", xgb_aucpr))\n",
    "model_performance"
   ]
  },
  {
   "cell_type": "markdown",
   "metadata": {},
   "source": [
    "Best peforming model according to AUC of the ROC curve and Precision recall curves is Catboost."
   ]
  },
  {
   "cell_type": "markdown",
   "metadata": {},
   "source": [
    "### Final model evaluation"
   ]
  },
  {
   "cell_type": "code",
   "execution_count": 58,
   "metadata": {},
   "outputs": [
    {
     "data": {
      "image/png": "[encoded data removed]",
      "text/plain": [
       "<Figure size 1440x720 with 1 Axes>"
      ]
     },
     "metadata": {},
     "output_type": "display_data"
    }
   ],
   "source": [
    "# Plot ROC curve using https://scikit-learn.org/stable/auto_examples/model_selection/plot_roc.html and https://machinelearningmastery.com/roc-curves-and-precision-recall-curves-for-imbalanced-classification/\n",
    "# Calcuate true and false positive rates and plot\n",
    "plt.figure(figsize=(20,10))\n",
    "false_pos, true_pos, _ = roc_curve(y_test, cb_model_tuned.predict_proba(x_test)[:,1])\n",
    "plt.plot(false_pos, true_pos, color='darkorange', label='Catboost Model')\n",
    "\n",
    "# Plot ROC curve of random classifier\n",
    "plt.plot([0, 1], [0, 1], color='navy', linestyle='--', label='No Skill')\n",
    "\n",
    "# Format chart\n",
    "plt.xlim([0.0, 1.0])\n",
    "plt.ylim([0.0, 1.05])\n",
    "plt.xlabel('False Positive Rate', fontdict={'fontsize': 12})\n",
    "plt.ylabel('True Positive Rate', fontdict={'fontsize': 12})\n",
    "plt.title('ROC curve of final model', fontdict={'fontsize': 16})\n",
    "plt.legend()\n",
    "\n",
    "plt.show()"
   ]
  },
  {
   "cell_type": "code",
   "execution_count": 59,
   "metadata": {},
   "outputs": [
    {
     "data": {
      "text/plain": [
       "<matplotlib.legend.Legend at 0x1a166d9a20>"
      ]
     },
     "execution_count": 59,
     "metadata": {},
     "output_type": "execute_result"
    },
    {
     "data": {
      "image/png": "[encoded data removed]",
      "text/plain": [
       "<Figure size 1440x720 with 1 Axes>"
      ]
     },
     "metadata": {},
     "output_type": "display_data"
    }
   ],
   "source": [
    "# Plot Precision Recall Curve using https://machinelearningmastery.com/roc-curves-and-precision-recall-curves-for-imbalanced-classification/\n",
    "# Calcuate precision and recall of model andplot\n",
    "plt.figure(figsize=(20,10))\n",
    "precision, recall, _ = precision_recall_curve(y_test, cb_model_tuned.predict_proba(x_test)[:,1])\n",
    "plt.plot(recall, precision, color='darkorange', marker='.', label='Catboost Model')\n",
    "\n",
    "# Plot Precision recall curve of random classifier\n",
    "no_skill = len(y_test[y_test ==1]) / len(y_test)\n",
    "pyplot.plot([0, 1], [no_skill, no_skill], linestyle='--', label='No Skill')\n",
    "\n",
    "# Format chart\n",
    "plt.xlabel('Recall', fontdict={'fontsize': 12})\n",
    "plt.ylabel('Precision', fontdict={'fontsize': 12})\n",
    "plt.title('Precision Recall curve of final model', fontdict={'fontsize': 16})\n",
    "plt.legend()"
   ]
  },
  {
   "cell_type": "markdown",
   "metadata": {},
   "source": [
    "## Part 3: Kaggle Competition\n",
    "\n",
    "Now that you've created a model to predict which individuals are most likely to respond to a mailout campaign, it's time to test that model in competition through Kaggle. If you click on the link [here](http://www.kaggle.com/t/21e6d45d4c574c7fa2d868f0e8c83140), you'll be taken to the competition page where, if you have a Kaggle account, you can enter. If you're one of the top performers, you may have the chance to be contacted by a hiring manager from Arvato or Bertelsmann for an interview!\n",
    "\n",
    "Your entry to the competition should be a CSV file with two columns. The first column should be a copy of \"LNR\", which acts as an ID number for each individual in the \"TEST\" partition. The second column, \"RESPONSE\", should be some measure of how likely each individual became a customer – this might not be a straightforward probability. As you should have found in Part 2, there is a large output class imbalance, where most individuals did not respond to the mailout. Thus, predicting individual classes and using accuracy does not seem to be an appropriate performance evaluation method. Instead, the competition will be using AUC to evaluate performance. The exact values of the \"RESPONSE\" column do not matter as much: only that the higher values try to capture as many of the actual customers as possible, early in the ROC curve sweep."
   ]
  },
  {
   "cell_type": "code",
   "execution_count": 72,
   "metadata": {},
   "outputs": [],
   "source": [
    "# Import test data\n",
    "mailout_test = pd.read_csv('data/Udacity_MAILOUT_052018_TEST.csv', sep=';', dtype={18: object, 19: object})\n",
    "feature_summary = pd.read_csv('data/AZDIAS_Feature_Summary.csv', sep=';', dtype={18: object, 19: object})"
   ]
  },
  {
   "cell_type": "code",
   "execution_count": 73,
   "metadata": {},
   "outputs": [
    {
     "name": "stderr",
     "output_type": "stream",
     "text": [
      "/Users/pmacdonald/anaconda3/lib/python3.7/site-packages/pandas/core/frame.py:3137: SettingWithCopyWarning: \n",
      "A value is trying to be set on a copy of a slice from a DataFrame.\n",
      "Try using .loc[row_indexer,col_indexer] = value instead\n",
      "\n",
      "See the caveats in the documentation: http://pandas.pydata.org/pandas-docs/stable/indexing.html#indexing-view-versus-copy\n",
      "  self[k1] = value[k2]\n"
     ]
    }
   ],
   "source": [
    "# Apply cleaning function\n",
    "test, feature_summary_updated = clean_data(mailout_test, feature_summary)"
   ]
  },
  {
   "cell_type": "code",
   "execution_count": 74,
   "metadata": {},
   "outputs": [],
   "source": [
    "# Label encode object fields\n",
    "le = preprocessing.LabelEncoder()\n",
    "test[obj_cols] = test[obj_cols].apply(le.fit_transform)"
   ]
  },
  {
   "cell_type": "code",
   "execution_count": 75,
   "metadata": {},
   "outputs": [],
   "source": [
    "# One hot encode categorical for xgboost\n",
    "categorical_cols = list(feature_summary_updated[(feature_summary_updated['type'] == 'categorical')|(feature_summary_updated['type'] == 'mixed')]['attribute'])\n",
    "categorical_cols.append('CAMEO_DEU_2015_let')"
   ]
  },
  {
   "cell_type": "code",
   "execution_count": 76,
   "metadata": {},
   "outputs": [
    {
     "data": {
      "text/html": [
       "<div>\n",
       "<style scoped>\n",
       "    .dataframe tbody tr th:only-of-type {\n",
       "        vertical-align: middle;\n",
       "    }\n",
       "\n",
       "    .dataframe tbody tr th {\n",
       "        vertical-align: top;\n",
       "    }\n",
       "\n",
       "    .dataframe thead th {\n",
       "        text-align: right;\n",
       "    }\n",
       "</style>\n",
       "<table border=\"1\" class=\"dataframe\">\n",
       "  <thead>\n",
       "    <tr style=\"text-align: right;\">\n",
       "      <th></th>\n",
       "      <th>LNR</th>\n",
       "      <th>AGER_TYP</th>\n",
       "      <th>ALTER_HH</th>\n",
       "      <th>ANZ_HAUSHALTE_AKTIV</th>\n",
       "      <th>ANZ_HH_TITEL</th>\n",
       "      <th>ANZ_PERSONEN</th>\n",
       "      <th>ANZ_TITEL</th>\n",
       "      <th>ARBEIT</th>\n",
       "      <th>BALLRAUM</th>\n",
       "      <th>CAMEO_DEUG_2015</th>\n",
       "      <th>...</th>\n",
       "      <th>SHOPPER_TYP</th>\n",
       "      <th>SOHO_KZ</th>\n",
       "      <th>VERS_TYP</th>\n",
       "      <th>W_KEIT_KIND_HH</th>\n",
       "      <th>WOHNDAUER_2008</th>\n",
       "      <th>WOHNLAGE</th>\n",
       "      <th>ZABEOTYP</th>\n",
       "      <th>ANREDE_KZ</th>\n",
       "      <th>ALTERSKATEGORIE_GROB</th>\n",
       "      <th>CAMEO_DEU_2015_let</th>\n",
       "    </tr>\n",
       "  </thead>\n",
       "  <tbody>\n",
       "    <tr>\n",
       "      <th>0</th>\n",
       "      <td>1754</td>\n",
       "      <td>2.0</td>\n",
       "      <td>7.0</td>\n",
       "      <td>2.0</td>\n",
       "      <td>0.0</td>\n",
       "      <td>2.0</td>\n",
       "      <td>0.0</td>\n",
       "      <td>3.0</td>\n",
       "      <td>6.0</td>\n",
       "      <td>2.0</td>\n",
       "      <td>...</td>\n",
       "      <td>3.0</td>\n",
       "      <td>0.0</td>\n",
       "      <td>1.0</td>\n",
       "      <td>6.0</td>\n",
       "      <td>9.0</td>\n",
       "      <td>3.0</td>\n",
       "      <td>3.0</td>\n",
       "      <td>1.0</td>\n",
       "      <td>4.0</td>\n",
       "      <td>1</td>\n",
       "    </tr>\n",
       "    <tr>\n",
       "      <th>1</th>\n",
       "      <td>1770</td>\n",
       "      <td>2.0</td>\n",
       "      <td>9.0</td>\n",
       "      <td>20.0</td>\n",
       "      <td>0.0</td>\n",
       "      <td>1.0</td>\n",
       "      <td>0.0</td>\n",
       "      <td>4.0</td>\n",
       "      <td>7.0</td>\n",
       "      <td>5.0</td>\n",
       "      <td>...</td>\n",
       "      <td>2.0</td>\n",
       "      <td>0.0</td>\n",
       "      <td>1.0</td>\n",
       "      <td>6.0</td>\n",
       "      <td>9.0</td>\n",
       "      <td>5.0</td>\n",
       "      <td>3.0</td>\n",
       "      <td>1.0</td>\n",
       "      <td>4.0</td>\n",
       "      <td>0</td>\n",
       "    </tr>\n",
       "    <tr>\n",
       "      <th>2</th>\n",
       "      <td>1465</td>\n",
       "      <td>2.0</td>\n",
       "      <td>16.0</td>\n",
       "      <td>2.0</td>\n",
       "      <td>0.0</td>\n",
       "      <td>4.0</td>\n",
       "      <td>0.0</td>\n",
       "      <td>4.0</td>\n",
       "      <td>1.0</td>\n",
       "      <td>7.0</td>\n",
       "      <td>...</td>\n",
       "      <td>3.0</td>\n",
       "      <td>0.0</td>\n",
       "      <td>1.0</td>\n",
       "      <td>2.0</td>\n",
       "      <td>9.0</td>\n",
       "      <td>4.0</td>\n",
       "      <td>3.0</td>\n",
       "      <td>2.0</td>\n",
       "      <td>4.0</td>\n",
       "      <td>0</td>\n",
       "    </tr>\n",
       "    <tr>\n",
       "      <th>3</th>\n",
       "      <td>1470</td>\n",
       "      <td>2.0</td>\n",
       "      <td>9.0</td>\n",
       "      <td>1.0</td>\n",
       "      <td>0.0</td>\n",
       "      <td>0.0</td>\n",
       "      <td>0.0</td>\n",
       "      <td>4.0</td>\n",
       "      <td>1.0</td>\n",
       "      <td>2.0</td>\n",
       "      <td>...</td>\n",
       "      <td>3.0</td>\n",
       "      <td>0.0</td>\n",
       "      <td>2.0</td>\n",
       "      <td>6.0</td>\n",
       "      <td>9.0</td>\n",
       "      <td>2.0</td>\n",
       "      <td>3.0</td>\n",
       "      <td>2.0</td>\n",
       "      <td>4.0</td>\n",
       "      <td>1</td>\n",
       "    </tr>\n",
       "    <tr>\n",
       "      <th>4</th>\n",
       "      <td>1478</td>\n",
       "      <td>1.0</td>\n",
       "      <td>21.0</td>\n",
       "      <td>1.0</td>\n",
       "      <td>0.0</td>\n",
       "      <td>4.0</td>\n",
       "      <td>0.0</td>\n",
       "      <td>3.0</td>\n",
       "      <td>6.0</td>\n",
       "      <td>5.0</td>\n",
       "      <td>...</td>\n",
       "      <td>3.0</td>\n",
       "      <td>0.0</td>\n",
       "      <td>1.0</td>\n",
       "      <td>3.0</td>\n",
       "      <td>9.0</td>\n",
       "      <td>7.0</td>\n",
       "      <td>4.0</td>\n",
       "      <td>2.0</td>\n",
       "      <td>4.0</td>\n",
       "      <td>0</td>\n",
       "    </tr>\n",
       "  </tbody>\n",
       "</table>\n",
       "<p>5 rows × 83 columns</p>\n",
       "</div>"
      ],
      "text/plain": [
       "    LNR  AGER_TYP  ALTER_HH  ANZ_HAUSHALTE_AKTIV  ANZ_HH_TITEL  ANZ_PERSONEN  \\\n",
       "0  1754       2.0       7.0                  2.0           0.0           2.0   \n",
       "1  1770       2.0       9.0                 20.0           0.0           1.0   \n",
       "2  1465       2.0      16.0                  2.0           0.0           4.0   \n",
       "3  1470       2.0       9.0                  1.0           0.0           0.0   \n",
       "4  1478       1.0      21.0                  1.0           0.0           4.0   \n",
       "\n",
       "   ANZ_TITEL  ARBEIT  BALLRAUM  CAMEO_DEUG_2015         ...          \\\n",
       "0        0.0     3.0       6.0              2.0         ...           \n",
       "1        0.0     4.0       7.0              5.0         ...           \n",
       "2        0.0     4.0       1.0              7.0         ...           \n",
       "3        0.0     4.0       1.0              2.0         ...           \n",
       "4        0.0     3.0       6.0              5.0         ...           \n",
       "\n",
       "   SHOPPER_TYP  SOHO_KZ  VERS_TYP  W_KEIT_KIND_HH  WOHNDAUER_2008  WOHNLAGE  \\\n",
       "0          3.0      0.0       1.0             6.0             9.0       3.0   \n",
       "1          2.0      0.0       1.0             6.0             9.0       5.0   \n",
       "2          3.0      0.0       1.0             2.0             9.0       4.0   \n",
       "3          3.0      0.0       2.0             6.0             9.0       2.0   \n",
       "4          3.0      0.0       1.0             3.0             9.0       7.0   \n",
       "\n",
       "   ZABEOTYP  ANREDE_KZ  ALTERSKATEGORIE_GROB  CAMEO_DEU_2015_let  \n",
       "0       3.0        1.0                   4.0                   1  \n",
       "1       3.0        1.0                   4.0                   0  \n",
       "2       3.0        2.0                   4.0                   0  \n",
       "3       3.0        2.0                   4.0                   1  \n",
       "4       4.0        2.0                   4.0                   0  \n",
       "\n",
       "[5 rows x 83 columns]"
      ]
     },
     "execution_count": 76,
     "metadata": {},
     "output_type": "execute_result"
    }
   ],
   "source": [
    "# Glimpse at test data\n",
    "test.head()"
   ]
  },
  {
   "cell_type": "code",
   "execution_count": 77,
   "metadata": {
    "scrolled": true
   },
   "outputs": [],
   "source": [
    "# Use model to predict responses on testdata\n",
    "test['RESPONSE'] = cb_model_tuned.predict_proba(test)[:,1]"
   ]
  },
  {
   "cell_type": "code",
   "execution_count": 78,
   "metadata": {},
   "outputs": [],
   "source": [
    "# Filter to ID and prediction columns\n",
    "kaggle_data = test[['LNR', 'RESPONSE']]"
   ]
  },
  {
   "cell_type": "code",
   "execution_count": 79,
   "metadata": {},
   "outputs": [
    {
     "data": {
      "text/html": [
       "<div>\n",
       "<style scoped>\n",
       "    .dataframe tbody tr th:only-of-type {\n",
       "        vertical-align: middle;\n",
       "    }\n",
       "\n",
       "    .dataframe tbody tr th {\n",
       "        vertical-align: top;\n",
       "    }\n",
       "\n",
       "    .dataframe thead th {\n",
       "        text-align: right;\n",
       "    }\n",
       "</style>\n",
       "<table border=\"1\" class=\"dataframe\">\n",
       "  <thead>\n",
       "    <tr style=\"text-align: right;\">\n",
       "      <th></th>\n",
       "      <th>LNR</th>\n",
       "      <th>RESPONSE</th>\n",
       "    </tr>\n",
       "  </thead>\n",
       "  <tbody>\n",
       "    <tr>\n",
       "      <th>0</th>\n",
       "      <td>1754</td>\n",
       "      <td>0.016014</td>\n",
       "    </tr>\n",
       "    <tr>\n",
       "      <th>1</th>\n",
       "      <td>1770</td>\n",
       "      <td>0.009270</td>\n",
       "    </tr>\n",
       "    <tr>\n",
       "      <th>2</th>\n",
       "      <td>1465</td>\n",
       "      <td>0.008636</td>\n",
       "    </tr>\n",
       "    <tr>\n",
       "      <th>3</th>\n",
       "      <td>1470</td>\n",
       "      <td>0.005372</td>\n",
       "    </tr>\n",
       "    <tr>\n",
       "      <th>4</th>\n",
       "      <td>1478</td>\n",
       "      <td>0.007276</td>\n",
       "    </tr>\n",
       "  </tbody>\n",
       "</table>\n",
       "</div>"
      ],
      "text/plain": [
       "    LNR  RESPONSE\n",
       "0  1754  0.016014\n",
       "1  1770  0.009270\n",
       "2  1465  0.008636\n",
       "3  1470  0.005372\n",
       "4  1478  0.007276"
      ]
     },
     "execution_count": 79,
     "metadata": {},
     "output_type": "execute_result"
    }
   ],
   "source": [
    "# View data\n",
    "kaggle_data.head()"
   ]
  },
  {
   "cell_type": "code",
   "execution_count": 80,
   "metadata": {},
   "outputs": [],
   "source": [
    "# Save data for uploading to Kaggle\n",
    "kaggle_data.to_csv('data/kaggle_submission_8.csv', index=False)"
   ]
  }
 ],
 "metadata": {
  "kernelspec": {
   "display_name": "Python 3",
   "language": "python",
   "name": "python3"
  },
  "language_info": {
   "codemirror_mode": {
    "name": "ipython",
    "version": 3
   },
   "file_extension": ".py",
   "mimetype": "text/x-python",
   "name": "python",
   "nbconvert_exporter": "python",
   "pygments_lexer": "ipython3",
   "version": "3.7.0"
  }
 },
 "nbformat": 4,
 "nbformat_minor": 2
}
