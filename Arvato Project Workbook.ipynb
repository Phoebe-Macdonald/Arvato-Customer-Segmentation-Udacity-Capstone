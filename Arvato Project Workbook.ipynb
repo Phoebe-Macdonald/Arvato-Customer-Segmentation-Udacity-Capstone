{
 "cells": [
  {
   "cell_type": "markdown",
   "metadata": {},
   "source": [
    "# Capstone Project: Create a Customer Segmentation Report for Arvato Financial Services\n",
    "\n",
    "In this project, you will analyze demographics data for customers of a mail-order sales company in Germany, comparing it against demographics information for the general population. You'll use unsupervised learning techniques to perform customer segmentation, identifying the parts of the population that best describe the core customer base of the company. Then, you'll apply what you've learned on a third dataset with demographics information for targets of a marketing campaign for the company, and use a model to predict which individuals are most likely to convert into becoming customers for the company. The data that you will use has been provided by our partners at Bertelsmann Arvato Analytics, and represents a real-life data science task.\n",
    "\n",
    "If you completed the first term of this program, you will be familiar with the first part of this project, from the unsupervised learning project. The versions of those two datasets used in this project will include many more features and has not been pre-cleaned. You are also free to choose whatever approach you'd like to analyzing the data rather than follow pre-determined steps. In your work on this project, make sure that you carefully document your steps and decisions, since your main deliverable for this project will be a blog post reporting your findings."
   ]
  },
  {
   "cell_type": "code",
   "execution_count": 92,
   "metadata": {},
   "outputs": [],
   "source": [
    "# import libraries\n",
    "import numpy as np\n",
    "import pandas as pd\n",
    "import matplotlib.pyplot as plt\n",
    "import seaborn as sns\n",
    "from sklearn.preprocessing import StandardScaler\n",
    "from sklearn.decomposition import PCA\n",
    "from sklearn.cluster import KMeans\n",
    "from sklearn import preprocessing\n",
    "from collections import defaultdict\n",
    "from kmodes.kmodes import KModes\n",
    "import re\n",
    "from sklearn.manifold import TSNE\n",
    "from sklearn.model_selection import train_test_split\n",
    "import xgboost as xgb\n",
    "from xgboost.sklearn import XGBClassifier\n",
    "from sklearn.model_selection import cross_validate\n",
    "from sklearn import metrics\n",
    "from sklearn.model_selection import GridSearchCV\n",
    "from sklearn.metrics import classification_report\n",
    "from sklearn.metrics import confusion_matrix\n",
    "from sklearn.metrics import roc_curve\n",
    "from sklearn.metrics import roc_auc_score\n",
    "from matplotlib import pyplot\n",
    "from mpl_toolkits.mplot3d import Axes3D\n",
    "\n",
    "from sklearn import model_selection\n",
    "from sklearn.linear_model import LogisticRegression\n",
    "from sklearn.tree import DecisionTreeClassifier\n",
    "from sklearn.neighbors import KNeighborsClassifier\n",
    "from sklearn.discriminant_analysis import LinearDiscriminantAnalysis\n",
    "from sklearn.naive_bayes import GaussianNB\n",
    "from sklearn.svm import SVC\n",
    "from xgboost import XGBClassifier\n",
    "from catboost import CatBoostClassifier\n",
    "\n",
    "\n",
    "%matplotlib inline"
   ]
  },
  {
   "cell_type": "markdown",
   "metadata": {},
   "source": [
    "## Part 0: Get to Know the Data\n",
    "\n",
    "There are four data files associated with this project:\n",
    "\n",
    "- `Udacity_AZDIAS_052018.csv`: Demographics data for the general population of Germany; 891 211 persons (rows) x 366 features (columns).\n",
    "- `Udacity_CUSTOMERS_052018.csv`: Demographics data for customers of a mail-order company; 191 652 persons (rows) x 369 features (columns).\n",
    "- `Udacity_MAILOUT_052018_TRAIN.csv`: Demographics data for individuals who were targets of a marketing campaign; 42 982 persons (rows) x 367 (columns).\n",
    "- `Udacity_MAILOUT_052018_TEST.csv`: Demographics data for individuals who were targets of a marketing campaign; 42 833 persons (rows) x 366 (columns).\n",
    "\n",
    "Each row of the demographics files represents a single person, but also includes information outside of individuals, including information about their household, building, and neighborhood. Use the information from the first two files to figure out how customers (\"CUSTOMERS\") are similar to or differ from the general population at large (\"AZDIAS\"), then use your analysis to make predictions on the other two files (\"MAILOUT\"), predicting which recipients are most likely to become a customer for the mail-order company.\n",
    "\n",
    "The \"CUSTOMERS\" file contains three extra columns ('CUSTOMER_GROUP', 'ONLINE_PURCHASE', and 'PRODUCT_GROUP'), which provide broad information about the customers depicted in the file. The original \"MAILOUT\" file included one additional column, \"RESPONSE\", which indicated whether or not each recipient became a customer of the company. For the \"TRAIN\" subset, this column has been retained, but in the \"TEST\" subset it has been removed; it is against that withheld column that your final predictions will be assessed in the Kaggle competition.\n",
    "\n",
    "Otherwise, all of the remaining columns are the same between the three data files. For more information about the columns depicted in the files, you can refer to two Excel spreadsheets provided in the workspace. [One of them](./DIAS Information Levels - Attributes 2017.xlsx) is a top-level list of attributes and descriptions, organized by informational category. [The other](./DIAS Attributes - Values 2017.xlsx) is a detailed mapping of data values for each feature in alphabetical order.\n",
    "\n",
    "In the below cell, we've provided some initial code to load in the first two datasets. Note for all of the `.csv` data files in this project that they're semicolon (`;`) delimited, so an additional argument in the [`read_csv()`](https://pandas.pydata.org/pandas-docs/stable/generated/pandas.read_csv.html) call has been included to read in the data properly. Also, considering the size of the datasets, it may take some time for them to load completely.\n",
    "\n",
    "You'll notice when the data is loaded in that a warning message will immediately pop up. Before you really start digging into the modeling and analysis, you're going to need to perform some cleaning. Take some time to browse the structure of the data and look over the informational spreadsheets to understand the data values. Make some decisions on which features to keep, which features to drop, and if any revisions need to be made on data formats. It'll be a good idea to create a function with pre-processing steps, since you'll need to clean all of the datasets before you work with them."
   ]
  },
  {
   "cell_type": "code",
   "execution_count": 93,
   "metadata": {},
   "outputs": [],
   "source": [
    "# Load in the data, specifying datatypes for columns 18 and 19, which have mixtures of datatypes, to speed up import\n",
    "azdias = pd.read_csv('data/Udacity_AZDIAS_052018.csv', sep=';', dtype={18: object, 19: object})\n",
    "customers = pd.read_csv('data/Udacity_CUSTOMERS_052018.csv', sep=';', dtype={18: object, 19: object})\n",
    "\n",
    "# Create backup copies to avoid having to reimport\n",
    "azdias_copy = azdias.copy()\n",
    "customers_copy = customers.copy()"
   ]
  },
  {
   "cell_type": "code",
   "execution_count": 94,
   "metadata": {},
   "outputs": [],
   "source": [
    "# Load in information on the features\n",
    "feature_summary = pd.read_csv('data/AZDIAS_Feature_Summary.csv', sep=';')"
   ]
  },
  {
   "cell_type": "code",
   "execution_count": 95,
   "metadata": {},
   "outputs": [
    {
     "data": {
      "text/html": [
       "<div>\n",
       "<style scoped>\n",
       "    .dataframe tbody tr th:only-of-type {\n",
       "        vertical-align: middle;\n",
       "    }\n",
       "\n",
       "    .dataframe tbody tr th {\n",
       "        vertical-align: top;\n",
       "    }\n",
       "\n",
       "    .dataframe thead th {\n",
       "        text-align: right;\n",
       "    }\n",
       "</style>\n",
       "<table border=\"1\" class=\"dataframe\">\n",
       "  <thead>\n",
       "    <tr style=\"text-align: right;\">\n",
       "      <th></th>\n",
       "      <th>LNR</th>\n",
       "      <th>AGER_TYP</th>\n",
       "      <th>AKT_DAT_KL</th>\n",
       "      <th>ALTER_HH</th>\n",
       "      <th>ALTER_KIND1</th>\n",
       "      <th>ALTER_KIND2</th>\n",
       "      <th>ALTER_KIND3</th>\n",
       "      <th>ALTER_KIND4</th>\n",
       "      <th>ALTERSKATEGORIE_FEIN</th>\n",
       "      <th>ANZ_HAUSHALTE_AKTIV</th>\n",
       "      <th>...</th>\n",
       "      <th>VK_ZG11</th>\n",
       "      <th>W_KEIT_KIND_HH</th>\n",
       "      <th>WOHNDAUER_2008</th>\n",
       "      <th>WOHNLAGE</th>\n",
       "      <th>ZABEOTYP</th>\n",
       "      <th>PRODUCT_GROUP</th>\n",
       "      <th>CUSTOMER_GROUP</th>\n",
       "      <th>ONLINE_PURCHASE</th>\n",
       "      <th>ANREDE_KZ</th>\n",
       "      <th>ALTERSKATEGORIE_GROB</th>\n",
       "    </tr>\n",
       "  </thead>\n",
       "  <tbody>\n",
       "    <tr>\n",
       "      <th>0</th>\n",
       "      <td>9626</td>\n",
       "      <td>2</td>\n",
       "      <td>1.0</td>\n",
       "      <td>10.0</td>\n",
       "      <td>NaN</td>\n",
       "      <td>NaN</td>\n",
       "      <td>NaN</td>\n",
       "      <td>NaN</td>\n",
       "      <td>10.0</td>\n",
       "      <td>1.0</td>\n",
       "      <td>...</td>\n",
       "      <td>2.0</td>\n",
       "      <td>6.0</td>\n",
       "      <td>9.0</td>\n",
       "      <td>7.0</td>\n",
       "      <td>3</td>\n",
       "      <td>COSMETIC_AND_FOOD</td>\n",
       "      <td>MULTI_BUYER</td>\n",
       "      <td>0</td>\n",
       "      <td>1</td>\n",
       "      <td>4</td>\n",
       "    </tr>\n",
       "    <tr>\n",
       "      <th>1</th>\n",
       "      <td>9628</td>\n",
       "      <td>-1</td>\n",
       "      <td>9.0</td>\n",
       "      <td>11.0</td>\n",
       "      <td>NaN</td>\n",
       "      <td>NaN</td>\n",
       "      <td>NaN</td>\n",
       "      <td>NaN</td>\n",
       "      <td>NaN</td>\n",
       "      <td>NaN</td>\n",
       "      <td>...</td>\n",
       "      <td>3.0</td>\n",
       "      <td>0.0</td>\n",
       "      <td>9.0</td>\n",
       "      <td>NaN</td>\n",
       "      <td>3</td>\n",
       "      <td>FOOD</td>\n",
       "      <td>SINGLE_BUYER</td>\n",
       "      <td>0</td>\n",
       "      <td>1</td>\n",
       "      <td>4</td>\n",
       "    </tr>\n",
       "    <tr>\n",
       "      <th>2</th>\n",
       "      <td>143872</td>\n",
       "      <td>-1</td>\n",
       "      <td>1.0</td>\n",
       "      <td>6.0</td>\n",
       "      <td>NaN</td>\n",
       "      <td>NaN</td>\n",
       "      <td>NaN</td>\n",
       "      <td>NaN</td>\n",
       "      <td>0.0</td>\n",
       "      <td>1.0</td>\n",
       "      <td>...</td>\n",
       "      <td>11.0</td>\n",
       "      <td>6.0</td>\n",
       "      <td>9.0</td>\n",
       "      <td>2.0</td>\n",
       "      <td>3</td>\n",
       "      <td>COSMETIC_AND_FOOD</td>\n",
       "      <td>MULTI_BUYER</td>\n",
       "      <td>0</td>\n",
       "      <td>2</td>\n",
       "      <td>4</td>\n",
       "    </tr>\n",
       "    <tr>\n",
       "      <th>3</th>\n",
       "      <td>143873</td>\n",
       "      <td>1</td>\n",
       "      <td>1.0</td>\n",
       "      <td>8.0</td>\n",
       "      <td>NaN</td>\n",
       "      <td>NaN</td>\n",
       "      <td>NaN</td>\n",
       "      <td>NaN</td>\n",
       "      <td>8.0</td>\n",
       "      <td>0.0</td>\n",
       "      <td>...</td>\n",
       "      <td>2.0</td>\n",
       "      <td>NaN</td>\n",
       "      <td>9.0</td>\n",
       "      <td>7.0</td>\n",
       "      <td>1</td>\n",
       "      <td>COSMETIC</td>\n",
       "      <td>MULTI_BUYER</td>\n",
       "      <td>0</td>\n",
       "      <td>1</td>\n",
       "      <td>4</td>\n",
       "    </tr>\n",
       "    <tr>\n",
       "      <th>4</th>\n",
       "      <td>143874</td>\n",
       "      <td>-1</td>\n",
       "      <td>1.0</td>\n",
       "      <td>20.0</td>\n",
       "      <td>NaN</td>\n",
       "      <td>NaN</td>\n",
       "      <td>NaN</td>\n",
       "      <td>NaN</td>\n",
       "      <td>14.0</td>\n",
       "      <td>7.0</td>\n",
       "      <td>...</td>\n",
       "      <td>4.0</td>\n",
       "      <td>2.0</td>\n",
       "      <td>9.0</td>\n",
       "      <td>3.0</td>\n",
       "      <td>1</td>\n",
       "      <td>FOOD</td>\n",
       "      <td>MULTI_BUYER</td>\n",
       "      <td>0</td>\n",
       "      <td>1</td>\n",
       "      <td>3</td>\n",
       "    </tr>\n",
       "  </tbody>\n",
       "</table>\n",
       "<p>5 rows × 369 columns</p>\n",
       "</div>"
      ],
      "text/plain": [
       "      LNR  AGER_TYP  AKT_DAT_KL  ALTER_HH  ALTER_KIND1  ALTER_KIND2  \\\n",
       "0    9626         2         1.0      10.0          NaN          NaN   \n",
       "1    9628        -1         9.0      11.0          NaN          NaN   \n",
       "2  143872        -1         1.0       6.0          NaN          NaN   \n",
       "3  143873         1         1.0       8.0          NaN          NaN   \n",
       "4  143874        -1         1.0      20.0          NaN          NaN   \n",
       "\n",
       "   ALTER_KIND3  ALTER_KIND4  ALTERSKATEGORIE_FEIN  ANZ_HAUSHALTE_AKTIV  \\\n",
       "0          NaN          NaN                  10.0                  1.0   \n",
       "1          NaN          NaN                   NaN                  NaN   \n",
       "2          NaN          NaN                   0.0                  1.0   \n",
       "3          NaN          NaN                   8.0                  0.0   \n",
       "4          NaN          NaN                  14.0                  7.0   \n",
       "\n",
       "          ...           VK_ZG11  W_KEIT_KIND_HH  WOHNDAUER_2008  WOHNLAGE  \\\n",
       "0         ...               2.0             6.0             9.0       7.0   \n",
       "1         ...               3.0             0.0             9.0       NaN   \n",
       "2         ...              11.0             6.0             9.0       2.0   \n",
       "3         ...               2.0             NaN             9.0       7.0   \n",
       "4         ...               4.0             2.0             9.0       3.0   \n",
       "\n",
       "   ZABEOTYP      PRODUCT_GROUP  CUSTOMER_GROUP ONLINE_PURCHASE ANREDE_KZ  \\\n",
       "0         3  COSMETIC_AND_FOOD     MULTI_BUYER               0         1   \n",
       "1         3               FOOD    SINGLE_BUYER               0         1   \n",
       "2         3  COSMETIC_AND_FOOD     MULTI_BUYER               0         2   \n",
       "3         1           COSMETIC     MULTI_BUYER               0         1   \n",
       "4         1               FOOD     MULTI_BUYER               0         1   \n",
       "\n",
       "  ALTERSKATEGORIE_GROB  \n",
       "0                    4  \n",
       "1                    4  \n",
       "2                    4  \n",
       "3                    4  \n",
       "4                    3  \n",
       "\n",
       "[5 rows x 369 columns]"
      ]
     },
     "execution_count": 95,
     "metadata": {},
     "output_type": "execute_result"
    }
   ],
   "source": [
    "# Overview of customer data\n",
    "customers.head()"
   ]
  },
  {
   "cell_type": "code",
   "execution_count": 96,
   "metadata": {},
   "outputs": [
    {
     "data": {
      "text/html": [
       "<div>\n",
       "<style scoped>\n",
       "    .dataframe tbody tr th:only-of-type {\n",
       "        vertical-align: middle;\n",
       "    }\n",
       "\n",
       "    .dataframe tbody tr th {\n",
       "        vertical-align: top;\n",
       "    }\n",
       "\n",
       "    .dataframe thead th {\n",
       "        text-align: right;\n",
       "    }\n",
       "</style>\n",
       "<table border=\"1\" class=\"dataframe\">\n",
       "  <thead>\n",
       "    <tr style=\"text-align: right;\">\n",
       "      <th></th>\n",
       "      <th>LNR</th>\n",
       "      <th>AGER_TYP</th>\n",
       "      <th>AKT_DAT_KL</th>\n",
       "      <th>ALTER_HH</th>\n",
       "      <th>ALTER_KIND1</th>\n",
       "      <th>ALTER_KIND2</th>\n",
       "      <th>ALTER_KIND3</th>\n",
       "      <th>ALTER_KIND4</th>\n",
       "      <th>ALTERSKATEGORIE_FEIN</th>\n",
       "      <th>ANZ_HAUSHALTE_AKTIV</th>\n",
       "      <th>...</th>\n",
       "      <th>VHN</th>\n",
       "      <th>VK_DHT4A</th>\n",
       "      <th>VK_DISTANZ</th>\n",
       "      <th>VK_ZG11</th>\n",
       "      <th>W_KEIT_KIND_HH</th>\n",
       "      <th>WOHNDAUER_2008</th>\n",
       "      <th>WOHNLAGE</th>\n",
       "      <th>ZABEOTYP</th>\n",
       "      <th>ANREDE_KZ</th>\n",
       "      <th>ALTERSKATEGORIE_GROB</th>\n",
       "    </tr>\n",
       "  </thead>\n",
       "  <tbody>\n",
       "    <tr>\n",
       "      <th>0</th>\n",
       "      <td>910215</td>\n",
       "      <td>-1</td>\n",
       "      <td>NaN</td>\n",
       "      <td>NaN</td>\n",
       "      <td>NaN</td>\n",
       "      <td>NaN</td>\n",
       "      <td>NaN</td>\n",
       "      <td>NaN</td>\n",
       "      <td>NaN</td>\n",
       "      <td>NaN</td>\n",
       "      <td>...</td>\n",
       "      <td>NaN</td>\n",
       "      <td>NaN</td>\n",
       "      <td>NaN</td>\n",
       "      <td>NaN</td>\n",
       "      <td>NaN</td>\n",
       "      <td>NaN</td>\n",
       "      <td>NaN</td>\n",
       "      <td>3</td>\n",
       "      <td>1</td>\n",
       "      <td>2</td>\n",
       "    </tr>\n",
       "    <tr>\n",
       "      <th>1</th>\n",
       "      <td>910220</td>\n",
       "      <td>-1</td>\n",
       "      <td>9.0</td>\n",
       "      <td>0.0</td>\n",
       "      <td>NaN</td>\n",
       "      <td>NaN</td>\n",
       "      <td>NaN</td>\n",
       "      <td>NaN</td>\n",
       "      <td>21.0</td>\n",
       "      <td>11.0</td>\n",
       "      <td>...</td>\n",
       "      <td>4.0</td>\n",
       "      <td>8.0</td>\n",
       "      <td>11.0</td>\n",
       "      <td>10.0</td>\n",
       "      <td>3.0</td>\n",
       "      <td>9.0</td>\n",
       "      <td>4.0</td>\n",
       "      <td>5</td>\n",
       "      <td>2</td>\n",
       "      <td>1</td>\n",
       "    </tr>\n",
       "    <tr>\n",
       "      <th>2</th>\n",
       "      <td>910225</td>\n",
       "      <td>-1</td>\n",
       "      <td>9.0</td>\n",
       "      <td>17.0</td>\n",
       "      <td>NaN</td>\n",
       "      <td>NaN</td>\n",
       "      <td>NaN</td>\n",
       "      <td>NaN</td>\n",
       "      <td>17.0</td>\n",
       "      <td>10.0</td>\n",
       "      <td>...</td>\n",
       "      <td>2.0</td>\n",
       "      <td>9.0</td>\n",
       "      <td>9.0</td>\n",
       "      <td>6.0</td>\n",
       "      <td>3.0</td>\n",
       "      <td>9.0</td>\n",
       "      <td>2.0</td>\n",
       "      <td>5</td>\n",
       "      <td>2</td>\n",
       "      <td>3</td>\n",
       "    </tr>\n",
       "    <tr>\n",
       "      <th>3</th>\n",
       "      <td>910226</td>\n",
       "      <td>2</td>\n",
       "      <td>1.0</td>\n",
       "      <td>13.0</td>\n",
       "      <td>NaN</td>\n",
       "      <td>NaN</td>\n",
       "      <td>NaN</td>\n",
       "      <td>NaN</td>\n",
       "      <td>13.0</td>\n",
       "      <td>1.0</td>\n",
       "      <td>...</td>\n",
       "      <td>0.0</td>\n",
       "      <td>7.0</td>\n",
       "      <td>10.0</td>\n",
       "      <td>11.0</td>\n",
       "      <td>NaN</td>\n",
       "      <td>9.0</td>\n",
       "      <td>7.0</td>\n",
       "      <td>3</td>\n",
       "      <td>2</td>\n",
       "      <td>4</td>\n",
       "    </tr>\n",
       "    <tr>\n",
       "      <th>4</th>\n",
       "      <td>910241</td>\n",
       "      <td>-1</td>\n",
       "      <td>1.0</td>\n",
       "      <td>20.0</td>\n",
       "      <td>NaN</td>\n",
       "      <td>NaN</td>\n",
       "      <td>NaN</td>\n",
       "      <td>NaN</td>\n",
       "      <td>14.0</td>\n",
       "      <td>3.0</td>\n",
       "      <td>...</td>\n",
       "      <td>2.0</td>\n",
       "      <td>3.0</td>\n",
       "      <td>5.0</td>\n",
       "      <td>4.0</td>\n",
       "      <td>2.0</td>\n",
       "      <td>9.0</td>\n",
       "      <td>3.0</td>\n",
       "      <td>4</td>\n",
       "      <td>1</td>\n",
       "      <td>3</td>\n",
       "    </tr>\n",
       "  </tbody>\n",
       "</table>\n",
       "<p>5 rows × 366 columns</p>\n",
       "</div>"
      ],
      "text/plain": [
       "      LNR  AGER_TYP  AKT_DAT_KL  ALTER_HH  ALTER_KIND1  ALTER_KIND2  \\\n",
       "0  910215        -1         NaN       NaN          NaN          NaN   \n",
       "1  910220        -1         9.0       0.0          NaN          NaN   \n",
       "2  910225        -1         9.0      17.0          NaN          NaN   \n",
       "3  910226         2         1.0      13.0          NaN          NaN   \n",
       "4  910241        -1         1.0      20.0          NaN          NaN   \n",
       "\n",
       "   ALTER_KIND3  ALTER_KIND4  ALTERSKATEGORIE_FEIN  ANZ_HAUSHALTE_AKTIV  \\\n",
       "0          NaN          NaN                   NaN                  NaN   \n",
       "1          NaN          NaN                  21.0                 11.0   \n",
       "2          NaN          NaN                  17.0                 10.0   \n",
       "3          NaN          NaN                  13.0                  1.0   \n",
       "4          NaN          NaN                  14.0                  3.0   \n",
       "\n",
       "          ...           VHN  VK_DHT4A  VK_DISTANZ  VK_ZG11  W_KEIT_KIND_HH  \\\n",
       "0         ...           NaN       NaN         NaN      NaN             NaN   \n",
       "1         ...           4.0       8.0        11.0     10.0             3.0   \n",
       "2         ...           2.0       9.0         9.0      6.0             3.0   \n",
       "3         ...           0.0       7.0        10.0     11.0             NaN   \n",
       "4         ...           2.0       3.0         5.0      4.0             2.0   \n",
       "\n",
       "   WOHNDAUER_2008  WOHNLAGE ZABEOTYP ANREDE_KZ ALTERSKATEGORIE_GROB  \n",
       "0             NaN       NaN        3         1                    2  \n",
       "1             9.0       4.0        5         2                    1  \n",
       "2             9.0       2.0        5         2                    3  \n",
       "3             9.0       7.0        3         2                    4  \n",
       "4             9.0       3.0        4         1                    3  \n",
       "\n",
       "[5 rows x 366 columns]"
      ]
     },
     "execution_count": 96,
     "metadata": {},
     "output_type": "execute_result"
    }
   ],
   "source": [
    "# Overview of azdias data\n",
    "azdias.head()"
   ]
  },
  {
   "cell_type": "code",
   "execution_count": 105,
   "metadata": {},
   "outputs": [
    {
     "data": {
      "text/html": [
       "<div>\n",
       "<style scoped>\n",
       "    .dataframe tbody tr th:only-of-type {\n",
       "        vertical-align: middle;\n",
       "    }\n",
       "\n",
       "    .dataframe tbody tr th {\n",
       "        vertical-align: top;\n",
       "    }\n",
       "\n",
       "    .dataframe thead th {\n",
       "        text-align: right;\n",
       "    }\n",
       "</style>\n",
       "<table border=\"1\" class=\"dataframe\">\n",
       "  <thead>\n",
       "    <tr style=\"text-align: right;\">\n",
       "      <th></th>\n",
       "      <th>attribute</th>\n",
       "      <th>information_level</th>\n",
       "      <th>type</th>\n",
       "      <th>missing_or_unknown</th>\n",
       "    </tr>\n",
       "  </thead>\n",
       "  <tbody>\n",
       "    <tr>\n",
       "      <th>0</th>\n",
       "      <td>AGER_TYP</td>\n",
       "      <td>person</td>\n",
       "      <td>categorical</td>\n",
       "      <td>[-1,0]</td>\n",
       "    </tr>\n",
       "    <tr>\n",
       "      <th>1</th>\n",
       "      <td>ALTERSKATEGORIE_GROB</td>\n",
       "      <td>person</td>\n",
       "      <td>ordinal</td>\n",
       "      <td>[-1,0,9]</td>\n",
       "    </tr>\n",
       "    <tr>\n",
       "      <th>2</th>\n",
       "      <td>ANREDE_KZ</td>\n",
       "      <td>person</td>\n",
       "      <td>categorical</td>\n",
       "      <td>[-1,0]</td>\n",
       "    </tr>\n",
       "    <tr>\n",
       "      <th>3</th>\n",
       "      <td>CJT_GESAMTTYP</td>\n",
       "      <td>person</td>\n",
       "      <td>categorical</td>\n",
       "      <td>[0]</td>\n",
       "    </tr>\n",
       "    <tr>\n",
       "      <th>4</th>\n",
       "      <td>FINANZ_MINIMALIST</td>\n",
       "      <td>person</td>\n",
       "      <td>ordinal</td>\n",
       "      <td>[-1]</td>\n",
       "    </tr>\n",
       "  </tbody>\n",
       "</table>\n",
       "</div>"
      ],
      "text/plain": [
       "              attribute information_level         type missing_or_unknown\n",
       "0              AGER_TYP            person  categorical             [-1,0]\n",
       "1  ALTERSKATEGORIE_GROB            person      ordinal           [-1,0,9]\n",
       "2             ANREDE_KZ            person  categorical             [-1,0]\n",
       "3         CJT_GESAMTTYP            person  categorical                [0]\n",
       "4     FINANZ_MINIMALIST            person      ordinal               [-1]"
      ]
     },
     "execution_count": 105,
     "metadata": {},
     "output_type": "execute_result"
    }
   ],
   "source": [
    "# Overview of feature summary\n",
    "feature_summary.head()"
   ]
  },
  {
   "cell_type": "code",
   "execution_count": 98,
   "metadata": {},
   "outputs": [
    {
     "data": {
      "text/plain": [
       "('CAMEO_DEUG_2015', 'CAMEO_INTL_2015')"
      ]
     },
     "execution_count": 98,
     "metadata": {},
     "output_type": "execute_result"
    }
   ],
   "source": [
    "# Find names of problematic 18th and 19th columns\n",
    "customers.columns[18], customers.columns[19]\n",
    "# According to the schema, these columns are the New German CAMEO Typology established together with Call Credit in late 2015"
   ]
  },
  {
   "cell_type": "code",
   "execution_count": 99,
   "metadata": {},
   "outputs": [],
   "source": [
    "# Change columns 18 and 19 to type float\n",
    "customers['CAMEO_DEUG_2015'] = pd.to_numeric(customers['CAMEO_DEUG_2015'], errors='coerce')\n",
    "customers['CAMEO_INTL_2015'] = pd.to_numeric(customers['CAMEO_INTL_2015'], errors='coerce')\n",
    "azdias['CAMEO_DEUG_2015'] = pd.to_numeric(azdias['CAMEO_DEUG_2015'], errors='coerce')\n",
    "azdias['CAMEO_INTL_2015'] = pd.to_numeric(azdias['CAMEO_INTL_2015'], errors='coerce')"
   ]
  },
  {
   "cell_type": "code",
   "execution_count": 100,
   "metadata": {},
   "outputs": [
    {
     "data": {
      "text/plain": [
       "((191652, 369), (891221, 366), (85, 4))"
      ]
     },
     "execution_count": 100,
     "metadata": {},
     "output_type": "execute_result"
    }
   ],
   "source": [
    "# Explore dimensions of datasets\n",
    "customers.shape, azdias.shape, feature_summary.shape"
   ]
  },
  {
   "cell_type": "markdown",
   "metadata": {},
   "source": [
    "I have detailed information about 85 columns thanks to the feature summary datafile. The customers and azdias datasets have 284 and 281 columns respectively. \n",
    "For similicity and to reduce processing power, I will cut these datasets down to just the columns for which I have detailed information"
   ]
  },
  {
   "cell_type": "code",
   "execution_count": 101,
   "metadata": {},
   "outputs": [],
   "source": [
    "# Create list of columns for which I have detailed information\n",
    "cols = list(feature_summary['attribute'])\n",
    "cols.append('LNR')\n",
    "# Add additional customer columns to the list\n",
    "cust_cols = ['CUSTOMER_GROUP', 'ONLINE_PURCHASE', 'PRODUCT_GROUP']\n",
    "cust_cols = cols + cust_cols"
   ]
  },
  {
   "cell_type": "code",
   "execution_count": 102,
   "metadata": {},
   "outputs": [],
   "source": [
    "# Cut down customer and azdias datasets to just columns found in feature_summary\n",
    "customers = customers[cust_cols]\n",
    "azdias = azdias[cols]"
   ]
  },
  {
   "cell_type": "code",
   "execution_count": 103,
   "metadata": {},
   "outputs": [
    {
     "data": {
      "text/plain": [
       "KK_KUNDENTYP    58.41\n",
       "KBA05_ANTG3     29.21\n",
       "KBA05_BAUMAX    29.21\n",
       "KBA05_GBZ       29.21\n",
       "KBA05_ANTG2     29.21\n",
       "KBA05_ANTG1     29.21\n",
       "MOBI_REGIO      29.21\n",
       "KBA05_ANTG4     29.21\n",
       "REGIOTYP        28.31\n",
       "KKK             28.31\n",
       "dtype: float64"
      ]
     },
     "execution_count": 103,
     "metadata": {},
     "output_type": "execute_result"
    }
   ],
   "source": [
    "round(customers.isnull().sum(axis = 0)/customers.shape[0]*100,2).sort_values(ascending = False).head(10)"
   ]
  },
  {
   "cell_type": "code",
   "execution_count": 106,
   "metadata": {},
   "outputs": [
    {
     "data": {
      "text/plain": [
       "[-1]        26\n",
       "[-1,9]      17\n",
       "[-1,0]      16\n",
       "[0]         12\n",
       "[]          10\n",
       "[-1,X]       1\n",
       "[-1,XX]      1\n",
       "[XX]         1\n",
       "[-1,0,9]     1\n",
       "Name: missing_or_unknown, dtype: int64"
      ]
     },
     "execution_count": 106,
     "metadata": {},
     "output_type": "execute_result"
    }
   ],
   "source": [
    "# The feature_summary file contains some information on how missing fields are represented in different columns\n",
    "feature_summary['missing_or_unknown'].value_counts()"
   ]
  },
  {
   "cell_type": "code",
   "execution_count": 107,
   "metadata": {},
   "outputs": [],
   "source": [
    "# Find columns with different missing value coing\n",
    "neg_1_cols = feature_summary[feature_summary['missing_or_unknown'].str.contains('-1')]['attribute']\n",
    "zero_cols = feature_summary[feature_summary['missing_or_unknown'].str.contains('0')]['attribute']\n",
    "nine_cols = feature_summary[feature_summary['missing_or_unknown'].str.contains('9')]['attribute']\n",
    "xx_cols = feature_summary[feature_summary['missing_or_unknown'].str.contains('XX')]['attribute']\n",
    "x_cols = feature_summary[feature_summary['missing_or_unknown'].str.contains('X')]['attribute']"
   ]
  },
  {
   "cell_type": "code",
   "execution_count": null,
   "metadata": {},
   "outputs": [],
   "source": [
    "# Replace -1 with NA for specified columns\n",
    "customers[neg_1_cols] = customers.loc[:,neg_1_cols].replace({-1:np.nan})\n",
    "azdias[neg_1_cols] = azdias.loc[:,neg_1_cols].replace({-1:np.nan})"
   ]
  },
  {
   "cell_type": "code",
   "execution_count": null,
   "metadata": {},
   "outputs": [],
   "source": [
    "# Replace 0 with NA for specified columns\n",
    "customers[zero_cols] = customers.loc[:,zero_cols].replace({0:np.nan})\n",
    "azdias[zero_cols] = azdias.loc[:,zero_cols].replace({0:np.nan})"
   ]
  },
  {
   "cell_type": "code",
   "execution_count": null,
   "metadata": {},
   "outputs": [],
   "source": [
    "# Replace 9 with NA for specified columns\n",
    "customers[nine_cols] = customers.loc[:,nine_cols].replace({9:np.nan})\n",
    "azdias[nine_cols] = azdias.loc[:,nine_cols].replace({9:np.nan})"
   ]
  },
  {
   "cell_type": "code",
   "execution_count": null,
   "metadata": {},
   "outputs": [],
   "source": [
    "# Replace XX with NA for specified columns\n",
    "customers[xx_cols] = customers.loc[:,xx_cols].replace({'XX':np.nan})\n",
    "azdias[xx_cols] = azdias.loc[:,xx_cols].replace({'XX':np.nan})"
   ]
  },
  {
   "cell_type": "code",
   "execution_count": null,
   "metadata": {},
   "outputs": [],
   "source": [
    "# Replace X with NA for specified columns\n",
    "customers[x_cols] = customers.loc[:,x_cols].replace({'X':np.nan})\n",
    "azdias[x_cols] = azdias.loc[:,x_cols].replace({'X':np.nan})"
   ]
  },
  {
   "cell_type": "code",
   "execution_count": 108,
   "metadata": {},
   "outputs": [],
   "source": [
    "customers[neg_1_cols] = customers.loc[:,neg_1_cols].fillna(-1)"
   ]
  },
  {
   "cell_type": "code",
   "execution_count": null,
   "metadata": {},
   "outputs": [],
   "source": [
    "kpdata[cat_cols] = kpdata[cat_cols].fillna('Missing')"
   ]
  },
  {
   "cell_type": "code",
   "execution_count": null,
   "metadata": {},
   "outputs": [],
   "source": []
  },
  {
   "cell_type": "code",
   "execution_count": null,
   "metadata": {},
   "outputs": [],
   "source": [
    "# Find and visualise columns with most missing data in customers dataset\n",
    "round(customers.isnull().sum(axis = 0)/customers.shape[0]*100,2).sort_values(ascending = False).head(20).plot(kind = 'bar', figsize=(20,10))\n",
    "plt.title(\" % of missing values per column in customers dataset\", fontdict={'fontsize': 16})\n",
    "plt.ylabel('% of missing values', fontdict={'fontsize': 12})\n",
    "plt.xlabel('columns in dataset', fontdict={'fontsize': 12})"
   ]
  },
  {
   "cell_type": "code",
   "execution_count": null,
   "metadata": {},
   "outputs": [],
   "source": [
    "# Find columns with most missing data in azdias dataset\n",
    "round(azdias.isnull().sum(axis = 0)/azdias.shape[0]*100,2).sort_values(ascending = False).head(20).plot(kind = 'bar', figsize=(20,10))\n",
    "plt.title(\" % of missing values per column in azdias dataset\", fontdict={'fontsize': 16})\n",
    "plt.ylabel('% of missing values', fontdict={'fontsize': 12})\n",
    "plt.xlabel('columns in dataset', fontdict={'fontsize': 12})"
   ]
  },
  {
   "cell_type": "code",
   "execution_count": null,
   "metadata": {},
   "outputs": [],
   "source": [
    "# Remove columns with a high proportion of missing data\n",
    "# Columns which have >50% missing data in datasets\n",
    "empty_cols_cust = list(customers.columns[customers.isnull().sum(axis = 0)/customers.shape[0]*100 > 50])\n",
    "empty_cols_az = list(azdias.columns[azdias.isnull().sum(axis = 0)/azdias.shape[0]*100 > 50])\n",
    "\n",
    "# Combine list of columns\n",
    "empty_cols = set(empty_cols_cust + empty_cols_az)\n",
    "\n",
    "# Remove columns from datasets\n",
    "customers = customers.drop(columns = empty_cols, axis=1)\n",
    "azdias = azdias.drop(columns = empty_cols, axis=1)\n",
    "# Remove thes rows from feature_summary dataset\n",
    "feature_summary = feature_summary.drop(feature_summary[feature_summary['attribute'].isin(empty_cols)].index, axis=0)"
   ]
  },
  {
   "cell_type": "code",
   "execution_count": null,
   "metadata": {},
   "outputs": [],
   "source": [
    "# Remove rows with a high proportion of missing data (>80%)\n",
    "empty_rows = customers[customers.isnull().sum(axis = 1)/customers.shape[1]*100 > 80].index\n",
    "customers = customers.drop(empty_rows, axis=0)\n",
    "\n",
    "empty_rows = azdias[azdias.isnull().sum(axis = 1)/azdias.shape[1]*100 > 80].index\n",
    "azdias = azdias.drop(empty_rows, axis=0)"
   ]
  },
  {
   "cell_type": "code",
   "execution_count": null,
   "metadata": {},
   "outputs": [],
   "source": [
    "# Explore datatypes so that I know the best imputation method to use\n",
    "# There are 5 types of data in the dataset \n",
    "feature_summary['type'].value_counts()"
   ]
  },
  {
   "cell_type": "code",
   "execution_count": null,
   "metadata": {},
   "outputs": [],
   "source": [
    "# 49 columns are ordinal\n",
    "ordinal_cols = list(feature_summary[feature_summary['type'] == 'ordinal']['attribute'])\n",
    "customers[ordinal_cols].head()"
   ]
  },
  {
   "cell_type": "code",
   "execution_count": null,
   "metadata": {},
   "outputs": [],
   "source": [
    "# 18 columns are categorical\n",
    "categorical_cols = list(feature_summary[feature_summary['type'] == 'categorical']['attribute'])\n",
    "customers[categorical_cols].head()"
   ]
  },
  {
   "cell_type": "code",
   "execution_count": null,
   "metadata": {},
   "outputs": [],
   "source": [
    "# 7 of the columns have numeric data types e.g Year of birth, number of cars, number of adults in household\n",
    "numeric_cols = list(feature_summary[feature_summary['type'] == 'numeric']['attribute'])\n",
    "customers[numeric_cols].head()"
   ]
  },
  {
   "cell_type": "code",
   "execution_count": null,
   "metadata": {},
   "outputs": [],
   "source": [
    "# 6 columns have mixed data types e.g. lifestage (family, income etc)\n",
    "mixed_cols = list(feature_summary[feature_summary['type'] == 'mixed']['attribute'])\n",
    "customers[mixed_cols].head()"
   ]
  },
  {
   "cell_type": "code",
   "execution_count": null,
   "metadata": {},
   "outputs": [],
   "source": [
    "# 1 column is type interval e.g. Interval of main age within household\n",
    "interval_cols = list(feature_summary[feature_summary['type'] == 'interval']['attribute'])\n",
    "customers[interval_cols].head()"
   ]
  },
  {
   "cell_type": "code",
   "execution_count": null,
   "metadata": {},
   "outputs": [],
   "source": [
    "# Create function which fills missing values in columns within num_vars with the column mean\n",
    "def fill_mean(df, num_vars):\n",
    "    '''\n",
    "    INPUT:\n",
    "    df - dataframe with missing numeric values\n",
    "    num_vars - object containing numeric columns in dataframe\n",
    "    OUTPUT:\n",
    "    df - dataframe with missing numeric values filled with column means\n",
    "    \n",
    "    Fills missing numeric values within a dataframe with column means.\n",
    "    '''\n",
    "    for col in num_vars:\n",
    "            df[col] = df[col].fillna(df[col].mean(), axis = 0)\n",
    "    return df"
   ]
  },
  {
   "cell_type": "code",
   "execution_count": null,
   "metadata": {},
   "outputs": [],
   "source": [
    "# Fill numeric fields with mean\n",
    "num_vars = list(feature_summary[feature_summary['type'] == 'numeric']['attribute'])\n",
    "\n",
    "customers = fill_mean(customers, num_vars)\n",
    "azdias = fill_mean(azdias, num_vars)"
   ]
  },
  {
   "cell_type": "code",
   "execution_count": null,
   "metadata": {},
   "outputs": [],
   "source": [
    "# Create function which fills missing values with mode \n",
    "fill_mode = lambda col: col.fillna(col.mode()[0])\n",
    "# Apply to all non-numerical columns in customers dataset\n",
    "customers = customers.apply(fill_mode, axis=0)\n",
    "# Apply to all non-numerical columns in azdias dataset\n",
    "azdias = azdias.apply(fill_mode, axis=0)"
   ]
  },
  {
   "cell_type": "markdown",
   "metadata": {},
   "source": [
    "One obervation is that column CAMEO_DEU_2015 appears to be a copy of CAMEO_DEUG_2015 with an additional letter field."
   ]
  },
  {
   "cell_type": "code",
   "execution_count": null,
   "metadata": {},
   "outputs": [],
   "source": [
    "# Extract letter from CAMEO_DEU_2015 into new column\n",
    "customers['CAMEO_DEU_2015_let'] = customers['CAMEO_DEU_2015'].str[1]\n",
    "azdias['CAMEO_DEU_2015_let'] = azdias['CAMEO_DEU_2015'].str[1]"
   ]
  },
  {
   "cell_type": "code",
   "execution_count": null,
   "metadata": {},
   "outputs": [],
   "source": [
    "# Verify that remaining number from CAMEO_DEU_2015 is a duplicate of CAMEO_DEUG_2015\n",
    "cameo_data = customers[['CAMEO_DEU_2015', 'CAMEO_DEUG_2015']]\n",
    "cameo_data['CAMEO_DEU_2015_num'] = cameo_data['CAMEO_DEU_2015'].str[0]\n",
    "cameo_data['CAMEO_DEU_2015_num'] = pd.to_numeric(cameo_data['CAMEO_DEU_2015_num'], errors='coerce')\n",
    "cameo_data['diff'] = cameo_data['CAMEO_DEU_2015_num'] - cameo_data['CAMEO_DEUG_2015']\n",
    "cameo_data['diff'].sum()"
   ]
  },
  {
   "cell_type": "code",
   "execution_count": null,
   "metadata": {},
   "outputs": [],
   "source": [
    "# As the remaining number from CAMEO_DEU_2015 is a duplicate of CAMEO_DEUG_2015, remove original CAMEO_DEUG_2015 column\n",
    "customers = customers.drop(columns = 'CAMEO_DEU_2015', axis=1)\n",
    "azdias = azdias.drop(columns = 'CAMEO_DEU_2015', axis=1)\n",
    "feature_summary = feature_summary.drop(feature_summary[feature_summary['attribute']== 'CAMEO_DEU_2015'].index, axis=0)"
   ]
  },
  {
   "cell_type": "code",
   "execution_count": null,
   "metadata": {},
   "outputs": [],
   "source": [
    "# One hot encode categorical, non ordinal data\n",
    "categorical_cols = list(feature_summary[(feature_summary['type'] == 'categorical')|(feature_summary['type'] == 'mixed')]['attribute'])\n",
    "categorical_cols.append('CAMEO_DEU_2015_let')\n",
    "customers_clean = pd.get_dummies(data=customers, columns=categorical_cols)   \n",
    "azdias_clean = pd.get_dummies(data=azdias, columns=categorical_cols)"
   ]
  },
  {
   "cell_type": "code",
   "execution_count": null,
   "metadata": {},
   "outputs": [],
   "source": [
    "# Check number of missing values in customers dataset\n",
    "round(customers_clean.isnull().sum(axis = 0)/customers_clean.shape[0]*100,2).sort_values(ascending = False).head(10)"
   ]
  },
  {
   "cell_type": "code",
   "execution_count": null,
   "metadata": {},
   "outputs": [],
   "source": [
    "# Check number of missing values in azdias dataset\n",
    "round(azdias_clean.isnull().sum(axis = 0)/azdias_clean.shape[0]*100,2).sort_values(ascending = False).head(10)"
   ]
  },
  {
   "cell_type": "code",
   "execution_count": 131,
   "metadata": {},
   "outputs": [],
   "source": [
    "# Create function which fills missing values in columns within num_vars with the column mean\n",
    "def fill_mean(df, num_vars):\n",
    "    '''\n",
    "    INPUT:\n",
    "    df - dataframe with missing numeric values\n",
    "    num_vars - object containing numeric columns in dataframe\n",
    "    OUTPUT:\n",
    "    df - dataframe with missing numeric values filled with column means\n",
    "    \n",
    "    Fills missing numeric values within a dataframe with column means.\n",
    "    '''\n",
    "    for col in num_vars:\n",
    "            df[col] = df[col].fillna(df[col].mean(), axis = 0)\n",
    "    return df\n",
    "\n",
    "# Create function which fills missing values with mode \n",
    "fill_mode = lambda col: col.fillna(col.mode()[0])\n",
    "\n",
    "# Put cleaning steps in function\n",
    "def clean_data(df, feature_summary):\n",
    "    '''\n",
    "     INPUT:\n",
    "     df - dataframe of input data\n",
    "     feature_summary - summary of data fields including data types and how missing values are represented\n",
    "     OUTPUT:\n",
    "     df_clean - dataframe of data ready for model\n",
    "     \n",
    "     Sorts columns with incorrect datatypes\n",
    "     Removes columns which are not in features_summary df\n",
    "     Replaces values which represent unknowns with NAs\n",
    "     Removes columns and rows with a high proportion of unknown data\n",
    "     Fills missing numeric values with mean\n",
    "     Fills missing non-numeric values with mode\n",
    "     Extract letter field from CAMEO_DEU_2015 and removes original column\n",
    "     One hot encodes non-ordinal columns\n",
    "     \n",
    "     '''\n",
    "    \n",
    "    # Sort columns with incorrect datatypes\n",
    "    for col in (['CAMEO_DEUG_2015', 'CAMEO_INTL_2015']):\n",
    "        df[col] = pd.to_numeric(df[col], errors='coerce')\n",
    "        \n",
    "    # Create list of columns for which I have detailed information\n",
    "    cols = list(feature_summary['attribute'])\n",
    "    # Add additional columns to the list\n",
    "    add_cols = ['LNR', 'CUSTOMER_GROUP', 'ONLINE_PURCHASE', 'PRODUCT_GROUP', 'RESPONSE']\n",
    "    all_cols = cols + add_cols\n",
    "    df = df.loc[:,df.columns.isin(all_cols)]\n",
    "    \n",
    "    # Replace values which represent unknown values with na\n",
    "    for value in [-1, 0, 9, 'XX', 'X']:\n",
    "        cols = feature_summary[feature_summary['missing_or_unknown'].str.contains(str(value))]['attribute']\n",
    "        df[cols] = df.loc[:,cols].replace({value:np.nan})\n",
    "        #df[cols] = df.loc[:,cols].fillna(value)\n",
    "    \n",
    "    # Remove columns with a high proportion of missing data\n",
    "    # Columns which have >50% missing data in datasets\n",
    "    empty_cols = list(df.columns[df.isnull().sum(axis = 0)/df.shape[0]*100 > 50])\n",
    "    # Remove columns from datasets\n",
    "    df = df.drop(columns = empty_cols, axis=1)\n",
    "    # Remove thes rows from feature_summary dataset\n",
    "    feature_summary = feature_summary.drop(feature_summary[feature_summary['attribute'].isin(empty_cols)].index, axis=0)\n",
    "    \n",
    "    # Remove rows with a high proportion of missing data\n",
    "    empty_rows = df[df.isnull().sum(axis = 1)/df.shape[1]*100 > 80].index\n",
    "    df = df.drop(empty_rows, axis=0)\n",
    "     \n",
    "#     # Fill missing numeric fields with mean\n",
    "    num_vars = list(feature_summary[feature_summary['type'] == 'numeric']['attribute'])\n",
    "#     #df = fill_mean(df, num_vars)\n",
    "    df = df.drop(num_vars, axis = 1)\n",
    "    \n",
    "    ## remove not cat data\n",
    "#     num_vars = list(feature_summary[feature_summary['type'] == 'numeric']['attribute'])\n",
    "#     df = df.drop(num_vars, axis = 1)\n",
    "#     num_vars = list(feature_summary[feature_summary['type'] == 'ordinal']['attribute'])\n",
    "#     df = df.drop(num_vars, axis = 1)\n",
    "#     num_vars = list(feature_summary[feature_summary['type'] == 'interval']['attribute'])\n",
    "#     df = df.drop(num_vars, axis = 1)\n",
    "#     num_vars = list(feature_summary[feature_summary['type'] == 'mixed']['attribute'])\n",
    "#     df = df.drop(num_vars, axis = 1)\n",
    "    \n",
    "    # Fill missing non-numeric fields with mode                                           \n",
    "    #df = df.apply(fill_mode, axis=0)   \n",
    "    df = df.fillna(-1)\n",
    "        \n",
    "    # Extract letter field from CAMEO_DEU_2015 and remove original, which is a duplicate of CAMEO_DEUG_2015\n",
    "    df['CAMEO_DEU_2015_let'] = df['CAMEO_DEU_2015'].str[1]\n",
    "    df_clean = df.drop(columns = 'CAMEO_DEU_2015', axis=1)\n",
    "    feature_summary = feature_summary.drop(feature_summary[feature_summary['attribute']== 'CAMEO_DEU_2015'].index, axis=0)\n",
    "    \n",
    "    # One hot encode categorical, non ordinal data\n",
    "    #categorical_cols = list(feature_summary[(feature_summary['type'] == 'categorical')|(feature_summary['type'] == 'mixed')]['attribute'])\n",
    "    #categorical_cols.append('CAMEO_DEU_2015_let')\n",
    "    #df_clean = pd.get_dummies(data=df, columns=categorical_cols)                                                                                                                                                         \n",
    "    return df_clean"
   ]
  },
  {
   "cell_type": "code",
   "execution_count": 132,
   "metadata": {},
   "outputs": [],
   "source": [
    "# # Check function is working\n",
    "# Import data\n",
    "azdias = pd.read_csv('data/Udacity_AZDIAS_052018.csv', sep=';', dtype={18: object, 19: object})\n",
    "customers = pd.read_csv('data/Udacity_CUSTOMERS_052018.csv', sep=';', dtype={18: object, 19: object})\n",
    "feature_summary = pd.read_csv('data/AZDIAS_Feature_Summary.csv', sep=';')"
   ]
  },
  {
   "cell_type": "code",
   "execution_count": 133,
   "metadata": {},
   "outputs": [
    {
     "name": "stderr",
     "output_type": "stream",
     "text": [
      "/Users/pmacdonald/anaconda3/lib/python3.7/site-packages/pandas/core/frame.py:3137: SettingWithCopyWarning: \n",
      "A value is trying to be set on a copy of a slice from a DataFrame.\n",
      "Try using .loc[row_indexer,col_indexer] = value instead\n",
      "\n",
      "See the caveats in the documentation: http://pandas.pydata.org/pandas-docs/stable/indexing.html#indexing-view-versus-copy\n",
      "  self[k1] = value[k2]\n"
     ]
    }
   ],
   "source": [
    "# Apply function to datasets\n",
    "customers_clean = clean_data(customers, feature_summary)\n",
    "azdias_clean = clean_data(azdias, feature_summary)"
   ]
  },
  {
   "cell_type": "code",
   "execution_count": 134,
   "metadata": {},
   "outputs": [
    {
     "data": {
      "text/html": [
       "<div>\n",
       "<style scoped>\n",
       "    .dataframe tbody tr th:only-of-type {\n",
       "        vertical-align: middle;\n",
       "    }\n",
       "\n",
       "    .dataframe tbody tr th {\n",
       "        vertical-align: top;\n",
       "    }\n",
       "\n",
       "    .dataframe thead th {\n",
       "        text-align: right;\n",
       "    }\n",
       "</style>\n",
       "<table border=\"1\" class=\"dataframe\">\n",
       "  <thead>\n",
       "    <tr style=\"text-align: right;\">\n",
       "      <th></th>\n",
       "      <th>LNR</th>\n",
       "      <th>ALTER_HH</th>\n",
       "      <th>ARBEIT</th>\n",
       "      <th>BALLRAUM</th>\n",
       "      <th>CAMEO_DEUG_2015</th>\n",
       "      <th>CAMEO_INTL_2015</th>\n",
       "      <th>CJT_GESAMTTYP</th>\n",
       "      <th>EWDICHTE</th>\n",
       "      <th>FINANZ_ANLEGER</th>\n",
       "      <th>FINANZ_HAUSBAUER</th>\n",
       "      <th>...</th>\n",
       "      <th>W_KEIT_KIND_HH</th>\n",
       "      <th>WOHNDAUER_2008</th>\n",
       "      <th>WOHNLAGE</th>\n",
       "      <th>ZABEOTYP</th>\n",
       "      <th>PRODUCT_GROUP</th>\n",
       "      <th>CUSTOMER_GROUP</th>\n",
       "      <th>ONLINE_PURCHASE</th>\n",
       "      <th>ANREDE_KZ</th>\n",
       "      <th>ALTERSKATEGORIE_GROB</th>\n",
       "      <th>CAMEO_DEU_2015_let</th>\n",
       "    </tr>\n",
       "  </thead>\n",
       "  <tbody>\n",
       "    <tr>\n",
       "      <th>0</th>\n",
       "      <td>9626</td>\n",
       "      <td>10.0</td>\n",
       "      <td>1.0</td>\n",
       "      <td>3.0</td>\n",
       "      <td>1.0</td>\n",
       "      <td>13.0</td>\n",
       "      <td>5.0</td>\n",
       "      <td>2.0</td>\n",
       "      <td>1.0</td>\n",
       "      <td>2.0</td>\n",
       "      <td>...</td>\n",
       "      <td>6.0</td>\n",
       "      <td>9.0</td>\n",
       "      <td>7.0</td>\n",
       "      <td>3.0</td>\n",
       "      <td>COSMETIC_AND_FOOD</td>\n",
       "      <td>MULTI_BUYER</td>\n",
       "      <td>0</td>\n",
       "      <td>1.0</td>\n",
       "      <td>4.0</td>\n",
       "      <td>A</td>\n",
       "    </tr>\n",
       "    <tr>\n",
       "      <th>1</th>\n",
       "      <td>9628</td>\n",
       "      <td>11.0</td>\n",
       "      <td>-1.0</td>\n",
       "      <td>-1.0</td>\n",
       "      <td>-1.0</td>\n",
       "      <td>-1.0</td>\n",
       "      <td>-1.0</td>\n",
       "      <td>-1.0</td>\n",
       "      <td>1.0</td>\n",
       "      <td>2.0</td>\n",
       "      <td>...</td>\n",
       "      <td>-1.0</td>\n",
       "      <td>9.0</td>\n",
       "      <td>-1.0</td>\n",
       "      <td>3.0</td>\n",
       "      <td>FOOD</td>\n",
       "      <td>SINGLE_BUYER</td>\n",
       "      <td>0</td>\n",
       "      <td>1.0</td>\n",
       "      <td>4.0</td>\n",
       "      <td>NaN</td>\n",
       "    </tr>\n",
       "    <tr>\n",
       "      <th>2</th>\n",
       "      <td>143872</td>\n",
       "      <td>6.0</td>\n",
       "      <td>3.0</td>\n",
       "      <td>7.0</td>\n",
       "      <td>5.0</td>\n",
       "      <td>34.0</td>\n",
       "      <td>2.0</td>\n",
       "      <td>4.0</td>\n",
       "      <td>1.0</td>\n",
       "      <td>4.0</td>\n",
       "      <td>...</td>\n",
       "      <td>6.0</td>\n",
       "      <td>9.0</td>\n",
       "      <td>2.0</td>\n",
       "      <td>3.0</td>\n",
       "      <td>COSMETIC_AND_FOOD</td>\n",
       "      <td>MULTI_BUYER</td>\n",
       "      <td>0</td>\n",
       "      <td>2.0</td>\n",
       "      <td>4.0</td>\n",
       "      <td>D</td>\n",
       "    </tr>\n",
       "    <tr>\n",
       "      <th>3</th>\n",
       "      <td>143873</td>\n",
       "      <td>8.0</td>\n",
       "      <td>1.0</td>\n",
       "      <td>7.0</td>\n",
       "      <td>4.0</td>\n",
       "      <td>24.0</td>\n",
       "      <td>2.0</td>\n",
       "      <td>1.0</td>\n",
       "      <td>2.0</td>\n",
       "      <td>2.0</td>\n",
       "      <td>...</td>\n",
       "      <td>-1.0</td>\n",
       "      <td>9.0</td>\n",
       "      <td>7.0</td>\n",
       "      <td>1.0</td>\n",
       "      <td>COSMETIC</td>\n",
       "      <td>MULTI_BUYER</td>\n",
       "      <td>0</td>\n",
       "      <td>1.0</td>\n",
       "      <td>4.0</td>\n",
       "      <td>C</td>\n",
       "    </tr>\n",
       "    <tr>\n",
       "      <th>4</th>\n",
       "      <td>143874</td>\n",
       "      <td>20.0</td>\n",
       "      <td>3.0</td>\n",
       "      <td>3.0</td>\n",
       "      <td>7.0</td>\n",
       "      <td>41.0</td>\n",
       "      <td>6.0</td>\n",
       "      <td>4.0</td>\n",
       "      <td>4.0</td>\n",
       "      <td>2.0</td>\n",
       "      <td>...</td>\n",
       "      <td>2.0</td>\n",
       "      <td>9.0</td>\n",
       "      <td>3.0</td>\n",
       "      <td>1.0</td>\n",
       "      <td>FOOD</td>\n",
       "      <td>MULTI_BUYER</td>\n",
       "      <td>0</td>\n",
       "      <td>1.0</td>\n",
       "      <td>3.0</td>\n",
       "      <td>B</td>\n",
       "    </tr>\n",
       "  </tbody>\n",
       "</table>\n",
       "<p>5 rows × 78 columns</p>\n",
       "</div>"
      ],
      "text/plain": [
       "      LNR  ALTER_HH  ARBEIT  BALLRAUM  CAMEO_DEUG_2015  CAMEO_INTL_2015  \\\n",
       "0    9626      10.0     1.0       3.0              1.0             13.0   \n",
       "1    9628      11.0    -1.0      -1.0             -1.0             -1.0   \n",
       "2  143872       6.0     3.0       7.0              5.0             34.0   \n",
       "3  143873       8.0     1.0       7.0              4.0             24.0   \n",
       "4  143874      20.0     3.0       3.0              7.0             41.0   \n",
       "\n",
       "   CJT_GESAMTTYP  EWDICHTE  FINANZ_ANLEGER  FINANZ_HAUSBAUER  \\\n",
       "0            5.0       2.0             1.0               2.0   \n",
       "1           -1.0      -1.0             1.0               2.0   \n",
       "2            2.0       4.0             1.0               4.0   \n",
       "3            2.0       1.0             2.0               2.0   \n",
       "4            6.0       4.0             4.0               2.0   \n",
       "\n",
       "          ...          W_KEIT_KIND_HH  WOHNDAUER_2008  WOHNLAGE  ZABEOTYP  \\\n",
       "0         ...                     6.0             9.0       7.0       3.0   \n",
       "1         ...                    -1.0             9.0      -1.0       3.0   \n",
       "2         ...                     6.0             9.0       2.0       3.0   \n",
       "3         ...                    -1.0             9.0       7.0       1.0   \n",
       "4         ...                     2.0             9.0       3.0       1.0   \n",
       "\n",
       "       PRODUCT_GROUP  CUSTOMER_GROUP  ONLINE_PURCHASE  ANREDE_KZ  \\\n",
       "0  COSMETIC_AND_FOOD     MULTI_BUYER                0        1.0   \n",
       "1               FOOD    SINGLE_BUYER                0        1.0   \n",
       "2  COSMETIC_AND_FOOD     MULTI_BUYER                0        2.0   \n",
       "3           COSMETIC     MULTI_BUYER                0        1.0   \n",
       "4               FOOD     MULTI_BUYER                0        1.0   \n",
       "\n",
       "   ALTERSKATEGORIE_GROB  CAMEO_DEU_2015_let  \n",
       "0                   4.0                   A  \n",
       "1                   4.0                 NaN  \n",
       "2                   4.0                   D  \n",
       "3                   4.0                   C  \n",
       "4                   3.0                   B  \n",
       "\n",
       "[5 rows x 78 columns]"
      ]
     },
     "execution_count": 134,
     "metadata": {},
     "output_type": "execute_result"
    }
   ],
   "source": [
    "customers_clean.head()"
   ]
  },
  {
   "cell_type": "code",
   "execution_count": 140,
   "metadata": {},
   "outputs": [],
   "source": [
    "customers_clean[['OST_WEST_KZ','CAMEO_DEU_2015_let']] = customers_clean[['OST_WEST_KZ','CAMEO_DEU_2015_let']].replace({-1:'Missing'})\n",
    "azdias_clean[['OST_WEST_KZ', 'CAMEO_DEU_2015_let']] = azdias_clean[['OST_WEST_KZ', 'CAMEO_DEU_2015_let']].replace({-1:'Missing'})\n",
    "#customers_clean['OST_WEST_KZ'] = customers_clean['OST_WEST_KZ'].replace({-1:np.'Missing'})\n",
    "#azdias_clean['OST_WEST_KZ'] = azdias_clean['OST_WEST_KZ'].replace({-1:np.nan})\n",
    "le = preprocessing.LabelEncoder()\n",
    "customers_clean[['PRODUCT_GROUP', 'CUSTOMER_GROUP', 'CAMEO_DEU_2015_let', 'OST_WEST_KZ']] = customers_clean[['PRODUCT_GROUP', 'CUSTOMER_GROUP', 'CAMEO_DEU_2015_let', 'OST_WEST_KZ']].apply(le.fit_transform)\n",
    "azdias_clean[['CAMEO_DEU_2015_let', 'OST_WEST_KZ']] = azdias_clean[['CAMEO_DEU_2015_let', 'OST_WEST_KZ']].apply(le.fit_transform)\n",
    "#customers_clean[['CAMEO_DEU_2015_let', 'OST_WEST_KZ']] = customers_clean[['CAMEO_DEU_2015_let', 'OST_WEST_KZ']].apply(le.fit_transform)"
   ]
  },
  {
   "cell_type": "code",
   "execution_count": 141,
   "metadata": {},
   "outputs": [
    {
     "data": {
      "text/html": [
       "<div>\n",
       "<style scoped>\n",
       "    .dataframe tbody tr th:only-of-type {\n",
       "        vertical-align: middle;\n",
       "    }\n",
       "\n",
       "    .dataframe tbody tr th {\n",
       "        vertical-align: top;\n",
       "    }\n",
       "\n",
       "    .dataframe thead th {\n",
       "        text-align: right;\n",
       "    }\n",
       "</style>\n",
       "<table border=\"1\" class=\"dataframe\">\n",
       "  <thead>\n",
       "    <tr style=\"text-align: right;\">\n",
       "      <th></th>\n",
       "      <th>LNR</th>\n",
       "      <th>ALTER_HH</th>\n",
       "      <th>ARBEIT</th>\n",
       "      <th>BALLRAUM</th>\n",
       "      <th>CAMEO_DEUG_2015</th>\n",
       "      <th>CAMEO_INTL_2015</th>\n",
       "      <th>CJT_GESAMTTYP</th>\n",
       "      <th>EWDICHTE</th>\n",
       "      <th>FINANZ_ANLEGER</th>\n",
       "      <th>FINANZ_HAUSBAUER</th>\n",
       "      <th>...</th>\n",
       "      <th>W_KEIT_KIND_HH</th>\n",
       "      <th>WOHNDAUER_2008</th>\n",
       "      <th>WOHNLAGE</th>\n",
       "      <th>ZABEOTYP</th>\n",
       "      <th>PRODUCT_GROUP</th>\n",
       "      <th>CUSTOMER_GROUP</th>\n",
       "      <th>ONLINE_PURCHASE</th>\n",
       "      <th>ANREDE_KZ</th>\n",
       "      <th>ALTERSKATEGORIE_GROB</th>\n",
       "      <th>CAMEO_DEU_2015_let</th>\n",
       "    </tr>\n",
       "  </thead>\n",
       "  <tbody>\n",
       "    <tr>\n",
       "      <th>0</th>\n",
       "      <td>9626</td>\n",
       "      <td>10.0</td>\n",
       "      <td>1.0</td>\n",
       "      <td>3.0</td>\n",
       "      <td>1.0</td>\n",
       "      <td>13.0</td>\n",
       "      <td>5.0</td>\n",
       "      <td>2.0</td>\n",
       "      <td>1.0</td>\n",
       "      <td>2.0</td>\n",
       "      <td>...</td>\n",
       "      <td>6.0</td>\n",
       "      <td>9.0</td>\n",
       "      <td>7.0</td>\n",
       "      <td>3.0</td>\n",
       "      <td>1</td>\n",
       "      <td>0</td>\n",
       "      <td>0</td>\n",
       "      <td>1.0</td>\n",
       "      <td>4.0</td>\n",
       "      <td>0</td>\n",
       "    </tr>\n",
       "    <tr>\n",
       "      <th>1</th>\n",
       "      <td>9628</td>\n",
       "      <td>11.0</td>\n",
       "      <td>-1.0</td>\n",
       "      <td>-1.0</td>\n",
       "      <td>-1.0</td>\n",
       "      <td>-1.0</td>\n",
       "      <td>-1.0</td>\n",
       "      <td>-1.0</td>\n",
       "      <td>1.0</td>\n",
       "      <td>2.0</td>\n",
       "      <td>...</td>\n",
       "      <td>-1.0</td>\n",
       "      <td>9.0</td>\n",
       "      <td>-1.0</td>\n",
       "      <td>3.0</td>\n",
       "      <td>2</td>\n",
       "      <td>1</td>\n",
       "      <td>0</td>\n",
       "      <td>1.0</td>\n",
       "      <td>4.0</td>\n",
       "      <td>6</td>\n",
       "    </tr>\n",
       "    <tr>\n",
       "      <th>2</th>\n",
       "      <td>143872</td>\n",
       "      <td>6.0</td>\n",
       "      <td>3.0</td>\n",
       "      <td>7.0</td>\n",
       "      <td>5.0</td>\n",
       "      <td>34.0</td>\n",
       "      <td>2.0</td>\n",
       "      <td>4.0</td>\n",
       "      <td>1.0</td>\n",
       "      <td>4.0</td>\n",
       "      <td>...</td>\n",
       "      <td>6.0</td>\n",
       "      <td>9.0</td>\n",
       "      <td>2.0</td>\n",
       "      <td>3.0</td>\n",
       "      <td>1</td>\n",
       "      <td>0</td>\n",
       "      <td>0</td>\n",
       "      <td>2.0</td>\n",
       "      <td>4.0</td>\n",
       "      <td>3</td>\n",
       "    </tr>\n",
       "    <tr>\n",
       "      <th>3</th>\n",
       "      <td>143873</td>\n",
       "      <td>8.0</td>\n",
       "      <td>1.0</td>\n",
       "      <td>7.0</td>\n",
       "      <td>4.0</td>\n",
       "      <td>24.0</td>\n",
       "      <td>2.0</td>\n",
       "      <td>1.0</td>\n",
       "      <td>2.0</td>\n",
       "      <td>2.0</td>\n",
       "      <td>...</td>\n",
       "      <td>-1.0</td>\n",
       "      <td>9.0</td>\n",
       "      <td>7.0</td>\n",
       "      <td>1.0</td>\n",
       "      <td>0</td>\n",
       "      <td>0</td>\n",
       "      <td>0</td>\n",
       "      <td>1.0</td>\n",
       "      <td>4.0</td>\n",
       "      <td>2</td>\n",
       "    </tr>\n",
       "    <tr>\n",
       "      <th>4</th>\n",
       "      <td>143874</td>\n",
       "      <td>20.0</td>\n",
       "      <td>3.0</td>\n",
       "      <td>3.0</td>\n",
       "      <td>7.0</td>\n",
       "      <td>41.0</td>\n",
       "      <td>6.0</td>\n",
       "      <td>4.0</td>\n",
       "      <td>4.0</td>\n",
       "      <td>2.0</td>\n",
       "      <td>...</td>\n",
       "      <td>2.0</td>\n",
       "      <td>9.0</td>\n",
       "      <td>3.0</td>\n",
       "      <td>1.0</td>\n",
       "      <td>2</td>\n",
       "      <td>0</td>\n",
       "      <td>0</td>\n",
       "      <td>1.0</td>\n",
       "      <td>3.0</td>\n",
       "      <td>1</td>\n",
       "    </tr>\n",
       "  </tbody>\n",
       "</table>\n",
       "<p>5 rows × 78 columns</p>\n",
       "</div>"
      ],
      "text/plain": [
       "      LNR  ALTER_HH  ARBEIT  BALLRAUM  CAMEO_DEUG_2015  CAMEO_INTL_2015  \\\n",
       "0    9626      10.0     1.0       3.0              1.0             13.0   \n",
       "1    9628      11.0    -1.0      -1.0             -1.0             -1.0   \n",
       "2  143872       6.0     3.0       7.0              5.0             34.0   \n",
       "3  143873       8.0     1.0       7.0              4.0             24.0   \n",
       "4  143874      20.0     3.0       3.0              7.0             41.0   \n",
       "\n",
       "   CJT_GESAMTTYP  EWDICHTE  FINANZ_ANLEGER  FINANZ_HAUSBAUER  \\\n",
       "0            5.0       2.0             1.0               2.0   \n",
       "1           -1.0      -1.0             1.0               2.0   \n",
       "2            2.0       4.0             1.0               4.0   \n",
       "3            2.0       1.0             2.0               2.0   \n",
       "4            6.0       4.0             4.0               2.0   \n",
       "\n",
       "          ...          W_KEIT_KIND_HH  WOHNDAUER_2008  WOHNLAGE  ZABEOTYP  \\\n",
       "0         ...                     6.0             9.0       7.0       3.0   \n",
       "1         ...                    -1.0             9.0      -1.0       3.0   \n",
       "2         ...                     6.0             9.0       2.0       3.0   \n",
       "3         ...                    -1.0             9.0       7.0       1.0   \n",
       "4         ...                     2.0             9.0       3.0       1.0   \n",
       "\n",
       "   PRODUCT_GROUP  CUSTOMER_GROUP  ONLINE_PURCHASE  ANREDE_KZ  \\\n",
       "0              1               0                0        1.0   \n",
       "1              2               1                0        1.0   \n",
       "2              1               0                0        2.0   \n",
       "3              0               0                0        1.0   \n",
       "4              2               0                0        1.0   \n",
       "\n",
       "   ALTERSKATEGORIE_GROB  CAMEO_DEU_2015_let  \n",
       "0                   4.0                   0  \n",
       "1                   4.0                   6  \n",
       "2                   4.0                   3  \n",
       "3                   4.0                   2  \n",
       "4                   3.0                   1  \n",
       "\n",
       "[5 rows x 78 columns]"
      ]
     },
     "execution_count": 141,
     "metadata": {},
     "output_type": "execute_result"
    }
   ],
   "source": [
    "customers_clean.head()"
   ]
  },
  {
   "cell_type": "code",
   "execution_count": 120,
   "metadata": {},
   "outputs": [],
   "source": [
    "# customers_clean = customers_clean.fillna(-1)\n",
    "# azdias_clean = azdias_clean.fillna(-1)"
   ]
  },
  {
   "cell_type": "code",
   "execution_count": 142,
   "metadata": {},
   "outputs": [
    {
     "data": {
      "text/plain": [
       "CAMEO_DEU_2015_let    0.0\n",
       "KONSUMNAEHE           0.0\n",
       "INNENSTADT            0.0\n",
       "KBA05_ANTG1           0.0\n",
       "KBA05_ANTG2           0.0\n",
       "KBA05_ANTG3           0.0\n",
       "KBA05_ANTG4           0.0\n",
       "KBA05_GBZ             0.0\n",
       "KKK                   0.0\n",
       "LP_FAMILIE_FEIN       0.0\n",
       "dtype: float64"
      ]
     },
     "execution_count": 142,
     "metadata": {},
     "output_type": "execute_result"
    }
   ],
   "source": [
    "round(customers_clean.isnull().sum(axis = 0)/customers_clean.shape[0]*100,2).sort_values(ascending = False).head(10)"
   ]
  },
  {
   "cell_type": "code",
   "execution_count": 143,
   "metadata": {},
   "outputs": [
    {
     "data": {
      "text/plain": [
       "CAMEO_DEU_2015_let    0.0\n",
       "GREEN_AVANTGARDE      0.0\n",
       "HH_EINKOMMEN_SCORE    0.0\n",
       "INNENSTADT            0.0\n",
       "KBA05_ANTG1           0.0\n",
       "KBA05_ANTG2           0.0\n",
       "KBA05_ANTG3           0.0\n",
       "KBA05_ANTG4           0.0\n",
       "KBA05_GBZ             0.0\n",
       "KKK                   0.0\n",
       "dtype: float64"
      ]
     },
     "execution_count": 143,
     "metadata": {},
     "output_type": "execute_result"
    }
   ],
   "source": [
    "round(azdias_clean.isnull().sum(axis = 0)/azdias_clean.shape[0]*100,2).sort_values(ascending = False).head(10)\n",
    "# There are no longer any missing values in the datasets suggesting the function is working"
   ]
  },
  {
   "cell_type": "markdown",
   "metadata": {},
   "source": [
    "## Part 1: Customer Segmentation Report\n",
    "\n",
    "The main bulk of your analysis will come in this part of the project. Here, you should use unsupervised learning techniques to describe the relationship between the demographics of the company's existing customers and the general population of Germany. By the end of this part, you should be able to describe parts of the general population that are more likely to be part of the mail-order company's main customer base, and which parts of the general population are less so."
   ]
  },
  {
   "cell_type": "code",
   "execution_count": 144,
   "metadata": {},
   "outputs": [],
   "source": [
    "# Remove columns which aren't present in both dataframes ahead of segmentation\n",
    "uncommon_cols = set(customers_clean.columns).symmetric_difference(set(azdias_clean.columns))\n",
    "customers_clean = customers_clean.drop(columns = uncommon_cols, axis=1, errors = 'ignore')\n",
    "azdias_clean = azdias_clean.drop(columns = uncommon_cols, axis=1, errors = 'ignore')"
   ]
  },
  {
   "cell_type": "code",
   "execution_count": 145,
   "metadata": {},
   "outputs": [
    {
     "data": {
      "text/plain": [
       "(191652, 75)"
      ]
     },
     "execution_count": 145,
     "metadata": {},
     "output_type": "execute_result"
    }
   ],
   "source": [
    "customers_clean.shape"
   ]
  },
  {
   "cell_type": "code",
   "execution_count": 146,
   "metadata": {},
   "outputs": [
    {
     "data": {
      "text/plain": [
       "(891221, 75)"
      ]
     },
     "execution_count": 146,
     "metadata": {},
     "output_type": "execute_result"
    }
   ],
   "source": [
    "azdias_clean.shape\n",
    "# Both datasets have the same number of rows and so are ready for segmenatation steps"
   ]
  },
  {
   "cell_type": "code",
   "execution_count": 147,
   "metadata": {},
   "outputs": [],
   "source": [
    "# Remove ID column named LNR\n",
    "customers_clean = customers_clean.drop(columns = ['LNR'], axis=1)\n",
    "azdias_clean = azdias_clean.drop(columns = ['LNR'], axis=1)"
   ]
  },
  {
   "cell_type": "markdown",
   "metadata": {},
   "source": [
    "### Standardise data"
   ]
  },
  {
   "cell_type": "code",
   "execution_count": null,
   "metadata": {},
   "outputs": [],
   "source": [
    "# Look at distribution of a subset of columns based on code on https://towardsdatascience.com/a-guide-to-pandas-and-matplotlib-for-data-exploration-56fad95f951c\n",
    "customers_subset = customers_clean.iloc[: ,1:10]\n",
    "sns.pairplot(customers_subset)"
   ]
  },
  {
   "cell_type": "code",
   "execution_count": null,
   "metadata": {},
   "outputs": [],
   "source": [
    "# Even when looking at the first 10 columns many are not normally distributed\n",
    "# Many clustering algorithms require features to be normally distributed therefore use apply scaler to standardize data"
   ]
  },
  {
   "cell_type": "code",
   "execution_count": null,
   "metadata": {},
   "outputs": [],
   "source": [
    "x = customers_clean.apply(boxcox)\n",
    "# x = azdias_clean.apply(boxcox)"
   ]
  },
  {
   "cell_type": "code",
   "execution_count": null,
   "metadata": {},
   "outputs": [],
   "source": [
    "#https://stackoverflow.com/questions/48288363/pandas-apply-function-with-different-argument-values-to-different-columns\n",
    "result_df = customers_clean.apply(lambda col: stats.boxcox(col, a.loc[col.name]))"
   ]
  },
  {
   "cell_type": "code",
   "execution_count": null,
   "metadata": {},
   "outputs": [],
   "source": [
    "#https://scikit-learn.org/stable/modules/generated/sklearn.preprocessing.power_transform.html\n",
    "from sklearn.preprocessing import power_transform\n",
    "data = [[1, 2], [3, 2], [4, 5]]\n",
    "print(power_transform(data, method='box-cox'))\n"
   ]
  },
  {
   "cell_type": "code",
   "execution_count": null,
   "metadata": {},
   "outputs": [],
   "source": [
    "# Declare and fit scaler to \n",
    "scaler = StandardScaler()\n",
    "scaler.fit(customers_clean)\n",
    "customers_scaled_features = scaler.transform(customers_clean)\n",
    "customers_scaled = pd.DataFrame(customers_scaled_features, columns=customers_clean.columns)\n",
    "customers_scaled.head()\n",
    "\n",
    "# Apply scaler to customers dataset\n",
    "azdias_scaled_features = scaler.transform(azdias_clean)\n",
    "azdias_scaled = pd.DataFrame(azdias_scaled_features, columns=azdias_clean.columns)\n",
    "azdias_scaled.head()"
   ]
  },
  {
   "cell_type": "markdown",
   "metadata": {},
   "source": [
    "### Perform PCA"
   ]
  },
  {
   "cell_type": "code",
   "execution_count": null,
   "metadata": {},
   "outputs": [],
   "source": [
    "# There are a lot of columns in the dataset and it is likely that a lot will correlate"
   ]
  },
  {
   "cell_type": "code",
   "execution_count": null,
   "metadata": {},
   "outputs": [],
   "source": [
    "# There are a lot of columns in the dataset and it is likely that a lot will correlate\n",
    "# Create visualisation of correlations between columns based on code on https://towardsdatascience.com/a-guide-to-pandas-and-matplotlib-for-data-exploration-56fad95f951c\n",
    "corr = customers_subset.corr()\n",
    "sns.heatmap(corr, xticklabels=corr.columns, yticklabels=corr.columns, cmap=sns.diverging_palette(220, 10, as_cmap=True))"
   ]
  },
  {
   "cell_type": "code",
   "execution_count": null,
   "metadata": {},
   "outputs": [],
   "source": [
    "# Looking at the visualisation above, FINANZ_SPARER correlates strongly with FIANZ_ANLEGER and FIANZ_UNAUFFAELLIGER\n",
    "# Therefore apply principle component analysis to reduce dimensionality of the datasets"
   ]
  },
  {
   "cell_type": "code",
   "execution_count": null,
   "metadata": {},
   "outputs": [],
   "source": [
    "customers_clean.columns[customers_clean.dtypes == 'object']"
   ]
  },
  {
   "cell_type": "code",
   "execution_count": 10,
   "metadata": {},
   "outputs": [
    {
     "data": {
      "image/png": "[encoded data removed]",
      "text/plain": [
       "<Figure size 432x288 with 1 Axes>"
      ]
     },
     "metadata": {},
     "output_type": "display_data"
    }
   ],
   "source": [
    "# customers_scaled changed to customers_clean\n",
    "# Determine the number of components to use using link: https://towardsdatascience.com/an-approach-to-choosing-the-number-of-components-in-a-principal-component-analysis-pca-3b9f3d6e73fe\n",
    "# Fitting the PCA algorithm with our Data\n",
    "pca = PCA().fit(customers_clean)\n",
    "# Plotting the Cumulative Summation of the Explained Variance\n",
    "plt.figure()\n",
    "plt.plot(np.cumsum(pca.explained_variance_ratio_))\n",
    "plt.xlabel('Number of Components')\n",
    "plt.ylabel('Variance (%)') #for each component\n",
    "plt.title('Pulsar Dataset Explained Variance')\n",
    "plt.show()\n",
    "# Plot suggests 125 components descripe 90% of the data"
   ]
  },
  {
   "cell_type": "code",
   "execution_count": 11,
   "metadata": {},
   "outputs": [],
   "source": [
    "# Customers scaled changed to customers_clean\n",
    "# Apply PCA to azdias dataset\n",
    "pca = PCA(n_components=20)\n",
    "customers_components = pca.fit_transform(customers_clean)\n",
    "\n",
    "# Apply to customers datast\n",
    "azdias_components = pca.transform(azdias_clean)"
   ]
  },
  {
   "cell_type": "markdown",
   "metadata": {},
   "source": [
    "### Apply Kmeans clustering algorithm"
   ]
  },
  {
   "cell_type": "code",
   "execution_count": null,
   "metadata": {},
   "outputs": [],
   "source": [
    "#Determine number of clusters using elbow method - https://towardsdatascience.com/customer-segmentation-using-k-means-clustering-d33964f238c3\n",
    "sse = []\n",
    "for k in range(1,10):\n",
    "    kmeans = KMeans(n_clusters=k, init=\"k-means++\")\n",
    "    kmeans.fit(customers_components)\n",
    "    sse.append(kmeans.inertia_)\n",
    "    \n",
    "plt.figure(figsize=(12,6))    \n",
    "plt.plot(range(1,10), sse)\n",
    "plt.xlabel(\"Number of clusters\")\n",
    "plt.ylabel(\"SSE\")\n",
    "plt.title(\"Chart to establish the optimal number of clusters\")\n",
    "plt.show()\n",
    "# 4 clusters looks optimal"
   ]
  },
  {
   "cell_type": "code",
   "execution_count": 148,
   "metadata": {},
   "outputs": [
    {
     "name": "stdout",
     "output_type": "stream",
     "text": [
      "Init: initializing centroids\n",
      "Init: initializing clusters\n",
      "Starting iterations...\n",
      "Run 1, iteration: 1/100, moves: 24437, cost: 6454058.0\n",
      "Run 1, iteration: 2/100, moves: 605, cost: 6454058.0\n"
     ]
    }
   ],
   "source": [
    "km_cao = KModes(n_clusters=2, init = \"Cao\", verbose=1)\n",
    "fitClusters_cao = km_cao.fit_predict(customers_clean)"
   ]
  },
  {
   "cell_type": "code",
   "execution_count": 149,
   "metadata": {},
   "outputs": [
    {
     "name": "stdout",
     "output_type": "stream",
     "text": [
      "Init: initializing centroids\n",
      "Init: initializing clusters\n",
      "Starting iterations...\n",
      "Run 1, iteration: 1/100, moves: 55476, cost: 6454036.0\n",
      "Run 1, iteration: 2/100, moves: 478, cost: 6454036.0\n"
     ]
    }
   ],
   "source": [
    "km_huang = KModes(n_clusters=2, init = \"Huang\", verbose=1)\n",
    "fitClusters_cao = km_huang.fit_predict(customers_clean)"
   ]
  },
  {
   "cell_type": "code",
   "execution_count": 150,
   "metadata": {},
   "outputs": [
    {
     "data": {
      "image/png": "[encoded data removed]",
      "text/plain": [
       "<Figure size 864x432 with 1 Axes>"
      ]
     },
     "metadata": {},
     "output_type": "display_data"
    }
   ],
   "source": [
    "#Determine number of clusters using elbow method - https://towardsdatascience.com/customer-segmentation-using-k-means-clustering-d33964f238c3\n",
    "cost = []\n",
    "for k in range(1,10):\n",
    "    kmodes = KModes(n_clusters=k, init = \"Huang\")\n",
    "    kmodes.fit(customers_clean)\n",
    "    cost.append(kmodes.cost_)\n",
    "    \n",
    "plt.figure(figsize=(12,6))    \n",
    "plt.plot(range(1,10), sse)\n",
    "plt.xlabel(\"Number of clusters\")\n",
    "plt.ylabel(\"Cost\")\n",
    "plt.title(\"Chart to establish the optimal number of clusters\")\n",
    "plt.show()\n",
    "# 4 clusters looks optimal"
   ]
  },
  {
   "cell_type": "code",
   "execution_count": null,
   "metadata": {},
   "outputs": [],
   "source": [
    "plt.figure(figsize=(12,6))    \n",
    "plt.plot(range(1,30), sse)\n",
    "plt.xlabel(\"Number of clusters\")\n",
    "plt.ylabel(\"SSE\")\n",
    "plt.title(\"Chart to establish the optimal number of clusters\")\n",
    "plt.show()\n",
    "# 4 clusters looks optimal"
   ]
  },
  {
   "cell_type": "code",
   "execution_count": 152,
   "metadata": {},
   "outputs": [
    {
     "name": "stdout",
     "output_type": "stream",
     "text": [
      "Init: initializing centroids\n",
      "Init: initializing clusters\n",
      "Starting iterations...\n",
      "Run 1, iteration: 1/100, moves: 68439, cost: 5932293.0\n",
      "Run 1, iteration: 2/100, moves: 33538, cost: 5819797.0\n",
      "Run 1, iteration: 3/100, moves: 15242, cost: 5790803.0\n",
      "Run 1, iteration: 4/100, moves: 7985, cost: 5787293.0\n",
      "Run 1, iteration: 5/100, moves: 310, cost: 5787293.0\n"
     ]
    }
   ],
   "source": [
    "# Apply kmeans to scaled data and create column of results\n",
    "kmodes = KModes(n_clusters=4, random_state=20, verbose=1, init = \"Huang\")\n",
    "#customers_components = pd.DataFrame(customers_components)\n",
    "#azdias_components = pd.DataFrame(azdias_components)\n",
    "customers_clean['clusters'] = kmodes.fit_predict(customers_clean)\n",
    "azdias_clean['clusters'] = kmodes.predict(azdias_clean)"
   ]
  },
  {
   "cell_type": "code",
   "execution_count": 41,
   "metadata": {},
   "outputs": [],
   "source": [
    "#fig,(ax1,ax2) = plt.subplots(1,2, sharey = True)\n",
    "#ax1.scatter(customers_clean[0][:,0],customers_clean[0][:,1], col = kmodes.labels_)\n",
    "#plt.scatter(customers_clean[:,0],customers_clean[:,1], col = kmodes.labels_)"
   ]
  },
  {
   "cell_type": "code",
   "execution_count": 153,
   "metadata": {},
   "outputs": [
    {
     "data": {
      "image/png": "[encoded data removed]",
      "text/plain": [
       "<Figure size 432x288 with 1 Axes>"
      ]
     },
     "metadata": {},
     "output_type": "display_data"
    }
   ],
   "source": [
    "# customers_scaled changed to customers_clean\n",
    "# Determine the number of components to use using link: https://towardsdatascience.com/an-approach-to-choosing-the-number-of-components-in-a-principal-component-analysis-pca-3b9f3d6e73fe\n",
    "# Fitting the PCA algorithm with our Data\n",
    "pca = PCA().fit(customers_clean.iloc[:,:-1])\n",
    "# Plotting the Cumulative Summation of the Explained Variance\n",
    "plt.figure()\n",
    "plt.plot(np.cumsum(pca.explained_variance_ratio_))\n",
    "plt.xlabel('Number of Components')\n",
    "plt.ylabel('Variance (%)') #for each component\n",
    "plt.title('Pulsar Dataset Explained Variance')\n",
    "plt.show()\n",
    "# Plot suggests 125 components descripe 90% of the data"
   ]
  },
  {
   "cell_type": "code",
   "execution_count": 154,
   "metadata": {},
   "outputs": [],
   "source": [
    "# Customers scaled changed to customers_clean\n",
    "# Apply PCA to azdias dataset\n",
    "pca = PCA(n_components=20)\n",
    "customers_components = pca.fit_transform(customers_clean.iloc[:,:-1])\n",
    "\n",
    "# Apply to customers datast\n",
    "azdias_components = pca.transform(azdias_clean.iloc[:,:-1])"
   ]
  },
  {
   "cell_type": "code",
   "execution_count": 46,
   "metadata": {},
   "outputs": [
    {
     "data": {
      "text/plain": [
       "array([[ -2.32514447, -15.72585984,  -6.26949745, ...,   0.72920854,\n",
       "         -0.66373741,  -0.17999614],\n",
       "       [-16.26374592,   0.0550902 ,  -0.0917408 , ...,  -2.3357549 ,\n",
       "         -1.94987319,   1.39332152],\n",
       "       [ 18.14018527,  -7.25798015,   4.21960499, ...,   1.13898543,\n",
       "         -0.70022477,   0.54581406],\n",
       "       ...,\n",
       "       [ -8.6477878 ,   9.29944896,  -7.19945997, ...,   0.73207766,\n",
       "         -1.82689289,   1.20345458],\n",
       "       [ -3.08579947,   3.24284035,  -0.23009611, ...,  -0.65874644,\n",
       "          1.27608336,  -0.88891025],\n",
       "       [ -1.99548923,  13.23533345,  -2.40078527, ...,  -1.59078653,\n",
       "          1.44608962,  -0.06494948]])"
      ]
     },
     "execution_count": 46,
     "metadata": {},
     "output_type": "execute_result"
    }
   ],
   "source": [
    "customers_components"
   ]
  },
  {
   "cell_type": "code",
   "execution_count": 155,
   "metadata": {},
   "outputs": [],
   "source": [
    "tsne = TSNE(n_components=2, random_state=1986)\n",
    "twodim_arr = tsne.fit_transform(customers_components)"
   ]
  },
  {
   "cell_type": "code",
   "execution_count": 18,
   "metadata": {},
   "outputs": [],
   "source": [
    "# tsne = TSNE(n_components=2, random_state=1986)\n",
    "# twodim_arr = tsne.fit_transform(customers_components.iloc[:,:-1])"
   ]
  },
  {
   "cell_type": "code",
   "execution_count": 156,
   "metadata": {},
   "outputs": [
    {
     "data": {
      "image/png": "[encoded data removed]",
      "text/plain": [
       "<Figure size 432x288 with 1 Axes>"
      ]
     },
     "metadata": {},
     "output_type": "display_data"
    }
   ],
   "source": [
    "color = iter(plt.cm.rainbow(np.linspace(0,1,4)))\n",
    "\n",
    "for group in list(customers_clean['clusters'].unique().tolist()):\n",
    "    c = next(color)\n",
    "    plt.scatter(twodim_arr[customers_clean['clusters'] == group, 0], \n",
    "                twodim_arr[customers_clean['clusters'] == group, 1],\n",
    "                color=c,\n",
    "                label=group)"
   ]
  },
  {
   "cell_type": "code",
   "execution_count": 163,
   "metadata": {},
   "outputs": [
    {
     "ename": "AttributeError",
     "evalue": "'DataFrame' object has no attribute 'to_numpy'",
     "output_type": "error",
     "traceback": [
      "\u001b[0;31m---------------------------------------------------------------------------\u001b[0m",
      "\u001b[0;31mAttributeError\u001b[0m                            Traceback (most recent call last)",
      "\u001b[0;32m<ipython-input-163-b33af1900858>\u001b[0m in \u001b[0;36m<module>\u001b[0;34m()\u001b[0m\n\u001b[0;32m----> 1\u001b[0;31m \u001b[0mnp_customers_components\u001b[0m\u001b[0;34m=\u001b[0m\u001b[0mcustomers_clean\u001b[0m\u001b[0;34m.\u001b[0m\u001b[0mto_numpy\u001b[0m\u001b[0;34m(\u001b[0m\u001b[0;34m)\u001b[0m\u001b[0;34m\u001b[0m\u001b[0m\n\u001b[0m",
      "\u001b[0;32m~/anaconda3/lib/python3.7/site-packages/pandas/core/generic.py\u001b[0m in \u001b[0;36m__getattr__\u001b[0;34m(self, name)\u001b[0m\n\u001b[1;32m   4370\u001b[0m             \u001b[0;32mif\u001b[0m \u001b[0mself\u001b[0m\u001b[0;34m.\u001b[0m\u001b[0m_info_axis\u001b[0m\u001b[0;34m.\u001b[0m\u001b[0m_can_hold_identifiers_and_holds_name\u001b[0m\u001b[0;34m(\u001b[0m\u001b[0mname\u001b[0m\u001b[0;34m)\u001b[0m\u001b[0;34m:\u001b[0m\u001b[0;34m\u001b[0m\u001b[0m\n\u001b[1;32m   4371\u001b[0m                 \u001b[0;32mreturn\u001b[0m \u001b[0mself\u001b[0m\u001b[0;34m[\u001b[0m\u001b[0mname\u001b[0m\u001b[0;34m]\u001b[0m\u001b[0;34m\u001b[0m\u001b[0m\n\u001b[0;32m-> 4372\u001b[0;31m             \u001b[0;32mreturn\u001b[0m \u001b[0mobject\u001b[0m\u001b[0;34m.\u001b[0m\u001b[0m__getattribute__\u001b[0m\u001b[0;34m(\u001b[0m\u001b[0mself\u001b[0m\u001b[0;34m,\u001b[0m \u001b[0mname\u001b[0m\u001b[0;34m)\u001b[0m\u001b[0;34m\u001b[0m\u001b[0m\n\u001b[0m\u001b[1;32m   4373\u001b[0m \u001b[0;34m\u001b[0m\u001b[0m\n\u001b[1;32m   4374\u001b[0m     \u001b[0;32mdef\u001b[0m \u001b[0m__setattr__\u001b[0m\u001b[0;34m(\u001b[0m\u001b[0mself\u001b[0m\u001b[0;34m,\u001b[0m \u001b[0mname\u001b[0m\u001b[0;34m,\u001b[0m \u001b[0mvalue\u001b[0m\u001b[0;34m)\u001b[0m\u001b[0;34m:\u001b[0m\u001b[0;34m\u001b[0m\u001b[0m\n",
      "\u001b[0;31mAttributeError\u001b[0m: 'DataFrame' object has no attribute 'to_numpy'"
     ]
    }
   ],
   "source": [
    "np_customers_components=customers_clean.to_numpy()"
   ]
  },
  {
   "cell_type": "code",
   "execution_count": 164,
   "metadata": {},
   "outputs": [
    {
     "data": {
      "image/png": "[encoded data removed]",
      "text/plain": [
       "<Figure size 432x288 with 1 Axes>"
      ]
     },
     "metadata": {},
     "output_type": "display_data"
    }
   ],
   "source": [
    "# Plot the results\n",
    "for i in set(kmodes.labels_):\n",
    "    index = kmodes.labels_ == i\n",
    "    plt.plot(customers_clean.iloc[index, 0], customers_clean.iloc[index, 1], 'o')\n",
    "    plt.suptitle('Data points categorized with category score', fontsize=18)\n",
    "    plt.xlabel('Category Score', fontsize=16)\n",
    "    plt.ylabel('Category Type', fontsize=16)\n",
    "plt.show()"
   ]
  },
  {
   "cell_type": "code",
   "execution_count": 177,
   "metadata": {},
   "outputs": [
    {
     "ename": "ValueError",
     "evalue": "x and y must be the same size",
     "output_type": "error",
     "traceback": [
      "\u001b[0;31m---------------------------------------------------------------------------\u001b[0m",
      "\u001b[0;31mValueError\u001b[0m                                Traceback (most recent call last)",
      "\u001b[0;32m<ipython-input-177-e4b365fd7b9c>\u001b[0m in \u001b[0;36m<module>\u001b[0;34m()\u001b[0m\n\u001b[1;32m      1\u001b[0m \u001b[0;31m# Clustered result\u001b[0m\u001b[0;34m\u001b[0m\u001b[0;34m\u001b[0m\u001b[0m\n\u001b[1;32m      2\u001b[0m \u001b[0mfig1\u001b[0m\u001b[0;34m,\u001b[0m \u001b[0max3\u001b[0m \u001b[0;34m=\u001b[0m \u001b[0mplt\u001b[0m\u001b[0;34m.\u001b[0m\u001b[0msubplots\u001b[0m\u001b[0;34m(\u001b[0m\u001b[0;34m)\u001b[0m\u001b[0;34m\u001b[0m\u001b[0m\n\u001b[0;32m----> 3\u001b[0;31m \u001b[0mscatter\u001b[0m \u001b[0;34m=\u001b[0m \u001b[0max3\u001b[0m\u001b[0;34m.\u001b[0m\u001b[0mscatter\u001b[0m\u001b[0;34m(\u001b[0m\u001b[0mcustomers_clean\u001b[0m\u001b[0;34m,\u001b[0m \u001b[0mcustomers_clean\u001b[0m\u001b[0;34m[\u001b[0m\u001b[0;34m'clusters'\u001b[0m\u001b[0;34m]\u001b[0m\u001b[0;34m,\u001b[0m \u001b[0mc\u001b[0m\u001b[0;34m=\u001b[0m\u001b[0mcustomers_clean\u001b[0m\u001b[0;34m[\u001b[0m\u001b[0;34m'clusters'\u001b[0m\u001b[0;34m]\u001b[0m\u001b[0;34m,\u001b[0m \u001b[0ms\u001b[0m\u001b[0;34m=\u001b[0m\u001b[0;36m50\u001b[0m\u001b[0;34m)\u001b[0m\u001b[0;34m\u001b[0m\u001b[0m\n\u001b[0m\u001b[1;32m      4\u001b[0m \u001b[0max3\u001b[0m\u001b[0;34m.\u001b[0m\u001b[0mset_xlabel\u001b[0m\u001b[0;34m(\u001b[0m\u001b[0;34m'Data points'\u001b[0m\u001b[0;34m)\u001b[0m\u001b[0;34m\u001b[0m\u001b[0m\n\u001b[1;32m      5\u001b[0m \u001b[0max3\u001b[0m\u001b[0;34m.\u001b[0m\u001b[0mset_ylabel\u001b[0m\u001b[0;34m(\u001b[0m\u001b[0;34m'Cluster'\u001b[0m\u001b[0;34m)\u001b[0m\u001b[0;34m\u001b[0m\u001b[0m\n",
      "\u001b[0;32m~/anaconda3/lib/python3.7/site-packages/matplotlib/__init__.py\u001b[0m in \u001b[0;36minner\u001b[0;34m(ax, *args, **kwargs)\u001b[0m\n\u001b[1;32m   1853\u001b[0m                         \u001b[0;34m\"the Matplotlib list!)\"\u001b[0m \u001b[0;34m%\u001b[0m \u001b[0;34m(\u001b[0m\u001b[0mlabel_namer\u001b[0m\u001b[0;34m,\u001b[0m \u001b[0mfunc\u001b[0m\u001b[0;34m.\u001b[0m\u001b[0m__name__\u001b[0m\u001b[0;34m)\u001b[0m\u001b[0;34m,\u001b[0m\u001b[0;34m\u001b[0m\u001b[0m\n\u001b[1;32m   1854\u001b[0m                         RuntimeWarning, stacklevel=2)\n\u001b[0;32m-> 1855\u001b[0;31m             \u001b[0;32mreturn\u001b[0m \u001b[0mfunc\u001b[0m\u001b[0;34m(\u001b[0m\u001b[0max\u001b[0m\u001b[0;34m,\u001b[0m \u001b[0;34m*\u001b[0m\u001b[0margs\u001b[0m\u001b[0;34m,\u001b[0m \u001b[0;34m**\u001b[0m\u001b[0mkwargs\u001b[0m\u001b[0;34m)\u001b[0m\u001b[0;34m\u001b[0m\u001b[0m\n\u001b[0m\u001b[1;32m   1856\u001b[0m \u001b[0;34m\u001b[0m\u001b[0m\n\u001b[1;32m   1857\u001b[0m         inner.__doc__ = _add_data_doc(inner.__doc__,\n",
      "\u001b[0;32m~/anaconda3/lib/python3.7/site-packages/matplotlib/axes/_axes.py\u001b[0m in \u001b[0;36mscatter\u001b[0;34m(self, x, y, s, c, marker, cmap, norm, vmin, vmax, alpha, linewidths, verts, edgecolors, **kwargs)\u001b[0m\n\u001b[1;32m   4241\u001b[0m         \u001b[0my\u001b[0m \u001b[0;34m=\u001b[0m \u001b[0mnp\u001b[0m\u001b[0;34m.\u001b[0m\u001b[0mma\u001b[0m\u001b[0;34m.\u001b[0m\u001b[0mravel\u001b[0m\u001b[0;34m(\u001b[0m\u001b[0my\u001b[0m\u001b[0;34m)\u001b[0m\u001b[0;34m\u001b[0m\u001b[0m\n\u001b[1;32m   4242\u001b[0m         \u001b[0;32mif\u001b[0m \u001b[0mx\u001b[0m\u001b[0;34m.\u001b[0m\u001b[0msize\u001b[0m \u001b[0;34m!=\u001b[0m \u001b[0my\u001b[0m\u001b[0;34m.\u001b[0m\u001b[0msize\u001b[0m\u001b[0;34m:\u001b[0m\u001b[0;34m\u001b[0m\u001b[0m\n\u001b[0;32m-> 4243\u001b[0;31m             \u001b[0;32mraise\u001b[0m \u001b[0mValueError\u001b[0m\u001b[0;34m(\u001b[0m\u001b[0;34m\"x and y must be the same size\"\u001b[0m\u001b[0;34m)\u001b[0m\u001b[0;34m\u001b[0m\u001b[0m\n\u001b[0m\u001b[1;32m   4244\u001b[0m \u001b[0;34m\u001b[0m\u001b[0m\n\u001b[1;32m   4245\u001b[0m         \u001b[0;32mif\u001b[0m \u001b[0ms\u001b[0m \u001b[0;32mis\u001b[0m \u001b[0;32mNone\u001b[0m\u001b[0;34m:\u001b[0m\u001b[0;34m\u001b[0m\u001b[0m\n",
      "\u001b[0;31mValueError\u001b[0m: x and y must be the same size"
     ]
    },
    {
     "data": {
      "image/png": "[encoded data removed]",
      "text/plain": [
       "<Figure size 432x288 with 1 Axes>"
      ]
     },
     "metadata": {},
     "output_type": "display_data"
    }
   ],
   "source": [
    "# Clustered result\n",
    "fig1, ax3 = plt.subplots()\n",
    "scatter = ax3.scatter(customers_clean, customers_clean['clusters'], c=customers_clean['clusters'], s=50)\n",
    "ax3.set_xlabel('Data points')\n",
    "ax3.set_ylabel('Cluster')\n",
    "plt.colorbar(scatter)\n",
    "ax3.set_title('Data points classifed according to known centers')\n",
    "plt.show()\n",
    "result = zip(customers_clean, kproto.labels_)\n",
    "sortedR = sorted(result, key=lambda x: x[1])\n",
    "print(sortedR)"
   ]
  },
  {
   "cell_type": "code",
   "execution_count": 157,
   "metadata": {},
   "outputs": [
    {
     "ename": "KeyboardInterrupt",
     "evalue": "",
     "output_type": "error",
     "traceback": [
      "\u001b[0;31m---------------------------------------------------------------------------\u001b[0m",
      "\u001b[0;31mKeyboardInterrupt\u001b[0m                         Traceback (most recent call last)",
      "\u001b[0;32m<ipython-input-157-f5f0acc2de70>\u001b[0m in \u001b[0;36m<module>\u001b[0;34m()\u001b[0m\n\u001b[1;32m      1\u001b[0m \u001b[0mtsne\u001b[0m \u001b[0;34m=\u001b[0m \u001b[0mTSNE\u001b[0m\u001b[0;34m(\u001b[0m\u001b[0mn_components\u001b[0m\u001b[0;34m=\u001b[0m\u001b[0;36m3\u001b[0m\u001b[0;34m,\u001b[0m \u001b[0mrandom_state\u001b[0m\u001b[0;34m=\u001b[0m\u001b[0;36m1986\u001b[0m\u001b[0;34m)\u001b[0m\u001b[0;34m\u001b[0m\u001b[0m\n\u001b[0;32m----> 2\u001b[0;31m \u001b[0mthreedim_arr\u001b[0m \u001b[0;34m=\u001b[0m \u001b[0mtsne\u001b[0m\u001b[0;34m.\u001b[0m\u001b[0mfit_transform\u001b[0m\u001b[0;34m(\u001b[0m\u001b[0mcustomers_components\u001b[0m\u001b[0;34m)\u001b[0m\u001b[0;34m\u001b[0m\u001b[0m\n\u001b[0m",
      "\u001b[0;32m~/anaconda3/lib/python3.7/site-packages/sklearn/manifold/t_sne.py\u001b[0m in \u001b[0;36mfit_transform\u001b[0;34m(self, X, y)\u001b[0m\n\u001b[1;32m    892\u001b[0m             \u001b[0mEmbedding\u001b[0m \u001b[0mof\u001b[0m \u001b[0mthe\u001b[0m \u001b[0mtraining\u001b[0m \u001b[0mdata\u001b[0m \u001b[0;32min\u001b[0m \u001b[0mlow\u001b[0m\u001b[0;34m-\u001b[0m\u001b[0mdimensional\u001b[0m \u001b[0mspace\u001b[0m\u001b[0;34m.\u001b[0m\u001b[0;34m\u001b[0m\u001b[0m\n\u001b[1;32m    893\u001b[0m         \"\"\"\n\u001b[0;32m--> 894\u001b[0;31m         \u001b[0membedding\u001b[0m \u001b[0;34m=\u001b[0m \u001b[0mself\u001b[0m\u001b[0;34m.\u001b[0m\u001b[0m_fit\u001b[0m\u001b[0;34m(\u001b[0m\u001b[0mX\u001b[0m\u001b[0;34m)\u001b[0m\u001b[0;34m\u001b[0m\u001b[0m\n\u001b[0m\u001b[1;32m    895\u001b[0m         \u001b[0mself\u001b[0m\u001b[0;34m.\u001b[0m\u001b[0membedding_\u001b[0m \u001b[0;34m=\u001b[0m \u001b[0membedding\u001b[0m\u001b[0;34m\u001b[0m\u001b[0m\n\u001b[1;32m    896\u001b[0m         \u001b[0;32mreturn\u001b[0m \u001b[0mself\u001b[0m\u001b[0;34m.\u001b[0m\u001b[0membedding_\u001b[0m\u001b[0;34m\u001b[0m\u001b[0m\n",
      "\u001b[0;32m~/anaconda3/lib/python3.7/site-packages/sklearn/manifold/t_sne.py\u001b[0m in \u001b[0;36m_fit\u001b[0;34m(self, X, skip_num_points)\u001b[0m\n\u001b[1;32m    804\u001b[0m                           \u001b[0mX_embedded\u001b[0m\u001b[0;34m=\u001b[0m\u001b[0mX_embedded\u001b[0m\u001b[0;34m,\u001b[0m\u001b[0;34m\u001b[0m\u001b[0m\n\u001b[1;32m    805\u001b[0m                           \u001b[0mneighbors\u001b[0m\u001b[0;34m=\u001b[0m\u001b[0mneighbors_nn\u001b[0m\u001b[0;34m,\u001b[0m\u001b[0;34m\u001b[0m\u001b[0m\n\u001b[0;32m--> 806\u001b[0;31m                           skip_num_points=skip_num_points)\n\u001b[0m\u001b[1;32m    807\u001b[0m \u001b[0;34m\u001b[0m\u001b[0m\n\u001b[1;32m    808\u001b[0m     \u001b[0;34m@\u001b[0m\u001b[0mproperty\u001b[0m\u001b[0;34m\u001b[0m\u001b[0m\n",
      "\u001b[0;32m~/anaconda3/lib/python3.7/site-packages/sklearn/manifold/t_sne.py\u001b[0m in \u001b[0;36m_tsne\u001b[0;34m(self, P, degrees_of_freedom, n_samples, X_embedded, neighbors, skip_num_points)\u001b[0m\n\u001b[1;32m    861\u001b[0m             \u001b[0mopt_args\u001b[0m\u001b[0;34m[\u001b[0m\u001b[0;34m'n_iter_without_progress'\u001b[0m\u001b[0;34m]\u001b[0m \u001b[0;34m=\u001b[0m \u001b[0mself\u001b[0m\u001b[0;34m.\u001b[0m\u001b[0mn_iter_without_progress\u001b[0m\u001b[0;34m\u001b[0m\u001b[0m\n\u001b[1;32m    862\u001b[0m             params, kl_divergence, it = _gradient_descent(obj_func, params,\n\u001b[0;32m--> 863\u001b[0;31m                                                           **opt_args)\n\u001b[0m\u001b[1;32m    864\u001b[0m \u001b[0;34m\u001b[0m\u001b[0m\n\u001b[1;32m    865\u001b[0m         \u001b[0;31m# Save the final number of iterations\u001b[0m\u001b[0;34m\u001b[0m\u001b[0;34m\u001b[0m\u001b[0m\n",
      "\u001b[0;32m~/anaconda3/lib/python3.7/site-packages/sklearn/manifold/t_sne.py\u001b[0m in \u001b[0;36m_gradient_descent\u001b[0;34m(objective, p0, it, n_iter, n_iter_check, n_iter_without_progress, momentum, learning_rate, min_gain, min_grad_norm, verbose, args, kwargs)\u001b[0m\n\u001b[1;32m    355\u001b[0m         \u001b[0mkwargs\u001b[0m\u001b[0;34m[\u001b[0m\u001b[0;34m'compute_error'\u001b[0m\u001b[0;34m]\u001b[0m \u001b[0;34m=\u001b[0m \u001b[0mcheck_convergence\u001b[0m \u001b[0;32mor\u001b[0m \u001b[0mi\u001b[0m \u001b[0;34m==\u001b[0m \u001b[0mn_iter\u001b[0m \u001b[0;34m-\u001b[0m \u001b[0;36m1\u001b[0m\u001b[0;34m\u001b[0m\u001b[0m\n\u001b[1;32m    356\u001b[0m \u001b[0;34m\u001b[0m\u001b[0m\n\u001b[0;32m--> 357\u001b[0;31m         \u001b[0merror\u001b[0m\u001b[0;34m,\u001b[0m \u001b[0mgrad\u001b[0m \u001b[0;34m=\u001b[0m \u001b[0mobjective\u001b[0m\u001b[0;34m(\u001b[0m\u001b[0mp\u001b[0m\u001b[0;34m,\u001b[0m \u001b[0;34m*\u001b[0m\u001b[0margs\u001b[0m\u001b[0;34m,\u001b[0m \u001b[0;34m**\u001b[0m\u001b[0mkwargs\u001b[0m\u001b[0;34m)\u001b[0m\u001b[0;34m\u001b[0m\u001b[0m\n\u001b[0m\u001b[1;32m    358\u001b[0m         \u001b[0mgrad_norm\u001b[0m \u001b[0;34m=\u001b[0m \u001b[0mlinalg\u001b[0m\u001b[0;34m.\u001b[0m\u001b[0mnorm\u001b[0m\u001b[0;34m(\u001b[0m\u001b[0mgrad\u001b[0m\u001b[0;34m)\u001b[0m\u001b[0;34m\u001b[0m\u001b[0m\n\u001b[1;32m    359\u001b[0m \u001b[0;34m\u001b[0m\u001b[0m\n",
      "\u001b[0;32m~/anaconda3/lib/python3.7/site-packages/sklearn/manifold/t_sne.py\u001b[0m in \u001b[0;36m_kl_divergence_bh\u001b[0;34m(params, P, degrees_of_freedom, n_samples, n_components, angle, skip_num_points, verbose, compute_error)\u001b[0m\n\u001b[1;32m    259\u001b[0m                                       \u001b[0mgrad\u001b[0m\u001b[0;34m,\u001b[0m \u001b[0mangle\u001b[0m\u001b[0;34m,\u001b[0m \u001b[0mn_components\u001b[0m\u001b[0;34m,\u001b[0m \u001b[0mverbose\u001b[0m\u001b[0;34m,\u001b[0m\u001b[0;34m\u001b[0m\u001b[0m\n\u001b[1;32m    260\u001b[0m                                       \u001b[0mdof\u001b[0m\u001b[0;34m=\u001b[0m\u001b[0mdegrees_of_freedom\u001b[0m\u001b[0;34m,\u001b[0m\u001b[0;34m\u001b[0m\u001b[0m\n\u001b[0;32m--> 261\u001b[0;31m                                       compute_error=compute_error)\n\u001b[0m\u001b[1;32m    262\u001b[0m     \u001b[0mc\u001b[0m \u001b[0;34m=\u001b[0m \u001b[0;36m2.0\u001b[0m \u001b[0;34m*\u001b[0m \u001b[0;34m(\u001b[0m\u001b[0mdegrees_of_freedom\u001b[0m \u001b[0;34m+\u001b[0m \u001b[0;36m1.0\u001b[0m\u001b[0;34m)\u001b[0m \u001b[0;34m/\u001b[0m \u001b[0mdegrees_of_freedom\u001b[0m\u001b[0;34m\u001b[0m\u001b[0m\n\u001b[1;32m    263\u001b[0m     \u001b[0mgrad\u001b[0m \u001b[0;34m=\u001b[0m \u001b[0mgrad\u001b[0m\u001b[0;34m.\u001b[0m\u001b[0mravel\u001b[0m\u001b[0;34m(\u001b[0m\u001b[0;34m)\u001b[0m\u001b[0;34m\u001b[0m\u001b[0m\n",
      "\u001b[0;31mKeyboardInterrupt\u001b[0m: "
     ]
    }
   ],
   "source": [
    "tsne = TSNE(n_components=3, random_state=1986)\n",
    "threedim_arr = tsne.fit_transform(customers_components)"
   ]
  },
  {
   "cell_type": "code",
   "execution_count": null,
   "metadata": {},
   "outputs": [],
   "source": [
    "color = iter(plt.cm.rainbow(np.linspace(0,1,4)))\n",
    "\n",
    "for group in list(customers_clean['clusters'].unique().tolist()):\n",
    "    c = next(color)\n",
    "    plt.scatter(threedim_arr[customers_clean['clusters'] == group, 0], \n",
    "                threedim_arr[customers_clean['clusters'] == group, 1],\n",
    "                color=c,\n",
    "                label=group)"
   ]
  },
  {
   "cell_type": "code",
   "execution_count": 48,
   "metadata": {},
   "outputs": [
    {
     "data": {
      "image/png": "[encoded data removed]",
      "text/plain": [
       "<Figure size 432x288 with 1 Axes>"
      ]
     },
     "metadata": {},
     "output_type": "display_data"
    }
   ],
   "source": [
    "color = iter(plt.cm.rainbow(np.linspace(0,1,6)))\n",
    "\n",
    "for group in list(customers_clean['clusters'].unique().tolist()):\n",
    "    c = next(color)\n",
    "    plt.scatter(twodim_arr[customers_clean['clusters'] == group, 0], \n",
    "                twodim_arr[customers_clean['clusters'] == group, 1],\n",
    "                color=c,\n",
    "                label=group)"
   ]
  },
  {
   "cell_type": "code",
   "execution_count": 51,
   "metadata": {},
   "outputs": [
    {
     "data": {
      "image/png": "[encoded data removed]",
      "text/plain": [
       "<Figure size 432x288 with 1 Axes>"
      ]
     },
     "metadata": {},
     "output_type": "display_data"
    }
   ],
   "source": [
    "color = iter(plt.cm.rainbow(np.linspace(0,1,4)))\n",
    "\n",
    "for group in list(customers_clean['clusters'].unique().tolist()):\n",
    "    c = next(color)\n",
    "    plt.scatter(twodim_arr[customers_clean['clusters'] == group, 0], \n",
    "                twodim_arr[customers_clean['clusters'] == group, 1],\n",
    "                color=c,\n",
    "                label=group)"
   ]
  },
  {
   "cell_type": "code",
   "execution_count": 52,
   "metadata": {},
   "outputs": [],
   "source": [
    "# Attempt at 3D\n",
    "tsne = TSNE(n_components=3, random_state=1986)\n",
    "twodim_arr = tsne.fit_transform(customers_components)\n",
    "\n",
    "# tsne = TSNE(n_components=3, random_state=1986)\n",
    "# threedim_arr = tsne.fit_transform(customers_components.iloc[:,:-1])\n",
    "\n",
    "# color = iter(plt.cm.rainbow(np.linspace(0,1,6)))"
   ]
  },
  {
   "cell_type": "code",
   "execution_count": null,
   "metadata": {},
   "outputs": [],
   "source": []
  },
  {
   "cell_type": "code",
   "execution_count": null,
   "metadata": {},
   "outputs": [],
   "source": [
    "color = iter(plt.cm.rainbow(np.linspace(0,1,6)))"
   ]
  },
  {
   "cell_type": "code",
   "execution_count": 57,
   "metadata": {},
   "outputs": [
    {
     "data": {
      "image/png": "[encoded data removed]",
      "text/plain": [
       "<Figure size 432x288 with 1 Axes>"
      ]
     },
     "metadata": {},
     "output_type": "display_data"
    }
   ],
   "source": [
    "color = iter(plt.cm.rainbow(np.linspace(0,1,4)))\n",
    "\n",
    "fig = plt.figure()\n",
    "ax = fig.add_subplot(111, projection='3d')\n",
    "\n",
    "for group in list(customers_clean['clusters'].unique().tolist()):\n",
    "    c = next(color)\n",
    "    ax.scatter(twodim_arr[customers_clean['clusters'] == group, 1], \n",
    "               twodim_arr[customers_clean['clusters'] == group, 0],\n",
    "               twodim_arr[customers_clean['clusters'] == group, 2],\n",
    "               color=c,\n",
    "               label=group)\n",
    "    "
   ]
  },
  {
   "cell_type": "code",
   "execution_count": 58,
   "metadata": {},
   "outputs": [],
   "source": [
    "pca = PCA(n_components=2)\n",
    "pca_twodim_arr = pca.fit_transform(customers_clean.iloc[:,:-1])"
   ]
  },
  {
   "cell_type": "code",
   "execution_count": 59,
   "metadata": {},
   "outputs": [
    {
     "data": {
      "image/png": "[encoded data removed]",
      "text/plain": [
       "<Figure size 432x288 with 1 Axes>"
      ]
     },
     "metadata": {},
     "output_type": "display_data"
    }
   ],
   "source": [
    "color = iter(plt.cm.rainbow(np.linspace(0,1,4)))\n",
    "\n",
    "for group in list(customers_clean['clusters'].unique().tolist()):\n",
    "    c = next(color)\n",
    "    plt.scatter(pca_twodim_arr[customers_clean['clusters'] == group, 0], \n",
    "                pca_twodim_arr[customers_clean['clusters'] == group, 1],\n",
    "                color=c,\n",
    "                label=group)"
   ]
  },
  {
   "cell_type": "code",
   "execution_count": 61,
   "metadata": {},
   "outputs": [],
   "source": [
    "pca = PCA(n_components=3)\n",
    "pca_threedim_arr = pca.fit_transform(customers_clean.iloc[:,:-1])"
   ]
  },
  {
   "cell_type": "code",
   "execution_count": 62,
   "metadata": {},
   "outputs": [
    {
     "data": {
      "image/png": "[encoded data removed]",
      "text/plain": [
       "<Figure size 432x288 with 1 Axes>"
      ]
     },
     "metadata": {},
     "output_type": "display_data"
    }
   ],
   "source": [
    "color = iter(plt.cm.rainbow(np.linspace(0,1,4)))\n",
    "\n",
    "fig = plt.figure()\n",
    "ax = fig.add_subplot(111, projection='3d')\n",
    "\n",
    "for group in list(customers_clean['clusters'].unique().tolist()):\n",
    "    c = next(color)\n",
    "    ax.scatter(pca_threedim_arr[customers_clean['clusters'] == group, 1], \n",
    "               pca_threedim_arr[customers_clean['clusters'] == group, 0],\n",
    "               pca_threedim_arr[customers_clean['clusters'] == group, 2],\n",
    "               color=c,\n",
    "               label=group)"
   ]
  },
  {
   "cell_type": "code",
   "execution_count": 74,
   "metadata": {},
   "outputs": [
    {
     "name": "stdout",
     "output_type": "stream",
     "text": [
      "Found existing installation: seaborn 0.8.1\n",
      "Uninstalling seaborn-0.8.1:\n",
      "  Would remove:\n",
      "    /Users/pmacdonald/anaconda3/lib/python3.7/site-packages/seaborn-0.8.1.dist-info/*\n",
      "    /Users/pmacdonald/anaconda3/lib/python3.7/site-packages/seaborn/*\n",
      "Proceed (y/n)? ^C\n",
      "\u001b[31mERROR: Operation cancelled by user\u001b[0m\n"
     ]
    }
   ],
   "source": [
    "!pip uninstall seaborn"
   ]
  },
  {
   "cell_type": "code",
   "execution_count": 75,
   "metadata": {},
   "outputs": [
    {
     "name": "stdout",
     "output_type": "stream",
     "text": [
      "/bin/sh: y: command not found\r\n"
     ]
    }
   ],
   "source": [
    "!y"
   ]
  },
  {
   "cell_type": "code",
   "execution_count": 76,
   "metadata": {},
   "outputs": [
    {
     "name": "stdout",
     "output_type": "stream",
     "text": [
      "Collecting package metadata (repodata.json): done\n",
      "Solving environment: / \n",
      "The environment is inconsistent, please check the package plan carefully\n",
      "The following packages are causing the inconsistency:\n",
      "\n",
      "  - defaults/osx-64::llvmlite==0.24.0=py37hc454e04_0\n",
      "  - defaults/osx-64::qtawesome==0.4.4=py37_0\n",
      "  - defaults/osx-64::terminado==0.8.1=py37_1\n",
      "  - defaults/osx-64::appscript==1.0.1=py37h1de35cc_1\n",
      "  - defaults/osx-64::locket==0.2.0=py37_1\n",
      "  - defaults/osx-64::pycurl==7.43.0.2=py37hdbc3d79_0\n",
      "  - defaults/osx-64::numpy==1.15.1=py37h6a91979_0\n",
      "  - defaults/osx-64::snowballstemmer==1.2.1=py37_0\n",
      "  - defaults/osx-64::pyqt==5.9.2=py37h655552a_2\n",
      "  - defaults/osx-64::jdcal==1.4=py37_0\n",
      "  - defaults/osx-64::dask==0.19.1=py37_0\n",
      "  - defaults/osx-64::pygments==2.2.0=py37_0\n",
      "  - defaults/osx-64::pkginfo==1.4.2=py37_1\n",
      "  - defaults/osx-64::isort==4.3.4=py37_0\n",
      "  - defaults/osx-64::jupyter==1.0.0=py37_7\n",
      "  - defaults/osx-64::twisted==18.7.0=py37h1de35cc_1\n",
      "  - defaults/osx-64::service_identity==17.0.0=py37h28b3542_0\n",
      "  - defaults/osx-64::anaconda==5.3.0=py37_0\n",
      "  - defaults/osx-64::retrying==1.3.3=py37_2\n",
      "  - defaults/osx-64::conda==4.7.12=py37_0\n",
      "  - defaults/osx-64::pyodbc==4.0.24=py37h0a44026_0\n",
      "  - defaults/osx-64::mkl_fft==1.0.4=py37h5d10147_1\n",
      "  - defaults/osx-64::get_terminal_size==1.0.0=h7520d66_0\n",
      "  - defaults/osx-64::nose==1.3.7=py37_2\n",
      "  - defaults/osx-64::prometheus_client==0.3.1=py37h28b3542_0\n",
      "  - defaults/osx-64::cycler==0.10.0=py37_0\n",
      "  - defaults/osx-64::spyder==3.3.1=py37_1\n",
      "  - defaults/osx-64::msgpack-python==0.5.6=py37h04f5b5a_1\n",
      "  - defaults/osx-64::pycosat==0.6.3=py37h1de35cc_0\n",
      "  - defaults/osx-64::incremental==17.5.0=py37_0\n",
      "  - defaults/osx-64::appnope==0.1.0=py37_0\n",
      "  - defaults/osx-64::clyent==1.2.2=py37_1\n",
      "  - defaults/osx-64::spyder-kernels==0.2.6=py37_0\n",
      "  - defaults/osx-64::traitlets==4.3.2=py37_0\n",
      "  - defaults/osx-64::et_xmlfile==1.0.1=py37_0\n",
      "  - defaults/osx-64::bottleneck==1.2.1=py37h1d22016_1\n",
      "  - defaults/osx-64::wcwidth==0.1.7=py37_0\n",
      "  - defaults/osx-64::hyperlink==18.0.0=py37_0\n",
      "  - defaults/osx-64::pysocks==1.6.8=py37_0\n",
      "  - defaults/osx-64::h5py==2.8.0=py37h878fce3_3\n",
      "  - defaults/osx-64::statsmodels==0.9.0=py37h1d22016_0\n",
      "  - defaults/osx-64::anaconda-project==0.8.2=py37_0\n",
      "  - defaults/osx-64::pytest-arraydiff==0.2=py37h39e3cac_0\n",
      "  - defaults/osx-64::mistune==0.8.3=py37h1de35cc_1\n",
      "  - defaults/osx-64::ipython_genutils==0.2.0=py37_0\n",
      "  - defaults/osx-64::itsdangerous==0.24=py37_1\n",
      "  - defaults/osx-64::sympy==1.2=py37_0\n",
      "  - defaults/osx-64::scipy==1.1.0=py37h28f7352_1\n",
      "  - defaults/osx-64::pycparser==2.18=py37_1\n",
      "  - defaults/osx-64::chardet==3.0.4=py37_1\n",
      "  - defaults/osx-64::pyyaml==3.13=py37h1de35cc_0\n",
      "  - defaults/osx-64::kiwisolver==1.0.1=py37h0a44026_0\n",
      "  - defaults/osx-64::heapdict==1.0.0=py37_2\n",
      "  - defaults/osx-64::automat==0.7.0=py37_0\n",
      "  - defaults/osx-64::pyopenssl==18.0.0=py37_0\n",
      "  - defaults/osx-64::click==6.7=py37_0\n",
      "  - defaults/osx-64::mpmath==1.0.0=py37_2\n",
      "  - defaults/osx-64::pycrypto==2.6.1=py37h1de35cc_9\n",
      "  - defaults/osx-64::ply==3.11=py37_0\n",
      "  - defaults/osx-64::zope.interface==4.5.0=py37h1de35cc_0\n",
      "  - defaults/osx-64::bkcharts==0.2=py37_0\n",
      "  - defaults/osx-64::decorator==4.3.0=py37_0\n",
      "  - defaults/osx-64::wheel==0.31.1=py37_0\n",
      "  - defaults/osx-64::python-dateutil==2.7.3=py37_0\n",
      "  - defaults/osx-64::pywavelets==1.0.0=py37h1d22016_0\n",
      "  - defaults/osx-64::docutils==0.14=py37_0\n",
      "  - defaults/osx-64::pytest-openfiles==0.3.0=py37_0\n",
      "  - defaults/osx-64::patsy==0.5.0=py37_0\n",
      "  - defaults/osx-64::imageio==2.4.1=py37_0\n",
      "  - defaults/osx-64::jupyter_core==4.4.0=py37_0\n",
      "  - defaults/osx-64::zope==1.0=py37_1\n",
      "  - defaults/osx-64::packaging==17.1=py37_0\n",
      "  - defaults/osx-64::singledispatch==3.4.0.3=py37_0\n",
      "  - defaults/osx-64::anaconda-navigator==1.9.7=py37_0\n",
      "  - defaults/osx-64::mkl_random==1.0.1=py37h5d10147_1\n",
      "  - defaults/osx-64::prompt_toolkit==1.0.15=py37_0\n",
      "  - defaults/osx-64::glob2==0.6=py37_0\n",
      "  - defaults/osx-64::setuptools==40.2.0=py37_0\n",
      "  - defaults/osx-64::fastcache==1.0.2=py37h1de35cc_2\n",
      "  - defaults/osx-64::gmpy2==2.0.8=py37h6ef4df4_2\n",
      "  - defaults/osx-64::flask==1.0.2=py37_1\n",
      "  - defaults/osx-64::entrypoints==0.2.3=py37_2\n",
      "  - defaults/osx-64::conda-package-handling==1.5.0=py37h1de35cc_0\n",
      "  - defaults/osx-64::backports==1.0=py37_1\n",
      "  - defaults/osx-64::webencodings==0.5.1=py37_1\n",
      "  - defaults/osx-64::xlrd==1.1.0=py37_1\n",
      "  - defaults/osx-64::numba==0.39.0=py37h6440ff4_0\n",
      "  - defaults/osx-64::bitarray==0.8.3=py37h1de35cc_0\n",
      "  - defaults/osx-64::odo==0.5.1=py37_0\n",
      "  - defaults/osx-64::pytables==3.4.4=py37h13cba08_0\n",
      "  - defaults/osx-64::datashape==0.5.4=py37_1\n",
      "  - defaults/osx-64::jupyter_client==5.2.3=py37_0\n",
      "  - defaults/osx-64::toolz==0.9.0=py37_0\n",
      "  - defaults/osx-64::python.app==2=py37_8\n",
      "  - defaults/osx-64::asn1crypto==0.24.0=py37_0\n",
      "  - defaults/osx-64::keyring==13.2.1=py37_0\n",
      "  - defaults/osx-64::simplegeneric==0.8.1=py37_2\n",
      "  - defaults/osx-64::html5lib==1.0.1=py37_0\n",
      "  - defaults/osx-64::pickleshare==0.7.4=py37_0\n",
      "  - defaults/osx-64::werkzeug==0.14.1=py37_0\n",
      "  - defaults/osx-64::scikit-image==0.14.0=py37h0a44026_1\n",
      "  - defaults/osx-64::certifi==2018.8.24=py37_1\n",
      "  - defaults/osx-64::appdirs==1.4.3=py37h28b3542_0\n",
      "  - defaults/osx-64::contextlib2==0.5.5=py37_0\n",
      "  - defaults/osx-64::ptyprocess==0.6.0=py37_0\n",
      "  - defaults/osx-64::anaconda-client==1.7.2=py37_0\n",
      "  - defaults/osx-64::colorama==0.3.9=py37_0\n",
      "  - defaults/osx-64::pillow==5.2.0=py37hb68e598_0\n",
      "  - defaults/osx-64::sip==4.19.8=py37h0a44026_0\n",
      "  - defaults/osx-64::partd==0.3.8=py37_0\n",
      "  - defaults/osx-64::pathlib2==2.3.2=py37_0\n",
      "  - defaults/osx-64::atomicwrites==1.2.1=py37_0\n",
      "  - defaults/osx-64::pytest-doctestplus==0.1.3=py37_0\n",
      "  - defaults/osx-64::lazy-object-proxy==1.3.1=py37h1de35cc_2\n",
      "  - defaults/osx-64::_ipyw_jlab_nb_ext_conf==0.1.0=py37_0\n",
      "  - defaults/osx-64::unicodecsv==0.14.1=py37_0\n",
      "  - defaults/osx-64::pycodestyle==2.4.0=py37_0\n",
      "  - defaults/osx-64::mkl-service==1.1.2=py37h6b9c3cc_5\n",
      "  - defaults/osx-64::jupyter_console==5.2.0=py37_1\n",
      "  - defaults/osx-64::networkx==2.1=py37_0\n",
      "  - defaults/osx-64::backcall==0.1.0=py37_0\n",
      "  - defaults/osx-64::zict==0.1.3=py37_0\n",
      "  - defaults/osx-64::wrapt==1.10.11=py37h1de35cc_2\n",
      "  - defaults/osx-64::markupsafe==1.0=py37h1de35cc_1\n",
      "  - defaults/osx-64::jinja2==2.10=py37_0\n",
      "  - defaults/osx-64::mccabe==0.6.1=py37_1\n",
      "  - defaults/osx-64::blaze==0.11.3=py37_0\n",
      "  - defaults/osx-64::python==3.7.0=hc167b69_0\n",
      "  - defaults/osx-64::xlwings==0.11.8=py37_0\n",
      "  - defaults/osx-64::jsonschema==2.6.0=py37_0\n",
      "  - defaults/osx-64::numpydoc==0.8.0=py37_0\n",
      "  - defaults/osx-64::backports.shutil_get_terminal_size==1.0.0=py37_2\n",
      "  - defaults/osx-64::tblib==1.3.2=py37_0\n",
      "  - defaults/osx-64::nbformat==4.4.0=py37_0\n",
      "  - defaults/osx-64::sphinxcontrib==1.0=py37_1\n",
      "  - defaults/osx-64::cytoolz==0.9.0.1=py37h1de35cc_1\n",
      "  - defaults/osx-64::constantly==15.1.0=py37h28b3542_0\n",
      "  - defaults/osx-64::conda-build==3.15.1=py37_0\n",
      "  - defaults/osx-64::boto==2.49.0=py37_0\n",
      "  - defaults/osx-64::pyparsing==2.2.0=py37_1\n",
      "  - defaults/osx-64::ruamel_yaml==0.15.46=py37h1de35cc_0\n",
      "  - defaults/osx-64::nltk==3.3.0=py37_0\n",
      "  - defaults/osx-64::testpath==0.3.1=py37_0\n",
      "  - defaults/osx-64::pep8==1.7.1=py37_0\n",
      "  - defaults/osx-64::send2trash==1.5.0=py37_0\n",
      "  - defaults/osx-64::pandocfilters==1.4.2=py37_1\n",
      "  - defaults/osx-64::qtconsole==4.4.1=py37_0\n",
      "  - defaults/osx-64::cryptography==2.3.1=py37hdbc3d79_0\n",
      "  - defaults/osx-64::navigator-updater==0.2.1=py37_0\n",
      "  - defaults/osx-64::cffi==1.11.5=py37h6174b99_1\n",
      "- ^C\n",
      "failed with initial frozen solve. Retrying with flexible solve.\n",
      "\n",
      "CondaError: KeyboardInterrupt\n",
      "\n"
     ]
    }
   ],
   "source": [
    "!conda install -c conda-forge seaborn "
   ]
  },
  {
   "cell_type": "code",
   "execution_count": 91,
   "metadata": {},
   "outputs": [
    {
     "data": {
      "text/plain": [
       "<matplotlib.collections.PathCollection at 0x1a17be8780>"
      ]
     },
     "execution_count": 91,
     "metadata": {},
     "output_type": "execute_result"
    },
    {
     "data": {
      "image/png": "[encoded data removed]",
      "text/plain": [
       "<Figure size 1152x720 with 1 Axes>"
      ]
     },
     "metadata": {},
     "output_type": "display_data"
    }
   ],
   "source": [
    "color = iter(plt.cm.rainbow(np.linspace(0,1,4)))\n",
    "\n",
    "customers_clean['tsne-2d-one'] = twodim_arr[:,0]\n",
    "customers_clean['tsne-2d-two'] = twodim_arr[:,1]\n",
    "plt.figure(figsize=(16,10))\n",
    "plt.scatter(\n",
    "    x=\"tsne-2d-one\", y=\"tsne-2d-two\",\n",
    "    cmap=\"clusters\",\n",
    "    #palette=sns.color_palette(\"hls\", 10),\n",
    "    data=customers_clean,\n",
    "    #legend=\"full\",\n",
    "    #alpha=0.3\n",
    ")"
   ]
  },
  {
   "cell_type": "code",
   "execution_count": null,
   "metadata": {},
   "outputs": [],
   "source": []
  },
  {
   "cell_type": "code",
   "execution_count": 60,
   "metadata": {},
   "outputs": [
    {
     "data": {
      "text/html": [
       "<div>\n",
       "<style scoped>\n",
       "    .dataframe tbody tr th:only-of-type {\n",
       "        vertical-align: middle;\n",
       "    }\n",
       "\n",
       "    .dataframe tbody tr th {\n",
       "        vertical-align: top;\n",
       "    }\n",
       "\n",
       "    .dataframe thead th {\n",
       "        text-align: right;\n",
       "    }\n",
       "</style>\n",
       "<table border=\"1\" class=\"dataframe\">\n",
       "  <thead>\n",
       "    <tr style=\"text-align: right;\">\n",
       "      <th></th>\n",
       "      <th>ALTER_HH</th>\n",
       "      <th>ARBEIT</th>\n",
       "      <th>BALLRAUM</th>\n",
       "      <th>CAMEO_DEUG_2015</th>\n",
       "      <th>CAMEO_INTL_2015</th>\n",
       "      <th>CJT_GESAMTTYP</th>\n",
       "      <th>EWDICHTE</th>\n",
       "      <th>FINANZ_ANLEGER</th>\n",
       "      <th>FINANZ_HAUSBAUER</th>\n",
       "      <th>FINANZ_MINIMALIST</th>\n",
       "      <th>...</th>\n",
       "      <th>SOHO_KZ</th>\n",
       "      <th>VERS_TYP</th>\n",
       "      <th>W_KEIT_KIND_HH</th>\n",
       "      <th>WOHNDAUER_2008</th>\n",
       "      <th>WOHNLAGE</th>\n",
       "      <th>ZABEOTYP</th>\n",
       "      <th>ANREDE_KZ</th>\n",
       "      <th>ALTERSKATEGORIE_GROB</th>\n",
       "      <th>CAMEO_DEU_2015_let</th>\n",
       "      <th>clusters</th>\n",
       "    </tr>\n",
       "  </thead>\n",
       "  <tbody>\n",
       "    <tr>\n",
       "      <th>0</th>\n",
       "      <td>10.0</td>\n",
       "      <td>1.0</td>\n",
       "      <td>3.0</td>\n",
       "      <td>1.0</td>\n",
       "      <td>13.0</td>\n",
       "      <td>5.0</td>\n",
       "      <td>2.0</td>\n",
       "      <td>1.0</td>\n",
       "      <td>2.0</td>\n",
       "      <td>5.0</td>\n",
       "      <td>...</td>\n",
       "      <td>0.0</td>\n",
       "      <td>1.0</td>\n",
       "      <td>6.0</td>\n",
       "      <td>9.0</td>\n",
       "      <td>7.0</td>\n",
       "      <td>3.0</td>\n",
       "      <td>1.0</td>\n",
       "      <td>4.0</td>\n",
       "      <td>0</td>\n",
       "      <td>1</td>\n",
       "    </tr>\n",
       "    <tr>\n",
       "      <th>1</th>\n",
       "      <td>11.0</td>\n",
       "      <td>3.0</td>\n",
       "      <td>6.0</td>\n",
       "      <td>2.0</td>\n",
       "      <td>14.0</td>\n",
       "      <td>6.0</td>\n",
       "      <td>5.0</td>\n",
       "      <td>1.0</td>\n",
       "      <td>2.0</td>\n",
       "      <td>5.0</td>\n",
       "      <td>...</td>\n",
       "      <td>0.0</td>\n",
       "      <td>1.0</td>\n",
       "      <td>6.0</td>\n",
       "      <td>9.0</td>\n",
       "      <td>3.0</td>\n",
       "      <td>3.0</td>\n",
       "      <td>1.0</td>\n",
       "      <td>4.0</td>\n",
       "      <td>3</td>\n",
       "      <td>1</td>\n",
       "    </tr>\n",
       "    <tr>\n",
       "      <th>2</th>\n",
       "      <td>6.0</td>\n",
       "      <td>3.0</td>\n",
       "      <td>7.0</td>\n",
       "      <td>5.0</td>\n",
       "      <td>34.0</td>\n",
       "      <td>2.0</td>\n",
       "      <td>4.0</td>\n",
       "      <td>1.0</td>\n",
       "      <td>4.0</td>\n",
       "      <td>5.0</td>\n",
       "      <td>...</td>\n",
       "      <td>0.0</td>\n",
       "      <td>2.0</td>\n",
       "      <td>6.0</td>\n",
       "      <td>9.0</td>\n",
       "      <td>2.0</td>\n",
       "      <td>3.0</td>\n",
       "      <td>2.0</td>\n",
       "      <td>4.0</td>\n",
       "      <td>3</td>\n",
       "      <td>3</td>\n",
       "    </tr>\n",
       "    <tr>\n",
       "      <th>3</th>\n",
       "      <td>8.0</td>\n",
       "      <td>1.0</td>\n",
       "      <td>7.0</td>\n",
       "      <td>4.0</td>\n",
       "      <td>24.0</td>\n",
       "      <td>2.0</td>\n",
       "      <td>1.0</td>\n",
       "      <td>2.0</td>\n",
       "      <td>2.0</td>\n",
       "      <td>5.0</td>\n",
       "      <td>...</td>\n",
       "      <td>0.0</td>\n",
       "      <td>1.0</td>\n",
       "      <td>6.0</td>\n",
       "      <td>9.0</td>\n",
       "      <td>7.0</td>\n",
       "      <td>1.0</td>\n",
       "      <td>1.0</td>\n",
       "      <td>4.0</td>\n",
       "      <td>2</td>\n",
       "      <td>1</td>\n",
       "    </tr>\n",
       "    <tr>\n",
       "      <th>4</th>\n",
       "      <td>20.0</td>\n",
       "      <td>3.0</td>\n",
       "      <td>3.0</td>\n",
       "      <td>7.0</td>\n",
       "      <td>41.0</td>\n",
       "      <td>6.0</td>\n",
       "      <td>4.0</td>\n",
       "      <td>4.0</td>\n",
       "      <td>2.0</td>\n",
       "      <td>3.0</td>\n",
       "      <td>...</td>\n",
       "      <td>0.0</td>\n",
       "      <td>2.0</td>\n",
       "      <td>2.0</td>\n",
       "      <td>9.0</td>\n",
       "      <td>3.0</td>\n",
       "      <td>1.0</td>\n",
       "      <td>1.0</td>\n",
       "      <td>3.0</td>\n",
       "      <td>1</td>\n",
       "      <td>2</td>\n",
       "    </tr>\n",
       "  </tbody>\n",
       "</table>\n",
       "<p>5 rows × 75 columns</p>\n",
       "</div>"
      ],
      "text/plain": [
       "   ALTER_HH  ARBEIT  BALLRAUM  CAMEO_DEUG_2015  CAMEO_INTL_2015  \\\n",
       "0      10.0     1.0       3.0              1.0             13.0   \n",
       "1      11.0     3.0       6.0              2.0             14.0   \n",
       "2       6.0     3.0       7.0              5.0             34.0   \n",
       "3       8.0     1.0       7.0              4.0             24.0   \n",
       "4      20.0     3.0       3.0              7.0             41.0   \n",
       "\n",
       "   CJT_GESAMTTYP  EWDICHTE  FINANZ_ANLEGER  FINANZ_HAUSBAUER  \\\n",
       "0            5.0       2.0             1.0               2.0   \n",
       "1            6.0       5.0             1.0               2.0   \n",
       "2            2.0       4.0             1.0               4.0   \n",
       "3            2.0       1.0             2.0               2.0   \n",
       "4            6.0       4.0             4.0               2.0   \n",
       "\n",
       "   FINANZ_MINIMALIST    ...     SOHO_KZ  VERS_TYP  W_KEIT_KIND_HH  \\\n",
       "0                5.0    ...         0.0       1.0             6.0   \n",
       "1                5.0    ...         0.0       1.0             6.0   \n",
       "2                5.0    ...         0.0       2.0             6.0   \n",
       "3                5.0    ...         0.0       1.0             6.0   \n",
       "4                3.0    ...         0.0       2.0             2.0   \n",
       "\n",
       "   WOHNDAUER_2008  WOHNLAGE  ZABEOTYP  ANREDE_KZ  ALTERSKATEGORIE_GROB  \\\n",
       "0             9.0       7.0       3.0        1.0                   4.0   \n",
       "1             9.0       3.0       3.0        1.0                   4.0   \n",
       "2             9.0       2.0       3.0        2.0                   4.0   \n",
       "3             9.0       7.0       1.0        1.0                   4.0   \n",
       "4             9.0       3.0       1.0        1.0                   3.0   \n",
       "\n",
       "   CAMEO_DEU_2015_let  clusters  \n",
       "0                   0         1  \n",
       "1                   3         1  \n",
       "2                   3         3  \n",
       "3                   2         1  \n",
       "4                   1         2  \n",
       "\n",
       "[5 rows x 75 columns]"
      ]
     },
     "execution_count": 60,
     "metadata": {},
     "output_type": "execute_result"
    }
   ],
   "source": [
    "customers_clean.head()"
   ]
  },
  {
   "cell_type": "code",
   "execution_count": null,
   "metadata": {},
   "outputs": [],
   "source": [
    "# Apply kmeans to scaled data and create column of results\n",
    "kmeans = KMeans(n_clusters=3, random_state=20)\n",
    "customers_components = pd.DataFrame(customers_components)\n",
    "azdias_components = pd.DataFrame(azdias_components)\n",
    "customers_components['clusters'] = kmeans.fit_predict(customers_components)\n",
    "azdias_components['clusters'] = kmeans.predict(azdias_components)"
   ]
  },
  {
   "cell_type": "markdown",
   "metadata": {},
   "source": [
    "### Explore segments"
   ]
  },
  {
   "cell_type": "code",
   "execution_count": null,
   "metadata": {},
   "outputs": [],
   "source": [
    "# Add clusters to scaled dataset\n",
    "customers_scaled['clusters'] = customers_components['clusters']\n",
    "azdias_scaled['clusters'] = azdias_components['clusters']"
   ]
  },
  {
   "cell_type": "code",
   "execution_count": null,
   "metadata": {},
   "outputs": [],
   "source": [
    "# Calculate distribution of customer and genpop individuals across clusters\n",
    "customer_perc = customers_scaled['clusters'].value_counts()/customers_scaled['clusters'].shape[0]*100\n",
    "gen_pop_perc = azdias_scaled['clusters'].value_counts()/azdias_scaled['clusters'].shape[0]*100\n",
    "distributions = {'Customers': customer_perc, 'Genpop': gen_pop_perc}\n",
    "dists = pd.DataFrame(data=distributions)\n",
    "\n",
    "# Visualise distributions\n",
    "dists.plot(kind = 'bar', figsize=(20,10))\n",
    "plt.ylabel(\"Percentage of population\", fontdict={'fontsize': 12})\n",
    "plt.xlabel(\"Cluster number\", fontdict={'fontsize': 12})\n",
    "plt.title(\"Distribution of customer and general population data across clusters\", fontdict={'fontsize': 16})"
   ]
  },
  {
   "cell_type": "markdown",
   "metadata": {},
   "source": [
    "Customers are more likely to be in cluster 2 and less likely to be in cluster 0 than the general population."
   ]
  },
  {
   "cell_type": "code",
   "execution_count": null,
   "metadata": {},
   "outputs": [],
   "source": [
    "# Find average score for clusters 1\n",
    "cust_avg = customers_scaled[customers_scaled['clusters'].isin([1])].mean()\n",
    "genpop_avg = azdias_scaled[azdias_scaled['clusters'].isin([1])].mean()"
   ]
  },
  {
   "cell_type": "code",
   "execution_count": null,
   "metadata": {},
   "outputs": [],
   "source": [
    "# Calcuate difference between customer score and gen pop score\n",
    "customer_scores = pd.concat([cust_avg, genpop_avg], axis=1).rename(columns={0: \"customers\", 1: \"genpop\"})\n",
    "customer_scores['diff'] = customer_scores['customers'] - customer_scores['genpop']\n",
    "customer_scores['abs_diff'] = abs(customer_scores['customers'] - customer_scores['genpop'])\n",
    "customer_scores.sort_values(by = 'abs_diff',ascending = False)['diff'].head(20).plot(kind = 'bar')\n",
    "plt.ylabel(\"Difference in average score\", fontdict={'fontsize': 12})\n",
    "plt.xlabel(\"Features\", fontdict={'fontsize': 12})\n",
    "plt.title(\"Chart to demonstrate the features which differ most between Customer and General Population\", fontdict={'fontsize': 16})"
   ]
  },
  {
   "cell_type": "markdown",
   "metadata": {},
   "source": [
    "From the analysis above, customers are less likely than the general population to:\n",
    "\n",
    "- Be Single low-income earners of younger age - 'LP_LEBENSPHASE_FEIN_1.0'\n",
    "- Be 90ies - digital media kids (Mainstream, O+W) - 'PRAEGENDE_JUGENDJAHRE_14.0' \n",
    "- Be from poorer Households-Pre-Family Couples & Singles - 'CAMEO_INTL_2015_51.0'\n",
    "- Be from working class - 'CAMEO_DEUG_2015_8.0'\n",
    "- Be Single low-income- and average earners of higher age - 'LP_LEBENSPHASE_GROB_2.0'\n",
    "- Be 'shopping-stressed' shopping type - 'SHOPPER_TYP_1.0\n",
    "- Be single - 'LP_FAMILIE_GROB_1.0'\n",
    "- Be insurance typology: individualistic-accepting risks - 'VERS_TYP_2.0'"
   ]
  },
  {
   "cell_type": "markdown",
   "metadata": {},
   "source": [
    "From the above analysis, customers are more likely than the general population to:\n",
    "\n",
    "- To have low mobility - 'MOBI_REGIO'\n",
    "- Have Number of 1-2 family houses in the cell- 'KBA05_ANTG1'\n",
    "- Have a higher average age within household - 'ALTER_HH'\n",
    "- Be 50ies - milk bar / Individualisation (Avantgarde, O+W) - 'PRAEGENDE_JUGENDJAHRE_4.0'\n",
    "- Be Insurance typology: social-safety driven - 'VERS_TYP_1.0'\n",
    "- Be in group Wealthy Households-Older Families &  Mature Couples - 'CAMEO_INTL_2015_14.0'\n",
    "- Be upper middleclass - 'CAMEO_DEUG_2015_2.0'\n",
    "- Be demanding shopper shopping type - 'SHOPPER_TYP_3.0'\n",
    "- Be 'CAMEO_DEU_2015_let_B' or 'CAMEO_DEU_2015_let_D' - difficult to interpret\n",
    "- Be top earners at retirement age from mulitperson households - 'LP_LEBENSPHASE_FEIN_40.0'\n",
    "- Be single homeowners at retirement age - 'LP_LEBENSPHASE_GROB_12.0'"
   ]
  },
  {
   "cell_type": "markdown",
   "metadata": {},
   "source": [
    "In conclusion, Arvato customers are generally older, perhaps retired, top earners and of an upper class."
   ]
  },
  {
   "cell_type": "markdown",
   "metadata": {},
   "source": [
    "## Part 2: Supervised Learning Model\n",
    "\n",
    "Now that you've found which parts of the population are more likely to be customers of the mail-order company, it's time to build a prediction model. Each of the rows in the \"MAILOUT\" data files represents an individual that was targeted for a mailout campaign. Ideally, we should be able to use the demographic information from each individual to decide whether or not it will be worth it to include that person in the campaign.\n",
    "\n",
    "The \"MAILOUT\" data has been split into two approximately equal parts, each with almost 43 000 data rows. In this part, you can verify your model with the \"TRAIN\" partition, which includes a column, \"RESPONSE\", that states whether or not a person became a customer of the company following the campaign. In the next part, you'll need to create predictions on the \"TEST\" partition, where the \"RESPONSE\" column has been withheld."
   ]
  },
  {
   "cell_type": "code",
   "execution_count": null,
   "metadata": {},
   "outputs": [],
   "source": [
    "# Load training data\n",
    "mailout_train = pd.read_csv('data/Udacity_MAILOUT_052018_TRAIN.csv', sep=';')\n",
    "feature_summary = pd.read_csv('data/AZDIAS_Feature_Summary.csv', sep=';')"
   ]
  },
  {
   "cell_type": "code",
   "execution_count": null,
   "metadata": {},
   "outputs": [],
   "source": [
    "# Visualise data\n",
    "mailout_train.head()"
   ]
  },
  {
   "cell_type": "code",
   "execution_count": null,
   "metadata": {},
   "outputs": [],
   "source": [
    "# Apply cleaning function to cleaning data\n",
    "train = clean_data(mailout_train, feature_summary)"
   ]
  },
  {
   "cell_type": "code",
   "execution_count": null,
   "metadata": {},
   "outputs": [],
   "source": [
    "# Visualise clean training data\n",
    "train.head()"
   ]
  },
  {
   "cell_type": "code",
   "execution_count": null,
   "metadata": {},
   "outputs": [],
   "source": [
    "train.dtypes.value_counts()"
   ]
  },
  {
   "cell_type": "code",
   "execution_count": null,
   "metadata": {},
   "outputs": [],
   "source": [
    "# Define a function to fit model from https://www.analyticsvidhya.com/blog/2016/03/complete-guide-parameter-tuning-xgboost-with-codes-python/\n",
    "def modelfit(alg, dtrain, predictors,useTrainCV=True, cv_folds=5, early_stopping_rounds=50):\n",
    "    \n",
    "    if useTrainCV:\n",
    "        xgb_param = alg.get_xgb_params()\n",
    "        xgtrain = xgb.DMatrix(dtrain[predictors].values, label=dtrain[target].values)\n",
    "        cvresult = xgb.cv(xgb_param, xgtrain, num_boost_round=alg.get_params()['n_estimators'], nfold=cv_folds,\n",
    "            metrics='auc', early_stopping_rounds=early_stopping_rounds)\n",
    "        alg.set_params(n_estimators=cvresult.shape[0])\n",
    "    \n",
    "    #Fit the algorithm on the data\n",
    "    alg.fit(dtrain[predictors], dtrain['RESPONSE'],eval_metric='auc')\n",
    "        \n",
    "    #Predict training set:\n",
    "    dtrain_predictions = alg.predict(dtrain[predictors])\n",
    "    dtrain_predprob = alg.predict_proba(dtrain[predictors])[:,1]\n",
    "        \n",
    "    #Print model report:\n",
    "    print (\"\\nModel Report\")\n",
    "    print (\"Accuracy : %.4g\" % metrics.accuracy_score(dtrain['RESPONSE'].values, dtrain_predictions))\n",
    "    print (\"AUC Score (Train): %f\" % metrics.roc_auc_score(dtrain['RESPONSE'], dtrain_predprob))\n",
    "                    \n",
    "    feat_imp = pd.Series(alg.get_booster().get_fscore()).sort_values(ascending=False)\n",
    "    feat_imp.plot(kind='bar', figsize=(20,10))\n",
    "    plt.ylabel('Feature Importance Score', fontdict={'fontsize': 12})\n",
    "    plt.xlabel(\"Features\", fontdict={'fontsize': 12})\n",
    "    plt.title(\"Feature Importance\", fontdict={'fontsize': 16})"
   ]
  },
  {
   "cell_type": "code",
   "execution_count": null,
   "metadata": {},
   "outputs": [],
   "source": [
    "# Define target variable and ID column\n",
    "target = 'RESPONSE'\n",
    "IDcol = 'LNR'"
   ]
  },
  {
   "cell_type": "code",
   "execution_count": null,
   "metadata": {},
   "outputs": [],
   "source": [
    "# Define starting parameters and apply function\n",
    "predictors = [x for x in train.columns if x not in [target, IDcol]]\n",
    "xgb1 = XGBClassifier(\n",
    " learning_rate =0.1, # ~Learning rate. Low value chosen to reduce computer processing\n",
    " n_estimators=1000,\n",
    " max_depth=5,\n",
    " min_child_weight=1, # Low value due to imbalance in dataset\n",
    " gamma=0,\n",
    " subsample=0.8,\n",
    " colsample_bytree=0.8,\n",
    " objective= 'binary:logistic',\n",
    " nthread=4,\n",
    " scale_pos_weight=1,\n",
    " seed=27)\n",
    "modelfit(xgb1, train, predictors)"
   ]
  },
  {
   "cell_type": "code",
   "execution_count": null,
   "metadata": {},
   "outputs": [],
   "source": [
    "# Tune max_depth and min_child_weight as these should have greatest impact\n",
    "param_test1 = {\n",
    " 'max_depth':range(3,10,2),\n",
    " 'min_child_weight':range(1,6,2)\n",
    "}\n",
    "gsearch1 = GridSearchCV(estimator = XGBClassifier( learning_rate =0.1, n_estimators=140, max_depth=5,\n",
    " min_child_weight=1, gamma=0, subsample=0.8, colsample_bytree=0.8,\n",
    " objective= 'binary:logistic', nthread=4, scale_pos_weight=1, seed=27), \n",
    " param_grid = param_test1, scoring='roc_auc',n_jobs=4,iid=False, cv=5)\n",
    "gsearch1.fit(train[predictors],train[target])\n",
    "gsearch1.grid_scores_, gsearch1.best_params_, gsearch1.best_score_"
   ]
  },
  {
   "cell_type": "code",
   "execution_count": null,
   "metadata": {},
   "outputs": [],
   "source": [
    "# Tune max_depth and min_child_weight further\n",
    "# Pick values one up and one down from optimal values found in previous step\n",
    "param_test2 = {\n",
    " 'max_depth':[4,5,6],\n",
    " 'min_child_weight':[4,5,6]\n",
    "}\n",
    "gsearch2 = GridSearchCV(estimator = XGBClassifier( learning_rate=0.1, n_estimators=140, max_depth=5,\n",
    " min_child_weight=2, gamma=0, subsample=0.8, colsample_bytree=0.8,\n",
    " objective= 'binary:logistic', nthread=4, scale_pos_weight=1,seed=27), \n",
    " param_grid = param_test2, scoring='roc_auc',n_jobs=4,iid=False, cv=5)\n",
    "gsearch2.fit(train[predictors],train[target])\n",
    "gsearch2.grid_scores_, gsearch2.best_params_, gsearch2.best_score_"
   ]
  },
  {
   "cell_type": "code",
   "execution_count": null,
   "metadata": {},
   "outputs": [],
   "source": [
    "# Tune gamma (using established parameters above)\n",
    "param_test3 = {\n",
    " 'gamma':[i/10.0 for i in range(0,5)]\n",
    "}\n",
    "gsearch3 = GridSearchCV(estimator = XGBClassifier( learning_rate =0.1, n_estimators=140, max_depth=4,\n",
    " min_child_weight=6, gamma=0, subsample=0.8, colsample_bytree=0.8,\n",
    " objective= 'binary:logistic', nthread=4, scale_pos_weight=1,seed=27), \n",
    " param_grid = param_test3, scoring='roc_auc',n_jobs=4,iid=False, cv=5)\n",
    "gsearch3.fit(train[predictors],train[target])\n",
    "gsearch3.grid_scores_, gsearch3.best_params_, gsearch3.best_score_"
   ]
  },
  {
   "cell_type": "code",
   "execution_count": null,
   "metadata": {},
   "outputs": [],
   "source": [
    "# Re fit with optimised parameters\n",
    "xgb2 = XGBClassifier(\n",
    " learning_rate =0.1,\n",
    " n_estimators=1000,\n",
    " max_depth=4,\n",
    " min_child_weight=6,\n",
    " gamma=0,\n",
    " subsample=0.8,\n",
    " colsample_bytree=0.8,\n",
    " objective= 'binary:logistic',\n",
    " nthread=4,\n",
    " scale_pos_weight=1,\n",
    " seed=27)\n",
    "modelfit(xgb2, train, predictors)"
   ]
  },
  {
   "cell_type": "code",
   "execution_count": null,
   "metadata": {},
   "outputs": [],
   "source": [
    "# Tune subsample and colsample_bytree\n",
    "param_test4 = {\n",
    " 'subsample':[i/10.0 for i in range(6,10)],\n",
    " 'colsample_bytree':[i/10.0 for i in range(6,10)]\n",
    "}\n",
    "gsearch4 = GridSearchCV(estimator = XGBClassifier( learning_rate =0.1, n_estimators=177, max_depth=4,\n",
    " min_child_weight=6, gamma=0, subsample=0.8, colsample_bytree=0.8,\n",
    " objective= 'binary:logistic', nthread=4, scale_pos_weight=1,seed=27), \n",
    " param_grid = param_test4, scoring='roc_auc',n_jobs=4,iid=False, cv=5)\n",
    "gsearch4.fit(train[predictors],train[target])\n",
    "gsearch4.grid_scores_, gsearch4.best_params_, gsearch4.best_score_"
   ]
  },
  {
   "cell_type": "code",
   "execution_count": null,
   "metadata": {},
   "outputs": [],
   "source": [
    "# Adjust subsample and colsample_bytree ±0.05 around optimal values\n",
    "param_test5 = {\n",
    " 'subsample':[i/100.0 for i in range(75,90,5)],\n",
    " 'colsample_bytree':[i/100.0 for i in range(75,90,5)]\n",
    "}\n",
    "gsearch5 = GridSearchCV(estimator = XGBClassifier( learning_rate =0.1, n_estimators=177, max_depth=4,\n",
    " min_child_weight=6, gamma=0, subsample=0.8, colsample_bytree=0.8,\n",
    " objective= 'binary:logistic', nthread=4, scale_pos_weight=1,seed=27), \n",
    " param_grid = param_test5, scoring='roc_auc',n_jobs=4,iid=False, cv=5)\n",
    "gsearch5.fit(train[predictors],train[target])"
   ]
  },
  {
   "cell_type": "code",
   "execution_count": null,
   "metadata": {},
   "outputs": [],
   "source": [
    "# Adjust regularisation parameters to reduce overfitting\n",
    "param_test6 = {\n",
    " 'reg_alpha':[1e-5, 1e-2, 0.1, 1, 100]\n",
    "}\n",
    "gsearch6 = GridSearchCV(estimator = XGBClassifier( learning_rate =0.1, n_estimators=177, max_depth=4,\n",
    " min_child_weight=6, gamma=0.1, subsample=0.8, colsample_bytree=0.8,\n",
    " objective= 'binary:logistic', nthread=4, scale_pos_weight=1,seed=27), \n",
    " param_grid = param_test6, scoring='roc_auc',n_jobs=4,iid=False, cv=5)\n",
    "gsearch6.fit(train[predictors],train[target])\n",
    "gsearch6.grid_scores_, gsearch6.best_params_, gsearch6.best_score_"
   ]
  },
  {
   "cell_type": "code",
   "execution_count": null,
   "metadata": {},
   "outputs": [],
   "source": [
    "# Try values close to optimum\n",
    "param_test7 = {\n",
    " 'reg_alpha':[0, 0.001, 0.005, 0.01, 0.05]\n",
    "}\n",
    "gsearch7 = GridSearchCV(estimator = XGBClassifier( learning_rate =0.1, n_estimators=177, max_depth=4,\n",
    " min_child_weight=6, gamma=0.1, subsample=0.8, colsample_bytree=0.8,\n",
    " objective= 'binary:logistic', nthread=4, scale_pos_weight=1,seed=27), \n",
    " param_grid = param_test7, scoring='roc_auc',n_jobs=4,iid=False, cv=5)\n",
    "gsearch7.fit(train[predictors],train[target])\n",
    "gsearch7.grid_scores_, gsearch7.best_params_, gsearch7.best_score_"
   ]
  },
  {
   "cell_type": "code",
   "execution_count": null,
   "metadata": {},
   "outputs": [],
   "source": [
    "# Put it all together\n",
    "xgb3 = XGBClassifier(\n",
    " learning_rate =0.1,\n",
    " n_estimators=1000,\n",
    " max_depth=4,\n",
    " min_child_weight=6,\n",
    " gamma=0,\n",
    " subsample=0.8,\n",
    " colsample_bytree=0.8,\n",
    " reg_alpha=0.005,\n",
    " objective= 'binary:logistic',\n",
    " nthread=4,\n",
    " scale_pos_weight=1,\n",
    " seed=27)\n",
    "modelfit(xgb3, train, predictors)"
   ]
  },
  {
   "cell_type": "code",
   "execution_count": null,
   "metadata": {},
   "outputs": [],
   "source": [
    "# Finally reduce learning rate and add more trees\n",
    "xgb4 = XGBClassifier(\n",
    " learning_rate =0.01,\n",
    " n_estimators=5000,\n",
    " max_depth=4,\n",
    " min_child_weight=6,\n",
    " gamma=0,\n",
    " subsample=0.8,\n",
    " colsample_bytree=0.8,\n",
    " reg_alpha=0.005,\n",
    " objective= 'binary:logistic',\n",
    " nthread=4,\n",
    " scale_pos_weight=1,\n",
    " seed=27)\n",
    "modelfit(xgb4, train, predictors)"
   ]
  },
  {
   "cell_type": "code",
   "execution_count": null,
   "metadata": {},
   "outputs": [],
   "source": []
  },
  {
   "cell_type": "code",
   "execution_count": null,
   "metadata": {},
   "outputs": [],
   "source": [
    "# Assign target variable to Y\n",
    "# Assign all columns minus target variable to X\n",
    "Y = mailout_train_clean['RESPONSE']\n",
    "X = mailout_train_clean.drop(columns = ['RESPONSE'], axis = 1)"
   ]
  },
  {
   "cell_type": "code",
   "execution_count": null,
   "metadata": {},
   "outputs": [],
   "source": [
    "# Split into training and validation datasets\n",
    "X_train, X_val, Y_train, Y_val = train_test_split(X, Y, test_size =0.3, random_state=101)"
   ]
  },
  {
   "cell_type": "code",
   "execution_count": null,
   "metadata": {},
   "outputs": [],
   "source": [
    "# Convert training data to a DMatrix for XGBoost model\n",
    "trainDMat = xgb.DMatrix(data=X_train,\n",
    "                        label=Y_train)"
   ]
  },
  {
   "cell_type": "code",
   "execution_count": null,
   "metadata": {},
   "outputs": [],
   "source": [
    "# Define parameters\n",
    "xgb_params = {'objective': 'binary:logistic',\n",
    "              'eta': 0.3, # ~Learning rate. Low value chosen to reduce computer processing\n",
    "              'max_depth': 4,  \n",
    "              'min_child_weight': 1, # Low value due to imbalance in dataset\n",
    "              'subsample': 0.8,\n",
    "              'gamma': 0.1,\n",
    "              'colsample_bytree': 0.8}"
   ]
  },
  {
   "cell_type": "code",
   "execution_count": null,
   "metadata": {},
   "outputs": [],
   "source": [
    "# Train the XGBoost model\n",
    "xgb_model = xgb.train(params=xgb_params,\n",
    "                      dtrain=trainDMat)"
   ]
  },
  {
   "cell_type": "code",
   "execution_count": null,
   "metadata": {},
   "outputs": [],
   "source": [
    "# Convert validation data to a DMatrix for XGBoost model\n",
    "valDMat = xgb.DMatrix(data=X_val)"
   ]
  },
  {
   "cell_type": "code",
   "execution_count": null,
   "metadata": {},
   "outputs": [],
   "source": [
    "# Use xgb model to predict on validation data\n",
    "preds = xgb_model.predict(valDMat)"
   ]
  },
  {
   "cell_type": "code",
   "execution_count": null,
   "metadata": {},
   "outputs": [],
   "source": [
    "# Evaluate AUC scores\n",
    "roc_auc_score(Y_val, preds)"
   ]
  },
  {
   "cell_type": "code",
   "execution_count": null,
   "metadata": {},
   "outputs": [],
   "source": [
    "# Evaluate ROC curve - https://machinelearningmastery.com/roc-curves-and-precision-recall-curves-for-classification-in-python/\n",
    "false_pos, true_pos, _ = roc_curve(Y_val, preds)\n",
    "# plot the roc curve for the model\n",
    "pyplot.plot(false_pos, true_pos)\n",
    "# axis labels\n",
    "pyplot.xlabel('False Positive Rate')\n",
    "pyplot.ylabel('True Positive Rate')\n",
    "# show the plot\n",
    "pyplot.show()"
   ]
  },
  {
   "cell_type": "markdown",
   "metadata": {},
   "source": [
    "## Part 3: Kaggle Competition\n",
    "\n",
    "Now that you've created a model to predict which individuals are most likely to respond to a mailout campaign, it's time to test that model in competition through Kaggle. If you click on the link [here](http://www.kaggle.com/t/21e6d45d4c574c7fa2d868f0e8c83140), you'll be taken to the competition page where, if you have a Kaggle account, you can enter. If you're one of the top performers, you may have the chance to be contacted by a hiring manager from Arvato or Bertelsmann for an interview!\n",
    "\n",
    "Your entry to the competition should be a CSV file with two columns. The first column should be a copy of \"LNR\", which acts as an ID number for each individual in the \"TEST\" partition. The second column, \"RESPONSE\", should be some measure of how likely each individual became a customer – this might not be a straightforward probability. As you should have found in Part 2, there is a large output class imbalance, where most individuals did not respond to the mailout. Thus, predicting individual classes and using accuracy does not seem to be an appropriate performance evaluation method. Instead, the competition will be using AUC to evaluate performance. The exact values of the \"RESPONSE\" column do not matter as much: only that the higher values try to capture as many of the actual customers as possible, early in the ROC curve sweep."
   ]
  },
  {
   "cell_type": "code",
   "execution_count": null,
   "metadata": {},
   "outputs": [],
   "source": [
    "# Import test data\n",
    "mailout_test = pd.read_csv('data/Udacity_MAILOUT_052018_TEST.csv', sep=';')\n",
    "feature_summary = pd.read_csv('data/AZDIAS_Feature_Summary.csv', sep=';')"
   ]
  },
  {
   "cell_type": "code",
   "execution_count": null,
   "metadata": {},
   "outputs": [],
   "source": [
    "# Apply cleaning function\n",
    "test = clean_data(mailout_test, feature_summary)"
   ]
  },
  {
   "cell_type": "code",
   "execution_count": null,
   "metadata": {},
   "outputs": [],
   "source": [
    "test.head()"
   ]
  },
  {
   "cell_type": "code",
   "execution_count": null,
   "metadata": {},
   "outputs": [],
   "source": [
    "# Define target variable and ID column\n",
    "target = 'RESPONSE'\n",
    "IDcol = 'LNR'\n",
    "predictors = [x for x in test.columns if x not in [target, IDcol]]\n",
    "predictors = test[predictors]"
   ]
  },
  {
   "cell_type": "code",
   "execution_count": null,
   "metadata": {},
   "outputs": [],
   "source": [
    "test['RESPONSE'] = xgb1.predict(predictors)"
   ]
  },
  {
   "cell_type": "code",
   "execution_count": null,
   "metadata": {},
   "outputs": [],
   "source": [
    "kaggle_data = test[['LNR', 'RESPONSE']]"
   ]
  },
  {
   "cell_type": "code",
   "execution_count": null,
   "metadata": {},
   "outputs": [],
   "source": [
    "kaggle_data.head()"
   ]
  },
  {
   "cell_type": "code",
   "execution_count": null,
   "metadata": {},
   "outputs": [],
   "source": [
    "kaggle_data.to_csv('data/kaggle_submission_3.csv', index=False)"
   ]
  },
  {
   "cell_type": "code",
   "execution_count": null,
   "metadata": {},
   "outputs": [],
   "source": []
  }
 ],
 "metadata": {
  "kernelspec": {
   "display_name": "Python 3",
   "language": "python",
   "name": "python3"
  },
  "language_info": {
   "codemirror_mode": {
    "name": "ipython",
    "version": 3
   },
   "file_extension": ".py",
   "mimetype": "text/x-python",
   "name": "python",
   "nbconvert_exporter": "python",
   "pygments_lexer": "ipython3",
   "version": "3.7.0"
  }
 },
 "nbformat": 4,
 "nbformat_minor": 2
}
